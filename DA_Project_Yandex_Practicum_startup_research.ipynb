{
 "cells": [
  {
   "cell_type": "markdown",
   "metadata": {
    "id": "4mJbK1knrJgz"
   },
   "source": [
    "# Проект: Исследование стартапов"
   ]
  },
  {
   "cell_type": "markdown",
   "metadata": {},
   "source": [
    "Автор: Коваленко Николай Евгеньевич <br>\n",
    "Дата: 27.01.2025"
   ]
  },
  {
   "cell_type": "markdown",
   "metadata": {
    "id": "P6j0r3worJg0"
   },
   "source": [
    "## Введение"
   ]
  },
  {
   "cell_type": "markdown",
   "metadata": {
    "id": "8lQtbsIUyFG6"
   },
   "source": [
    "Подготовить датасет и проверить, что данные в нём соответствуют здравому смыслу, а также ответить на вопросы заказчика как о предобработке, так и о значении данных для бизнеса."
   ]
  },
  {
   "cell_type": "markdown",
   "metadata": {
    "id": "xqr6uttCrJg0"
   },
   "source": [
    "\n",
    "## Шаг 1. Знакомство с данными: загрузка и первичная предобработка\n",
    "\n",
    "Названия файлов:\n",
    "* acquisition.csv\n",
    "* company_and_rounds.csv\n",
    "* degrees.csv\n",
    "* education.csv\n",
    "* fund.csv\n",
    "* investment.csv\n",
    "* people.csv\n",
    "\n",
    "Они находятся в папке datasets, если вы выполняете работу на платформе. В случае, если вы делаете работу локально, доступ к файлам в папке можно получить по адресу `https://code.s3.yandex.net/datasets/` + имя файла.\n",
    "\n",
    "### 1.1. Вывод общей информации, исправление названия столбцов"
   ]
  },
  {
   "cell_type": "code",
   "execution_count": 197,
   "metadata": {},
   "outputs": [],
   "source": [
    "import pandas as pd\n",
    "import numpy as np\n",
    "import matplotlib.pyplot as plt\n",
    "import seaborn as sns\n",
    "import scipy.stats as stats"
   ]
  },
  {
   "cell_type": "markdown",
   "metadata": {},
   "source": [
    "\n",
    "* Загрузите все данные по проекту."
   ]
  },
  {
   "cell_type": "code",
   "execution_count": 199,
   "metadata": {},
   "outputs": [],
   "source": [
    "df_acq=pd.read_csv('https://code.s3.yandex.net/datasets/acquisition.csv')\n",
    "df_car=pd.read_csv('https://code.s3.yandex.net/datasets/company_and_rounds.csv')\n",
    "df_deg=pd.read_csv('https://code.s3.yandex.net/datasets/degrees.csv')\n",
    "df_educ=pd.read_csv('https://code.s3.yandex.net/datasets/education.csv')\n",
    "df_fund=pd.read_csv('https://code.s3.yandex.net/datasets/fund.csv')\n",
    "df_invest=pd.read_csv('https://code.s3.yandex.net/datasets/investment.csv')\n",
    "df_ppl=pd.read_csv('https://code.s3.yandex.net/datasets/people.csv')\n"
   ]
  },
  {
   "cell_type": "code",
   "execution_count": 200,
   "metadata": {},
   "outputs": [
    {
     "data": {
      "text/plain": [
       "Index(['id', 'acquiring_company_id', 'acquired_company_id', 'term_code',\n",
       "       'price_amount', 'acquired_at'],\n",
       "      dtype='object')"
      ]
     },
     "metadata": {},
     "output_type": "display_data"
    }
   ],
   "source": [
    "display(df_acq.columns)"
   ]
  },
  {
   "cell_type": "code",
   "execution_count": 201,
   "metadata": {},
   "outputs": [
    {
     "data": {
      "text/plain": [
       "Index(['company  ID', 'name', 'category  code', 'status', 'founded  at',\n",
       "       'closed  at', 'domain', 'network  username', 'country  code',\n",
       "       'investment  rounds', 'funding  rounds', 'funding  total', 'milestones',\n",
       "       'funding  round  id', 'company  id', 'funded  at',\n",
       "       'funding  round  type', 'raised  amount', 'pre  money  valuation',\n",
       "       'participants', 'is  first  round', 'is  last  round'],\n",
       "      dtype='object')"
      ]
     },
     "metadata": {},
     "output_type": "display_data"
    }
   ],
   "source": [
    "display(df_car.columns)"
   ]
  },
  {
   "cell_type": "code",
   "execution_count": 202,
   "metadata": {},
   "outputs": [
    {
     "data": {
      "text/plain": [
       "Index(['id', 'object_id', 'degree_type', 'subject'], dtype='object')"
      ]
     },
     "metadata": {},
     "output_type": "display_data"
    }
   ],
   "source": [
    "display(df_deg.columns)"
   ]
  },
  {
   "cell_type": "code",
   "execution_count": 203,
   "metadata": {},
   "outputs": [
    {
     "data": {
      "text/plain": [
       "Index(['id', 'person_id', 'instituition', 'graduated_at'], dtype='object')"
      ]
     },
     "metadata": {},
     "output_type": "display_data"
    }
   ],
   "source": [
    "display(df_educ.columns)"
   ]
  },
  {
   "cell_type": "code",
   "execution_count": 204,
   "metadata": {},
   "outputs": [
    {
     "data": {
      "text/plain": [
       "Index(['id', 'name', 'founded_at', 'domain', 'network_username',\n",
       "       'country_code', 'investment_rounds', 'invested_companies',\n",
       "       'milestones'],\n",
       "      dtype='object')"
      ]
     },
     "metadata": {},
     "output_type": "display_data"
    }
   ],
   "source": [
    "display(df_fund.columns)"
   ]
  },
  {
   "cell_type": "code",
   "execution_count": 205,
   "metadata": {},
   "outputs": [
    {
     "data": {
      "text/plain": [
       "Index(['id', 'funding_round_id', 'company_id', 'fund_id'], dtype='object')"
      ]
     },
     "metadata": {},
     "output_type": "display_data"
    }
   ],
   "source": [
    "display(df_invest.columns)"
   ]
  },
  {
   "cell_type": "code",
   "execution_count": 206,
   "metadata": {},
   "outputs": [
    {
     "data": {
      "text/plain": [
       "Index(['id', 'first_name', 'last_name', 'company_id', 'network_username'], dtype='object')"
      ]
     },
     "metadata": {},
     "output_type": "display_data"
    }
   ],
   "source": [
    "display(df_ppl.columns)"
   ]
  },
  {
   "cell_type": "code",
   "execution_count": 207,
   "metadata": {},
   "outputs": [],
   "source": [
    "#Приводим все столбцы к стилю snake case. Названия должны быть в нижнем регистре, а вместо пробелов — подчёркивания _.\n",
    "df_car.columns = df_car.columns.str.replace('  ', '_')"
   ]
  },
  {
   "cell_type": "code",
   "execution_count": 208,
   "metadata": {},
   "outputs": [
    {
     "data": {
      "text/plain": [
       "Index(['company_ID', 'name', 'category_code', 'status', 'founded_at',\n",
       "       'closed_at', 'domain', 'network_username', 'country_code',\n",
       "       'investment_rounds', 'funding_rounds', 'funding_total', 'milestones',\n",
       "       'funding_round_id', 'company_id', 'funded_at', 'funding_round_type',\n",
       "       'raised_amount', 'pre_money_valuation', 'participants',\n",
       "       'is_first_round', 'is_last_round'],\n",
       "      dtype='object')"
      ]
     },
     "metadata": {},
     "output_type": "display_data"
    }
   ],
   "source": [
    "display(df_car.columns)"
   ]
  },
  {
   "cell_type": "markdown",
   "metadata": {},
   "source": [
    "\n",
    "* Выведите информацию, которая необходима вам для принятия решений о предобработке, для каждого из датасетов."
   ]
  },
  {
   "cell_type": "code",
   "execution_count": 210,
   "metadata": {
    "id": "4u9np9gSnyqT"
   },
   "outputs": [
    {
     "name": "stdout",
     "output_type": "stream",
     "text": [
      "<class 'pandas.core.frame.DataFrame'>\n",
      "RangeIndex: 9407 entries, 0 to 9406\n",
      "Data columns (total 6 columns):\n",
      " #   Column                Non-Null Count  Dtype \n",
      "---  ------                --------------  ----- \n",
      " 0   id                    9407 non-null   int64 \n",
      " 1   acquiring_company_id  9407 non-null   int64 \n",
      " 2   acquired_company_id   9407 non-null   int64 \n",
      " 3   term_code             1831 non-null   object\n",
      " 4   price_amount          9407 non-null   int64 \n",
      " 5   acquired_at           9378 non-null   object\n",
      "dtypes: int64(4), object(2)\n",
      "memory usage: 441.1+ KB\n"
     ]
    },
    {
     "data": {
      "text/plain": [
       "None"
      ]
     },
     "metadata": {},
     "output_type": "display_data"
    }
   ],
   "source": [
    "display(df_acq.info())"
   ]
  },
  {
   "cell_type": "code",
   "execution_count": 211,
   "metadata": {
    "id": "W_W4jRazrJg0"
   },
   "outputs": [
    {
     "name": "stdout",
     "output_type": "stream",
     "text": [
      "<class 'pandas.core.frame.DataFrame'>\n",
      "RangeIndex: 217774 entries, 0 to 217773\n",
      "Data columns (total 22 columns):\n",
      " #   Column               Non-Null Count   Dtype  \n",
      "---  ------               --------------   -----  \n",
      " 0   company_ID           217472 non-null  float64\n",
      " 1   name                 217471 non-null  object \n",
      " 2   category_code        143886 non-null  object \n",
      " 3   status               217472 non-null  object \n",
      " 4   founded_at           109956 non-null  object \n",
      " 5   closed_at            3449 non-null    object \n",
      " 6   domain               147159 non-null  object \n",
      " 7   network_username     95534 non-null   object \n",
      " 8   country_code         108607 non-null  object \n",
      " 9   investment_rounds    217472 non-null  float64\n",
      " 10  funding_rounds       217472 non-null  float64\n",
      " 11  funding_total        217472 non-null  float64\n",
      " 12  milestones           217472 non-null  float64\n",
      " 13  funding_round_id     52928 non-null   float64\n",
      " 14  company_id           52928 non-null   float64\n",
      " 15  funded_at            52680 non-null   object \n",
      " 16  funding_round_type   52928 non-null   object \n",
      " 17  raised_amount        52928 non-null   float64\n",
      " 18  pre_money_valuation  52928 non-null   float64\n",
      " 19  participants         52928 non-null   float64\n",
      " 20  is_first_round       52928 non-null   float64\n",
      " 21  is_last_round        52928 non-null   float64\n",
      "dtypes: float64(12), object(10)\n",
      "memory usage: 36.6+ MB\n"
     ]
    },
    {
     "data": {
      "text/plain": [
       "None"
      ]
     },
     "metadata": {},
     "output_type": "display_data"
    }
   ],
   "source": [
    "display(df_car.info())"
   ]
  },
  {
   "cell_type": "code",
   "execution_count": 212,
   "metadata": {},
   "outputs": [
    {
     "name": "stdout",
     "output_type": "stream",
     "text": [
      "<class 'pandas.core.frame.DataFrame'>\n",
      "RangeIndex: 109610 entries, 0 to 109609\n",
      "Data columns (total 4 columns):\n",
      " #   Column       Non-Null Count   Dtype \n",
      "---  ------       --------------   ----- \n",
      " 0   id           109610 non-null  int64 \n",
      " 1   object_id    109610 non-null  object\n",
      " 2   degree_type  98389 non-null   object\n",
      " 3   subject      81298 non-null   object\n",
      "dtypes: int64(1), object(3)\n",
      "memory usage: 3.3+ MB\n"
     ]
    },
    {
     "data": {
      "text/plain": [
       "None"
      ]
     },
     "metadata": {},
     "output_type": "display_data"
    }
   ],
   "source": [
    "display(df_deg.info())"
   ]
  },
  {
   "cell_type": "code",
   "execution_count": 213,
   "metadata": {},
   "outputs": [
    {
     "name": "stdout",
     "output_type": "stream",
     "text": [
      "<class 'pandas.core.frame.DataFrame'>\n",
      "RangeIndex: 109610 entries, 0 to 109609\n",
      "Data columns (total 4 columns):\n",
      " #   Column        Non-Null Count   Dtype \n",
      "---  ------        --------------   ----- \n",
      " 0   id            109610 non-null  int64 \n",
      " 1   person_id     109610 non-null  int64 \n",
      " 2   instituition  109555 non-null  object\n",
      " 3   graduated_at  58054 non-null   object\n",
      "dtypes: int64(2), object(2)\n",
      "memory usage: 3.3+ MB\n"
     ]
    },
    {
     "data": {
      "text/plain": [
       "None"
      ]
     },
     "metadata": {},
     "output_type": "display_data"
    }
   ],
   "source": [
    "display(df_educ.info())"
   ]
  },
  {
   "cell_type": "code",
   "execution_count": 214,
   "metadata": {},
   "outputs": [
    {
     "name": "stdout",
     "output_type": "stream",
     "text": [
      "<class 'pandas.core.frame.DataFrame'>\n",
      "RangeIndex: 11652 entries, 0 to 11651\n",
      "Data columns (total 9 columns):\n",
      " #   Column              Non-Null Count  Dtype \n",
      "---  ------              --------------  ----- \n",
      " 0   id                  11652 non-null  int64 \n",
      " 1   name                11649 non-null  object\n",
      " 2   founded_at          4605 non-null   object\n",
      " 3   domain              7362 non-null   object\n",
      " 4   network_username    2149 non-null   object\n",
      " 5   country_code        7053 non-null   object\n",
      " 6   investment_rounds   11652 non-null  int64 \n",
      " 7   invested_companies  11652 non-null  int64 \n",
      " 8   milestones          11652 non-null  int64 \n",
      "dtypes: int64(4), object(5)\n",
      "memory usage: 819.4+ KB\n"
     ]
    },
    {
     "data": {
      "text/plain": [
       "None"
      ]
     },
     "metadata": {},
     "output_type": "display_data"
    }
   ],
   "source": [
    "display(df_fund.info())"
   ]
  },
  {
   "cell_type": "code",
   "execution_count": 215,
   "metadata": {},
   "outputs": [
    {
     "name": "stdout",
     "output_type": "stream",
     "text": [
      "<class 'pandas.core.frame.DataFrame'>\n",
      "RangeIndex: 61403 entries, 0 to 61402\n",
      "Data columns (total 4 columns):\n",
      " #   Column            Non-Null Count  Dtype\n",
      "---  ------            --------------  -----\n",
      " 0   id                61403 non-null  int64\n",
      " 1   funding_round_id  61403 non-null  int64\n",
      " 2   company_id        61403 non-null  int64\n",
      " 3   fund_id           61403 non-null  int64\n",
      "dtypes: int64(4)\n",
      "memory usage: 1.9 MB\n"
     ]
    },
    {
     "data": {
      "text/plain": [
       "None"
      ]
     },
     "metadata": {},
     "output_type": "display_data"
    }
   ],
   "source": [
    "display(df_invest.info())"
   ]
  },
  {
   "cell_type": "code",
   "execution_count": 216,
   "metadata": {},
   "outputs": [
    {
     "name": "stdout",
     "output_type": "stream",
     "text": [
      "<class 'pandas.core.frame.DataFrame'>\n",
      "RangeIndex: 226709 entries, 0 to 226708\n",
      "Data columns (total 5 columns):\n",
      " #   Column            Non-Null Count   Dtype  \n",
      "---  ------            --------------   -----  \n",
      " 0   id                226709 non-null  int64  \n",
      " 1   first_name        226700 non-null  object \n",
      " 2   last_name         226705 non-null  object \n",
      " 3   company_id        34615 non-null   float64\n",
      " 4   network_username  38867 non-null   object \n",
      "dtypes: float64(1), int64(1), object(3)\n",
      "memory usage: 8.6+ MB\n"
     ]
    },
    {
     "data": {
      "text/plain": [
       "None"
      ]
     },
     "metadata": {},
     "output_type": "display_data"
    }
   ],
   "source": [
    "display(df_ppl.info())"
   ]
  },
  {
   "cell_type": "code",
   "execution_count": 217,
   "metadata": {},
   "outputs": [
    {
     "data": {
      "text/plain": [
       "'Количество явных дубликатов в df_acq 0 и относительное количество явных дубликатов 0.0'"
      ]
     },
     "metadata": {},
     "output_type": "display_data"
    },
    {
     "data": {
      "text/plain": [
       "'Количество явных дубликатов в df_car 0 и относительное количество явных дубликатов 0.0'"
      ]
     },
     "metadata": {},
     "output_type": "display_data"
    },
    {
     "data": {
      "text/plain": [
       "'Количество явных дубликатов в df_deg 0 и относительное количество явных дубликатов 0.0'"
      ]
     },
     "metadata": {},
     "output_type": "display_data"
    },
    {
     "data": {
      "text/plain": [
       "'Количество явных дубликатов в df_educ 0 и относительное количество явных дубликатов 0.0'"
      ]
     },
     "metadata": {},
     "output_type": "display_data"
    },
    {
     "data": {
      "text/plain": [
       "'Количество явных дубликатов в df_fund 0 и относительное количество явных дубликатов 0.0'"
      ]
     },
     "metadata": {},
     "output_type": "display_data"
    },
    {
     "data": {
      "text/plain": [
       "'Количество явных дубликатов в df_invest 0 и относительное количество явных дубликатов 0.0'"
      ]
     },
     "metadata": {},
     "output_type": "display_data"
    },
    {
     "data": {
      "text/plain": [
       "'Количество явных дубликатов в df_ppl 0 и относительное количество явных дубликатов 0.0'"
      ]
     },
     "metadata": {},
     "output_type": "display_data"
    }
   ],
   "source": [
    "#Подсчет количества явных пропусков \n",
    "display(f'Количество явных дубликатов в df_acq {df_acq.duplicated(keep=\"last\").sum()} и относительное количество явных дубликатов {round(df_acq.duplicated(keep=\"last\").sum()/len(df_acq),3)}')\n",
    "display(f'Количество явных дубликатов в df_car {df_car.duplicated(keep=\"last\").sum()} и относительное количество явных дубликатов {round(df_car.duplicated(keep=\"last\").sum()/len(df_car),3)}')\n",
    "display(f'Количество явных дубликатов в df_deg {df_deg.duplicated(keep=\"last\").sum()} и относительное количество явных дубликатов {round(df_deg.duplicated(keep=\"last\").sum()/len(df_deg),3)}')\n",
    "display(f'Количество явных дубликатов в df_educ {df_educ.duplicated(keep=\"last\").sum()} и относительное количество явных дубликатов {round(df_educ.duplicated(keep=\"last\").sum()/len(df_educ),3)}')\n",
    "display(f'Количество явных дубликатов в df_fund {df_fund.duplicated(keep=\"last\").sum()} и относительное количество явных дубликатов {round(df_fund.duplicated(keep=\"last\").sum()/len(df_fund),3)}')\n",
    "display(f'Количество явных дубликатов в df_invest {df_invest.duplicated(keep=\"last\").sum()} и относительное количество явных дубликатов {round(df_invest.duplicated(keep=\"last\").sum()/len(df_invest),3)}')\n",
    "display(f'Количество явных дубликатов в df_ppl {df_ppl.duplicated(keep=\"last\").sum()} и относительное количество явных дубликатов {round(df_ppl.duplicated(keep=\"last\").sum()/len(df_ppl),3)}')"
   ]
  },
  {
   "cell_type": "markdown",
   "metadata": {},
   "source": [
    "**Выводы**: В датафрейме df_acq есть значительные пропуски по полю term_code и незначительные по полю acquired_at. \n",
    " В датафрейме df_car есть значительные пропуски по многим полям доходящим до 75% от всей выборки по датафрейму. \n",
    " В датафрейме df_deg есть значительные пропуски по полям degree_type и subject. В датафрейме df_educ все хорошо пропуски только по полю graduated_at что может быть обусловлено что не все закончили ВУЗ. В датафрейме df_educ есть значительные пропуским по полям. df_invest все хорошо, полные данные. В df_ppl по полям company_id и network_username есть значительные пропуски."
   ]
  },
  {
   "cell_type": "markdown",
   "metadata": {
    "id": "mg2gEwh0rJg0"
   },
   "source": [
    "### 1.2. Смена типов и анализ пропусков\n",
    "\n",
    "* Обработайте типы данных в столбцах, которые хранят значения даты и времени, если это необходимо."
   ]
  },
  {
   "cell_type": "markdown",
   "metadata": {},
   "source": [
    "\n",
    "* Оцените полноту данных — сделайте предварительный вывод, достаточно ли данных для решения задач проекта."
   ]
  },
  {
   "cell_type": "code",
   "execution_count": 221,
   "metadata": {
    "id": "FsL0A8RBrJg1"
   },
   "outputs": [
    {
     "data": {
      "text/plain": [
       "array(['2007-05-30', '2007-07-01', '2007-05-01', ..., '2013-12-11',\n",
       "       '2013-08-31', '2013-12-12'], dtype=object)"
      ]
     },
     "metadata": {},
     "output_type": "display_data"
    }
   ],
   "source": [
    "display(df_acq['acquired_at'].unique())"
   ]
  },
  {
   "cell_type": "code",
   "execution_count": 222,
   "metadata": {
    "id": "5Sg2O8zNnzKc"
   },
   "outputs": [],
   "source": [
    "df_acq['acquired_at'] = pd.to_datetime(df_acq['acquired_at'], format='%Y-%m-%d')"
   ]
  },
  {
   "cell_type": "code",
   "execution_count": 223,
   "metadata": {},
   "outputs": [
    {
     "name": "stdout",
     "output_type": "stream",
     "text": [
      "<class 'pandas.core.frame.DataFrame'>\n",
      "RangeIndex: 9407 entries, 0 to 9406\n",
      "Data columns (total 6 columns):\n",
      " #   Column                Non-Null Count  Dtype         \n",
      "---  ------                --------------  -----         \n",
      " 0   id                    9407 non-null   int64         \n",
      " 1   acquiring_company_id  9407 non-null   int64         \n",
      " 2   acquired_company_id   9407 non-null   int64         \n",
      " 3   term_code             1831 non-null   object        \n",
      " 4   price_amount          9407 non-null   int64         \n",
      " 5   acquired_at           9378 non-null   datetime64[ns]\n",
      "dtypes: datetime64[ns](1), int64(4), object(1)\n",
      "memory usage: 441.1+ KB\n"
     ]
    },
    {
     "data": {
      "text/plain": [
       "None"
      ]
     },
     "metadata": {},
     "output_type": "display_data"
    }
   ],
   "source": [
    "display(df_acq.info())"
   ]
  },
  {
   "cell_type": "code",
   "execution_count": 224,
   "metadata": {},
   "outputs": [],
   "source": [
    "df_car['founded_at'] = pd.to_datetime(df_car['founded_at'], format='%Y-%m-%d')\n",
    "df_car['closed_at'] = pd.to_datetime(df_car['closed_at'], format='%Y-%m-%d')\n",
    "df_car['funded_at'] = pd.to_datetime(df_car['funded_at'], format='%Y-%m-%d')"
   ]
  },
  {
   "cell_type": "code",
   "execution_count": 225,
   "metadata": {},
   "outputs": [
    {
     "name": "stdout",
     "output_type": "stream",
     "text": [
      "<class 'pandas.core.frame.DataFrame'>\n",
      "RangeIndex: 217774 entries, 0 to 217773\n",
      "Data columns (total 22 columns):\n",
      " #   Column               Non-Null Count   Dtype         \n",
      "---  ------               --------------   -----         \n",
      " 0   company_ID           217472 non-null  float64       \n",
      " 1   name                 217471 non-null  object        \n",
      " 2   category_code        143886 non-null  object        \n",
      " 3   status               217472 non-null  object        \n",
      " 4   founded_at           109956 non-null  datetime64[ns]\n",
      " 5   closed_at            3449 non-null    datetime64[ns]\n",
      " 6   domain               147159 non-null  object        \n",
      " 7   network_username     95534 non-null   object        \n",
      " 8   country_code         108607 non-null  object        \n",
      " 9   investment_rounds    217472 non-null  float64       \n",
      " 10  funding_rounds       217472 non-null  float64       \n",
      " 11  funding_total        217472 non-null  float64       \n",
      " 12  milestones           217472 non-null  float64       \n",
      " 13  funding_round_id     52928 non-null   float64       \n",
      " 14  company_id           52928 non-null   float64       \n",
      " 15  funded_at            52680 non-null   datetime64[ns]\n",
      " 16  funding_round_type   52928 non-null   object        \n",
      " 17  raised_amount        52928 non-null   float64       \n",
      " 18  pre_money_valuation  52928 non-null   float64       \n",
      " 19  participants         52928 non-null   float64       \n",
      " 20  is_first_round       52928 non-null   float64       \n",
      " 21  is_last_round        52928 non-null   float64       \n",
      "dtypes: datetime64[ns](3), float64(12), object(7)\n",
      "memory usage: 36.6+ MB\n"
     ]
    },
    {
     "data": {
      "text/plain": [
       "None"
      ]
     },
     "metadata": {},
     "output_type": "display_data"
    }
   ],
   "source": [
    "display(df_car.info())"
   ]
  },
  {
   "cell_type": "code",
   "execution_count": 226,
   "metadata": {},
   "outputs": [],
   "source": [
    "df_educ['graduated_at'] = pd.to_datetime(df_educ['graduated_at'], format='%Y-%m-%d')"
   ]
  },
  {
   "cell_type": "code",
   "execution_count": 227,
   "metadata": {},
   "outputs": [
    {
     "name": "stdout",
     "output_type": "stream",
     "text": [
      "<class 'pandas.core.frame.DataFrame'>\n",
      "RangeIndex: 109610 entries, 0 to 109609\n",
      "Data columns (total 4 columns):\n",
      " #   Column        Non-Null Count   Dtype         \n",
      "---  ------        --------------   -----         \n",
      " 0   id            109610 non-null  int64         \n",
      " 1   person_id     109610 non-null  int64         \n",
      " 2   instituition  109555 non-null  object        \n",
      " 3   graduated_at  58054 non-null   datetime64[ns]\n",
      "dtypes: datetime64[ns](1), int64(2), object(1)\n",
      "memory usage: 3.3+ MB\n"
     ]
    },
    {
     "data": {
      "text/plain": [
       "None"
      ]
     },
     "metadata": {},
     "output_type": "display_data"
    }
   ],
   "source": [
    "display(df_educ.info())"
   ]
  },
  {
   "cell_type": "code",
   "execution_count": 228,
   "metadata": {},
   "outputs": [],
   "source": [
    "df_fund['founded_at'] = pd.to_datetime(df_fund['founded_at'], format='%Y-%m-%d')"
   ]
  },
  {
   "cell_type": "code",
   "execution_count": 229,
   "metadata": {},
   "outputs": [
    {
     "name": "stdout",
     "output_type": "stream",
     "text": [
      "<class 'pandas.core.frame.DataFrame'>\n",
      "RangeIndex: 11652 entries, 0 to 11651\n",
      "Data columns (total 9 columns):\n",
      " #   Column              Non-Null Count  Dtype         \n",
      "---  ------              --------------  -----         \n",
      " 0   id                  11652 non-null  int64         \n",
      " 1   name                11649 non-null  object        \n",
      " 2   founded_at          4605 non-null   datetime64[ns]\n",
      " 3   domain              7362 non-null   object        \n",
      " 4   network_username    2149 non-null   object        \n",
      " 5   country_code        7053 non-null   object        \n",
      " 6   investment_rounds   11652 non-null  int64         \n",
      " 7   invested_companies  11652 non-null  int64         \n",
      " 8   milestones          11652 non-null  int64         \n",
      "dtypes: datetime64[ns](1), int64(4), object(4)\n",
      "memory usage: 819.4+ KB\n"
     ]
    },
    {
     "data": {
      "text/plain": [
       "None"
      ]
     },
     "metadata": {},
     "output_type": "display_data"
    }
   ],
   "source": [
    "display(df_fund.info())"
   ]
  },
  {
   "cell_type": "markdown",
   "metadata": {},
   "source": [
    "**Выводы**: У нас достаточно большой объем данных, в котором полностью отсутствуют дубликаты. Часть датафреймов имеет пропуски, некоторые пропуски имеют естественную природу, другие характеризуются неполнотой данных. По-моему мнению имеющиеся данные вполне пригодны для проведения анализа.  "
   ]
  },
  {
   "cell_type": "markdown",
   "metadata": {
    "id": "u60cHsn6rJg1"
   },
   "source": [
    "## Шаг 2. Предобработка данных, предварительное исследование"
   ]
  },
  {
   "cell_type": "markdown",
   "metadata": {
    "id": "g2bHIIjcrJg1"
   },
   "source": [
    "\n",
    "### 2.1. Раунды финансирования по годам\n",
    "\n",
    "Задание необходимо выполнить без объединения и дополнительной предобработки на основе датасета `company_and_rounds.csv`.\n",
    "\n",
    "* Составьте сводную таблицу по годам, в которой на основании столбца `raised_amount` для каждого года указан:\n",
    "\n",
    "  * типичный размер средств, выделяемый в рамках одного раунда;\n",
    "  * общее количество раундов финансирования за этот год.\n",
    "\n",
    "* Оставьте в таблице информацию только для тех лет, для которых есть информация о более чем 50 раундах финансирования.\n",
    "\n",
    "* На основе получившейся таблицы постройте график, который будет отражать динамику типичного размера средств, которые стартапы получали в рамках одного раунда финансирования.\n",
    "\n",
    "На основе полученных данных ответьте на вопросы:\n",
    "\n",
    "* В каком году типичный размер собранных в рамках одного раунда средств был максимален?\n",
    "\n",
    "* Какая тенденция по количеству раундов и выделяемых в рамках каждого раунда средств наблюдалась в 2013 году?"
   ]
  },
  {
   "cell_type": "code",
   "execution_count": 233,
   "metadata": {},
   "outputs": [],
   "source": [
    "df_car['funded_year']=df_car['funded_at'].dt.year"
   ]
  },
  {
   "cell_type": "code",
   "execution_count": 234,
   "metadata": {
    "id": "ovyDibxNrJg1"
   },
   "outputs": [],
   "source": [
    "car_group=df_car.groupby('funded_year').agg({'raised_amount':['median','count']})"
   ]
  },
  {
   "cell_type": "code",
   "execution_count": 235,
   "metadata": {},
   "outputs": [
    {
     "data": {
      "text/html": [
       "<div>\n",
       "<style scoped>\n",
       "    .dataframe tbody tr th:only-of-type {\n",
       "        vertical-align: middle;\n",
       "    }\n",
       "\n",
       "    .dataframe tbody tr th {\n",
       "        vertical-align: top;\n",
       "    }\n",
       "\n",
       "    .dataframe thead th {\n",
       "        text-align: right;\n",
       "    }\n",
       "</style>\n",
       "<table border=\"1\" class=\"dataframe\">\n",
       "  <thead>\n",
       "    <tr style=\"text-align: right;\">\n",
       "      <th></th>\n",
       "      <th>funded_year</th>\n",
       "      <th>median_funded</th>\n",
       "      <th>total_funded</th>\n",
       "    </tr>\n",
       "  </thead>\n",
       "  <tbody>\n",
       "    <tr>\n",
       "      <th>0</th>\n",
       "      <td>1999.0</td>\n",
       "      <td>2000000.0</td>\n",
       "      <td>76</td>\n",
       "    </tr>\n",
       "    <tr>\n",
       "      <th>1</th>\n",
       "      <td>2000.0</td>\n",
       "      <td>4200000.0</td>\n",
       "      <td>125</td>\n",
       "    </tr>\n",
       "    <tr>\n",
       "      <th>2</th>\n",
       "      <td>2001.0</td>\n",
       "      <td>3000000.0</td>\n",
       "      <td>96</td>\n",
       "    </tr>\n",
       "    <tr>\n",
       "      <th>3</th>\n",
       "      <td>2002.0</td>\n",
       "      <td>4200000.0</td>\n",
       "      <td>116</td>\n",
       "    </tr>\n",
       "    <tr>\n",
       "      <th>4</th>\n",
       "      <td>2003.0</td>\n",
       "      <td>3000000.0</td>\n",
       "      <td>159</td>\n",
       "    </tr>\n",
       "    <tr>\n",
       "      <th>5</th>\n",
       "      <td>2004.0</td>\n",
       "      <td>5000000.0</td>\n",
       "      <td>291</td>\n",
       "    </tr>\n",
       "    <tr>\n",
       "      <th>6</th>\n",
       "      <td>2005.0</td>\n",
       "      <td>5500000.0</td>\n",
       "      <td>1633</td>\n",
       "    </tr>\n",
       "    <tr>\n",
       "      <th>7</th>\n",
       "      <td>2006.0</td>\n",
       "      <td>5000000.0</td>\n",
       "      <td>2436</td>\n",
       "    </tr>\n",
       "    <tr>\n",
       "      <th>8</th>\n",
       "      <td>2007.0</td>\n",
       "      <td>3973320.0</td>\n",
       "      <td>3279</td>\n",
       "    </tr>\n",
       "    <tr>\n",
       "      <th>9</th>\n",
       "      <td>2008.0</td>\n",
       "      <td>3110000.0</td>\n",
       "      <td>3774</td>\n",
       "    </tr>\n",
       "    <tr>\n",
       "      <th>10</th>\n",
       "      <td>2009.0</td>\n",
       "      <td>2000000.0</td>\n",
       "      <td>4151</td>\n",
       "    </tr>\n",
       "    <tr>\n",
       "      <th>11</th>\n",
       "      <td>2010.0</td>\n",
       "      <td>1602500.0</td>\n",
       "      <td>6221</td>\n",
       "    </tr>\n",
       "    <tr>\n",
       "      <th>12</th>\n",
       "      <td>2011.0</td>\n",
       "      <td>1200000.0</td>\n",
       "      <td>9204</td>\n",
       "    </tr>\n",
       "    <tr>\n",
       "      <th>13</th>\n",
       "      <td>2012.0</td>\n",
       "      <td>1000000.0</td>\n",
       "      <td>9970</td>\n",
       "    </tr>\n",
       "    <tr>\n",
       "      <th>14</th>\n",
       "      <td>2013.0</td>\n",
       "      <td>1200000.0</td>\n",
       "      <td>11072</td>\n",
       "    </tr>\n",
       "  </tbody>\n",
       "</table>\n",
       "</div>"
      ],
      "text/plain": [
       "    funded_year  median_funded  total_funded\n",
       "0        1999.0      2000000.0            76\n",
       "1        2000.0      4200000.0           125\n",
       "2        2001.0      3000000.0            96\n",
       "3        2002.0      4200000.0           116\n",
       "4        2003.0      3000000.0           159\n",
       "5        2004.0      5000000.0           291\n",
       "6        2005.0      5500000.0          1633\n",
       "7        2006.0      5000000.0          2436\n",
       "8        2007.0      3973320.0          3279\n",
       "9        2008.0      3110000.0          3774\n",
       "10       2009.0      2000000.0          4151\n",
       "11       2010.0      1602500.0          6221\n",
       "12       2011.0      1200000.0          9204\n",
       "13       2012.0      1000000.0          9970\n",
       "14       2013.0      1200000.0         11072"
      ]
     },
     "metadata": {},
     "output_type": "display_data"
    }
   ],
   "source": [
    "# Переименование столбцов для удобства\n",
    "car_group.columns = ['median_funded', 'total_funded']\n",
    "\n",
    "# Фильтрация по количеству > 50\n",
    "filtered_df = car_group.query(\"total_funded > 50\").reset_index()\n",
    "\n",
    "display(filtered_df)"
   ]
  },
  {
   "cell_type": "code",
   "execution_count": 236,
   "metadata": {},
   "outputs": [
    {
     "data": {
      "text/html": [
       "<div>\n",
       "<style scoped>\n",
       "    .dataframe tbody tr th:only-of-type {\n",
       "        vertical-align: middle;\n",
       "    }\n",
       "\n",
       "    .dataframe tbody tr th {\n",
       "        vertical-align: top;\n",
       "    }\n",
       "\n",
       "    .dataframe thead th {\n",
       "        text-align: right;\n",
       "    }\n",
       "</style>\n",
       "<table border=\"1\" class=\"dataframe\">\n",
       "  <thead>\n",
       "    <tr style=\"text-align: right;\">\n",
       "      <th></th>\n",
       "      <th>funded_year</th>\n",
       "      <th>median_funded</th>\n",
       "      <th>total_funded</th>\n",
       "    </tr>\n",
       "  </thead>\n",
       "  <tbody>\n",
       "    <tr>\n",
       "      <th>0</th>\n",
       "      <td>1999.0</td>\n",
       "      <td>2000000.0</td>\n",
       "      <td>76</td>\n",
       "    </tr>\n",
       "    <tr>\n",
       "      <th>1</th>\n",
       "      <td>2000.0</td>\n",
       "      <td>4200000.0</td>\n",
       "      <td>125</td>\n",
       "    </tr>\n",
       "    <tr>\n",
       "      <th>2</th>\n",
       "      <td>2001.0</td>\n",
       "      <td>3000000.0</td>\n",
       "      <td>96</td>\n",
       "    </tr>\n",
       "    <tr>\n",
       "      <th>3</th>\n",
       "      <td>2002.0</td>\n",
       "      <td>4200000.0</td>\n",
       "      <td>116</td>\n",
       "    </tr>\n",
       "    <tr>\n",
       "      <th>4</th>\n",
       "      <td>2003.0</td>\n",
       "      <td>3000000.0</td>\n",
       "      <td>159</td>\n",
       "    </tr>\n",
       "    <tr>\n",
       "      <th>5</th>\n",
       "      <td>2004.0</td>\n",
       "      <td>5000000.0</td>\n",
       "      <td>291</td>\n",
       "    </tr>\n",
       "    <tr>\n",
       "      <th>6</th>\n",
       "      <td>2005.0</td>\n",
       "      <td>5500000.0</td>\n",
       "      <td>1633</td>\n",
       "    </tr>\n",
       "    <tr>\n",
       "      <th>7</th>\n",
       "      <td>2006.0</td>\n",
       "      <td>5000000.0</td>\n",
       "      <td>2436</td>\n",
       "    </tr>\n",
       "    <tr>\n",
       "      <th>8</th>\n",
       "      <td>2007.0</td>\n",
       "      <td>3973320.0</td>\n",
       "      <td>3279</td>\n",
       "    </tr>\n",
       "    <tr>\n",
       "      <th>9</th>\n",
       "      <td>2008.0</td>\n",
       "      <td>3110000.0</td>\n",
       "      <td>3774</td>\n",
       "    </tr>\n",
       "    <tr>\n",
       "      <th>10</th>\n",
       "      <td>2009.0</td>\n",
       "      <td>2000000.0</td>\n",
       "      <td>4151</td>\n",
       "    </tr>\n",
       "    <tr>\n",
       "      <th>11</th>\n",
       "      <td>2010.0</td>\n",
       "      <td>1602500.0</td>\n",
       "      <td>6221</td>\n",
       "    </tr>\n",
       "    <tr>\n",
       "      <th>12</th>\n",
       "      <td>2011.0</td>\n",
       "      <td>1200000.0</td>\n",
       "      <td>9204</td>\n",
       "    </tr>\n",
       "    <tr>\n",
       "      <th>13</th>\n",
       "      <td>2012.0</td>\n",
       "      <td>1000000.0</td>\n",
       "      <td>9970</td>\n",
       "    </tr>\n",
       "    <tr>\n",
       "      <th>14</th>\n",
       "      <td>2013.0</td>\n",
       "      <td>1200000.0</td>\n",
       "      <td>11072</td>\n",
       "    </tr>\n",
       "  </tbody>\n",
       "</table>\n",
       "</div>"
      ],
      "text/plain": [
       "    funded_year  median_funded  total_funded\n",
       "0        1999.0      2000000.0            76\n",
       "1        2000.0      4200000.0           125\n",
       "2        2001.0      3000000.0            96\n",
       "3        2002.0      4200000.0           116\n",
       "4        2003.0      3000000.0           159\n",
       "5        2004.0      5000000.0           291\n",
       "6        2005.0      5500000.0          1633\n",
       "7        2006.0      5000000.0          2436\n",
       "8        2007.0      3973320.0          3279\n",
       "9        2008.0      3110000.0          3774\n",
       "10       2009.0      2000000.0          4151\n",
       "11       2010.0      1602500.0          6221\n",
       "12       2011.0      1200000.0          9204\n",
       "13       2012.0      1000000.0          9970\n",
       "14       2013.0      1200000.0         11072"
      ]
     },
     "metadata": {},
     "output_type": "display_data"
    }
   ],
   "source": [
    "display(filtered_df)"
   ]
  },
  {
   "cell_type": "code",
   "execution_count": 237,
   "metadata": {},
   "outputs": [
    {
     "data": {
      "image/png": "[encoded data removed]",
      "text/plain": [
       "<Figure size 640x480 with 1 Axes>"
      ]
     },
     "metadata": {},
     "output_type": "display_data"
    }
   ],
   "source": [
    "# Постройте график с помощью метода plot()\n",
    "\n",
    "filtered_df.plot(kind='line', x='funded_year', y='total_funded')\n",
    "\n",
    "# Настраиваем оси\n",
    "plt.title('Динамика количество раундов на стартапы')\n",
    "plt.xlabel('Год')\n",
    "plt.ylabel('Количество раундов на стартапы по годам')\n",
    "\n",
    "# Измените название осей и название графика\n",
    "plt.show()"
   ]
  },
  {
   "cell_type": "code",
   "execution_count": 238,
   "metadata": {},
   "outputs": [
    {
     "data": {
      "image/png": "[encoded data removed]",
      "text/plain": [
       "<Figure size 640x480 with 1 Axes>"
      ]
     },
     "metadata": {},
     "output_type": "display_data"
    }
   ],
   "source": [
    "# Постройте график с помощью метода plot()\n",
    "\n",
    "filtered_df.plot(kind='line', x='funded_year', y='median_funded')\n",
    "\n",
    "# Настраиваем оси\n",
    "plt.title('Динамика типичного размера средств на стартапы')\n",
    "plt.xlabel('Год')\n",
    "plt.ylabel('Медиана типичного размера средств')\n",
    "\n",
    "# Измените название осей и название графика\n",
    "plt.show()"
   ]
  },
  {
   "cell_type": "markdown",
   "metadata": {},
   "source": [
    "**Динамика количества раундов на стартапы** характеризуется тем от года к году происходит сначала плавный рост, затем практически взрывной рост в конце 0-х. <br> **Динамика типичного размера средств на стартапы** В 2005 году типичный размер средств бал максимальным и составлял 5,5 млн долларов. В 2013 году типичный размер был 120 тыс долларов и было подсчитано максимальное количество раундов 11 072. По трендам до 2007 происходил рост привлеченных средств на стартапы, достигнув пика произошло снижение до 2012 года.  "
   ]
  },
  {
   "cell_type": "markdown",
   "metadata": {
    "id": "45if1en1rJg2"
   },
   "source": [
    "\n",
    "### 2.2. Люди и их образование\n",
    "\n",
    "Заказчик хочет понять, зависит ли полнота сведений о сотрудниках (например, об их образовании) от размера компаний.\n",
    "\n",
    "* Оцените, насколько информация об образовании сотрудников полна. Используя датасеты `people.csv` и `education.csv`, разделите все компании на несколько групп по количеству сотрудников и оцените среднюю долю сотрудников без информации об образовании в каждой из групп. Обоснуйте выбранные границы групп.\n",
    "\n",
    "* Оцените, возможно ли для выполнения задания присоединить к этим таблицам ещё и таблицу `degrees.csv`."
   ]
  },
  {
   "cell_type": "code",
   "execution_count": 241,
   "metadata": {
    "id": "psPO7C4MrJg2"
   },
   "outputs": [
    {
     "data": {
      "text/plain": [
       "id              0.000000\n",
       "person_id       0.000000\n",
       "instituition    0.000502\n",
       "graduated_at    0.470359\n",
       "dtype: float64"
      ]
     },
     "execution_count": 241,
     "metadata": {},
     "output_type": "execute_result"
    }
   ],
   "source": [
    "# Подсчитываем долю строк с пропусками\n",
    "df_educ.isna().sum() / df_educ.shape[0]"
   ]
  },
  {
   "cell_type": "code",
   "execution_count": 242,
   "metadata": {
    "id": "xdQ6H5ZSn1ZM"
   },
   "outputs": [
    {
     "data": {
      "text/plain": [
       "id                  0.000000\n",
       "first_name          0.000040\n",
       "last_name           0.000018\n",
       "company_id          0.847315\n",
       "network_username    0.828560\n",
       "dtype: float64"
      ]
     },
     "execution_count": 242,
     "metadata": {},
     "output_type": "execute_result"
    }
   ],
   "source": [
    "# Подсчитываем долю строк с пропусками\n",
    "df_ppl.isna().sum() / df_ppl.shape[0]"
   ]
  },
  {
   "cell_type": "code",
   "execution_count": 243,
   "metadata": {},
   "outputs": [],
   "source": [
    "company_sizes = df_ppl.groupby('company_id')['id'].count().reset_index()"
   ]
  },
  {
   "cell_type": "markdown",
   "metadata": {},
   "source": [
    "Было взято предложение  эксперта по разбиению стартапа в связи с количеством сотрудников от 1 до 8, \n",
    "от 9 до 15, от 16 до 35, от 36 до 70 и 70 и больше, максимум сотрудников был 240.\n",
    "https://rajchoudhury.com/2013/06/26/start-up-stages-based-on-number-of-employees/"
   ]
  },
  {
   "cell_type": "code",
   "execution_count": 245,
   "metadata": {},
   "outputs": [],
   "source": [
    "company_sizes['types_of_companies'] = pd.cut(company_sizes['id'],\n",
    "                            bins=[0, 9, 16,36, 70, 250],\n",
    "                            labels=['tiny', 'small', 'medium', 'upper_medium', 'large'])"
   ]
  },
  {
   "cell_type": "code",
   "execution_count": 246,
   "metadata": {},
   "outputs": [
    {
     "data": {
      "text/plain": [
       "types_of_companies\n",
       "tiny            22777\n",
       "small             103\n",
       "medium             30\n",
       "upper_medium        8\n",
       "large               4\n",
       "Name: count, dtype: int64"
      ]
     },
     "execution_count": 246,
     "metadata": {},
     "output_type": "execute_result"
    }
   ],
   "source": [
    "company_sizes['types_of_companies'].value_counts()"
   ]
  },
  {
   "cell_type": "code",
   "execution_count": 247,
   "metadata": {},
   "outputs": [
    {
     "data": {
      "text/html": [
       "<div>\n",
       "<style scoped>\n",
       "    .dataframe tbody tr th:only-of-type {\n",
       "        vertical-align: middle;\n",
       "    }\n",
       "\n",
       "    .dataframe tbody tr th {\n",
       "        vertical-align: top;\n",
       "    }\n",
       "\n",
       "    .dataframe thead th {\n",
       "        text-align: right;\n",
       "    }\n",
       "</style>\n",
       "<table border=\"1\" class=\"dataframe\">\n",
       "  <thead>\n",
       "    <tr style=\"text-align: right;\">\n",
       "      <th></th>\n",
       "      <th>company_id</th>\n",
       "      <th>id</th>\n",
       "      <th>types_of_companies</th>\n",
       "    </tr>\n",
       "  </thead>\n",
       "  <tbody>\n",
       "    <tr>\n",
       "      <th>0</th>\n",
       "      <td>1.0</td>\n",
       "      <td>2</td>\n",
       "      <td>tiny</td>\n",
       "    </tr>\n",
       "    <tr>\n",
       "      <th>1</th>\n",
       "      <td>2.0</td>\n",
       "      <td>1</td>\n",
       "      <td>tiny</td>\n",
       "    </tr>\n",
       "    <tr>\n",
       "      <th>2</th>\n",
       "      <td>3.0</td>\n",
       "      <td>3</td>\n",
       "      <td>tiny</td>\n",
       "    </tr>\n",
       "    <tr>\n",
       "      <th>3</th>\n",
       "      <td>4.0</td>\n",
       "      <td>13</td>\n",
       "      <td>small</td>\n",
       "    </tr>\n",
       "    <tr>\n",
       "      <th>4</th>\n",
       "      <td>5.0</td>\n",
       "      <td>61</td>\n",
       "      <td>upper_medium</td>\n",
       "    </tr>\n",
       "    <tr>\n",
       "      <th>...</th>\n",
       "      <td>...</td>\n",
       "      <td>...</td>\n",
       "      <td>...</td>\n",
       "    </tr>\n",
       "    <tr>\n",
       "      <th>22917</th>\n",
       "      <td>285897.0</td>\n",
       "      <td>2</td>\n",
       "      <td>tiny</td>\n",
       "    </tr>\n",
       "    <tr>\n",
       "      <th>22918</th>\n",
       "      <td>285953.0</td>\n",
       "      <td>1</td>\n",
       "      <td>tiny</td>\n",
       "    </tr>\n",
       "    <tr>\n",
       "      <th>22919</th>\n",
       "      <td>285972.0</td>\n",
       "      <td>2</td>\n",
       "      <td>tiny</td>\n",
       "    </tr>\n",
       "    <tr>\n",
       "      <th>22920</th>\n",
       "      <td>285996.0</td>\n",
       "      <td>1</td>\n",
       "      <td>tiny</td>\n",
       "    </tr>\n",
       "    <tr>\n",
       "      <th>22921</th>\n",
       "      <td>286091.0</td>\n",
       "      <td>6</td>\n",
       "      <td>tiny</td>\n",
       "    </tr>\n",
       "  </tbody>\n",
       "</table>\n",
       "<p>22922 rows × 3 columns</p>\n",
       "</div>"
      ],
      "text/plain": [
       "       company_id  id types_of_companies\n",
       "0             1.0   2               tiny\n",
       "1             2.0   1               tiny\n",
       "2             3.0   3               tiny\n",
       "3             4.0  13              small\n",
       "4             5.0  61       upper_medium\n",
       "...           ...  ..                ...\n",
       "22917    285897.0   2               tiny\n",
       "22918    285953.0   1               tiny\n",
       "22919    285972.0   2               tiny\n",
       "22920    285996.0   1               tiny\n",
       "22921    286091.0   6               tiny\n",
       "\n",
       "[22922 rows x 3 columns]"
      ]
     },
     "metadata": {},
     "output_type": "display_data"
    }
   ],
   "source": [
    "display(company_sizes)"
   ]
  },
  {
   "cell_type": "code",
   "execution_count": 248,
   "metadata": {},
   "outputs": [],
   "source": [
    "df1=df_ppl.merge(company_sizes, how='left', on='company_id')"
   ]
  },
  {
   "cell_type": "code",
   "execution_count": 249,
   "metadata": {},
   "outputs": [],
   "source": [
    "df_full=df1.merge(df_educ, how='left', left_on='id_x', right_on='person_id')"
   ]
  },
  {
   "cell_type": "code",
   "execution_count": 250,
   "metadata": {},
   "outputs": [
    {
     "data": {
      "text/html": [
       "<div>\n",
       "<style scoped>\n",
       "    .dataframe tbody tr th:only-of-type {\n",
       "        vertical-align: middle;\n",
       "    }\n",
       "\n",
       "    .dataframe tbody tr th {\n",
       "        vertical-align: top;\n",
       "    }\n",
       "\n",
       "    .dataframe thead th {\n",
       "        text-align: right;\n",
       "    }\n",
       "</style>\n",
       "<table border=\"1\" class=\"dataframe\">\n",
       "  <thead>\n",
       "    <tr style=\"text-align: right;\">\n",
       "      <th></th>\n",
       "      <th>id_x</th>\n",
       "      <th>first_name</th>\n",
       "      <th>last_name</th>\n",
       "      <th>company_id</th>\n",
       "      <th>network_username</th>\n",
       "      <th>id_y</th>\n",
       "      <th>types_of_companies</th>\n",
       "      <th>id</th>\n",
       "      <th>person_id</th>\n",
       "      <th>instituition</th>\n",
       "      <th>graduated_at</th>\n",
       "    </tr>\n",
       "  </thead>\n",
       "  <tbody>\n",
       "    <tr>\n",
       "      <th>0</th>\n",
       "      <td>10</td>\n",
       "      <td>Mark</td>\n",
       "      <td>Zuckerberg</td>\n",
       "      <td>5.0</td>\n",
       "      <td>NaN</td>\n",
       "      <td>61.0</td>\n",
       "      <td>upper_medium</td>\n",
       "      <td>2415.0</td>\n",
       "      <td>10.0</td>\n",
       "      <td>Harvard University</td>\n",
       "      <td>NaT</td>\n",
       "    </tr>\n",
       "    <tr>\n",
       "      <th>1</th>\n",
       "      <td>100</td>\n",
       "      <td>Peter</td>\n",
       "      <td>Lester</td>\n",
       "      <td>27.0</td>\n",
       "      <td>NaN</td>\n",
       "      <td>10.0</td>\n",
       "      <td>small</td>\n",
       "      <td>NaN</td>\n",
       "      <td>NaN</td>\n",
       "      <td>NaN</td>\n",
       "      <td>NaT</td>\n",
       "    </tr>\n",
       "    <tr>\n",
       "      <th>2</th>\n",
       "      <td>1000</td>\n",
       "      <td>Dr. Steven</td>\n",
       "      <td>E. Saunders</td>\n",
       "      <td>292.0</td>\n",
       "      <td>NaN</td>\n",
       "      <td>3.0</td>\n",
       "      <td>tiny</td>\n",
       "      <td>NaN</td>\n",
       "      <td>NaN</td>\n",
       "      <td>NaN</td>\n",
       "      <td>NaT</td>\n",
       "    </tr>\n",
       "    <tr>\n",
       "      <th>3</th>\n",
       "      <td>10000</td>\n",
       "      <td>Neil</td>\n",
       "      <td>Capel</td>\n",
       "      <td>2526.0</td>\n",
       "      <td>NaN</td>\n",
       "      <td>2.0</td>\n",
       "      <td>tiny</td>\n",
       "      <td>NaN</td>\n",
       "      <td>NaN</td>\n",
       "      <td>NaN</td>\n",
       "      <td>NaT</td>\n",
       "    </tr>\n",
       "    <tr>\n",
       "      <th>4</th>\n",
       "      <td>100000</td>\n",
       "      <td>Sue</td>\n",
       "      <td>Pilsch</td>\n",
       "      <td>NaN</td>\n",
       "      <td>NaN</td>\n",
       "      <td>NaN</td>\n",
       "      <td>NaN</td>\n",
       "      <td>NaN</td>\n",
       "      <td>NaN</td>\n",
       "      <td>NaN</td>\n",
       "      <td>NaT</td>\n",
       "    </tr>\n",
       "    <tr>\n",
       "      <th>...</th>\n",
       "      <td>...</td>\n",
       "      <td>...</td>\n",
       "      <td>...</td>\n",
       "      <td>...</td>\n",
       "      <td>...</td>\n",
       "      <td>...</td>\n",
       "      <td>...</td>\n",
       "      <td>...</td>\n",
       "      <td>...</td>\n",
       "      <td>...</td>\n",
       "      <td>...</td>\n",
       "    </tr>\n",
       "    <tr>\n",
       "      <th>267689</th>\n",
       "      <td>99999</td>\n",
       "      <td>Ramon</td>\n",
       "      <td>Peypoch</td>\n",
       "      <td>NaN</td>\n",
       "      <td>NaN</td>\n",
       "      <td>NaN</td>\n",
       "      <td>NaN</td>\n",
       "      <td>NaN</td>\n",
       "      <td>NaN</td>\n",
       "      <td>NaN</td>\n",
       "      <td>NaT</td>\n",
       "    </tr>\n",
       "    <tr>\n",
       "      <th>267690</th>\n",
       "      <td>174088</td>\n",
       "      <td>Dr. Ray</td>\n",
       "      <td>Woods</td>\n",
       "      <td>188200.0</td>\n",
       "      <td>network</td>\n",
       "      <td>1.0</td>\n",
       "      <td>tiny</td>\n",
       "      <td>25958.0</td>\n",
       "      <td>174088.0</td>\n",
       "      <td>Sydney University Medical School</td>\n",
       "      <td>1982-01-01</td>\n",
       "    </tr>\n",
       "    <tr>\n",
       "      <th>267691</th>\n",
       "      <td>118386</td>\n",
       "      <td>Ricardo</td>\n",
       "      <td>Durand</td>\n",
       "      <td>143419.0</td>\n",
       "      <td>itechsocialnet</td>\n",
       "      <td>1.0</td>\n",
       "      <td>tiny</td>\n",
       "      <td>18871.0</td>\n",
       "      <td>118386.0</td>\n",
       "      <td>ESCS</td>\n",
       "      <td>2004-01-01</td>\n",
       "    </tr>\n",
       "    <tr>\n",
       "      <th>267692</th>\n",
       "      <td>175827</td>\n",
       "      <td>mahesh</td>\n",
       "      <td>kumar</td>\n",
       "      <td>NaN</td>\n",
       "      <td>socialnethubs</td>\n",
       "      <td>NaN</td>\n",
       "      <td>NaN</td>\n",
       "      <td>NaN</td>\n",
       "      <td>NaN</td>\n",
       "      <td>NaN</td>\n",
       "      <td>NaT</td>\n",
       "    </tr>\n",
       "    <tr>\n",
       "      <th>267693</th>\n",
       "      <td>178190</td>\n",
       "      <td>Alex</td>\n",
       "      <td>Smith</td>\n",
       "      <td>NaN</td>\n",
       "      <td>esocialnetlike</td>\n",
       "      <td>NaN</td>\n",
       "      <td>NaN</td>\n",
       "      <td>NaN</td>\n",
       "      <td>NaN</td>\n",
       "      <td>NaN</td>\n",
       "      <td>NaT</td>\n",
       "    </tr>\n",
       "  </tbody>\n",
       "</table>\n",
       "<p>267694 rows × 11 columns</p>\n",
       "</div>"
      ],
      "text/plain": [
       "          id_x  first_name    last_name  company_id network_username  id_y  \\\n",
       "0           10        Mark   Zuckerberg         5.0              NaN  61.0   \n",
       "1          100       Peter       Lester        27.0              NaN  10.0   \n",
       "2         1000  Dr. Steven  E. Saunders       292.0              NaN   3.0   \n",
       "3        10000        Neil        Capel      2526.0              NaN   2.0   \n",
       "4       100000         Sue       Pilsch         NaN              NaN   NaN   \n",
       "...        ...         ...          ...         ...              ...   ...   \n",
       "267689   99999       Ramon      Peypoch         NaN              NaN   NaN   \n",
       "267690  174088     Dr. Ray        Woods    188200.0          network   1.0   \n",
       "267691  118386     Ricardo       Durand    143419.0   itechsocialnet   1.0   \n",
       "267692  175827      mahesh        kumar         NaN    socialnethubs   NaN   \n",
       "267693  178190        Alex        Smith         NaN   esocialnetlike   NaN   \n",
       "\n",
       "       types_of_companies       id  person_id  \\\n",
       "0            upper_medium   2415.0       10.0   \n",
       "1                   small      NaN        NaN   \n",
       "2                    tiny      NaN        NaN   \n",
       "3                    tiny      NaN        NaN   \n",
       "4                     NaN      NaN        NaN   \n",
       "...                   ...      ...        ...   \n",
       "267689                NaN      NaN        NaN   \n",
       "267690               tiny  25958.0   174088.0   \n",
       "267691               tiny  18871.0   118386.0   \n",
       "267692                NaN      NaN        NaN   \n",
       "267693                NaN      NaN        NaN   \n",
       "\n",
       "                            instituition graduated_at  \n",
       "0                     Harvard University          NaT  \n",
       "1                                    NaN          NaT  \n",
       "2                                    NaN          NaT  \n",
       "3                                    NaN          NaT  \n",
       "4                                    NaN          NaT  \n",
       "...                                  ...          ...  \n",
       "267689                               NaN          NaT  \n",
       "267690  Sydney University Medical School   1982-01-01  \n",
       "267691                              ESCS   2004-01-01  \n",
       "267692                               NaN          NaT  \n",
       "267693                               NaN          NaT  \n",
       "\n",
       "[267694 rows x 11 columns]"
      ]
     },
     "metadata": {},
     "output_type": "display_data"
    }
   ],
   "source": [
    "display(df_full)"
   ]
  },
  {
   "cell_type": "code",
   "execution_count": 251,
   "metadata": {},
   "outputs": [
    {
     "data": {
      "text/plain": [
       "(267694, 11)"
      ]
     },
     "execution_count": 251,
     "metadata": {},
     "output_type": "execute_result"
    }
   ],
   "source": [
    "df_full.shape"
   ]
  },
  {
   "cell_type": "code",
   "execution_count": 252,
   "metadata": {},
   "outputs": [],
   "source": [
    "df_all=df_full.merge(df_deg, how='outer', on='id')"
   ]
  },
  {
   "cell_type": "code",
   "execution_count": 253,
   "metadata": {},
   "outputs": [
    {
     "data": {
      "text/plain": [
       "id_x                    0\n",
       "first_name              0\n",
       "last_name               0\n",
       "company_id              0\n",
       "network_username        0\n",
       "id_y                    0\n",
       "types_of_companies      0\n",
       "id                    554\n",
       "person_id               0\n",
       "instituition            0\n",
       "graduated_at            0\n",
       "object_id             554\n",
       "degree_type           506\n",
       "subject               408\n",
       "dtype: int64"
      ]
     },
     "execution_count": 253,
     "metadata": {},
     "output_type": "execute_result"
    }
   ],
   "source": [
    "#Подсчитаем количество специальностей на которых нет людей из df_ppl, их в итоге полуилось 554\n",
    "df_all[df_all.id_x.isna()].count()"
   ]
  },
  {
   "cell_type": "code",
   "execution_count": 254,
   "metadata": {},
   "outputs": [
    {
     "data": {
      "text/plain": [
       "(268248, 14)"
      ]
     },
     "execution_count": 254,
     "metadata": {},
     "output_type": "execute_result"
    }
   ],
   "source": [
    "df_all.shape"
   ]
  },
  {
   "cell_type": "code",
   "execution_count": 255,
   "metadata": {},
   "outputs": [
    {
     "data": {
      "text/html": [
       "<div>\n",
       "<style scoped>\n",
       "    .dataframe tbody tr th:only-of-type {\n",
       "        vertical-align: middle;\n",
       "    }\n",
       "\n",
       "    .dataframe tbody tr th {\n",
       "        vertical-align: top;\n",
       "    }\n",
       "\n",
       "    .dataframe thead th {\n",
       "        text-align: right;\n",
       "    }\n",
       "</style>\n",
       "<table border=\"1\" class=\"dataframe\">\n",
       "  <thead>\n",
       "    <tr style=\"text-align: right;\">\n",
       "      <th></th>\n",
       "      <th>id_x</th>\n",
       "      <th>first_name</th>\n",
       "      <th>last_name</th>\n",
       "      <th>company_id</th>\n",
       "      <th>network_username</th>\n",
       "      <th>id_y</th>\n",
       "      <th>types_of_companies</th>\n",
       "      <th>id</th>\n",
       "      <th>person_id</th>\n",
       "      <th>instituition</th>\n",
       "      <th>graduated_at</th>\n",
       "      <th>object_id</th>\n",
       "      <th>degree_type</th>\n",
       "      <th>subject</th>\n",
       "    </tr>\n",
       "  </thead>\n",
       "  <tbody>\n",
       "    <tr>\n",
       "      <th>0</th>\n",
       "      <td>6117.0</td>\n",
       "      <td>Maurice</td>\n",
       "      <td>Rompre</td>\n",
       "      <td>2430.0</td>\n",
       "      <td>NaN</td>\n",
       "      <td>1.0</td>\n",
       "      <td>tiny</td>\n",
       "      <td>1.0</td>\n",
       "      <td>6117.0</td>\n",
       "      <td>NaN</td>\n",
       "      <td>NaT</td>\n",
       "      <td>p:6117</td>\n",
       "      <td>MBA</td>\n",
       "      <td>NaN</td>\n",
       "    </tr>\n",
       "    <tr>\n",
       "      <th>1</th>\n",
       "      <td>6136.0</td>\n",
       "      <td>John</td>\n",
       "      <td>Green</td>\n",
       "      <td>2454.0</td>\n",
       "      <td>NaN</td>\n",
       "      <td>3.0</td>\n",
       "      <td>tiny</td>\n",
       "      <td>2.0</td>\n",
       "      <td>6136.0</td>\n",
       "      <td>Washington University, St. Louis</td>\n",
       "      <td>1990-01-01</td>\n",
       "      <td>p:6136</td>\n",
       "      <td>BA</td>\n",
       "      <td>English, French</td>\n",
       "    </tr>\n",
       "    <tr>\n",
       "      <th>2</th>\n",
       "      <td>6136.0</td>\n",
       "      <td>John</td>\n",
       "      <td>Green</td>\n",
       "      <td>2454.0</td>\n",
       "      <td>NaN</td>\n",
       "      <td>3.0</td>\n",
       "      <td>tiny</td>\n",
       "      <td>3.0</td>\n",
       "      <td>6136.0</td>\n",
       "      <td>Boston University</td>\n",
       "      <td>1992-01-01</td>\n",
       "      <td>p:6136</td>\n",
       "      <td>MS</td>\n",
       "      <td>Mass Communication</td>\n",
       "    </tr>\n",
       "    <tr>\n",
       "      <th>3</th>\n",
       "      <td>6005.0</td>\n",
       "      <td>Sridhar</td>\n",
       "      <td>Gundaiah</td>\n",
       "      <td>2360.0</td>\n",
       "      <td>NaN</td>\n",
       "      <td>1.0</td>\n",
       "      <td>tiny</td>\n",
       "      <td>4.0</td>\n",
       "      <td>6005.0</td>\n",
       "      <td>University of Greenwich</td>\n",
       "      <td>2006-01-01</td>\n",
       "      <td>p:6005</td>\n",
       "      <td>MS</td>\n",
       "      <td>Internet Technology</td>\n",
       "    </tr>\n",
       "    <tr>\n",
       "      <th>4</th>\n",
       "      <td>5832.0</td>\n",
       "      <td>David</td>\n",
       "      <td>Peters</td>\n",
       "      <td>2033.0</td>\n",
       "      <td>NaN</td>\n",
       "      <td>2.0</td>\n",
       "      <td>tiny</td>\n",
       "      <td>5.0</td>\n",
       "      <td>5832.0</td>\n",
       "      <td>Rice University</td>\n",
       "      <td>NaT</td>\n",
       "      <td>p:5832</td>\n",
       "      <td>BCS</td>\n",
       "      <td>Computer Science, Psychology</td>\n",
       "    </tr>\n",
       "  </tbody>\n",
       "</table>\n",
       "</div>"
      ],
      "text/plain": [
       "     id_x first_name last_name  company_id network_username  id_y  \\\n",
       "0  6117.0    Maurice    Rompre      2430.0              NaN   1.0   \n",
       "1  6136.0       John     Green      2454.0              NaN   3.0   \n",
       "2  6136.0       John     Green      2454.0              NaN   3.0   \n",
       "3  6005.0    Sridhar  Gundaiah      2360.0              NaN   1.0   \n",
       "4  5832.0      David    Peters      2033.0              NaN   2.0   \n",
       "\n",
       "  types_of_companies   id  person_id                      instituition  \\\n",
       "0               tiny  1.0     6117.0                               NaN   \n",
       "1               tiny  2.0     6136.0  Washington University, St. Louis   \n",
       "2               tiny  3.0     6136.0                 Boston University   \n",
       "3               tiny  4.0     6005.0           University of Greenwich   \n",
       "4               tiny  5.0     5832.0                   Rice University   \n",
       "\n",
       "  graduated_at object_id degree_type                       subject  \n",
       "0          NaT    p:6117         MBA                           NaN  \n",
       "1   1990-01-01    p:6136          BA               English, French  \n",
       "2   1992-01-01    p:6136          MS            Mass Communication  \n",
       "3   2006-01-01    p:6005          MS           Internet Technology  \n",
       "4          NaT    p:5832         BCS  Computer Science, Psychology  "
      ]
     },
     "execution_count": 255,
     "metadata": {},
     "output_type": "execute_result"
    }
   ],
   "source": [
    "df_all.head()"
   ]
  },
  {
   "cell_type": "code",
   "execution_count": 256,
   "metadata": {},
   "outputs": [
    {
     "name": "stderr",
     "output_type": "stream",
     "text": [
      "C:\\Users\\Lenovo\\AppData\\Local\\Temp\\ipykernel_13028\\418704179.py:2: FutureWarning: The default of observed=False is deprecated and will be changed to True in a future version of pandas. Pass observed=False to retain current behavior or observed=True to adopt the future default and silence this warning.\n",
      "  null_counts = df_all['instituition'].isna().groupby(df_all['types_of_companies']).sum()\n"
     ]
    },
    {
     "data": {
      "text/plain": [
       "types_of_companies\n",
       "tiny            0.369581\n",
       "small           0.352761\n",
       "medium          0.283938\n",
       "upper_medium    0.202401\n",
       "large           0.185556\n",
       "dtype: float64"
      ]
     },
     "metadata": {},
     "output_type": "display_data"
    }
   ],
   "source": [
    "# Подсчитываем долю null значений в столбце 'Образование' для каждого типа компании\n",
    "null_counts = df_all['instituition'].isna().groupby(df_all['types_of_companies']).sum()\n",
    "total_counts = df_all['types_of_companies'].value_counts()\n",
    "doly_null = null_counts / total_counts\n",
    "\n",
    "# Вывод результата\n",
    "display(doly_null)"
   ]
  },
  {
   "cell_type": "markdown",
   "metadata": {},
   "source": [
    "С увеличением в компании количества сотрудников доля сотрудников без высшего образования снижается с 36,9% до 18,55%. По id можно связать education c degree"
   ]
  },
  {
   "cell_type": "markdown",
   "metadata": {},
   "source": [
    "### 2.3. Объединять или не объединять — вот в чём вопрос\n",
    "\n",
    "Некоторые названия столбцов встречаются в датасетах чаще других. И, например, в результате предварительной проверки датасетов было выяснено, что столбец `company_id` подходит для объединения данных, так как большая часть значений встречается в разных датасетах не один, а несколько раз. Этот столбец может быть использован для объединения данных.\n",
    "\n",
    "* Установите, подходит ли для объединения данных столбец `network_username`, который встречается в нескольких датасетах. Нам необходимо понимать, дублируется ли для разных датасетов информация в столбцах с таким названием, и если да — то насколько часто.\n",
    "\n",
    "* Оцените, можно ли использовать столбцы с именем `network_username` для объединения данных."
   ]
  },
  {
   "cell_type": "code",
   "execution_count": 259,
   "metadata": {
    "id": "Cf5IjfOQrJg1"
   },
   "outputs": [
    {
     "name": "stdout",
     "output_type": "stream",
     "text": [
      "Процент повторяющихся значений car и fund: 0.09%\n",
      "Процент повторяющихся значений car и ppl: 1.86%\n",
      "Процент повторяющихся значений fund и ppl: 0.20%\n"
     ]
    }
   ],
   "source": [
    "# Уникальные значения каждого столбца\n",
    "unique_values_col1 = set(df_car['network_username'])\n",
    "unique_values_col2 = set(df_fund['network_username'])\n",
    "unique_values_col3 = set(df_ppl['network_username'])\n",
    "\n",
    "# Пересечение уникальных значений\n",
    "intersection = unique_values_col1.intersection(unique_values_col2)\n",
    "intersection2 = unique_values_col1.intersection(unique_values_col3)\n",
    "intersection3 = unique_values_col2.intersection(unique_values_col3)\n",
    "# Количество пересекающихся значений\n",
    "num_intersecting = len(intersection)\n",
    "num_intersecting2 = len(intersection2)\n",
    "num_intersecting3 = len(intersection3)\n",
    "# Общее количество уникальных значений в обоих столбцах\n",
    "total_unique = len(unique_values_col1) + len(unique_values_col2)\n",
    "total_unique2 = len(unique_values_col1) + len(unique_values_col3)\n",
    "total_unique3 = len(unique_values_col2) + len(unique_values_col3)\n",
    "# Процент повторяющихся значений\n",
    "percent_repeating = num_intersecting / total_unique * 100\n",
    "percent_repeating2 = num_intersecting2 / total_unique2 * 100\n",
    "percent_repeating3 = num_intersecting3 / total_unique3 * 100\n",
    "print(f'Процент повторяющихся значений car и fund: {percent_repeating:.2f}%')\n",
    "print(f'Процент повторяющихся значений car и ppl: {percent_repeating2:.2f}%')\n",
    "print(f'Процент повторяющихся значений fund и ppl: {percent_repeating3:.2f}%')"
   ]
  },
  {
   "cell_type": "markdown",
   "metadata": {
    "id": "CilOkz-inz37"
   },
   "source": [
    "**Вывод:** <br >По-моему мнению процент совпадающих значений по столбцу network_username крайне мал менее 2% совпадающих значений, чтобы его использовать для merge."
   ]
  },
  {
   "cell_type": "markdown",
   "metadata": {
    "id": "EHcODomVrJg1"
   },
   "source": [
    "\n",
    "### 2.4. Проблемный датасет и причина возникновения пропусков\n",
    "\n",
    "Во время собственного анализа данных у заказчика больше всего вопросов возникло к датасету `company_and_rounds.csv`. В нём много пропусков как раз в информации о раундах, которая заказчику важна. Хотя информация об общем объёме финансирования по раундам присутствует в других датасетах, заказчик считает данные `company_and_rounds.csv` о размере средств наиболее верными.\n",
    "\n",
    "* Любым удобным способом приведите данные в вид, который позволяет проводить анализ в разрезе отдельных компаний. Можно изменять форму данных, порядок их хранения. Обратите внимание на структуру датасета, порядок и названия столбцов, проанализируйте значения.\n",
    "\n",
    "По гипотезе заказчика данные по компаниям из этой таблицы раньше хранились иначе, более удобным для исследования образом.\n",
    "\n",
    "* Максимальным образом сохраняя данные, сохранив их связность и исключив возможные возникающие при этом ошибки, подготовьте данные так, чтобы удобно было отобрать компании по параметрам и рассчитать показатели из расчёта на одну компанию."
   ]
  },
  {
   "cell_type": "code",
   "execution_count": 262,
   "metadata": {},
   "outputs": [],
   "source": [
    "df_car['raised_amount']=pd.to_numeric(df_car['raised_amount'])\n",
    "df_car['pre_money_valuation']=pd.to_numeric(df_car['pre_money_valuation'])\n",
    "df_car['participants']=pd.to_numeric(df_car['participants'])"
   ]
  },
  {
   "cell_type": "code",
   "execution_count": 263,
   "metadata": {},
   "outputs": [
    {
     "data": {
      "text/plain": [
       "Index(['company_ID', 'name', 'category_code', 'status', 'founded_at',\n",
       "       'closed_at', 'domain', 'network_username', 'country_code',\n",
       "       'investment_rounds', 'funding_rounds', 'funding_total', 'milestones',\n",
       "       'funding_round_id', 'company_id', 'funded_at', 'funding_round_type',\n",
       "       'raised_amount', 'pre_money_valuation', 'participants',\n",
       "       'is_first_round', 'is_last_round', 'funded_year'],\n",
       "      dtype='object')"
      ]
     },
     "execution_count": 263,
     "metadata": {},
     "output_type": "execute_result"
    }
   ],
   "source": [
    "df_car.columns"
   ]
  },
  {
   "cell_type": "code",
   "execution_count": 264,
   "metadata": {},
   "outputs": [],
   "source": [
    "df_comp=df_car[['company_ID', 'name', 'category_code', 'status', 'founded_at',\n",
    "       'closed_at', 'domain', 'network_username', 'country_code', 'investment_rounds', 'funding_rounds', 'funding_total', 'milestones']].copy()"
   ]
  },
  {
   "cell_type": "code",
   "execution_count": 265,
   "metadata": {},
   "outputs": [
    {
     "data": {
      "text/html": [
       "<div>\n",
       "<style scoped>\n",
       "    .dataframe tbody tr th:only-of-type {\n",
       "        vertical-align: middle;\n",
       "    }\n",
       "\n",
       "    .dataframe tbody tr th {\n",
       "        vertical-align: top;\n",
       "    }\n",
       "\n",
       "    .dataframe thead th {\n",
       "        text-align: right;\n",
       "    }\n",
       "</style>\n",
       "<table border=\"1\" class=\"dataframe\">\n",
       "  <thead>\n",
       "    <tr style=\"text-align: right;\">\n",
       "      <th></th>\n",
       "      <th>company_ID</th>\n",
       "      <th>name</th>\n",
       "      <th>category_code</th>\n",
       "      <th>status</th>\n",
       "      <th>founded_at</th>\n",
       "      <th>closed_at</th>\n",
       "      <th>domain</th>\n",
       "      <th>network_username</th>\n",
       "      <th>country_code</th>\n",
       "      <th>investment_rounds</th>\n",
       "      <th>funding_rounds</th>\n",
       "      <th>funding_total</th>\n",
       "      <th>milestones</th>\n",
       "    </tr>\n",
       "  </thead>\n",
       "  <tbody>\n",
       "    <tr>\n",
       "      <th>0</th>\n",
       "      <td>1.0</td>\n",
       "      <td>Wetpaint</td>\n",
       "      <td>web</td>\n",
       "      <td>operating</td>\n",
       "      <td>2005-10-17</td>\n",
       "      <td>NaT</td>\n",
       "      <td>wetpaint-inc.com</td>\n",
       "      <td>BachelrWetpaint</td>\n",
       "      <td>USA</td>\n",
       "      <td>0.0</td>\n",
       "      <td>3.0</td>\n",
       "      <td>39750000.0</td>\n",
       "      <td>5.0</td>\n",
       "    </tr>\n",
       "    <tr>\n",
       "      <th>1</th>\n",
       "      <td>1.0</td>\n",
       "      <td>Wetpaint</td>\n",
       "      <td>web</td>\n",
       "      <td>operating</td>\n",
       "      <td>2005-10-17</td>\n",
       "      <td>NaT</td>\n",
       "      <td>wetpaint-inc.com</td>\n",
       "      <td>BachelrWetpaint</td>\n",
       "      <td>USA</td>\n",
       "      <td>0.0</td>\n",
       "      <td>3.0</td>\n",
       "      <td>39750000.0</td>\n",
       "      <td>5.0</td>\n",
       "    </tr>\n",
       "    <tr>\n",
       "      <th>2</th>\n",
       "      <td>1.0</td>\n",
       "      <td>Wetpaint</td>\n",
       "      <td>web</td>\n",
       "      <td>operating</td>\n",
       "      <td>2005-10-17</td>\n",
       "      <td>NaT</td>\n",
       "      <td>wetpaint-inc.com</td>\n",
       "      <td>BachelrWetpaint</td>\n",
       "      <td>USA</td>\n",
       "      <td>0.0</td>\n",
       "      <td>3.0</td>\n",
       "      <td>39750000.0</td>\n",
       "      <td>5.0</td>\n",
       "    </tr>\n",
       "    <tr>\n",
       "      <th>3</th>\n",
       "      <td>10.0</td>\n",
       "      <td>Flektor</td>\n",
       "      <td>games_video</td>\n",
       "      <td>acquired</td>\n",
       "      <td>NaT</td>\n",
       "      <td>NaT</td>\n",
       "      <td>flektor.com</td>\n",
       "      <td>NaN</td>\n",
       "      <td>USA</td>\n",
       "      <td>0.0</td>\n",
       "      <td>0.0</td>\n",
       "      <td>0.0</td>\n",
       "      <td>0.0</td>\n",
       "    </tr>\n",
       "    <tr>\n",
       "      <th>4</th>\n",
       "      <td>100.0</td>\n",
       "      <td>There</td>\n",
       "      <td>games_video</td>\n",
       "      <td>acquired</td>\n",
       "      <td>NaT</td>\n",
       "      <td>NaT</td>\n",
       "      <td>there.com</td>\n",
       "      <td>NaN</td>\n",
       "      <td>USA</td>\n",
       "      <td>0.0</td>\n",
       "      <td>0.0</td>\n",
       "      <td>0.0</td>\n",
       "      <td>4.0</td>\n",
       "    </tr>\n",
       "  </tbody>\n",
       "</table>\n",
       "</div>"
      ],
      "text/plain": [
       "   company_ID      name category_code     status founded_at closed_at  \\\n",
       "0         1.0  Wetpaint           web  operating 2005-10-17       NaT   \n",
       "1         1.0  Wetpaint           web  operating 2005-10-17       NaT   \n",
       "2         1.0  Wetpaint           web  operating 2005-10-17       NaT   \n",
       "3        10.0   Flektor   games_video   acquired        NaT       NaT   \n",
       "4       100.0     There   games_video   acquired        NaT       NaT   \n",
       "\n",
       "             domain network_username country_code  investment_rounds  \\\n",
       "0  wetpaint-inc.com  BachelrWetpaint          USA                0.0   \n",
       "1  wetpaint-inc.com  BachelrWetpaint          USA                0.0   \n",
       "2  wetpaint-inc.com  BachelrWetpaint          USA                0.0   \n",
       "3       flektor.com              NaN          USA                0.0   \n",
       "4         there.com              NaN          USA                0.0   \n",
       "\n",
       "   funding_rounds  funding_total  milestones  \n",
       "0             3.0     39750000.0         5.0  \n",
       "1             3.0     39750000.0         5.0  \n",
       "2             3.0     39750000.0         5.0  \n",
       "3             0.0            0.0         0.0  \n",
       "4             0.0            0.0         4.0  "
      ]
     },
     "execution_count": 265,
     "metadata": {},
     "output_type": "execute_result"
    }
   ],
   "source": [
    "df_comp.head()"
   ]
  },
  {
   "cell_type": "code",
   "execution_count": 266,
   "metadata": {},
   "outputs": [],
   "source": [
    "df_round=df_car[['funding_round_id', 'company_id', 'funded_at', 'funding_round_type',\n",
    "       'raised_amount', 'pre_money_valuation', 'participants',\n",
    "       'is_first_round', 'is_last_round', 'funded_year']].copy()"
   ]
  },
  {
   "cell_type": "code",
   "execution_count": 267,
   "metadata": {},
   "outputs": [
    {
     "data": {
      "text/plain": [
       "'Количество явных дубликатов в df_comp 21220 и относительное количество явных дубликатов 0.097'"
      ]
     },
     "metadata": {},
     "output_type": "display_data"
    },
    {
     "data": {
      "text/plain": [
       "'Количество явных дубликатов в df_round 164845 и относительное количество явных дубликатов 0.757'"
      ]
     },
     "metadata": {},
     "output_type": "display_data"
    }
   ],
   "source": [
    "#Подсчет количества явных пропусков \n",
    "display(f'Количество явных дубликатов в df_comp {df_comp.duplicated(keep=\"last\").sum()} и относительное количество явных дубликатов {round(df_comp.duplicated(keep=\"last\").sum()/len(df_comp),3)}')\n",
    "display(f'Количество явных дубликатов в df_round {df_round.duplicated(keep=\"last\").sum()} и относительное количество явных дубликатов {round(df_round.duplicated(keep=\"last\").sum()/len(df_round),3)}')"
   ]
  },
  {
   "cell_type": "code",
   "execution_count": 268,
   "metadata": {},
   "outputs": [],
   "source": [
    "#Удаление явных дубликатов\n",
    "df_comp.drop_duplicates(inplace=True)\n",
    "df_round.drop_duplicates(inplace=True)"
   ]
  },
  {
   "cell_type": "code",
   "execution_count": 269,
   "metadata": {},
   "outputs": [
    {
     "name": "stdout",
     "output_type": "stream",
     "text": [
      "<class 'pandas.core.frame.DataFrame'>\n",
      "Index: 196554 entries, 0 to 217472\n",
      "Data columns (total 13 columns):\n",
      " #   Column             Non-Null Count   Dtype         \n",
      "---  ------             --------------   -----         \n",
      " 0   company_ID         196553 non-null  float64       \n",
      " 1   name               196552 non-null  object        \n",
      " 2   category_code      123186 non-null  object        \n",
      " 3   status             196553 non-null  object        \n",
      " 4   founded_at         91227 non-null   datetime64[ns]\n",
      " 5   closed_at          2620 non-null    datetime64[ns]\n",
      " 6   domain             126545 non-null  object        \n",
      " 7   network_username   80591 non-null   object        \n",
      " 8   country_code       87990 non-null   object        \n",
      " 9   investment_rounds  196553 non-null  float64       \n",
      " 10  funding_rounds     196553 non-null  float64       \n",
      " 11  funding_total      196553 non-null  float64       \n",
      " 12  milestones         196553 non-null  float64       \n",
      "dtypes: datetime64[ns](2), float64(5), object(6)\n",
      "memory usage: 21.0+ MB\n"
     ]
    },
    {
     "data": {
      "text/plain": [
       "None"
      ]
     },
     "metadata": {},
     "output_type": "display_data"
    }
   ],
   "source": [
    "display(df_comp.info())"
   ]
  },
  {
   "cell_type": "code",
   "execution_count": 270,
   "metadata": {},
   "outputs": [
    {
     "name": "stdout",
     "output_type": "stream",
     "text": [
      "<class 'pandas.core.frame.DataFrame'>\n",
      "Index: 52929 entries, 0 to 217773\n",
      "Data columns (total 10 columns):\n",
      " #   Column               Non-Null Count  Dtype         \n",
      "---  ------               --------------  -----         \n",
      " 0   funding_round_id     52928 non-null  float64       \n",
      " 1   company_id           52928 non-null  float64       \n",
      " 2   funded_at            52680 non-null  datetime64[ns]\n",
      " 3   funding_round_type   52928 non-null  object        \n",
      " 4   raised_amount        52928 non-null  float64       \n",
      " 5   pre_money_valuation  52928 non-null  float64       \n",
      " 6   participants         52928 non-null  float64       \n",
      " 7   is_first_round       52928 non-null  float64       \n",
      " 8   is_last_round        52928 non-null  float64       \n",
      " 9   funded_year          52680 non-null  float64       \n",
      "dtypes: datetime64[ns](1), float64(8), object(1)\n",
      "memory usage: 4.4+ MB\n"
     ]
    },
    {
     "data": {
      "text/plain": [
       "None"
      ]
     },
     "metadata": {},
     "output_type": "display_data"
    }
   ],
   "source": [
    "display(df_round.info())"
   ]
  },
  {
   "cell_type": "markdown",
   "metadata": {},
   "source": [
    "**Вывод**: По новому датасету компании была удалена информации по нескольким раундам финансирования и собран в отдельный датафрейм компании с информацией их характеризующий. \n",
    "<br> По раундам есть полная информация только по 1/4 из них и она представлена в таблице. Такой большой объемп пропусков без потери информации не восполнить.    "
   ]
  },
  {
   "cell_type": "markdown",
   "metadata": {
    "id": "bmVYhphNrJg2"
   },
   "source": [
    "\n",
    "## Шаг 3. Исследовательский анализ объединённых таблиц\n",
    "\n",
    "<big>Приступите к шагу 3 после проверки ревьюера.</big>"
   ]
  },
  {
   "cell_type": "markdown",
   "metadata": {
    "id": "3Di6tCT3rJg2"
   },
   "source": [
    "\n",
    "### 3.1. Объединение данных\n",
    "\n",
    "Объедините данные для ответа на вопросы заказчика, которые касаются интересующих его компаний.\n",
    "\n",
    "В качестве основы для объединённой таблицы возьмите данные из обработанного датасета `company_and_rounds.csv` — выберите только те компании, у которых указаны значения `funding_rounds` или `investment_rounds` больше нуля, и те, у которых в колонке `status` указано `acquired`.\n",
    "\n",
    "Далее работайте только с этими данными."
   ]
  },
  {
   "cell_type": "code",
   "execution_count": 274,
   "metadata": {
    "id": "mGYqoHS7rJg2"
   },
   "outputs": [],
   "source": [
    "# Формируем датасет\n",
    "df_res=df_comp[(df_comp['funding_rounds']>0)|(df_comp['investment_rounds']>0)|(df_comp['status']=='acquired')].copy()"
   ]
  },
  {
   "cell_type": "markdown",
   "metadata": {
    "id": "DFHINkV3rJg2"
   },
   "source": [
    "\n",
    "### 3.2. Анализ выбросов\n",
    "\n",
    "Заказчика интересует обычный для рассматриваемого периода размер средств, который предоставлялся компаниям.\n",
    "\n",
    "* По предобработанному столбцу `funding_total` графическим способом оцените, какой размер общего финансирования для одной компании будет типичным, а какой — выбивающимся.\n",
    "\n",
    "* В процессе расчёта значений обратите внимание, например, на показатели, возвращаемые методом `.describe()`, — объясните их. Применимы ли к таким данным обычные способы нахождения типичных значений?"
   ]
  },
  {
   "cell_type": "code",
   "execution_count": 276,
   "metadata": {
    "id": "8jm75fKXrJg2"
   },
   "outputs": [
    {
     "data": {
      "text/plain": [
       "[Text(0.5, 1.0, 'Ящик с усами по finding_total'),\n",
       " Text(0.5, 0, 'Значения funding_total')]"
      ]
     },
     "execution_count": 276,
     "metadata": {},
     "output_type": "execute_result"
    },
    {
     "data": {
      "image/png": "[encoded data removed]",
      "text/plain": [
       "<Figure size 640x480 with 1 Axes>"
      ]
     },
     "metadata": {},
     "output_type": "display_data"
    }
   ],
   "source": [
    "sns.boxplot(x=df_res[\"funding_total\"], showfliers = False).set(title='Ящик с усами по finding_total', xlabel='Значения funding_total')"
   ]
  },
  {
   "cell_type": "code",
   "execution_count": 277,
   "metadata": {
    "id": "dIWqyEomn2MU"
   },
   "outputs": [
    {
     "data": {
      "text/html": [
       "<div>\n",
       "<style scoped>\n",
       "    .dataframe tbody tr th:only-of-type {\n",
       "        vertical-align: middle;\n",
       "    }\n",
       "\n",
       "    .dataframe tbody tr th {\n",
       "        vertical-align: top;\n",
       "    }\n",
       "\n",
       "    .dataframe thead th {\n",
       "        text-align: right;\n",
       "    }\n",
       "</style>\n",
       "<table border=\"1\" class=\"dataframe\">\n",
       "  <thead>\n",
       "    <tr style=\"text-align: right;\">\n",
       "      <th></th>\n",
       "      <th>company_ID</th>\n",
       "      <th>founded_at</th>\n",
       "      <th>closed_at</th>\n",
       "      <th>investment_rounds</th>\n",
       "      <th>funding_rounds</th>\n",
       "      <th>funding_total</th>\n",
       "      <th>milestones</th>\n",
       "    </tr>\n",
       "  </thead>\n",
       "  <tbody>\n",
       "    <tr>\n",
       "      <th>count</th>\n",
       "      <td>40747.00000</td>\n",
       "      <td>27807.00000</td>\n",
       "      <td>2128.00000</td>\n",
       "      <td>40747.00000</td>\n",
       "      <td>40747.00000</td>\n",
       "      <td>40747.00000</td>\n",
       "      <td>40747.00000</td>\n",
       "    </tr>\n",
       "    <tr>\n",
       "      <th>mean</th>\n",
       "      <td>110555.89614</td>\n",
       "      <td>.5f</td>\n",
       "      <td>.5f</td>\n",
       "      <td>0.15083</td>\n",
       "      <td>1.29153</td>\n",
       "      <td>10135609.63673</td>\n",
       "      <td>0.80315</td>\n",
       "    </tr>\n",
       "    <tr>\n",
       "      <th>min</th>\n",
       "      <td>1.00000</td>\n",
       "      <td>.5f</td>\n",
       "      <td>.5f</td>\n",
       "      <td>0.00000</td>\n",
       "      <td>0.00000</td>\n",
       "      <td>0.00000</td>\n",
       "      <td>0.00000</td>\n",
       "    </tr>\n",
       "    <tr>\n",
       "      <th>25%</th>\n",
       "      <td>33863.50000</td>\n",
       "      <td>.5f</td>\n",
       "      <td>.5f</td>\n",
       "      <td>0.00000</td>\n",
       "      <td>1.00000</td>\n",
       "      <td>0.00000</td>\n",
       "      <td>0.00000</td>\n",
       "    </tr>\n",
       "    <tr>\n",
       "      <th>50%</th>\n",
       "      <td>69583.00000</td>\n",
       "      <td>.5f</td>\n",
       "      <td>.5f</td>\n",
       "      <td>0.00000</td>\n",
       "      <td>1.00000</td>\n",
       "      <td>600000.00000</td>\n",
       "      <td>1.00000</td>\n",
       "    </tr>\n",
       "    <tr>\n",
       "      <th>75%</th>\n",
       "      <td>184744.50000</td>\n",
       "      <td>.5f</td>\n",
       "      <td>.5f</td>\n",
       "      <td>0.00000</td>\n",
       "      <td>2.00000</td>\n",
       "      <td>5650650.00000</td>\n",
       "      <td>1.00000</td>\n",
       "    </tr>\n",
       "    <tr>\n",
       "      <th>max</th>\n",
       "      <td>286215.00000</td>\n",
       "      <td>.5f</td>\n",
       "      <td>.5f</td>\n",
       "      <td>478.00000</td>\n",
       "      <td>15.00000</td>\n",
       "      <td>5700000000.00000</td>\n",
       "      <td>9.00000</td>\n",
       "    </tr>\n",
       "    <tr>\n",
       "      <th>std</th>\n",
       "      <td>90388.07011</td>\n",
       "      <td>nan</td>\n",
       "      <td>nan</td>\n",
       "      <td>3.12329</td>\n",
       "      <td>1.26460</td>\n",
       "      <td>56464359.97726</td>\n",
       "      <td>1.00343</td>\n",
       "    </tr>\n",
       "  </tbody>\n",
       "</table>\n",
       "</div>"
      ],
      "text/plain": [
       "         company_ID   founded_at   closed_at investment_rounds funding_rounds  \\\n",
       "count   40747.00000  27807.00000  2128.00000       40747.00000    40747.00000   \n",
       "mean   110555.89614          .5f         .5f           0.15083        1.29153   \n",
       "min         1.00000          .5f         .5f           0.00000        0.00000   \n",
       "25%     33863.50000          .5f         .5f           0.00000        1.00000   \n",
       "50%     69583.00000          .5f         .5f           0.00000        1.00000   \n",
       "75%    184744.50000          .5f         .5f           0.00000        2.00000   \n",
       "max    286215.00000          .5f         .5f         478.00000       15.00000   \n",
       "std     90388.07011          nan         nan           3.12329        1.26460   \n",
       "\n",
       "          funding_total   milestones  \n",
       "count       40747.00000  40747.00000  \n",
       "mean     10135609.63673      0.80315  \n",
       "min             0.00000      0.00000  \n",
       "25%             0.00000      0.00000  \n",
       "50%        600000.00000      1.00000  \n",
       "75%       5650650.00000      1.00000  \n",
       "max    5700000000.00000      9.00000  \n",
       "std      56464359.97726      1.00343  "
      ]
     },
     "execution_count": 277,
     "metadata": {},
     "output_type": "execute_result"
    }
   ],
   "source": [
    "df_res.describe().apply(lambda s: s.apply('{0:.5f}'.format))"
   ]
  },
  {
   "cell_type": "code",
   "execution_count": 278,
   "metadata": {},
   "outputs": [
    {
     "data": {
      "text/html": [
       "<div>\n",
       "<style scoped>\n",
       "    .dataframe tbody tr th:only-of-type {\n",
       "        vertical-align: middle;\n",
       "    }\n",
       "\n",
       "    .dataframe tbody tr th {\n",
       "        vertical-align: top;\n",
       "    }\n",
       "\n",
       "    .dataframe thead th {\n",
       "        text-align: right;\n",
       "    }\n",
       "</style>\n",
       "<table border=\"1\" class=\"dataframe\">\n",
       "  <thead>\n",
       "    <tr style=\"text-align: right;\">\n",
       "      <th></th>\n",
       "      <th>company_ID</th>\n",
       "      <th>founded_at</th>\n",
       "      <th>closed_at</th>\n",
       "      <th>investment_rounds</th>\n",
       "      <th>funding_rounds</th>\n",
       "      <th>funding_total</th>\n",
       "      <th>milestones</th>\n",
       "    </tr>\n",
       "  </thead>\n",
       "  <tbody>\n",
       "    <tr>\n",
       "      <th>count</th>\n",
       "      <td>25837.00000</td>\n",
       "      <td>20083.00000</td>\n",
       "      <td>1696.00000</td>\n",
       "      <td>25837.00000</td>\n",
       "      <td>25837.00000</td>\n",
       "      <td>25837.00000</td>\n",
       "      <td>25837.00000</td>\n",
       "    </tr>\n",
       "    <tr>\n",
       "      <th>mean</th>\n",
       "      <td>119025.71030</td>\n",
       "      <td>.5f</td>\n",
       "      <td>.5f</td>\n",
       "      <td>0.06166</td>\n",
       "      <td>1.60065</td>\n",
       "      <td>6222841.65995</td>\n",
       "      <td>0.85056</td>\n",
       "    </tr>\n",
       "    <tr>\n",
       "      <th>min</th>\n",
       "      <td>1.00000</td>\n",
       "      <td>.5f</td>\n",
       "      <td>.5f</td>\n",
       "      <td>0.00000</td>\n",
       "      <td>1.00000</td>\n",
       "      <td>291.00000</td>\n",
       "      <td>0.00000</td>\n",
       "    </tr>\n",
       "    <tr>\n",
       "      <th>25%</th>\n",
       "      <td>39196.00000</td>\n",
       "      <td>.5f</td>\n",
       "      <td>.5f</td>\n",
       "      <td>0.00000</td>\n",
       "      <td>1.00000</td>\n",
       "      <td>495000.00000</td>\n",
       "      <td>0.00000</td>\n",
       "    </tr>\n",
       "    <tr>\n",
       "      <th>50%</th>\n",
       "      <td>78601.00000</td>\n",
       "      <td>.5f</td>\n",
       "      <td>.5f</td>\n",
       "      <td>0.00000</td>\n",
       "      <td>1.00000</td>\n",
       "      <td>2000000.00000</td>\n",
       "      <td>1.00000</td>\n",
       "    </tr>\n",
       "    <tr>\n",
       "      <th>75%</th>\n",
       "      <td>197021.00000</td>\n",
       "      <td>.5f</td>\n",
       "      <td>.5f</td>\n",
       "      <td>0.00000</td>\n",
       "      <td>2.00000</td>\n",
       "      <td>8000000.00000</td>\n",
       "      <td>1.00000</td>\n",
       "    </tr>\n",
       "    <tr>\n",
       "      <th>max</th>\n",
       "      <td>286215.00000</td>\n",
       "      <td>.5f</td>\n",
       "      <td>.5f</td>\n",
       "      <td>478.00000</td>\n",
       "      <td>15.00000</td>\n",
       "      <td>43500000.00000</td>\n",
       "      <td>9.00000</td>\n",
       "    </tr>\n",
       "    <tr>\n",
       "      <th>std</th>\n",
       "      <td>92307.02103</td>\n",
       "      <td>nan</td>\n",
       "      <td>nan</td>\n",
       "      <td>3.66278</td>\n",
       "      <td>1.02812</td>\n",
       "      <td>9040601.98468</td>\n",
       "      <td>1.00085</td>\n",
       "    </tr>\n",
       "  </tbody>\n",
       "</table>\n",
       "</div>"
      ],
      "text/plain": [
       "         company_ID   founded_at   closed_at investment_rounds funding_rounds  \\\n",
       "count   25837.00000  20083.00000  1696.00000       25837.00000    25837.00000   \n",
       "mean   119025.71030          .5f         .5f           0.06166        1.60065   \n",
       "min         1.00000          .5f         .5f           0.00000        1.00000   \n",
       "25%     39196.00000          .5f         .5f           0.00000        1.00000   \n",
       "50%     78601.00000          .5f         .5f           0.00000        1.00000   \n",
       "75%    197021.00000          .5f         .5f           0.00000        2.00000   \n",
       "max    286215.00000          .5f         .5f         478.00000       15.00000   \n",
       "std     92307.02103          nan         nan           3.66278        1.02812   \n",
       "\n",
       "        funding_total   milestones  \n",
       "count     25837.00000  25837.00000  \n",
       "mean    6222841.65995      0.85056  \n",
       "min         291.00000      0.00000  \n",
       "25%      495000.00000      0.00000  \n",
       "50%     2000000.00000      1.00000  \n",
       "75%     8000000.00000      1.00000  \n",
       "max    43500000.00000      9.00000  \n",
       "std     9040601.98468      1.00085  "
      ]
     },
     "execution_count": 278,
     "metadata": {},
     "output_type": "execute_result"
    }
   ],
   "source": [
    "df_res[(df_res['funding_total']>0)&(df_res['funding_total']<=df_res['funding_total'].quantile(0.95))].describe().apply(lambda s: s.apply('{0:.5f}'.format))"
   ]
  },
  {
   "cell_type": "code",
   "execution_count": 279,
   "metadata": {},
   "outputs": [
    {
     "data": {
      "text/plain": [
       "[Text(0.5, 1.0, 'Гистограмма funding_total'),\n",
       " Text(0.5, 0, 'Значения funding_total'),\n",
       " Text(0, 0.5, 'Количество стартапов')]"
      ]
     },
     "execution_count": 279,
     "metadata": {},
     "output_type": "execute_result"
    },
    {
     "data": {
      "image/png": "[encoded data removed]",
      "text/plain": [
       "<Figure size 640x480 with 1 Axes>"
      ]
     },
     "metadata": {},
     "output_type": "display_data"
    }
   ],
   "source": [
    "df_res[(df_res['funding_total']>0)&(df_res['funding_total']<=df_res['funding_total'].quantile(0.95))].funding_total.hist().set(title='Гистограмма funding_total', xlabel='Значения funding_total', ylabel='Количество стартапов')"
   ]
  },
  {
   "cell_type": "markdown",
   "metadata": {},
   "source": [
    "**Вывод** Визуальным анализом пришли, что значения по funding_total брать в интервале от (0, 15 000 000). Получаются достаточно ровные значения на 25% квартиле 485 000, 50% квартиле 2 000 000, 75% квартиле 8 000 000. При этом хорошо выравнивалось среднее-медиана, в исходном датасете 10 135 609- 600 000 , а в отредактированном 6 222 841 - 2 000 000  "
   ]
  },
  {
   "cell_type": "markdown",
   "metadata": {
    "id": "JqkRAQrIrJg2"
   },
   "source": [
    "\n",
    "### 3.3. Куплены забесплатно?\n",
    "\n",
    "* Исследуйте компании, которые были проданы за ноль или за один доллар, и при этом известно, что у них был ненулевой общий объём финансирования.\n",
    "\n",
    "* Рассчитайте аналитически верхнюю и нижнюю границу выбросов для столбца `funding_total` и укажите, каким процентилям границы соответствуют. Учитывая озвученные выше предпосылки и собственные соображения, сделайте выводы о корректности планируемой заказчиком замены нижней и верхней границы выбросов на значения, рассчитанные по процентилям."
   ]
  },
  {
   "cell_type": "code",
   "execution_count": 282,
   "metadata": {
    "id": "wJHXCBwwrJg2"
   },
   "outputs": [],
   "source": [
    "df_cheap=df_res.merge(df_acq, left_on='company_ID', right_on='acquired_company_id', how='left')"
   ]
  },
  {
   "cell_type": "code",
   "execution_count": 283,
   "metadata": {
    "id": "-kA4CO27n2ql"
   },
   "outputs": [],
   "source": [
    "df_dollar=df_cheap[((df_cheap['price_amount']==0)&(df_cheap['funding_total']>0))|((df_cheap['price_amount']==1)&(df_cheap['funding_total']>0))]"
   ]
  },
  {
   "cell_type": "code",
   "execution_count": 284,
   "metadata": {},
   "outputs": [
    {
     "data": {
      "text/plain": [
       "(1618, 19)"
      ]
     },
     "execution_count": 284,
     "metadata": {},
     "output_type": "execute_result"
    }
   ],
   "source": [
    "df_dollar.shape"
   ]
  },
  {
   "cell_type": "code",
   "execution_count": 285,
   "metadata": {},
   "outputs": [],
   "source": [
    "''' Вычисление '''\n",
    "# IQR\n",
    "# Вычисляем 25% и 75% квантиль распределения для расчета верхней и нижней границы.\n",
    "Q1 = df_dollar[\"funding_total\"].quantile(0.25)\n",
    "Q3 = df_dollar[\"funding_total\"].quantile(0.75)\n",
    "IQR = Q3 - Q1\n",
    "lower = Q1 - 1.5*IQR\n",
    "upper = Q3 + 1.5*IQR"
   ]
  },
  {
   "cell_type": "code",
   "execution_count": 286,
   "metadata": {},
   "outputs": [
    {
     "data": {
      "text/plain": [
       "'Нижняя граница ниже нее выбросы -18250000.0'"
      ]
     },
     "metadata": {},
     "output_type": "display_data"
    },
    {
     "data": {
      "text/plain": [
       "'Верхняя граница выше нее выбросы 35750000.0'"
      ]
     },
     "metadata": {},
     "output_type": "display_data"
    }
   ],
   "source": [
    "display(f'Нижняя граница ниже нее выбросы {lower}')\n",
    "display(f'Верхняя граница выше нее выбросы {upper}')"
   ]
  },
  {
   "cell_type": "code",
   "execution_count": 287,
   "metadata": {},
   "outputs": [],
   "source": [
    "# Объединяем значения в один\n",
    "combined_list=[]\n",
    "combined_list.append(lower)\n",
    "combined_list.append(upper)\n",
    "\n",
    "# Создаем датафрейм с одним столбцом\n",
    "df_c = pd.DataFrame({'Combined': combined_list})"
   ]
  },
  {
   "cell_type": "code",
   "execution_count": 288,
   "metadata": {},
   "outputs": [
    {
     "data": {
      "text/plain": [
       "0     0.00000\n",
       "1    90.91471\n",
       "Name: Combined, dtype: float64"
      ]
     },
     "execution_count": 288,
     "metadata": {},
     "output_type": "execute_result"
    }
   ],
   "source": [
    "df_c[\"Combined\"].apply(lambda x: stats.percentileofscore(df_dollar[\"funding_total\"], x, kind = 'weak'))"
   ]
  },
  {
   "cell_type": "markdown",
   "metadata": {},
   "source": [
    "**Вывод**: В качестве меры на отсечение выбросов были выбраны границы межквартильного размаха верхняя и нижняя граница, после для них было вычислено значение квартиля, которому они соотвествуют нижняя 0 квартилю, верхняя 90,91 квартилю.  "
   ]
  },
  {
   "cell_type": "markdown",
   "metadata": {
    "id": "mEiWpROjrJg2"
   },
   "source": [
    "\n",
    "### 3.4. Цены стартапов по категориям\n",
    "\n",
    "Категории стартапов с наибольшими ценами и значительным разбросом цен могут быть наиболее привлекательными для крупных инвесторов, которые готовы к высоким рискам ради потенциально больших доходов. Среди категорий стартапов выделите категории стартапов, характеризующиеся:\n",
    "\n",
    "* наибольшими ценами;\n",
    "* и наибольшим разбросом цен за стартап.\n",
    "\n",
    "Объясните, почему решили составить топ именно из такого числа категорий и почему рассчитывали именно так."
   ]
  },
  {
   "cell_type": "code",
   "execution_count": 291,
   "metadata": {
    "id": "jQ09dYUWrJg2"
   },
   "outputs": [],
   "source": [
    "df_top=df_cheap.groupby('category_code').agg({'price_amount':'median'})"
   ]
  },
  {
   "cell_type": "code",
   "execution_count": 292,
   "metadata": {
    "id": "MFONscXPn29F",
    "scrolled": true
   },
   "outputs": [],
   "source": [
    "df_top['price_amount']=df_top['price_amount']/1000000"
   ]
  },
  {
   "cell_type": "code",
   "execution_count": 293,
   "metadata": {},
   "outputs": [],
   "source": [
    "df_top=df_top.rename(columns={'price_amount':'price_amount_millions'})"
   ]
  },
  {
   "cell_type": "code",
   "execution_count": 294,
   "metadata": {},
   "outputs": [
    {
     "data": {
      "image/png": "[encoded data removed]",
      "text/plain": [
       "<Figure size 1200x600 with 1 Axes>"
      ]
     },
     "metadata": {},
     "output_type": "display_data"
    }
   ],
   "source": [
    "#Построим график стартапов с наибольшими ценами\n",
    "df_top.dropna().sort_values(by='price_amount_millions').plot(kind='barh', legend=False,\n",
    "                title='Самые дорогие отрасли приобретенных стартапов в миллионах',\n",
    "                ylabel='Цена за стартап в миллионах',\n",
    "                xlabel='Топ цен по отраслям',\n",
    "                rot=0,\n",
    "                figsize=(12,6),                                             \n",
    "                color='blue')\n",
    "\n",
    "# Отображаем график\n",
    "plt.show()"
   ]
  },
  {
   "cell_type": "code",
   "execution_count": 295,
   "metadata": {},
   "outputs": [
    {
     "data": {
      "image/png": "[encoded data removed]",
      "text/plain": [
       "<Figure size 1200x600 with 1 Axes>"
      ]
     },
     "metadata": {},
     "output_type": "display_data"
    }
   ],
   "source": [
    "df_agg_gr=df_cheap.groupby('category_code').agg({'price_amount':'std'})\n",
    "df_agg_gr.dropna().sort_values(by='price_amount').plot(kind='barh', legend=False,\n",
    "                title='Стандартное отклонение цены по категории стартапов',\n",
    "                ylabel='Отклонение цены за стартап',\n",
    "                xlabel='Категории стартапов',\n",
    "                rot=0,\n",
    "                figsize=(12,6),\n",
    "                color='blue')\n",
    "\n",
    "# Отображаем график\n",
    "plt.show()"
   ]
  },
  {
   "cell_type": "markdown",
   "metadata": {},
   "source": [
    "**Вывод**: Решили взять топ из наиболее дорогих приобретенных стартапов, чтобы иметь представление о самых из самых и можно было визуализировать их на графике. <br>\n",
    "Посчитали также старндартное отклонение по категориям стартапов, выделяется на общем фоне категория enterprise, топ-3 также замыкают public relations и automotive."
   ]
  },
  {
   "cell_type": "markdown",
   "metadata": {
    "id": "ADOfyVY_rJg3"
   },
   "source": [
    "\n",
    "### 3.5. Сколько раундов продержится стартап перед покупкой\n",
    "\n",
    "* Необходимо проанализировать столбец `funding_rounds`. Исследуйте значения столбца. Заказчика интересует типичное значение количества раундов для каждого возможного статуса стартапа.\n",
    "\n",
    "* Постройте график, который отображает, сколько в среднем раундов финансирования проходило для стартапов из каждой группы. Сделайте выводы."
   ]
  },
  {
   "cell_type": "code",
   "execution_count": 298,
   "metadata": {},
   "outputs": [],
   "source": [
    "# Подсчитываем количество раундов для каждой компании\n",
    "counts = df_round['company_id'].value_counts()\n",
    "\n",
    "# Выбираем только те компании, у которых больше одного раунда\n",
    "companies_with_more_than_one_round = counts[counts >= 1].index\n",
    "\n",
    "# Фильтруем датафрейм company по выбранным компаниям\n",
    "filtered_df_company = df_comp.query(\"company_ID in @companies_with_more_than_one_round\")"
   ]
  },
  {
   "cell_type": "code",
   "execution_count": 299,
   "metadata": {},
   "outputs": [
    {
     "data": {
      "text/html": [
       "<div>\n",
       "<style scoped>\n",
       "    .dataframe tbody tr th:only-of-type {\n",
       "        vertical-align: middle;\n",
       "    }\n",
       "\n",
       "    .dataframe tbody tr th {\n",
       "        vertical-align: top;\n",
       "    }\n",
       "\n",
       "    .dataframe thead th {\n",
       "        text-align: right;\n",
       "    }\n",
       "</style>\n",
       "<table border=\"1\" class=\"dataframe\">\n",
       "  <thead>\n",
       "    <tr style=\"text-align: right;\">\n",
       "      <th></th>\n",
       "      <th>funding_rounds</th>\n",
       "    </tr>\n",
       "    <tr>\n",
       "      <th>status</th>\n",
       "      <th></th>\n",
       "    </tr>\n",
       "  </thead>\n",
       "  <tbody>\n",
       "    <tr>\n",
       "      <th>acquired</th>\n",
       "      <td>1.896645</td>\n",
       "    </tr>\n",
       "    <tr>\n",
       "      <th>closed</th>\n",
       "      <td>1.383437</td>\n",
       "    </tr>\n",
       "    <tr>\n",
       "      <th>ipo</th>\n",
       "      <td>2.526531</td>\n",
       "    </tr>\n",
       "    <tr>\n",
       "      <th>operating</th>\n",
       "      <td>1.642359</td>\n",
       "    </tr>\n",
       "  </tbody>\n",
       "</table>\n",
       "</div>"
      ],
      "text/plain": [
       "           funding_rounds\n",
       "status                   \n",
       "acquired         1.896645\n",
       "closed           1.383437\n",
       "ipo              2.526531\n",
       "operating        1.642359"
      ]
     },
     "metadata": {},
     "output_type": "display_data"
    }
   ],
   "source": [
    "display(filtered_df_company.groupby('status').agg({'funding_rounds':'mean'}))"
   ]
  },
  {
   "cell_type": "code",
   "execution_count": 300,
   "metadata": {
    "id": "hgXMPC4WrJg3"
   },
   "outputs": [
    {
     "data": {
      "image/png": "[encoded data removed]",
      "text/plain": [
       "<Figure size 640x480 with 1 Axes>"
      ]
     },
     "metadata": {},
     "output_type": "display_data"
    }
   ],
   "source": [
    "df_agg=filtered_df_company.groupby('status').agg({'funding_rounds':'mean'})\n",
    "\n",
    "df_agg.sort_values(by='funding_rounds', ascending=False).plot.bar(legend=False,\n",
    "                title='Типичное значение количества раундов для каждого возможного статуса стартапа',\n",
    "                ylabel='Количество раундов',\n",
    "                xlabel='Статусы по стартапам',\n",
    "                rot=45,\n",
    "                color='blue')\n",
    "\n",
    "# Отображаем график\n",
    "plt.show()"
   ]
  },
  {
   "cell_type": "markdown",
   "metadata": {},
   "source": [
    "**Вывод**: Наибольшее количество раундов финансирования проходит по статусу ipo 2,52, наименьше 1,32 по closed."
   ]
  },
  {
   "cell_type": "markdown",
   "metadata": {
    "id": "VAFEZ2HBrJg3"
   },
   "source": [
    "\n",
    "## Шаг 4. Итоговый вывод и рекомендации\n",
    "\n",
    "Опишите, что было сделано в проекте, какие были сделаны выводы, подкрепляют ли они друг друга или заставляют сомневаться в полученных результатах."
   ]
  },
  {
   "cell_type": "markdown",
   "metadata": {},
   "source": [
    "**Что было сделано:** \n",
    "- Загружены данные\n",
    "- Проверены на явные дубликаты\n",
    "- Преобразованы данные характеризующиеся время\n",
    "- Выделен год финансирования\n",
    "- Произведен подсчет по уровню образования в зависимости от занятости стартапа\n",
    "- Произведен анализ по поводу объединения столбцов по колонке network_username\n",
    "- Разбит на два датасета company_and_rounds\n",
    "- Исследованы выбросы и предложены границы по которым следует расссматривать уровни финансирования стартапов\n",
    "- Построена верхняя и нижняя граница финансирования для стартапов проданных за 0 или 1 доллар при ненулевом финансировании\n",
    "- Выделены топ-20 компаний по цене приобретения и отрасли с наибольшим разбросом цены за стартап\n",
    "- Проанализирована сколько раундов требуется для финансирования в завимсимости о статуса проекта\n",
    "\n",
    "**Вывод**: Есть значительное расслоение между стартапами как по стоимости приобретения, так и по общему финаснированию. По трендам до 2007 происходил рост привлеченных средств на стартапы, достигнув пика перед мировым финансовым кризисом 2008 происходит снижение до 2012 года. Данные подтверждают те процессы, которые имели место в то время, единственная озабоченность возникает в полноте отдельных датафреймов в связи с значительными пропусками.\n"
   ]
  }
 ],
 "metadata": {
  "ExecuteTimeLog": [
   {
    "duration": 510,
    "start_time": "2025-01-27T07:19:09.857Z"
   },
   {
    "duration": 970,
    "start_time": "2025-01-27T07:20:37.063Z"
   },
   {
    "duration": 2138,
    "start_time": "2025-01-27T07:25:53.257Z"
   },
   {
    "duration": 47,
    "start_time": "2025-01-27T07:26:29.341Z"
   },
   {
    "duration": 6,
    "start_time": "2025-01-27T07:26:39.045Z"
   },
   {
    "duration": 5,
    "start_time": "2025-01-27T07:27:21.685Z"
   },
   {
    "duration": 4,
    "start_time": "2025-01-27T07:28:02.351Z"
   },
   {
    "duration": 4,
    "start_time": "2025-01-27T07:28:48.230Z"
   },
   {
    "duration": 12,
    "start_time": "2025-01-27T07:31:12.881Z"
   },
   {
    "duration": 4,
    "start_time": "2025-01-27T07:31:21.313Z"
   },
   {
    "duration": 4,
    "start_time": "2025-01-27T07:32:20.488Z"
   },
   {
    "duration": 5,
    "start_time": "2025-01-27T07:33:03.535Z"
   },
   {
    "duration": 1162,
    "start_time": "2025-01-27T08:02:21.924Z"
   },
   {
    "duration": 2202,
    "start_time": "2025-01-27T08:02:23.088Z"
   },
   {
    "duration": 7,
    "start_time": "2025-01-27T08:02:25.292Z"
   },
   {
    "duration": 45,
    "start_time": "2025-01-27T08:02:25.301Z"
   },
   {
    "duration": 30,
    "start_time": "2025-01-27T08:02:25.349Z"
   },
   {
    "duration": 18,
    "start_time": "2025-01-27T08:02:25.381Z"
   },
   {
    "duration": 34,
    "start_time": "2025-01-27T08:02:25.400Z"
   },
   {
    "duration": 123,
    "start_time": "2025-01-27T08:02:25.436Z"
   },
   {
    "duration": 18,
    "start_time": "2025-01-27T08:02:25.560Z"
   },
   {
    "duration": 31,
    "start_time": "2025-01-27T08:15:44.642Z"
   },
   {
    "duration": 4,
    "start_time": "2025-01-27T08:16:07.513Z"
   },
   {
    "duration": 14,
    "start_time": "2025-01-27T08:30:23.797Z"
   },
   {
    "duration": 101,
    "start_time": "2025-01-27T08:30:57.493Z"
   },
   {
    "duration": 25,
    "start_time": "2025-01-27T08:31:49.838Z"
   },
   {
    "duration": 109,
    "start_time": "2025-01-27T08:32:14.647Z"
   },
   {
    "duration": 23,
    "start_time": "2025-01-27T08:32:20.822Z"
   },
   {
    "duration": 14,
    "start_time": "2025-01-27T08:37:26.639Z"
   },
   {
    "duration": 11,
    "start_time": "2025-01-27T08:37:58.137Z"
   },
   {
    "duration": 39,
    "start_time": "2025-01-27T08:38:32.360Z"
   },
   {
    "duration": 11,
    "start_time": "2025-01-27T08:42:26.694Z"
   },
   {
    "duration": 9,
    "start_time": "2025-01-27T08:42:53.898Z"
   },
   {
    "duration": 5,
    "start_time": "2025-01-27T08:43:04.506Z"
   },
   {
    "duration": 9,
    "start_time": "2025-01-27T08:51:24.407Z"
   },
   {
    "duration": 9,
    "start_time": "2025-01-27T08:51:36.627Z"
   },
   {
    "duration": 13,
    "start_time": "2025-01-27T08:52:16.855Z"
   },
   {
    "duration": 25,
    "start_time": "2025-01-27T08:54:18.276Z"
   },
   {
    "duration": 117,
    "start_time": "2025-01-27T08:56:09.592Z"
   },
   {
    "duration": 87,
    "start_time": "2025-01-27T08:56:30.263Z"
   },
   {
    "duration": 26,
    "start_time": "2025-01-27T08:57:09.467Z"
   },
   {
    "duration": 69,
    "start_time": "2025-01-27T08:57:39.794Z"
   },
   {
    "duration": 96,
    "start_time": "2025-01-27T08:58:23.914Z"
   },
   {
    "duration": 21,
    "start_time": "2025-01-27T09:00:36.379Z"
   },
   {
    "duration": 17,
    "start_time": "2025-01-27T09:00:59.863Z"
   },
   {
    "duration": 7,
    "start_time": "2025-01-27T09:11:17.487Z"
   },
   {
    "duration": 13,
    "start_time": "2025-01-27T09:11:26.495Z"
   },
   {
    "duration": 10,
    "start_time": "2025-01-27T09:45:19.630Z"
   },
   {
    "duration": 16,
    "start_time": "2025-01-27T09:45:33.230Z"
   },
   {
    "duration": 14,
    "start_time": "2025-01-27T09:45:52.702Z"
   },
   {
    "duration": 9,
    "start_time": "2025-01-27T09:48:36.610Z"
   },
   {
    "duration": 10,
    "start_time": "2025-01-27T09:48:42.958Z"
   },
   {
    "duration": 11,
    "start_time": "2025-01-27T09:49:30.167Z"
   },
   {
    "duration": 34,
    "start_time": "2025-01-27T09:49:42.034Z"
   },
   {
    "duration": 13,
    "start_time": "2025-01-27T09:49:46.262Z"
   },
   {
    "duration": 10,
    "start_time": "2025-01-27T09:54:40.289Z"
   },
   {
    "duration": 1171,
    "start_time": "2025-01-27T09:57:15.131Z"
   },
   {
    "duration": 1304,
    "start_time": "2025-01-27T09:59:18.171Z"
   },
   {
    "duration": 10,
    "start_time": "2025-01-27T10:10:26.281Z"
   },
   {
    "duration": 10,
    "start_time": "2025-01-27T10:11:00.383Z"
   },
   {
    "duration": 21,
    "start_time": "2025-01-27T10:14:01.352Z"
   },
   {
    "duration": 10,
    "start_time": "2025-01-27T10:14:45.770Z"
   },
   {
    "duration": 15,
    "start_time": "2025-01-27T10:15:06.913Z"
   },
   {
    "duration": 1147,
    "start_time": "2025-01-27T10:15:40.793Z"
   },
   {
    "duration": 10,
    "start_time": "2025-01-27T10:15:53.956Z"
   },
   {
    "duration": 9,
    "start_time": "2025-01-27T10:16:42.146Z"
   },
   {
    "duration": 9,
    "start_time": "2025-01-27T10:16:54.784Z"
   },
   {
    "duration": 6,
    "start_time": "2025-01-27T10:17:37.652Z"
   },
   {
    "duration": 10,
    "start_time": "2025-01-27T10:17:38.755Z"
   },
   {
    "duration": 8,
    "start_time": "2025-01-27T10:18:00.985Z"
   },
   {
    "duration": 4,
    "start_time": "2025-01-27T10:21:01.475Z"
   },
   {
    "duration": 1191,
    "start_time": "2025-01-27T10:21:08.630Z"
   },
   {
    "duration": 1118,
    "start_time": "2025-01-27T10:21:23.788Z"
   },
   {
    "duration": 1086,
    "start_time": "2025-01-27T10:23:22.416Z"
   },
   {
    "duration": 10,
    "start_time": "2025-01-27T10:28:26.237Z"
   },
   {
    "duration": 19,
    "start_time": "2025-01-27T10:28:39.133Z"
   },
   {
    "duration": 1094,
    "start_time": "2025-01-27T10:32:47.327Z"
   },
   {
    "duration": 1785,
    "start_time": "2025-01-27T10:33:24.624Z"
   },
   {
    "duration": 1074,
    "start_time": "2025-01-27T10:37:08.662Z"
   },
   {
    "duration": 10,
    "start_time": "2025-01-27T10:38:13.521Z"
   },
   {
    "duration": 1229,
    "start_time": "2025-01-27T10:39:47.219Z"
   },
   {
    "duration": 13,
    "start_time": "2025-01-27T10:41:25.941Z"
   },
   {
    "duration": 10,
    "start_time": "2025-01-27T10:41:31.931Z"
   },
   {
    "duration": 193,
    "start_time": "2025-01-27T10:41:33.679Z"
   },
   {
    "duration": 147,
    "start_time": "2025-01-27T10:59:06.433Z"
   },
   {
    "duration": 14,
    "start_time": "2025-01-27T11:37:57.065Z"
   },
   {
    "duration": 38,
    "start_time": "2025-01-27T11:38:44.632Z"
   },
   {
    "duration": 10,
    "start_time": "2025-01-27T11:41:08.673Z"
   },
   {
    "duration": 124,
    "start_time": "2025-01-27T11:41:45.635Z"
   },
   {
    "duration": 23,
    "start_time": "2025-01-27T11:41:52.435Z"
   },
   {
    "duration": 449,
    "start_time": "2025-01-27T11:43:36.642Z"
   },
   {
    "duration": 10,
    "start_time": "2025-01-27T11:44:15.211Z"
   },
   {
    "duration": 12,
    "start_time": "2025-01-27T11:45:30.140Z"
   },
   {
    "duration": 64984,
    "start_time": "2025-01-27T11:45:41.676Z"
   },
   {
    "duration": 1117,
    "start_time": "2025-01-27T11:53:44.158Z"
   },
   {
    "duration": 12,
    "start_time": "2025-01-27T11:54:05.399Z"
   },
   {
    "duration": 11,
    "start_time": "2025-01-27T11:54:07.592Z"
   },
   {
    "duration": 22,
    "start_time": "2025-01-27T12:06:40.523Z"
   },
   {
    "duration": 24,
    "start_time": "2025-01-27T12:07:06.179Z"
   },
   {
    "duration": 62,
    "start_time": "2025-01-27T12:09:57.518Z"
   },
   {
    "duration": 11,
    "start_time": "2025-01-27T12:10:32.334Z"
   },
   {
    "duration": 12,
    "start_time": "2025-01-27T12:10:54.901Z"
   },
   {
    "duration": 52,
    "start_time": "2025-01-27T12:11:27.733Z"
   },
   {
    "duration": 16,
    "start_time": "2025-01-27T12:11:43.805Z"
   },
   {
    "duration": 20,
    "start_time": "2025-01-27T12:12:20.838Z"
   },
   {
    "duration": 102,
    "start_time": "2025-01-27T12:13:23.280Z"
   },
   {
    "duration": 6609,
    "start_time": "2025-01-27T12:13:31.366Z"
   },
   {
    "duration": 15,
    "start_time": "2025-01-27T12:13:55.337Z"
   },
   {
    "duration": 14,
    "start_time": "2025-01-27T12:17:51.546Z"
   },
   {
    "duration": 10,
    "start_time": "2025-01-27T12:18:24.351Z"
   },
   {
    "duration": 11,
    "start_time": "2025-01-27T12:18:33.776Z"
   },
   {
    "duration": 20,
    "start_time": "2025-01-27T12:18:38.242Z"
   },
   {
    "duration": 17,
    "start_time": "2025-01-27T12:19:16.929Z"
   },
   {
    "duration": 15,
    "start_time": "2025-01-27T12:20:01.413Z"
   },
   {
    "duration": 6,
    "start_time": "2025-01-27T12:21:10.754Z"
   },
   {
    "duration": 14,
    "start_time": "2025-01-27T12:23:31.800Z"
   },
   {
    "duration": 6,
    "start_time": "2025-01-27T12:23:50.427Z"
   },
   {
    "duration": 14,
    "start_time": "2025-01-27T12:23:51.131Z"
   },
   {
    "duration": 84,
    "start_time": "2025-01-27T12:27:12.259Z"
   },
   {
    "duration": 34,
    "start_time": "2025-01-27T12:31:09.975Z"
   },
   {
    "duration": 82,
    "start_time": "2025-01-27T12:32:22.766Z"
   },
   {
    "duration": 25,
    "start_time": "2025-01-27T12:33:02.382Z"
   },
   {
    "duration": 10,
    "start_time": "2025-01-27T12:39:31.209Z"
   },
   {
    "duration": 35,
    "start_time": "2025-01-27T12:39:58.328Z"
   },
   {
    "duration": 1134,
    "start_time": "2025-01-27T12:54:02.420Z"
   },
   {
    "duration": 2309,
    "start_time": "2025-01-27T12:54:03.556Z"
   },
   {
    "duration": 6,
    "start_time": "2025-01-27T12:54:05.867Z"
   },
   {
    "duration": 66,
    "start_time": "2025-01-27T12:54:05.875Z"
   },
   {
    "duration": 36,
    "start_time": "2025-01-27T12:54:05.943Z"
   },
   {
    "duration": 40,
    "start_time": "2025-01-27T12:54:05.981Z"
   },
   {
    "duration": 59,
    "start_time": "2025-01-27T12:54:06.024Z"
   },
   {
    "duration": 71,
    "start_time": "2025-01-27T12:54:06.084Z"
   },
   {
    "duration": 68,
    "start_time": "2025-01-27T12:54:06.156Z"
   },
   {
    "duration": 67,
    "start_time": "2025-01-27T12:54:06.227Z"
   },
   {
    "duration": 51,
    "start_time": "2025-01-27T12:54:06.296Z"
   },
   {
    "duration": 26,
    "start_time": "2025-01-27T12:54:06.349Z"
   },
   {
    "duration": 181,
    "start_time": "2025-01-27T12:54:06.377Z"
   },
   {
    "duration": 38,
    "start_time": "2025-01-27T12:54:06.560Z"
   },
   {
    "duration": 186,
    "start_time": "2025-01-27T12:54:06.600Z"
   },
   {
    "duration": 42,
    "start_time": "2025-01-27T12:54:06.788Z"
   },
   {
    "duration": 14,
    "start_time": "2025-01-27T12:54:06.832Z"
   },
   {
    "duration": 80,
    "start_time": "2025-01-27T12:54:06.849Z"
   },
   {
    "duration": 5,
    "start_time": "2025-01-27T12:54:06.931Z"
   },
   {
    "duration": 43,
    "start_time": "2025-01-27T12:54:06.937Z"
   },
   {
    "duration": 29,
    "start_time": "2025-01-27T12:54:06.982Z"
   },
   {
    "duration": 171,
    "start_time": "2025-01-27T12:54:07.012Z"
   },
   {
    "duration": 87,
    "start_time": "2025-01-27T12:54:07.185Z"
   },
   {
    "duration": 19,
    "start_time": "2025-01-27T12:54:07.274Z"
   },
   {
    "duration": 39,
    "start_time": "2025-01-27T12:54:07.294Z"
   },
   {
    "duration": 12,
    "start_time": "2025-01-27T12:54:07.335Z"
   },
   {
    "duration": 19,
    "start_time": "2025-01-27T12:54:07.348Z"
   },
   {
    "duration": 44,
    "start_time": "2025-01-27T12:54:07.371Z"
   },
   {
    "duration": 44,
    "start_time": "2025-01-27T12:54:07.417Z"
   },
   {
    "duration": 17,
    "start_time": "2025-01-27T12:54:07.462Z"
   },
   {
    "duration": 29,
    "start_time": "2025-01-27T12:54:07.481Z"
   },
   {
    "duration": 177,
    "start_time": "2025-01-27T12:54:07.512Z"
   },
   {
    "duration": 14,
    "start_time": "2025-01-27T12:54:07.691Z"
   },
   {
    "duration": 75,
    "start_time": "2025-01-27T12:54:07.707Z"
   },
   {
    "duration": 13,
    "start_time": "2025-01-27T12:54:07.783Z"
   },
   {
    "duration": 36,
    "start_time": "2025-01-27T12:54:07.797Z"
   },
   {
    "duration": 34,
    "start_time": "2025-01-27T12:54:07.835Z"
   },
   {
    "duration": 115,
    "start_time": "2025-01-27T12:54:07.870Z"
   },
   {
    "duration": 75,
    "start_time": "2025-01-27T12:54:07.987Z"
   },
   {
    "duration": 28,
    "start_time": "2025-01-27T12:54:08.064Z"
   },
   {
    "duration": 43,
    "start_time": "2025-01-27T12:54:08.094Z"
   },
   {
    "duration": 8,
    "start_time": "2025-01-27T13:02:28.952Z"
   },
   {
    "duration": 9,
    "start_time": "2025-01-27T13:03:07.647Z"
   },
   {
    "duration": 1327,
    "start_time": "2025-01-28T07:07:16.034Z"
   },
   {
    "duration": 2166,
    "start_time": "2025-01-28T07:07:17.363Z"
   },
   {
    "duration": 6,
    "start_time": "2025-01-28T07:07:19.531Z"
   },
   {
    "duration": 17,
    "start_time": "2025-01-28T07:07:19.538Z"
   },
   {
    "duration": 4,
    "start_time": "2025-01-28T07:07:19.556Z"
   },
   {
    "duration": 15,
    "start_time": "2025-01-28T07:07:19.561Z"
   },
   {
    "duration": 7,
    "start_time": "2025-01-28T07:07:19.578Z"
   },
   {
    "duration": 5,
    "start_time": "2025-01-28T07:07:19.586Z"
   },
   {
    "duration": 6,
    "start_time": "2025-01-28T07:07:19.592Z"
   },
   {
    "duration": 53,
    "start_time": "2025-01-28T07:07:19.601Z"
   },
   {
    "duration": 4,
    "start_time": "2025-01-28T07:07:19.656Z"
   },
   {
    "duration": 28,
    "start_time": "2025-01-28T07:07:19.661Z"
   },
   {
    "duration": 99,
    "start_time": "2025-01-28T07:07:19.690Z"
   },
   {
    "duration": 23,
    "start_time": "2025-01-28T07:07:19.791Z"
   },
   {
    "duration": 40,
    "start_time": "2025-01-28T07:07:19.816Z"
   },
   {
    "duration": 12,
    "start_time": "2025-01-28T07:07:19.858Z"
   },
   {
    "duration": 10,
    "start_time": "2025-01-28T07:07:19.872Z"
   },
   {
    "duration": 37,
    "start_time": "2025-01-28T07:07:19.884Z"
   },
   {
    "duration": 4,
    "start_time": "2025-01-28T07:07:19.955Z"
   },
   {
    "duration": 15,
    "start_time": "2025-01-28T07:07:19.961Z"
   },
   {
    "duration": 13,
    "start_time": "2025-01-28T07:07:19.978Z"
   },
   {
    "duration": 185,
    "start_time": "2025-01-28T07:07:19.992Z"
   },
   {
    "duration": 77,
    "start_time": "2025-01-28T07:07:20.178Z"
   },
   {
    "duration": 16,
    "start_time": "2025-01-28T07:07:20.256Z"
   },
   {
    "duration": 17,
    "start_time": "2025-01-28T07:07:20.273Z"
   },
   {
    "duration": 8,
    "start_time": "2025-01-28T07:07:20.292Z"
   },
   {
    "duration": 16,
    "start_time": "2025-01-28T07:07:20.301Z"
   },
   {
    "duration": 21,
    "start_time": "2025-01-28T07:07:20.320Z"
   },
   {
    "duration": 32,
    "start_time": "2025-01-28T07:07:20.342Z"
   },
   {
    "duration": 13,
    "start_time": "2025-01-28T07:07:20.376Z"
   },
   {
    "duration": 7,
    "start_time": "2025-01-28T07:07:20.391Z"
   },
   {
    "duration": 173,
    "start_time": "2025-01-28T07:07:20.399Z"
   },
   {
    "duration": 13,
    "start_time": "2025-01-28T07:07:20.574Z"
   },
   {
    "duration": 100,
    "start_time": "2025-01-28T07:07:20.588Z"
   },
   {
    "duration": 11,
    "start_time": "2025-01-28T07:07:20.689Z"
   },
   {
    "duration": 6,
    "start_time": "2025-01-28T07:07:20.701Z"
   },
   {
    "duration": 55,
    "start_time": "2025-01-28T07:07:20.708Z"
   },
   {
    "duration": 68,
    "start_time": "2025-01-28T07:07:20.764Z"
   },
   {
    "duration": 83,
    "start_time": "2025-01-28T07:07:20.834Z"
   },
   {
    "duration": 23,
    "start_time": "2025-01-28T07:07:20.919Z"
   },
   {
    "duration": 31,
    "start_time": "2025-01-28T07:07:20.953Z"
   },
   {
    "duration": 28,
    "start_time": "2025-01-28T07:07:20.986Z"
   },
   {
    "duration": 31,
    "start_time": "2025-01-28T07:09:02.563Z"
   },
   {
    "duration": 49,
    "start_time": "2025-01-28T07:14:23.922Z"
   },
   {
    "duration": 50,
    "start_time": "2025-01-28T07:15:02.555Z"
   },
   {
    "duration": 50,
    "start_time": "2025-01-28T07:23:37.410Z"
   },
   {
    "duration": 78,
    "start_time": "2025-01-28T07:39:34.215Z"
   },
   {
    "duration": 23,
    "start_time": "2025-01-28T07:39:48.080Z"
   },
   {
    "duration": 3,
    "start_time": "2025-01-28T07:43:23.880Z"
   },
   {
    "duration": 402,
    "start_time": "2025-01-28T07:43:34.395Z"
   },
   {
    "duration": 407,
    "start_time": "2025-01-28T07:45:17.925Z"
   },
   {
    "duration": 311,
    "start_time": "2025-01-28T07:45:29.402Z"
   },
   {
    "duration": 344,
    "start_time": "2025-01-28T07:46:07.378Z"
   },
   {
    "duration": 371,
    "start_time": "2025-01-28T07:46:17.809Z"
   },
   {
    "duration": 357,
    "start_time": "2025-01-28T07:48:06.987Z"
   },
   {
    "duration": 15,
    "start_time": "2025-01-28T08:03:25.667Z"
   },
   {
    "duration": 184,
    "start_time": "2025-01-28T08:04:00.714Z"
   },
   {
    "duration": 388,
    "start_time": "2025-01-28T08:04:19.027Z"
   },
   {
    "duration": 160,
    "start_time": "2025-01-28T08:04:42.314Z"
   },
   {
    "duration": 1112,
    "start_time": "2025-01-28T08:06:16.761Z"
   },
   {
    "duration": 2053,
    "start_time": "2025-01-28T08:06:17.875Z"
   },
   {
    "duration": 5,
    "start_time": "2025-01-28T08:06:19.930Z"
   },
   {
    "duration": 17,
    "start_time": "2025-01-28T08:06:19.938Z"
   },
   {
    "duration": 13,
    "start_time": "2025-01-28T08:06:19.956Z"
   },
   {
    "duration": 4,
    "start_time": "2025-01-28T08:06:19.971Z"
   },
   {
    "duration": 4,
    "start_time": "2025-01-28T08:06:19.977Z"
   },
   {
    "duration": 4,
    "start_time": "2025-01-28T08:06:19.983Z"
   },
   {
    "duration": 8,
    "start_time": "2025-01-28T08:06:19.988Z"
   },
   {
    "duration": 65,
    "start_time": "2025-01-28T08:06:19.998Z"
   },
   {
    "duration": 5,
    "start_time": "2025-01-28T08:06:20.065Z"
   },
   {
    "duration": 30,
    "start_time": "2025-01-28T08:06:20.071Z"
   },
   {
    "duration": 101,
    "start_time": "2025-01-28T08:06:20.103Z"
   },
   {
    "duration": 23,
    "start_time": "2025-01-28T08:06:20.205Z"
   },
   {
    "duration": 36,
    "start_time": "2025-01-28T08:06:20.229Z"
   },
   {
    "duration": 13,
    "start_time": "2025-01-28T08:06:20.267Z"
   },
   {
    "duration": 10,
    "start_time": "2025-01-28T08:06:20.282Z"
   },
   {
    "duration": 70,
    "start_time": "2025-01-28T08:06:20.293Z"
   },
   {
    "duration": 17,
    "start_time": "2025-01-28T08:06:20.364Z"
   },
   {
    "duration": 23,
    "start_time": "2025-01-28T08:06:20.382Z"
   },
   {
    "duration": 12,
    "start_time": "2025-01-28T08:06:20.407Z"
   },
   {
    "duration": 162,
    "start_time": "2025-01-28T08:06:20.420Z"
   },
   {
    "duration": 82,
    "start_time": "2025-01-28T08:06:20.584Z"
   },
   {
    "duration": 18,
    "start_time": "2025-01-28T08:06:20.667Z"
   },
   {
    "duration": 18,
    "start_time": "2025-01-28T08:06:20.686Z"
   },
   {
    "duration": 33,
    "start_time": "2025-01-28T08:06:20.705Z"
   },
   {
    "duration": 18,
    "start_time": "2025-01-28T08:06:20.740Z"
   },
   {
    "duration": 25,
    "start_time": "2025-01-28T08:06:20.761Z"
   },
   {
    "duration": 35,
    "start_time": "2025-01-28T08:06:20.788Z"
   },
   {
    "duration": 89,
    "start_time": "2025-01-28T08:06:20.825Z"
   },
   {
    "duration": 39,
    "start_time": "2025-01-28T08:06:20.915Z"
   },
   {
    "duration": 176,
    "start_time": "2025-01-28T08:06:20.956Z"
   },
   {
    "duration": 20,
    "start_time": "2025-01-28T08:06:21.134Z"
   },
   {
    "duration": 55,
    "start_time": "2025-01-28T08:06:21.156Z"
   },
   {
    "duration": 10,
    "start_time": "2025-01-28T08:06:21.212Z"
   },
   {
    "duration": 17,
    "start_time": "2025-01-28T08:06:21.224Z"
   },
   {
    "duration": 49,
    "start_time": "2025-01-28T08:06:21.243Z"
   },
   {
    "duration": 72,
    "start_time": "2025-01-28T08:06:21.293Z"
   },
   {
    "duration": 67,
    "start_time": "2025-01-28T08:06:21.367Z"
   },
   {
    "duration": 36,
    "start_time": "2025-01-28T08:06:21.436Z"
   },
   {
    "duration": 31,
    "start_time": "2025-01-28T08:06:21.474Z"
   },
   {
    "duration": 95,
    "start_time": "2025-01-28T08:06:21.507Z"
   },
   {
    "duration": 390,
    "start_time": "2025-01-28T08:06:21.604Z"
   },
   {
    "duration": 192,
    "start_time": "2025-01-28T08:06:21.995Z"
   },
   {
    "duration": 630,
    "start_time": "2025-01-28T08:10:46.286Z"
   },
   {
    "duration": 601,
    "start_time": "2025-01-28T08:12:33.910Z"
   },
   {
    "duration": 629,
    "start_time": "2025-01-28T08:23:19.970Z"
   },
   {
    "duration": 4,
    "start_time": "2025-01-28T08:24:35.499Z"
   },
   {
    "duration": 8,
    "start_time": "2025-01-28T08:24:41.882Z"
   },
   {
    "duration": 4,
    "start_time": "2025-01-28T08:25:14.619Z"
   },
   {
    "duration": 56526,
    "start_time": "2025-01-28T08:27:56.004Z"
   },
   {
    "duration": 63878,
    "start_time": "2025-01-28T08:31:15.286Z"
   },
   {
    "duration": 1314,
    "start_time": "2025-01-28T08:37:20.240Z"
   },
   {
    "duration": 271,
    "start_time": "2025-01-28T08:39:42.827Z"
   },
   {
    "duration": 1216,
    "start_time": "2025-01-28T08:39:51.857Z"
   },
   {
    "duration": 1100,
    "start_time": "2025-01-28T08:41:09.023Z"
   },
   {
    "duration": 29,
    "start_time": "2025-01-28T08:41:42.233Z"
   },
   {
    "duration": 1353,
    "start_time": "2025-01-28T08:43:44.891Z"
   },
   {
    "duration": 10,
    "start_time": "2025-01-28T08:47:46.286Z"
   },
   {
    "duration": 1168,
    "start_time": "2025-01-28T08:48:18.875Z"
   },
   {
    "duration": 28,
    "start_time": "2025-01-28T08:48:41.214Z"
   },
   {
    "duration": 1450,
    "start_time": "2025-01-28T08:51:00.022Z"
   },
   {
    "duration": 22,
    "start_time": "2025-01-28T08:51:04.357Z"
   },
   {
    "duration": 14,
    "start_time": "2025-01-28T08:51:54.157Z"
   },
   {
    "duration": 32,
    "start_time": "2025-01-28T08:53:25.534Z"
   },
   {
    "duration": 7,
    "start_time": "2025-01-28T08:53:38.901Z"
   },
   {
    "duration": 1474,
    "start_time": "2025-01-28T08:54:04.174Z"
   },
   {
    "duration": 18,
    "start_time": "2025-01-28T08:54:05.650Z"
   },
   {
    "duration": 1397,
    "start_time": "2025-01-28T08:55:16.206Z"
   },
   {
    "duration": 10,
    "start_time": "2025-01-28T08:55:18.563Z"
   },
   {
    "duration": 18,
    "start_time": "2025-01-28T08:56:04.377Z"
   },
   {
    "duration": 15,
    "start_time": "2025-01-28T08:59:09.954Z"
   },
   {
    "duration": 1591,
    "start_time": "2025-01-28T09:01:47.080Z"
   },
   {
    "duration": 25,
    "start_time": "2025-01-28T09:01:49.904Z"
   },
   {
    "duration": 22,
    "start_time": "2025-01-28T09:01:51.702Z"
   },
   {
    "duration": 25,
    "start_time": "2025-01-28T09:06:38.851Z"
   },
   {
    "duration": 1458,
    "start_time": "2025-01-28T09:08:57.011Z"
   },
   {
    "duration": 23,
    "start_time": "2025-01-28T09:09:00.286Z"
   },
   {
    "duration": 1281,
    "start_time": "2025-01-28T09:32:49.823Z"
   },
   {
    "duration": 1958,
    "start_time": "2025-01-28T09:32:51.106Z"
   },
   {
    "duration": 7,
    "start_time": "2025-01-28T09:32:53.066Z"
   },
   {
    "duration": 24,
    "start_time": "2025-01-28T09:32:53.075Z"
   },
   {
    "duration": 27,
    "start_time": "2025-01-28T09:32:53.102Z"
   },
   {
    "duration": 12,
    "start_time": "2025-01-28T09:32:53.131Z"
   },
   {
    "duration": 12,
    "start_time": "2025-01-28T09:32:53.145Z"
   },
   {
    "duration": 7,
    "start_time": "2025-01-28T09:32:53.158Z"
   },
   {
    "duration": 19,
    "start_time": "2025-01-28T09:32:53.166Z"
   },
   {
    "duration": 52,
    "start_time": "2025-01-28T09:32:53.187Z"
   },
   {
    "duration": 5,
    "start_time": "2025-01-28T09:32:53.241Z"
   },
   {
    "duration": 24,
    "start_time": "2025-01-28T09:32:53.248Z"
   },
   {
    "duration": 113,
    "start_time": "2025-01-28T09:32:53.274Z"
   },
   {
    "duration": 32,
    "start_time": "2025-01-28T09:32:53.391Z"
   },
   {
    "duration": 46,
    "start_time": "2025-01-28T09:32:53.425Z"
   },
   {
    "duration": 14,
    "start_time": "2025-01-28T09:32:53.473Z"
   },
   {
    "duration": 10,
    "start_time": "2025-01-28T09:32:53.489Z"
   },
   {
    "duration": 43,
    "start_time": "2025-01-28T09:32:53.501Z"
   },
   {
    "duration": 5,
    "start_time": "2025-01-28T09:32:53.570Z"
   },
   {
    "duration": 10,
    "start_time": "2025-01-28T09:32:53.577Z"
   },
   {
    "duration": 41,
    "start_time": "2025-01-28T09:32:53.589Z"
   },
   {
    "duration": 154,
    "start_time": "2025-01-28T09:32:53.632Z"
   },
   {
    "duration": 89,
    "start_time": "2025-01-28T09:32:53.788Z"
   },
   {
    "duration": 17,
    "start_time": "2025-01-28T09:32:53.879Z"
   },
   {
    "duration": 19,
    "start_time": "2025-01-28T09:32:53.898Z"
   },
   {
    "duration": 6,
    "start_time": "2025-01-28T09:32:53.919Z"
   },
   {
    "duration": 35,
    "start_time": "2025-01-28T09:32:53.927Z"
   },
   {
    "duration": 32,
    "start_time": "2025-01-28T09:32:53.963Z"
   },
   {
    "duration": 33,
    "start_time": "2025-01-28T09:32:53.997Z"
   },
   {
    "duration": 54,
    "start_time": "2025-01-28T09:32:54.031Z"
   },
   {
    "duration": 14,
    "start_time": "2025-01-28T09:32:54.088Z"
   },
   {
    "duration": 195,
    "start_time": "2025-01-28T09:32:54.104Z"
   },
   {
    "duration": 13,
    "start_time": "2025-01-28T09:32:54.302Z"
   },
   {
    "duration": 58,
    "start_time": "2025-01-28T09:32:54.317Z"
   },
   {
    "duration": 12,
    "start_time": "2025-01-28T09:32:54.377Z"
   },
   {
    "duration": 15,
    "start_time": "2025-01-28T09:32:54.391Z"
   },
   {
    "duration": 16,
    "start_time": "2025-01-28T09:32:54.408Z"
   },
   {
    "duration": 84,
    "start_time": "2025-01-28T09:32:54.426Z"
   },
   {
    "duration": 90,
    "start_time": "2025-01-28T09:32:54.512Z"
   },
   {
    "duration": 25,
    "start_time": "2025-01-28T09:32:54.604Z"
   },
   {
    "duration": 82,
    "start_time": "2025-01-28T09:32:54.632Z"
   },
   {
    "duration": 52,
    "start_time": "2025-01-28T09:32:54.716Z"
   },
   {
    "duration": 138,
    "start_time": "2025-01-28T09:32:54.770Z"
   },
   {
    "duration": 0,
    "start_time": "2025-01-28T09:32:54.910Z"
   },
   {
    "duration": 0,
    "start_time": "2025-01-28T09:32:54.911Z"
   },
   {
    "duration": 0,
    "start_time": "2025-01-28T09:32:54.913Z"
   },
   {
    "duration": 0,
    "start_time": "2025-01-28T09:32:54.914Z"
   },
   {
    "duration": 10,
    "start_time": "2025-01-28T09:33:26.261Z"
   },
   {
    "duration": 1086,
    "start_time": "2025-01-28T09:33:27.301Z"
   },
   {
    "duration": 23,
    "start_time": "2025-01-28T09:33:29.237Z"
   },
   {
    "duration": 20,
    "start_time": "2025-01-28T09:33:32.557Z"
   },
   {
    "duration": 54,
    "start_time": "2025-01-28T10:32:00.167Z"
   },
   {
    "duration": 1315,
    "start_time": "2025-01-28T10:33:41.150Z"
   },
   {
    "duration": 2845,
    "start_time": "2025-01-28T10:33:42.467Z"
   },
   {
    "duration": 6,
    "start_time": "2025-01-28T10:33:45.314Z"
   },
   {
    "duration": 32,
    "start_time": "2025-01-28T10:33:45.321Z"
   },
   {
    "duration": 66,
    "start_time": "2025-01-28T10:33:45.355Z"
   },
   {
    "duration": 16,
    "start_time": "2025-01-28T10:33:45.422Z"
   },
   {
    "duration": 6,
    "start_time": "2025-01-28T10:33:45.439Z"
   },
   {
    "duration": 14,
    "start_time": "2025-01-28T10:33:45.446Z"
   },
   {
    "duration": 55,
    "start_time": "2025-01-28T10:33:45.462Z"
   },
   {
    "duration": 72,
    "start_time": "2025-01-28T10:33:45.521Z"
   },
   {
    "duration": 5,
    "start_time": "2025-01-28T10:33:45.595Z"
   },
   {
    "duration": 31,
    "start_time": "2025-01-28T10:33:45.601Z"
   },
   {
    "duration": 124,
    "start_time": "2025-01-28T10:33:45.634Z"
   },
   {
    "duration": 26,
    "start_time": "2025-01-28T10:33:45.759Z"
   },
   {
    "duration": 22,
    "start_time": "2025-01-28T10:33:45.802Z"
   },
   {
    "duration": 21,
    "start_time": "2025-01-28T10:33:45.826Z"
   },
   {
    "duration": 14,
    "start_time": "2025-01-28T10:33:45.849Z"
   },
   {
    "duration": 86,
    "start_time": "2025-01-28T10:33:45.864Z"
   },
   {
    "duration": 29,
    "start_time": "2025-01-28T10:33:45.952Z"
   },
   {
    "duration": 11,
    "start_time": "2025-01-28T10:33:45.982Z"
   },
   {
    "duration": 13,
    "start_time": "2025-01-28T10:33:45.994Z"
   },
   {
    "duration": 167,
    "start_time": "2025-01-28T10:33:46.009Z"
   },
   {
    "duration": 80,
    "start_time": "2025-01-28T10:33:46.177Z"
   },
   {
    "duration": 17,
    "start_time": "2025-01-28T10:33:46.259Z"
   },
   {
    "duration": 36,
    "start_time": "2025-01-28T10:33:46.277Z"
   },
   {
    "duration": 17,
    "start_time": "2025-01-28T10:33:46.315Z"
   },
   {
    "duration": 19,
    "start_time": "2025-01-28T10:33:46.334Z"
   },
   {
    "duration": 18,
    "start_time": "2025-01-28T10:33:46.358Z"
   },
   {
    "duration": 50,
    "start_time": "2025-01-28T10:33:46.378Z"
   },
   {
    "duration": 14,
    "start_time": "2025-01-28T10:33:46.430Z"
   },
   {
    "duration": 78,
    "start_time": "2025-01-28T10:33:46.445Z"
   },
   {
    "duration": 171,
    "start_time": "2025-01-28T10:33:46.525Z"
   },
   {
    "duration": 140,
    "start_time": "2025-01-28T10:33:46.697Z"
   },
   {
    "duration": 11,
    "start_time": "2025-01-28T10:33:46.839Z"
   },
   {
    "duration": 36,
    "start_time": "2025-01-28T10:33:46.851Z"
   },
   {
    "duration": 25,
    "start_time": "2025-01-28T10:33:46.888Z"
   },
   {
    "duration": 6,
    "start_time": "2025-01-28T10:33:46.914Z"
   },
   {
    "duration": 22,
    "start_time": "2025-01-28T10:33:46.922Z"
   },
   {
    "duration": 83,
    "start_time": "2025-01-28T10:33:46.946Z"
   },
   {
    "duration": 77,
    "start_time": "2025-01-28T10:33:47.031Z"
   },
   {
    "duration": 23,
    "start_time": "2025-01-28T10:33:47.110Z"
   },
   {
    "duration": 129,
    "start_time": "2025-01-28T10:33:47.134Z"
   },
   {
    "duration": 58,
    "start_time": "2025-01-28T10:33:47.265Z"
   },
   {
    "duration": 93,
    "start_time": "2025-01-28T10:33:47.325Z"
   },
   {
    "duration": 1191,
    "start_time": "2025-01-28T10:33:47.419Z"
   },
   {
    "duration": 23,
    "start_time": "2025-01-28T10:33:48.612Z"
   },
   {
    "duration": 22,
    "start_time": "2025-01-28T10:33:48.637Z"
   },
   {
    "duration": 1401,
    "start_time": "2025-01-29T10:08:20.902Z"
   },
   {
    "duration": 2003,
    "start_time": "2025-01-29T10:08:22.305Z"
   },
   {
    "duration": 6,
    "start_time": "2025-01-29T10:08:24.310Z"
   },
   {
    "duration": 19,
    "start_time": "2025-01-29T10:08:24.320Z"
   },
   {
    "duration": 6,
    "start_time": "2025-01-29T10:08:24.341Z"
   },
   {
    "duration": 5,
    "start_time": "2025-01-29T10:08:24.349Z"
   },
   {
    "duration": 12,
    "start_time": "2025-01-29T10:08:24.355Z"
   },
   {
    "duration": 18,
    "start_time": "2025-01-29T10:08:24.369Z"
   },
   {
    "duration": 8,
    "start_time": "2025-01-29T10:08:24.388Z"
   },
   {
    "duration": 19,
    "start_time": "2025-01-29T10:08:24.399Z"
   },
   {
    "duration": 15,
    "start_time": "2025-01-29T10:08:24.420Z"
   },
   {
    "duration": 16,
    "start_time": "2025-01-29T10:08:24.437Z"
   },
   {
    "duration": 122,
    "start_time": "2025-01-29T10:08:24.454Z"
   },
   {
    "duration": 27,
    "start_time": "2025-01-29T10:08:24.578Z"
   },
   {
    "duration": 43,
    "start_time": "2025-01-29T10:08:24.606Z"
   },
   {
    "duration": 19,
    "start_time": "2025-01-29T10:08:24.651Z"
   },
   {
    "duration": 15,
    "start_time": "2025-01-29T10:08:24.672Z"
   },
   {
    "duration": 87,
    "start_time": "2025-01-29T10:08:24.689Z"
   },
   {
    "duration": 5,
    "start_time": "2025-01-29T10:08:24.777Z"
   },
   {
    "duration": 18,
    "start_time": "2025-01-29T10:08:24.783Z"
   },
   {
    "duration": 21,
    "start_time": "2025-01-29T10:08:24.802Z"
   },
   {
    "duration": 150,
    "start_time": "2025-01-29T10:08:24.834Z"
   },
   {
    "duration": 85,
    "start_time": "2025-01-29T10:08:24.987Z"
   },
   {
    "duration": 25,
    "start_time": "2025-01-29T10:08:25.073Z"
   },
   {
    "duration": 121,
    "start_time": "2025-01-29T10:08:25.100Z"
   },
   {
    "duration": 10,
    "start_time": "2025-01-29T10:08:25.223Z"
   },
   {
    "duration": 21,
    "start_time": "2025-01-29T10:08:25.235Z"
   },
   {
    "duration": 11,
    "start_time": "2025-01-29T10:08:25.260Z"
   },
   {
    "duration": 13,
    "start_time": "2025-01-29T10:08:25.273Z"
   },
   {
    "duration": 49,
    "start_time": "2025-01-29T10:08:25.288Z"
   },
   {
    "duration": 14,
    "start_time": "2025-01-29T10:08:25.339Z"
   },
   {
    "duration": 235,
    "start_time": "2025-01-29T10:08:25.355Z"
   },
   {
    "duration": 169,
    "start_time": "2025-01-29T10:08:25.592Z"
   },
   {
    "duration": 14,
    "start_time": "2025-01-29T10:08:25.763Z"
   },
   {
    "duration": 88,
    "start_time": "2025-01-29T10:08:25.779Z"
   },
   {
    "duration": 12,
    "start_time": "2025-01-29T10:08:25.869Z"
   },
   {
    "duration": 19,
    "start_time": "2025-01-29T10:08:25.883Z"
   },
   {
    "duration": 25,
    "start_time": "2025-01-29T10:08:25.905Z"
   },
   {
    "duration": 111,
    "start_time": "2025-01-29T10:08:25.932Z"
   },
   {
    "duration": 107,
    "start_time": "2025-01-29T10:08:26.045Z"
   },
   {
    "duration": 27,
    "start_time": "2025-01-29T10:08:26.154Z"
   },
   {
    "duration": 60,
    "start_time": "2025-01-29T10:08:26.183Z"
   },
   {
    "duration": 58,
    "start_time": "2025-01-29T10:08:26.244Z"
   },
   {
    "duration": 31,
    "start_time": "2025-01-29T10:08:26.304Z"
   },
   {
    "duration": 1390,
    "start_time": "2025-01-29T10:08:26.337Z"
   },
   {
    "duration": 34,
    "start_time": "2025-01-29T10:08:27.732Z"
   },
   {
    "duration": 30,
    "start_time": "2025-01-29T10:08:27.769Z"
   },
   {
    "duration": 85,
    "start_time": "2025-01-29T10:12:10.796Z"
   },
   {
    "duration": 1247,
    "start_time": "2025-01-29T10:26:05.674Z"
   },
   {
    "duration": 1231,
    "start_time": "2025-01-29T10:29:39.750Z"
   },
   {
    "duration": 1217,
    "start_time": "2025-01-29T10:33:08.437Z"
   },
   {
    "duration": 110,
    "start_time": "2025-01-29T10:41:02.873Z"
   },
   {
    "duration": 1239,
    "start_time": "2025-01-29T12:33:14.728Z"
   },
   {
    "duration": 2579,
    "start_time": "2025-01-29T12:33:15.969Z"
   },
   {
    "duration": 6,
    "start_time": "2025-01-29T12:33:18.550Z"
   },
   {
    "duration": 4,
    "start_time": "2025-01-29T12:33:18.558Z"
   },
   {
    "duration": 27,
    "start_time": "2025-01-29T12:33:18.563Z"
   },
   {
    "duration": 4,
    "start_time": "2025-01-29T12:33:18.591Z"
   },
   {
    "duration": 11,
    "start_time": "2025-01-29T12:33:18.597Z"
   },
   {
    "duration": 6,
    "start_time": "2025-01-29T12:33:18.610Z"
   },
   {
    "duration": 18,
    "start_time": "2025-01-29T12:33:18.617Z"
   },
   {
    "duration": 11,
    "start_time": "2025-01-29T12:33:18.638Z"
   },
   {
    "duration": 8,
    "start_time": "2025-01-29T12:33:18.651Z"
   },
   {
    "duration": 13,
    "start_time": "2025-01-29T12:33:18.661Z"
   },
   {
    "duration": 120,
    "start_time": "2025-01-29T12:33:18.675Z"
   },
   {
    "duration": 39,
    "start_time": "2025-01-29T12:33:18.796Z"
   },
   {
    "duration": 21,
    "start_time": "2025-01-29T12:33:18.836Z"
   },
   {
    "duration": 47,
    "start_time": "2025-01-29T12:33:18.858Z"
   },
   {
    "duration": 10,
    "start_time": "2025-01-29T12:33:18.907Z"
   },
   {
    "duration": 51,
    "start_time": "2025-01-29T12:33:18.919Z"
   },
   {
    "duration": 1277,
    "start_time": "2025-01-29T12:33:18.971Z"
   },
   {
    "duration": 5,
    "start_time": "2025-01-29T12:33:20.250Z"
   },
   {
    "duration": 12,
    "start_time": "2025-01-29T12:33:20.257Z"
   },
   {
    "duration": 43,
    "start_time": "2025-01-29T12:33:20.270Z"
   },
   {
    "duration": 165,
    "start_time": "2025-01-29T12:33:20.315Z"
   },
   {
    "duration": 86,
    "start_time": "2025-01-29T12:33:20.482Z"
   },
   {
    "duration": 18,
    "start_time": "2025-01-29T12:33:20.570Z"
   },
   {
    "duration": 22,
    "start_time": "2025-01-29T12:33:20.589Z"
   },
   {
    "duration": 21,
    "start_time": "2025-01-29T12:33:20.613Z"
   },
   {
    "duration": 13,
    "start_time": "2025-01-29T12:33:20.637Z"
   },
   {
    "duration": 10,
    "start_time": "2025-01-29T12:33:20.652Z"
   },
   {
    "duration": 12,
    "start_time": "2025-01-29T12:33:20.664Z"
   },
   {
    "duration": 17,
    "start_time": "2025-01-29T12:33:20.678Z"
   },
   {
    "duration": 37,
    "start_time": "2025-01-29T12:33:20.697Z"
   },
   {
    "duration": 176,
    "start_time": "2025-01-29T12:33:20.736Z"
   },
   {
    "duration": 166,
    "start_time": "2025-01-29T12:33:20.913Z"
   },
   {
    "duration": 12,
    "start_time": "2025-01-29T12:33:21.081Z"
   },
   {
    "duration": 52,
    "start_time": "2025-01-29T12:33:21.095Z"
   },
   {
    "duration": 13,
    "start_time": "2025-01-29T12:33:21.149Z"
   },
   {
    "duration": 5,
    "start_time": "2025-01-29T12:33:21.164Z"
   },
   {
    "duration": 17,
    "start_time": "2025-01-29T12:33:21.171Z"
   },
   {
    "duration": 96,
    "start_time": "2025-01-29T12:33:21.189Z"
   },
   {
    "duration": 90,
    "start_time": "2025-01-29T12:33:21.287Z"
   },
   {
    "duration": 24,
    "start_time": "2025-01-29T12:33:21.379Z"
   },
   {
    "duration": 47,
    "start_time": "2025-01-29T12:33:21.404Z"
   },
   {
    "duration": 49,
    "start_time": "2025-01-29T12:33:21.453Z"
   },
   {
    "duration": 19,
    "start_time": "2025-01-29T12:33:21.504Z"
   },
   {
    "duration": 1245,
    "start_time": "2025-01-29T12:33:21.525Z"
   },
   {
    "duration": 22,
    "start_time": "2025-01-29T12:33:22.772Z"
   },
   {
    "duration": 38,
    "start_time": "2025-01-29T12:33:22.795Z"
   },
   {
    "duration": 172,
    "start_time": "2025-01-29T12:52:38.757Z"
   },
   {
    "duration": 128,
    "start_time": "2025-01-29T12:52:52.617Z"
   },
   {
    "duration": 149,
    "start_time": "2025-01-29T12:53:05.101Z"
   },
   {
    "duration": 147,
    "start_time": "2025-01-29T12:56:44.127Z"
   },
   {
    "duration": 120,
    "start_time": "2025-01-29T12:57:05.514Z"
   },
   {
    "duration": 114,
    "start_time": "2025-01-29T12:57:15.046Z"
   },
   {
    "duration": 108,
    "start_time": "2025-01-29T12:58:46.991Z"
   },
   {
    "duration": 97,
    "start_time": "2025-01-29T12:58:53.296Z"
   },
   {
    "duration": 4,
    "start_time": "2025-01-29T12:59:05.335Z"
   },
   {
    "duration": 143,
    "start_time": "2025-01-29T13:03:09.744Z"
   },
   {
    "duration": 17,
    "start_time": "2025-01-29T13:03:24.407Z"
   },
   {
    "duration": 9,
    "start_time": "2025-01-29T13:04:38.578Z"
   },
   {
    "duration": 5,
    "start_time": "2025-01-29T13:04:43.056Z"
   },
   {
    "duration": 35,
    "start_time": "2025-01-29T13:08:31.523Z"
   },
   {
    "duration": 37,
    "start_time": "2025-01-29T13:08:44.165Z"
   },
   {
    "duration": 151,
    "start_time": "2025-01-29T13:09:30.498Z"
   },
   {
    "duration": 17,
    "start_time": "2025-01-29T13:09:33.491Z"
   },
   {
    "duration": 5,
    "start_time": "2025-01-29T13:09:35.651Z"
   },
   {
    "duration": 90,
    "start_time": "2025-01-29T13:21:19.216Z"
   },
   {
    "duration": 10,
    "start_time": "2025-01-29T13:24:24.074Z"
   },
   {
    "duration": 10,
    "start_time": "2025-01-29T13:24:30.715Z"
   },
   {
    "duration": 151,
    "start_time": "2025-01-29T13:24:56.432Z"
   },
   {
    "duration": 154,
    "start_time": "2025-01-29T13:31:02.524Z"
   },
   {
    "duration": 128,
    "start_time": "2025-01-29T13:31:16.652Z"
   },
   {
    "duration": 117,
    "start_time": "2025-01-29T13:31:32.692Z"
   },
   {
    "duration": 148,
    "start_time": "2025-01-29T13:32:39.068Z"
   },
   {
    "duration": 88,
    "start_time": "2025-01-29T13:33:05.428Z"
   },
   {
    "duration": 17,
    "start_time": "2025-01-29T13:33:43.028Z"
   },
   {
    "duration": 9,
    "start_time": "2025-01-29T13:46:06.506Z"
   },
   {
    "duration": 5,
    "start_time": "2025-01-29T13:46:10.529Z"
   },
   {
    "duration": 22,
    "start_time": "2025-01-29T13:49:54.772Z"
   },
   {
    "duration": 27,
    "start_time": "2025-01-29T13:50:17.132Z"
   },
   {
    "duration": 1402,
    "start_time": "2025-01-30T05:55:22.101Z"
   },
   {
    "duration": 2601,
    "start_time": "2025-01-30T05:55:23.505Z"
   },
   {
    "duration": 6,
    "start_time": "2025-01-30T05:55:26.108Z"
   },
   {
    "duration": 10,
    "start_time": "2025-01-30T05:55:26.116Z"
   },
   {
    "duration": 4,
    "start_time": "2025-01-30T05:55:26.132Z"
   },
   {
    "duration": 18,
    "start_time": "2025-01-30T05:55:26.137Z"
   },
   {
    "duration": 5,
    "start_time": "2025-01-30T05:55:26.156Z"
   },
   {
    "duration": 4,
    "start_time": "2025-01-30T05:55:26.163Z"
   },
   {
    "duration": 9,
    "start_time": "2025-01-30T05:55:26.168Z"
   },
   {
    "duration": 6,
    "start_time": "2025-01-30T05:55:26.179Z"
   },
   {
    "duration": 6,
    "start_time": "2025-01-30T05:55:26.187Z"
   },
   {
    "duration": 22,
    "start_time": "2025-01-30T05:55:26.194Z"
   },
   {
    "duration": 104,
    "start_time": "2025-01-30T05:55:26.233Z"
   },
   {
    "duration": 25,
    "start_time": "2025-01-30T05:55:26.338Z"
   },
   {
    "duration": 20,
    "start_time": "2025-01-30T05:55:26.365Z"
   },
   {
    "duration": 46,
    "start_time": "2025-01-30T05:55:26.387Z"
   },
   {
    "duration": 12,
    "start_time": "2025-01-30T05:55:26.435Z"
   },
   {
    "duration": 41,
    "start_time": "2025-01-30T05:55:26.449Z"
   },
   {
    "duration": 1299,
    "start_time": "2025-01-30T05:55:26.492Z"
   },
   {
    "duration": 5,
    "start_time": "2025-01-30T05:55:27.793Z"
   },
   {
    "duration": 8,
    "start_time": "2025-01-30T05:55:27.800Z"
   },
   {
    "duration": 26,
    "start_time": "2025-01-30T05:55:27.810Z"
   },
   {
    "duration": 158,
    "start_time": "2025-01-30T05:55:27.837Z"
   },
   {
    "duration": 88,
    "start_time": "2025-01-30T05:55:27.997Z"
   },
   {
    "duration": 17,
    "start_time": "2025-01-30T05:55:28.087Z"
   },
   {
    "duration": 31,
    "start_time": "2025-01-30T05:55:28.105Z"
   },
   {
    "duration": 6,
    "start_time": "2025-01-30T05:55:28.138Z"
   },
   {
    "duration": 22,
    "start_time": "2025-01-30T05:55:28.148Z"
   },
   {
    "duration": 10,
    "start_time": "2025-01-30T05:55:28.172Z"
   },
   {
    "duration": 12,
    "start_time": "2025-01-30T05:55:28.184Z"
   },
   {
    "duration": 36,
    "start_time": "2025-01-30T05:55:28.197Z"
   },
   {
    "duration": 79,
    "start_time": "2025-01-30T05:55:28.235Z"
   },
   {
    "duration": 177,
    "start_time": "2025-01-30T05:55:28.316Z"
   },
   {
    "duration": 167,
    "start_time": "2025-01-30T05:55:28.496Z"
   },
   {
    "duration": 15,
    "start_time": "2025-01-30T05:55:28.665Z"
   },
   {
    "duration": 60,
    "start_time": "2025-01-30T05:55:28.682Z"
   },
   {
    "duration": 13,
    "start_time": "2025-01-30T05:55:28.743Z"
   },
   {
    "duration": 6,
    "start_time": "2025-01-30T05:55:28.757Z"
   },
   {
    "duration": 31,
    "start_time": "2025-01-30T05:55:28.764Z"
   },
   {
    "duration": 96,
    "start_time": "2025-01-30T05:55:28.797Z"
   },
   {
    "duration": 96,
    "start_time": "2025-01-30T05:55:28.895Z"
   },
   {
    "duration": 26,
    "start_time": "2025-01-30T05:55:28.996Z"
   },
   {
    "duration": 5,
    "start_time": "2025-01-30T05:55:29.032Z"
   },
   {
    "duration": 158,
    "start_time": "2025-01-30T05:55:29.038Z"
   },
   {
    "duration": 92,
    "start_time": "2025-01-30T05:55:29.198Z"
   },
   {
    "duration": 4,
    "start_time": "2025-01-30T05:55:29.292Z"
   },
   {
    "duration": 24,
    "start_time": "2025-01-30T05:55:29.297Z"
   },
   {
    "duration": 121,
    "start_time": "2025-01-30T05:55:29.322Z"
   },
   {
    "duration": 52,
    "start_time": "2025-01-30T05:55:29.445Z"
   },
   {
    "duration": 19,
    "start_time": "2025-01-30T05:55:29.498Z"
   },
   {
    "duration": 1231,
    "start_time": "2025-01-30T05:55:29.518Z"
   },
   {
    "duration": 22,
    "start_time": "2025-01-30T05:55:30.751Z"
   },
   {
    "duration": 20,
    "start_time": "2025-01-30T05:55:30.775Z"
   },
   {
    "duration": 145,
    "start_time": "2025-01-30T05:56:29.388Z"
   },
   {
    "duration": 284,
    "start_time": "2025-01-30T06:04:40.797Z"
   },
   {
    "duration": 131,
    "start_time": "2025-01-30T06:05:03.951Z"
   },
   {
    "duration": 117,
    "start_time": "2025-01-30T06:05:24.478Z"
   },
   {
    "duration": 10,
    "start_time": "2025-01-30T06:07:00.463Z"
   },
   {
    "duration": 6,
    "start_time": "2025-01-30T06:07:06.125Z"
   },
   {
    "duration": 114,
    "start_time": "2025-01-30T06:08:51.158Z"
   },
   {
    "duration": 118,
    "start_time": "2025-01-30T06:11:14.567Z"
   },
   {
    "duration": 1248,
    "start_time": "2025-01-30T06:53:49.352Z"
   },
   {
    "duration": 1973,
    "start_time": "2025-01-30T06:53:50.602Z"
   },
   {
    "duration": 6,
    "start_time": "2025-01-30T06:53:52.578Z"
   },
   {
    "duration": 7,
    "start_time": "2025-01-30T06:53:52.586Z"
   },
   {
    "duration": 12,
    "start_time": "2025-01-30T06:53:52.594Z"
   },
   {
    "duration": 6,
    "start_time": "2025-01-30T06:53:52.608Z"
   },
   {
    "duration": 31,
    "start_time": "2025-01-30T06:53:52.616Z"
   },
   {
    "duration": 16,
    "start_time": "2025-01-30T06:53:52.649Z"
   },
   {
    "duration": 6,
    "start_time": "2025-01-30T06:53:52.667Z"
   },
   {
    "duration": 10,
    "start_time": "2025-01-30T06:53:52.676Z"
   },
   {
    "duration": 6,
    "start_time": "2025-01-30T06:53:52.687Z"
   },
   {
    "duration": 14,
    "start_time": "2025-01-30T06:53:52.695Z"
   },
   {
    "duration": 126,
    "start_time": "2025-01-30T06:53:52.710Z"
   },
   {
    "duration": 24,
    "start_time": "2025-01-30T06:53:52.838Z"
   },
   {
    "duration": 44,
    "start_time": "2025-01-30T06:53:52.864Z"
   },
   {
    "duration": 13,
    "start_time": "2025-01-30T06:53:52.910Z"
   },
   {
    "duration": 12,
    "start_time": "2025-01-30T06:53:52.933Z"
   },
   {
    "duration": 44,
    "start_time": "2025-01-30T06:53:52.947Z"
   },
   {
    "duration": 1285,
    "start_time": "2025-01-30T06:53:52.993Z"
   },
   {
    "duration": 4,
    "start_time": "2025-01-30T06:53:54.280Z"
   },
   {
    "duration": 8,
    "start_time": "2025-01-30T06:53:54.286Z"
   },
   {
    "duration": 14,
    "start_time": "2025-01-30T06:53:54.295Z"
   },
   {
    "duration": 169,
    "start_time": "2025-01-30T06:53:54.310Z"
   },
   {
    "duration": 83,
    "start_time": "2025-01-30T06:53:54.481Z"
   },
   {
    "duration": 19,
    "start_time": "2025-01-30T06:53:54.565Z"
   },
   {
    "duration": 17,
    "start_time": "2025-01-30T06:53:54.585Z"
   },
   {
    "duration": 7,
    "start_time": "2025-01-30T06:53:54.604Z"
   },
   {
    "duration": 14,
    "start_time": "2025-01-30T06:53:54.635Z"
   },
   {
    "duration": 11,
    "start_time": "2025-01-30T06:53:54.650Z"
   },
   {
    "duration": 12,
    "start_time": "2025-01-30T06:53:54.663Z"
   },
   {
    "duration": 16,
    "start_time": "2025-01-30T06:53:54.676Z"
   },
   {
    "duration": 41,
    "start_time": "2025-01-30T06:53:54.693Z"
   },
   {
    "duration": 196,
    "start_time": "2025-01-30T06:53:54.736Z"
   },
   {
    "duration": 159,
    "start_time": "2025-01-30T06:53:54.934Z"
   },
   {
    "duration": 14,
    "start_time": "2025-01-30T06:53:55.095Z"
   },
   {
    "duration": 54,
    "start_time": "2025-01-30T06:53:55.110Z"
   },
   {
    "duration": 13,
    "start_time": "2025-01-30T06:53:55.166Z"
   },
   {
    "duration": 138,
    "start_time": "2025-01-30T06:53:55.180Z"
   },
   {
    "duration": 12,
    "start_time": "2025-01-30T06:53:55.320Z"
   },
   {
    "duration": 6,
    "start_time": "2025-01-30T06:53:55.334Z"
   },
   {
    "duration": 12,
    "start_time": "2025-01-30T06:53:55.342Z"
   },
   {
    "duration": 95,
    "start_time": "2025-01-30T06:53:55.356Z"
   },
   {
    "duration": 89,
    "start_time": "2025-01-30T06:53:55.453Z"
   },
   {
    "duration": 24,
    "start_time": "2025-01-30T06:53:55.544Z"
   },
   {
    "duration": 4,
    "start_time": "2025-01-30T06:53:55.570Z"
   },
   {
    "duration": 156,
    "start_time": "2025-01-30T06:53:55.576Z"
   },
   {
    "duration": 88,
    "start_time": "2025-01-30T06:53:55.734Z"
   },
   {
    "duration": 3,
    "start_time": "2025-01-30T06:53:55.833Z"
   },
   {
    "duration": 17,
    "start_time": "2025-01-30T06:53:55.838Z"
   },
   {
    "duration": 37,
    "start_time": "2025-01-30T06:53:55.856Z"
   },
   {
    "duration": 68,
    "start_time": "2025-01-30T06:53:55.894Z"
   },
   {
    "duration": 8,
    "start_time": "2025-01-30T06:53:55.964Z"
   },
   {
    "duration": 1180,
    "start_time": "2025-01-30T06:53:55.973Z"
   },
   {
    "duration": 21,
    "start_time": "2025-01-30T06:53:57.155Z"
   },
   {
    "duration": 19,
    "start_time": "2025-01-30T06:53:57.178Z"
   },
   {
    "duration": 26,
    "start_time": "2025-01-30T06:54:41.048Z"
   },
   {
    "duration": 5,
    "start_time": "2025-01-30T06:55:03.769Z"
   },
   {
    "duration": 14,
    "start_time": "2025-01-30T06:56:01.927Z"
   },
   {
    "duration": 12,
    "start_time": "2025-01-30T06:56:16.135Z"
   },
   {
    "duration": 43,
    "start_time": "2025-01-30T06:57:38.104Z"
   },
   {
    "duration": 12,
    "start_time": "2025-01-30T06:57:39.122Z"
   },
   {
    "duration": 32,
    "start_time": "2025-01-30T06:58:51.569Z"
   },
   {
    "duration": 760,
    "start_time": "2025-01-30T07:01:28.505Z"
   },
   {
    "duration": 102,
    "start_time": "2025-01-30T07:04:43.315Z"
   },
   {
    "duration": 1226,
    "start_time": "2025-01-30T07:05:16.359Z"
   },
   {
    "duration": 2093,
    "start_time": "2025-01-30T07:05:17.588Z"
   },
   {
    "duration": 6,
    "start_time": "2025-01-30T07:05:19.683Z"
   },
   {
    "duration": 7,
    "start_time": "2025-01-30T07:05:19.691Z"
   },
   {
    "duration": 21,
    "start_time": "2025-01-30T07:05:19.700Z"
   },
   {
    "duration": 13,
    "start_time": "2025-01-30T07:05:19.723Z"
   },
   {
    "duration": 15,
    "start_time": "2025-01-30T07:05:19.738Z"
   },
   {
    "duration": 6,
    "start_time": "2025-01-30T07:05:19.755Z"
   },
   {
    "duration": 15,
    "start_time": "2025-01-30T07:05:19.763Z"
   },
   {
    "duration": 5,
    "start_time": "2025-01-30T07:05:19.782Z"
   },
   {
    "duration": 6,
    "start_time": "2025-01-30T07:05:19.788Z"
   },
   {
    "duration": 18,
    "start_time": "2025-01-30T07:05:19.796Z"
   },
   {
    "duration": 122,
    "start_time": "2025-01-30T07:05:19.816Z"
   },
   {
    "duration": 26,
    "start_time": "2025-01-30T07:05:19.939Z"
   },
   {
    "duration": 22,
    "start_time": "2025-01-30T07:05:19.967Z"
   },
   {
    "duration": 45,
    "start_time": "2025-01-30T07:05:19.991Z"
   },
   {
    "duration": 25,
    "start_time": "2025-01-30T07:05:20.038Z"
   },
   {
    "duration": 56,
    "start_time": "2025-01-30T07:05:20.065Z"
   },
   {
    "duration": 1258,
    "start_time": "2025-01-30T07:05:20.124Z"
   },
   {
    "duration": 6,
    "start_time": "2025-01-30T07:05:21.384Z"
   },
   {
    "duration": 32,
    "start_time": "2025-01-30T07:05:21.392Z"
   },
   {
    "duration": 17,
    "start_time": "2025-01-30T07:05:21.426Z"
   },
   {
    "duration": 142,
    "start_time": "2025-01-30T07:05:21.445Z"
   },
   {
    "duration": 92,
    "start_time": "2025-01-30T07:05:21.589Z"
   },
   {
    "duration": 19,
    "start_time": "2025-01-30T07:05:21.684Z"
   },
   {
    "duration": 34,
    "start_time": "2025-01-30T07:05:21.705Z"
   },
   {
    "duration": 7,
    "start_time": "2025-01-30T07:05:21.741Z"
   },
   {
    "duration": 24,
    "start_time": "2025-01-30T07:05:21.753Z"
   },
   {
    "duration": 13,
    "start_time": "2025-01-30T07:05:21.779Z"
   },
   {
    "duration": 12,
    "start_time": "2025-01-30T07:05:21.794Z"
   },
   {
    "duration": 38,
    "start_time": "2025-01-30T07:05:21.808Z"
   },
   {
    "duration": 30,
    "start_time": "2025-01-30T07:05:21.848Z"
   },
   {
    "duration": 174,
    "start_time": "2025-01-30T07:05:21.880Z"
   },
   {
    "duration": 157,
    "start_time": "2025-01-30T07:05:22.056Z"
   },
   {
    "duration": 20,
    "start_time": "2025-01-30T07:05:22.215Z"
   },
   {
    "duration": 49,
    "start_time": "2025-01-30T07:05:22.237Z"
   },
   {
    "duration": 12,
    "start_time": "2025-01-30T07:05:22.288Z"
   },
   {
    "duration": 135,
    "start_time": "2025-01-30T07:05:22.302Z"
   },
   {
    "duration": 6,
    "start_time": "2025-01-30T07:05:22.438Z"
   },
   {
    "duration": 39,
    "start_time": "2025-01-30T07:05:22.446Z"
   },
   {
    "duration": 81,
    "start_time": "2025-01-30T07:05:22.487Z"
   },
   {
    "duration": 75,
    "start_time": "2025-01-30T07:05:22.570Z"
   },
   {
    "duration": 87,
    "start_time": "2025-01-30T07:05:22.646Z"
   },
   {
    "duration": 26,
    "start_time": "2025-01-30T07:05:22.734Z"
   },
   {
    "duration": 4,
    "start_time": "2025-01-30T07:05:22.761Z"
   },
   {
    "duration": 158,
    "start_time": "2025-01-30T07:05:22.766Z"
   },
   {
    "duration": 93,
    "start_time": "2025-01-30T07:05:22.926Z"
   },
   {
    "duration": 13,
    "start_time": "2025-01-30T07:05:23.021Z"
   },
   {
    "duration": 41,
    "start_time": "2025-01-30T07:05:23.035Z"
   },
   {
    "duration": 65,
    "start_time": "2025-01-30T07:05:23.078Z"
   },
   {
    "duration": 49,
    "start_time": "2025-01-30T07:05:23.145Z"
   },
   {
    "duration": 19,
    "start_time": "2025-01-30T07:05:23.195Z"
   },
   {
    "duration": 29,
    "start_time": "2025-01-30T07:05:23.216Z"
   },
   {
    "duration": 49,
    "start_time": "2025-01-30T07:05:23.247Z"
   },
   {
    "duration": 13,
    "start_time": "2025-01-30T07:05:23.298Z"
   },
   {
    "duration": 47,
    "start_time": "2025-01-30T07:05:23.313Z"
   },
   {
    "duration": 765,
    "start_time": "2025-01-30T07:05:23.362Z"
   },
   {
    "duration": 107,
    "start_time": "2025-01-30T07:05:24.132Z"
   },
   {
    "duration": 227,
    "start_time": "2025-01-30T07:05:37.273Z"
   },
   {
    "duration": 17,
    "start_time": "2025-01-30T07:06:00.585Z"
   },
   {
    "duration": 60,
    "start_time": "2025-01-30T07:06:09.056Z"
   },
   {
    "duration": 35,
    "start_time": "2025-01-30T07:12:40.828Z"
   },
   {
    "duration": 1229,
    "start_time": "2025-01-30T08:00:53.303Z"
   },
   {
    "duration": 23,
    "start_time": "2025-01-30T08:01:36.305Z"
   },
   {
    "duration": 862,
    "start_time": "2025-01-30T08:01:37.160Z"
   },
   {
    "duration": 222,
    "start_time": "2025-01-30T08:01:39.830Z"
   },
   {
    "duration": 60,
    "start_time": "2025-01-30T08:01:42.992Z"
   },
   {
    "duration": 42,
    "start_time": "2025-01-30T08:01:43.744Z"
   },
   {
    "duration": 23,
    "start_time": "2025-01-30T08:01:50.328Z"
   },
   {
    "duration": 1218,
    "start_time": "2025-01-30T08:02:13.841Z"
   },
   {
    "duration": 2032,
    "start_time": "2025-01-30T08:02:15.060Z"
   },
   {
    "duration": 6,
    "start_time": "2025-01-30T08:02:17.093Z"
   },
   {
    "duration": 5,
    "start_time": "2025-01-30T08:02:17.101Z"
   },
   {
    "duration": 19,
    "start_time": "2025-01-30T08:02:17.107Z"
   },
   {
    "duration": 7,
    "start_time": "2025-01-30T08:02:17.128Z"
   },
   {
    "duration": 5,
    "start_time": "2025-01-30T08:02:17.136Z"
   },
   {
    "duration": 7,
    "start_time": "2025-01-30T08:02:17.142Z"
   },
   {
    "duration": 13,
    "start_time": "2025-01-30T08:02:17.151Z"
   },
   {
    "duration": 4,
    "start_time": "2025-01-30T08:02:17.166Z"
   },
   {
    "duration": 6,
    "start_time": "2025-01-30T08:02:17.172Z"
   },
   {
    "duration": 16,
    "start_time": "2025-01-30T08:02:17.179Z"
   },
   {
    "duration": 130,
    "start_time": "2025-01-30T08:02:17.196Z"
   },
   {
    "duration": 27,
    "start_time": "2025-01-30T08:02:17.333Z"
   },
   {
    "duration": 23,
    "start_time": "2025-01-30T08:02:17.362Z"
   },
   {
    "duration": 14,
    "start_time": "2025-01-30T08:02:17.386Z"
   },
   {
    "duration": 35,
    "start_time": "2025-01-30T08:02:17.402Z"
   },
   {
    "duration": 41,
    "start_time": "2025-01-30T08:02:17.439Z"
   },
   {
    "duration": 1378,
    "start_time": "2025-01-30T08:02:17.482Z"
   },
   {
    "duration": 6,
    "start_time": "2025-01-30T08:02:18.861Z"
   },
   {
    "duration": 20,
    "start_time": "2025-01-30T08:02:18.868Z"
   },
   {
    "duration": 15,
    "start_time": "2025-01-30T08:02:18.890Z"
   },
   {
    "duration": 174,
    "start_time": "2025-01-30T08:02:18.907Z"
   },
   {
    "duration": 88,
    "start_time": "2025-01-30T08:02:19.083Z"
   },
   {
    "duration": 19,
    "start_time": "2025-01-30T08:02:19.173Z"
   },
   {
    "duration": 18,
    "start_time": "2025-01-30T08:02:19.194Z"
   },
   {
    "duration": 8,
    "start_time": "2025-01-30T08:02:19.234Z"
   },
   {
    "duration": 18,
    "start_time": "2025-01-30T08:02:19.247Z"
   },
   {
    "duration": 17,
    "start_time": "2025-01-30T08:02:19.267Z"
   },
   {
    "duration": 12,
    "start_time": "2025-01-30T08:02:19.286Z"
   },
   {
    "duration": 42,
    "start_time": "2025-01-30T08:02:19.300Z"
   },
   {
    "duration": 10,
    "start_time": "2025-01-30T08:02:19.344Z"
   },
   {
    "duration": 197,
    "start_time": "2025-01-30T08:02:19.356Z"
   },
   {
    "duration": 170,
    "start_time": "2025-01-30T08:02:19.555Z"
   },
   {
    "duration": 17,
    "start_time": "2025-01-30T08:02:19.727Z"
   },
   {
    "duration": 41,
    "start_time": "2025-01-30T08:02:19.745Z"
   },
   {
    "duration": 11,
    "start_time": "2025-01-30T08:02:19.788Z"
   },
   {
    "duration": 140,
    "start_time": "2025-01-30T08:02:19.800Z"
   },
   {
    "duration": 5,
    "start_time": "2025-01-30T08:02:19.942Z"
   },
   {
    "duration": 14,
    "start_time": "2025-01-30T08:02:19.949Z"
   },
   {
    "duration": 14,
    "start_time": "2025-01-30T08:02:19.965Z"
   },
   {
    "duration": 94,
    "start_time": "2025-01-30T08:02:19.980Z"
   },
   {
    "duration": 87,
    "start_time": "2025-01-30T08:02:20.076Z"
   },
   {
    "duration": 24,
    "start_time": "2025-01-30T08:02:20.165Z"
   },
   {
    "duration": 3,
    "start_time": "2025-01-30T08:02:20.191Z"
   },
   {
    "duration": 163,
    "start_time": "2025-01-30T08:02:20.196Z"
   },
   {
    "duration": 98,
    "start_time": "2025-01-30T08:02:20.361Z"
   },
   {
    "duration": 4,
    "start_time": "2025-01-30T08:02:20.461Z"
   },
   {
    "duration": 38,
    "start_time": "2025-01-30T08:02:20.466Z"
   },
   {
    "duration": 52,
    "start_time": "2025-01-30T08:02:20.505Z"
   },
   {
    "duration": 72,
    "start_time": "2025-01-30T08:02:20.559Z"
   },
   {
    "duration": 25,
    "start_time": "2025-01-30T08:02:20.633Z"
   },
   {
    "duration": 8,
    "start_time": "2025-01-30T08:02:20.660Z"
   },
   {
    "duration": 58,
    "start_time": "2025-01-30T08:02:20.670Z"
   },
   {
    "duration": 40,
    "start_time": "2025-01-30T08:02:20.729Z"
   },
   {
    "duration": 103,
    "start_time": "2025-01-30T08:02:20.770Z"
   },
   {
    "duration": 902,
    "start_time": "2025-01-30T08:02:20.874Z"
   },
   {
    "duration": 240,
    "start_time": "2025-01-30T08:02:21.778Z"
   },
   {
    "duration": 69,
    "start_time": "2025-01-30T08:02:22.019Z"
   },
   {
    "duration": 55,
    "start_time": "2025-01-30T08:02:22.090Z"
   },
   {
    "duration": 116,
    "start_time": "2025-01-30T08:02:22.147Z"
   },
   {
    "duration": 19,
    "start_time": "2025-01-30T08:03:14.440Z"
   },
   {
    "duration": 4,
    "start_time": "2025-01-30T08:03:58.873Z"
   },
   {
    "duration": 17,
    "start_time": "2025-01-30T08:04:32.649Z"
   },
   {
    "duration": 20,
    "start_time": "2025-01-30T08:04:40.297Z"
   },
   {
    "duration": 4,
    "start_time": "2025-01-30T08:05:32.184Z"
   },
   {
    "duration": 26,
    "start_time": "2025-01-30T08:05:58.954Z"
   },
   {
    "duration": 21,
    "start_time": "2025-01-30T08:06:00.489Z"
   },
   {
    "duration": 4,
    "start_time": "2025-01-30T08:06:01.187Z"
   },
   {
    "duration": 4,
    "start_time": "2025-01-30T08:13:02.891Z"
   },
   {
    "duration": 293,
    "start_time": "2025-01-30T08:13:11.859Z"
   },
   {
    "duration": 31,
    "start_time": "2025-01-30T08:15:46.461Z"
   },
   {
    "duration": 21,
    "start_time": "2025-01-30T08:15:48.629Z"
   },
   {
    "duration": 4,
    "start_time": "2025-01-30T08:15:55.527Z"
   },
   {
    "duration": 26,
    "start_time": "2025-01-30T08:18:06.797Z"
   },
   {
    "duration": 20,
    "start_time": "2025-01-30T08:18:08.702Z"
   },
   {
    "duration": 4,
    "start_time": "2025-01-30T08:23:17.488Z"
   },
   {
    "duration": 113,
    "start_time": "2025-01-30T08:25:38.697Z"
   },
   {
    "duration": 9,
    "start_time": "2025-01-30T08:27:32.345Z"
   },
   {
    "duration": 67,
    "start_time": "2025-01-30T08:27:43.289Z"
   },
   {
    "duration": 27,
    "start_time": "2025-01-30T08:41:03.166Z"
   },
   {
    "duration": 21,
    "start_time": "2025-01-30T08:41:04.038Z"
   },
   {
    "duration": 4,
    "start_time": "2025-01-30T08:41:04.759Z"
   },
   {
    "duration": 109,
    "start_time": "2025-01-30T08:41:36.759Z"
   },
   {
    "duration": 9,
    "start_time": "2025-01-30T08:48:34.006Z"
   },
   {
    "duration": 19,
    "start_time": "2025-01-30T08:49:09.858Z"
   },
   {
    "duration": 40,
    "start_time": "2025-01-30T08:49:32.883Z"
   },
   {
    "duration": 15,
    "start_time": "2025-01-30T08:52:08.436Z"
   },
   {
    "duration": 94,
    "start_time": "2025-01-30T08:52:49.428Z"
   },
   {
    "duration": 141,
    "start_time": "2025-01-30T08:53:19.291Z"
   },
   {
    "duration": 6,
    "start_time": "2025-01-30T08:53:48.141Z"
   },
   {
    "duration": 8,
    "start_time": "2025-01-30T08:54:00.028Z"
   },
   {
    "duration": 1918,
    "start_time": "2025-01-30T09:04:05.826Z"
   },
   {
    "duration": 28,
    "start_time": "2025-01-30T09:10:50.940Z"
   },
   {
    "duration": 7,
    "start_time": "2025-01-30T09:18:25.910Z"
   },
   {
    "duration": 6,
    "start_time": "2025-01-30T09:18:52.879Z"
   },
   {
    "duration": 6,
    "start_time": "2025-01-30T09:19:34.742Z"
   },
   {
    "duration": 5,
    "start_time": "2025-01-30T09:22:46.176Z"
   },
   {
    "duration": 6,
    "start_time": "2025-01-30T09:25:42.457Z"
   },
   {
    "duration": 6,
    "start_time": "2025-01-30T09:25:43.769Z"
   },
   {
    "duration": 310,
    "start_time": "2025-01-30T09:36:00.606Z"
   },
   {
    "duration": 11,
    "start_time": "2025-01-30T09:42:25.918Z"
   },
   {
    "duration": 9,
    "start_time": "2025-01-30T09:43:33.009Z"
   },
   {
    "duration": 4,
    "start_time": "2025-01-30T09:43:57.984Z"
   },
   {
    "duration": 7,
    "start_time": "2025-01-30T09:44:01.825Z"
   },
   {
    "duration": 1237,
    "start_time": "2025-01-30T11:15:27.218Z"
   },
   {
    "duration": 1952,
    "start_time": "2025-01-30T11:15:28.456Z"
   },
   {
    "duration": 7,
    "start_time": "2025-01-30T11:15:30.409Z"
   },
   {
    "duration": 63,
    "start_time": "2025-01-30T11:15:30.419Z"
   },
   {
    "duration": 81,
    "start_time": "2025-01-30T11:15:30.485Z"
   },
   {
    "duration": 17,
    "start_time": "2025-01-30T11:15:30.568Z"
   },
   {
    "duration": 32,
    "start_time": "2025-01-30T11:15:30.587Z"
   },
   {
    "duration": 53,
    "start_time": "2025-01-30T11:15:30.621Z"
   },
   {
    "duration": 21,
    "start_time": "2025-01-30T11:15:30.677Z"
   },
   {
    "duration": 23,
    "start_time": "2025-01-30T11:15:30.702Z"
   },
   {
    "duration": 19,
    "start_time": "2025-01-30T11:15:30.726Z"
   },
   {
    "duration": 30,
    "start_time": "2025-01-30T11:15:30.747Z"
   },
   {
    "duration": 122,
    "start_time": "2025-01-30T11:15:30.779Z"
   },
   {
    "duration": 36,
    "start_time": "2025-01-30T11:15:30.903Z"
   },
   {
    "duration": 34,
    "start_time": "2025-01-30T11:15:30.941Z"
   },
   {
    "duration": 15,
    "start_time": "2025-01-30T11:15:30.977Z"
   },
   {
    "duration": 12,
    "start_time": "2025-01-30T11:15:30.993Z"
   },
   {
    "duration": 65,
    "start_time": "2025-01-30T11:15:31.007Z"
   },
   {
    "duration": 1262,
    "start_time": "2025-01-30T11:15:31.074Z"
   },
   {
    "duration": 5,
    "start_time": "2025-01-30T11:15:32.338Z"
   },
   {
    "duration": 48,
    "start_time": "2025-01-30T11:15:32.344Z"
   },
   {
    "duration": 43,
    "start_time": "2025-01-30T11:15:32.394Z"
   },
   {
    "duration": 162,
    "start_time": "2025-01-30T11:15:32.439Z"
   },
   {
    "duration": 83,
    "start_time": "2025-01-30T11:15:32.603Z"
   },
   {
    "duration": 17,
    "start_time": "2025-01-30T11:15:32.688Z"
   },
   {
    "duration": 37,
    "start_time": "2025-01-30T11:15:32.707Z"
   },
   {
    "duration": 7,
    "start_time": "2025-01-30T11:15:32.745Z"
   },
   {
    "duration": 30,
    "start_time": "2025-01-30T11:15:32.757Z"
   },
   {
    "duration": 35,
    "start_time": "2025-01-30T11:15:32.789Z"
   },
   {
    "duration": 25,
    "start_time": "2025-01-30T11:15:32.825Z"
   },
   {
    "duration": 29,
    "start_time": "2025-01-30T11:15:32.852Z"
   },
   {
    "duration": 17,
    "start_time": "2025-01-30T11:15:32.883Z"
   },
   {
    "duration": 196,
    "start_time": "2025-01-30T11:15:32.902Z"
   },
   {
    "duration": 160,
    "start_time": "2025-01-30T11:15:33.099Z"
   },
   {
    "duration": 12,
    "start_time": "2025-01-30T11:15:33.260Z"
   },
   {
    "duration": 52,
    "start_time": "2025-01-30T11:15:33.274Z"
   },
   {
    "duration": 24,
    "start_time": "2025-01-30T11:15:33.327Z"
   },
   {
    "duration": 137,
    "start_time": "2025-01-30T11:15:33.353Z"
   },
   {
    "duration": 6,
    "start_time": "2025-01-30T11:15:33.491Z"
   },
   {
    "duration": 12,
    "start_time": "2025-01-30T11:15:33.499Z"
   },
   {
    "duration": 25,
    "start_time": "2025-01-30T11:15:33.512Z"
   },
   {
    "duration": 120,
    "start_time": "2025-01-30T11:15:33.538Z"
   },
   {
    "duration": 91,
    "start_time": "2025-01-30T11:15:33.660Z"
   },
   {
    "duration": 25,
    "start_time": "2025-01-30T11:15:33.752Z"
   },
   {
    "duration": 18,
    "start_time": "2025-01-30T11:15:33.779Z"
   },
   {
    "duration": 155,
    "start_time": "2025-01-30T11:15:33.798Z"
   },
   {
    "duration": 93,
    "start_time": "2025-01-30T11:15:33.955Z"
   },
   {
    "duration": 4,
    "start_time": "2025-01-30T11:15:34.049Z"
   },
   {
    "duration": 23,
    "start_time": "2025-01-30T11:15:34.054Z"
   },
   {
    "duration": 43,
    "start_time": "2025-01-30T11:15:34.079Z"
   },
   {
    "duration": 54,
    "start_time": "2025-01-30T11:15:34.124Z"
   },
   {
    "duration": 20,
    "start_time": "2025-01-30T11:15:34.179Z"
   },
   {
    "duration": 6,
    "start_time": "2025-01-30T11:15:34.200Z"
   },
   {
    "duration": 50,
    "start_time": "2025-01-30T11:15:34.208Z"
   },
   {
    "duration": 13,
    "start_time": "2025-01-30T11:15:34.260Z"
   },
   {
    "duration": 39,
    "start_time": "2025-01-30T11:15:34.274Z"
   },
   {
    "duration": 819,
    "start_time": "2025-01-30T11:15:34.314Z"
   },
   {
    "duration": 235,
    "start_time": "2025-01-30T11:15:35.135Z"
   },
   {
    "duration": 69,
    "start_time": "2025-01-30T11:15:35.372Z"
   },
   {
    "duration": 57,
    "start_time": "2025-01-30T11:15:35.442Z"
   },
   {
    "duration": 31,
    "start_time": "2025-01-30T11:15:35.501Z"
   },
   {
    "duration": 21,
    "start_time": "2025-01-30T11:15:35.534Z"
   },
   {
    "duration": 125,
    "start_time": "2025-01-30T11:15:35.557Z"
   },
   {
    "duration": 137,
    "start_time": "2025-01-30T11:15:35.684Z"
   },
   {
    "duration": 74,
    "start_time": "2025-01-30T11:15:35.823Z"
   },
   {
    "duration": 54,
    "start_time": "2025-01-30T11:15:35.898Z"
   },
   {
    "duration": 15,
    "start_time": "2025-01-30T11:15:35.954Z"
   },
   {
    "duration": 29,
    "start_time": "2025-01-30T11:15:35.970Z"
   },
   {
    "duration": 70,
    "start_time": "2025-01-30T11:15:36.001Z"
   },
   {
    "duration": 50,
    "start_time": "2025-01-30T11:15:36.073Z"
   },
   {
    "duration": 20,
    "start_time": "2025-01-30T11:15:36.125Z"
   },
   {
    "duration": 23,
    "start_time": "2025-01-30T11:15:36.146Z"
   },
   {
    "duration": 29,
    "start_time": "2025-01-30T11:15:36.170Z"
   },
   {
    "duration": 4,
    "start_time": "2025-01-30T12:18:49.161Z"
   },
   {
    "duration": 6,
    "start_time": "2025-01-30T12:22:40.273Z"
   },
   {
    "duration": 95,
    "start_time": "2025-01-30T12:38:25.911Z"
   },
   {
    "duration": 197,
    "start_time": "2025-01-30T12:38:57.528Z"
   },
   {
    "duration": 170,
    "start_time": "2025-01-30T12:40:31.471Z"
   },
   {
    "duration": 172,
    "start_time": "2025-01-30T12:40:54.089Z"
   },
   {
    "duration": 166,
    "start_time": "2025-01-30T12:43:18.041Z"
   },
   {
    "duration": 273,
    "start_time": "2025-01-30T12:50:39.941Z"
   },
   {
    "duration": 1394,
    "start_time": "2025-01-31T07:29:19.321Z"
   },
   {
    "duration": 2514,
    "start_time": "2025-01-31T07:29:20.717Z"
   },
   {
    "duration": 6,
    "start_time": "2025-01-31T07:29:23.233Z"
   },
   {
    "duration": 17,
    "start_time": "2025-01-31T07:29:23.241Z"
   },
   {
    "duration": 5,
    "start_time": "2025-01-31T07:29:23.260Z"
   },
   {
    "duration": 14,
    "start_time": "2025-01-31T07:29:23.266Z"
   },
   {
    "duration": 16,
    "start_time": "2025-01-31T07:29:23.281Z"
   },
   {
    "duration": 41,
    "start_time": "2025-01-31T07:29:23.299Z"
   },
   {
    "duration": 9,
    "start_time": "2025-01-31T07:29:23.341Z"
   },
   {
    "duration": 6,
    "start_time": "2025-01-31T07:29:23.353Z"
   },
   {
    "duration": 22,
    "start_time": "2025-01-31T07:29:23.360Z"
   },
   {
    "duration": 17,
    "start_time": "2025-01-31T07:29:23.383Z"
   },
   {
    "duration": 107,
    "start_time": "2025-01-31T07:29:23.402Z"
   },
   {
    "duration": 25,
    "start_time": "2025-01-31T07:29:23.511Z"
   },
   {
    "duration": 68,
    "start_time": "2025-01-31T07:29:23.538Z"
   },
   {
    "duration": 14,
    "start_time": "2025-01-31T07:29:23.607Z"
   },
   {
    "duration": 9,
    "start_time": "2025-01-31T07:29:23.623Z"
   },
   {
    "duration": 53,
    "start_time": "2025-01-31T07:29:23.634Z"
   },
   {
    "duration": 1206,
    "start_time": "2025-01-31T07:29:23.688Z"
   },
   {
    "duration": 4,
    "start_time": "2025-01-31T07:29:24.896Z"
   },
   {
    "duration": 14,
    "start_time": "2025-01-31T07:29:24.902Z"
   },
   {
    "duration": 15,
    "start_time": "2025-01-31T07:29:24.917Z"
   },
   {
    "duration": 157,
    "start_time": "2025-01-31T07:29:24.933Z"
   },
   {
    "duration": 89,
    "start_time": "2025-01-31T07:29:25.092Z"
   },
   {
    "duration": 19,
    "start_time": "2025-01-31T07:29:25.183Z"
   },
   {
    "duration": 20,
    "start_time": "2025-01-31T07:29:25.204Z"
   },
   {
    "duration": 8,
    "start_time": "2025-01-31T07:29:25.226Z"
   },
   {
    "duration": 14,
    "start_time": "2025-01-31T07:29:25.237Z"
   },
   {
    "duration": 32,
    "start_time": "2025-01-31T07:29:25.252Z"
   },
   {
    "duration": 15,
    "start_time": "2025-01-31T07:29:25.286Z"
   },
   {
    "duration": 41,
    "start_time": "2025-01-31T07:29:25.302Z"
   },
   {
    "duration": 11,
    "start_time": "2025-01-31T07:29:25.345Z"
   },
   {
    "duration": 166,
    "start_time": "2025-01-31T07:29:25.358Z"
   },
   {
    "duration": 158,
    "start_time": "2025-01-31T07:29:25.526Z"
   },
   {
    "duration": 12,
    "start_time": "2025-01-31T07:29:25.686Z"
   },
   {
    "duration": 50,
    "start_time": "2025-01-31T07:29:25.700Z"
   },
   {
    "duration": 12,
    "start_time": "2025-01-31T07:29:25.751Z"
   },
   {
    "duration": 134,
    "start_time": "2025-01-31T07:29:25.764Z"
   },
   {
    "duration": 6,
    "start_time": "2025-01-31T07:29:25.899Z"
   },
   {
    "duration": 8,
    "start_time": "2025-01-31T07:29:25.906Z"
   },
   {
    "duration": 13,
    "start_time": "2025-01-31T07:29:25.915Z"
   },
   {
    "duration": 93,
    "start_time": "2025-01-31T07:29:25.930Z"
   },
   {
    "duration": 92,
    "start_time": "2025-01-31T07:29:26.025Z"
   },
   {
    "duration": 26,
    "start_time": "2025-01-31T07:29:26.119Z"
   },
   {
    "duration": 3,
    "start_time": "2025-01-31T07:29:26.147Z"
   },
   {
    "duration": 160,
    "start_time": "2025-01-31T07:29:26.152Z"
   },
   {
    "duration": 94,
    "start_time": "2025-01-31T07:29:26.313Z"
   },
   {
    "duration": 4,
    "start_time": "2025-01-31T07:29:26.409Z"
   },
   {
    "duration": 17,
    "start_time": "2025-01-31T07:29:26.415Z"
   },
   {
    "duration": 55,
    "start_time": "2025-01-31T07:29:26.433Z"
   },
   {
    "duration": 49,
    "start_time": "2025-01-31T07:29:26.490Z"
   },
   {
    "duration": 22,
    "start_time": "2025-01-31T07:29:26.540Z"
   },
   {
    "duration": 11,
    "start_time": "2025-01-31T07:29:26.564Z"
   },
   {
    "duration": 40,
    "start_time": "2025-01-31T07:29:26.577Z"
   },
   {
    "duration": 89,
    "start_time": "2025-01-31T07:29:26.619Z"
   },
   {
    "duration": 72,
    "start_time": "2025-01-31T07:29:26.709Z"
   },
   {
    "duration": 779,
    "start_time": "2025-01-31T07:29:26.782Z"
   },
   {
    "duration": 220,
    "start_time": "2025-01-31T07:29:27.563Z"
   },
   {
    "duration": 60,
    "start_time": "2025-01-31T07:29:27.784Z"
   },
   {
    "duration": 58,
    "start_time": "2025-01-31T07:29:27.846Z"
   },
   {
    "duration": 35,
    "start_time": "2025-01-31T07:29:27.906Z"
   },
   {
    "duration": 36,
    "start_time": "2025-01-31T07:29:27.942Z"
   },
   {
    "duration": 8,
    "start_time": "2025-01-31T07:29:27.980Z"
   },
   {
    "duration": 135,
    "start_time": "2025-01-31T07:29:27.990Z"
   },
   {
    "duration": 83,
    "start_time": "2025-01-31T07:29:28.128Z"
   },
   {
    "duration": 39,
    "start_time": "2025-01-31T07:29:28.213Z"
   },
   {
    "duration": 77,
    "start_time": "2025-01-31T07:29:28.253Z"
   },
   {
    "duration": 29,
    "start_time": "2025-01-31T07:29:28.331Z"
   },
   {
    "duration": 9,
    "start_time": "2025-01-31T07:29:28.361Z"
   },
   {
    "duration": 6,
    "start_time": "2025-01-31T07:29:28.371Z"
   },
   {
    "duration": 6,
    "start_time": "2025-01-31T07:29:28.378Z"
   },
   {
    "duration": 4,
    "start_time": "2025-01-31T07:29:28.385Z"
   },
   {
    "duration": 20,
    "start_time": "2025-01-31T07:29:28.391Z"
   },
   {
    "duration": 4,
    "start_time": "2025-01-31T07:29:28.413Z"
   },
   {
    "duration": 5,
    "start_time": "2025-01-31T07:29:28.419Z"
   },
   {
    "duration": 211,
    "start_time": "2025-01-31T07:29:28.425Z"
   },
   {
    "duration": 172,
    "start_time": "2025-01-31T07:29:42.117Z"
   },
   {
    "duration": 107,
    "start_time": "2025-01-31T07:31:23.446Z"
   },
   {
    "duration": 12,
    "start_time": "2025-01-31T07:34:32.872Z"
   },
   {
    "duration": 13,
    "start_time": "2025-01-31T07:34:50.167Z"
   },
   {
    "duration": 89,
    "start_time": "2025-01-31T07:35:01.024Z"
   },
   {
    "duration": 12,
    "start_time": "2025-01-31T07:35:54.896Z"
   },
   {
    "duration": 64,
    "start_time": "2025-01-31T07:35:55.582Z"
   },
   {
    "duration": 31,
    "start_time": "2025-01-31T07:37:34.849Z"
   },
   {
    "duration": 191,
    "start_time": "2025-01-31T07:37:41.168Z"
   },
   {
    "duration": 17,
    "start_time": "2025-01-31T07:39:24.010Z"
   },
   {
    "duration": 9,
    "start_time": "2025-01-31T07:41:24.331Z"
   },
   {
    "duration": 139,
    "start_time": "2025-01-31T07:41:33.604Z"
   },
   {
    "duration": 13,
    "start_time": "2025-01-31T07:42:01.131Z"
   },
   {
    "duration": 39,
    "start_time": "2025-01-31T07:42:01.780Z"
   },
   {
    "duration": 411,
    "start_time": "2025-01-31T07:46:48.397Z"
   },
   {
    "duration": 262,
    "start_time": "2025-01-31T07:47:37.718Z"
   },
   {
    "duration": 10,
    "start_time": "2025-01-31T07:51:46.440Z"
   },
   {
    "duration": 14,
    "start_time": "2025-01-31T07:52:55.304Z"
   },
   {
    "duration": 41,
    "start_time": "2025-01-31T07:53:57.800Z"
   },
   {
    "duration": 361,
    "start_time": "2025-01-31T07:54:15.328Z"
   },
   {
    "duration": 14,
    "start_time": "2025-01-31T07:57:29.753Z"
   },
   {
    "duration": 2007,
    "start_time": "2025-01-31T07:57:40.723Z"
   },
   {
    "duration": 5,
    "start_time": "2025-01-31T07:59:36.768Z"
   },
   {
    "duration": 19,
    "start_time": "2025-01-31T07:59:47.058Z"
   },
   {
    "duration": 12,
    "start_time": "2025-01-31T08:00:39.667Z"
   },
   {
    "duration": 213,
    "start_time": "2025-01-31T08:00:54.484Z"
   },
   {
    "duration": 3,
    "start_time": "2025-01-31T08:02:23.653Z"
   },
   {
    "duration": 8,
    "start_time": "2025-01-31T08:02:39.508Z"
   },
   {
    "duration": 4,
    "start_time": "2025-01-31T08:02:55.812Z"
   },
   {
    "duration": 9,
    "start_time": "2025-01-31T08:02:59.148Z"
   },
   {
    "duration": 210,
    "start_time": "2025-01-31T08:03:06.574Z"
   },
   {
    "duration": 5,
    "start_time": "2025-01-31T08:04:30.981Z"
   },
   {
    "duration": 7,
    "start_time": "2025-01-31T08:04:32.180Z"
   },
   {
    "duration": 242,
    "start_time": "2025-01-31T08:04:34.038Z"
   },
   {
    "duration": 252,
    "start_time": "2025-01-31T08:05:31.335Z"
   },
   {
    "duration": 13,
    "start_time": "2025-01-31T08:06:34.438Z"
   },
   {
    "duration": 230,
    "start_time": "2025-01-31T08:07:03.968Z"
   },
   {
    "duration": 234,
    "start_time": "2025-01-31T08:07:12.080Z"
   },
   {
    "duration": 231,
    "start_time": "2025-01-31T08:07:54.055Z"
   },
   {
    "duration": 17,
    "start_time": "2025-01-31T08:12:14.602Z"
   },
   {
    "duration": 566,
    "start_time": "2025-01-31T08:14:58.154Z"
   },
   {
    "duration": 338,
    "start_time": "2025-01-31T08:15:39.042Z"
   },
   {
    "duration": 341,
    "start_time": "2025-01-31T08:18:28.724Z"
   },
   {
    "duration": 352,
    "start_time": "2025-01-31T08:21:25.693Z"
   },
   {
    "duration": 1333,
    "start_time": "2025-01-31T09:36:59.769Z"
   },
   {
    "duration": 2174,
    "start_time": "2025-01-31T09:37:01.104Z"
   },
   {
    "duration": 6,
    "start_time": "2025-01-31T09:37:03.280Z"
   },
   {
    "duration": 41,
    "start_time": "2025-01-31T09:37:03.288Z"
   },
   {
    "duration": 4,
    "start_time": "2025-01-31T09:37:03.331Z"
   },
   {
    "duration": 5,
    "start_time": "2025-01-31T09:37:03.337Z"
   },
   {
    "duration": 7,
    "start_time": "2025-01-31T09:37:03.343Z"
   },
   {
    "duration": 10,
    "start_time": "2025-01-31T09:37:03.351Z"
   },
   {
    "duration": 7,
    "start_time": "2025-01-31T09:37:03.362Z"
   },
   {
    "duration": 3,
    "start_time": "2025-01-31T09:37:03.372Z"
   },
   {
    "duration": 21,
    "start_time": "2025-01-31T09:37:03.377Z"
   },
   {
    "duration": 30,
    "start_time": "2025-01-31T09:37:03.399Z"
   },
   {
    "duration": 104,
    "start_time": "2025-01-31T09:37:03.431Z"
   },
   {
    "duration": 26,
    "start_time": "2025-01-31T09:37:03.537Z"
   },
   {
    "duration": 33,
    "start_time": "2025-01-31T09:37:03.564Z"
   },
   {
    "duration": 14,
    "start_time": "2025-01-31T09:37:03.599Z"
   },
   {
    "duration": 11,
    "start_time": "2025-01-31T09:37:03.615Z"
   },
   {
    "duration": 65,
    "start_time": "2025-01-31T09:37:03.627Z"
   },
   {
    "duration": 1258,
    "start_time": "2025-01-31T09:37:03.694Z"
   },
   {
    "duration": 5,
    "start_time": "2025-01-31T09:37:04.953Z"
   },
   {
    "duration": 10,
    "start_time": "2025-01-31T09:37:04.975Z"
   },
   {
    "duration": 24,
    "start_time": "2025-01-31T09:37:04.987Z"
   },
   {
    "duration": 173,
    "start_time": "2025-01-31T09:37:05.013Z"
   },
   {
    "duration": 87,
    "start_time": "2025-01-31T09:37:05.188Z"
   },
   {
    "duration": 20,
    "start_time": "2025-01-31T09:37:05.277Z"
   },
   {
    "duration": 62,
    "start_time": "2025-01-31T09:37:05.299Z"
   },
   {
    "duration": 15,
    "start_time": "2025-01-31T09:37:05.363Z"
   },
   {
    "duration": 39,
    "start_time": "2025-01-31T09:37:05.385Z"
   },
   {
    "duration": 23,
    "start_time": "2025-01-31T09:37:05.427Z"
   },
   {
    "duration": 23,
    "start_time": "2025-01-31T09:37:05.452Z"
   },
   {
    "duration": 103,
    "start_time": "2025-01-31T09:37:05.477Z"
   },
   {
    "duration": 15,
    "start_time": "2025-01-31T09:37:05.581Z"
   },
   {
    "duration": 189,
    "start_time": "2025-01-31T09:37:05.598Z"
   },
   {
    "duration": 164,
    "start_time": "2025-01-31T09:37:05.788Z"
   },
   {
    "duration": 21,
    "start_time": "2025-01-31T09:37:05.954Z"
   },
   {
    "duration": 50,
    "start_time": "2025-01-31T09:37:05.976Z"
   },
   {
    "duration": 11,
    "start_time": "2025-01-31T09:37:06.028Z"
   },
   {
    "duration": 152,
    "start_time": "2025-01-31T09:37:06.041Z"
   },
   {
    "duration": 12,
    "start_time": "2025-01-31T09:37:06.195Z"
   },
   {
    "duration": 27,
    "start_time": "2025-01-31T09:37:06.208Z"
   },
   {
    "duration": 13,
    "start_time": "2025-01-31T09:37:06.237Z"
   },
   {
    "duration": 112,
    "start_time": "2025-01-31T09:37:06.251Z"
   },
   {
    "duration": 86,
    "start_time": "2025-01-31T09:37:06.364Z"
   },
   {
    "duration": 33,
    "start_time": "2025-01-31T09:37:06.452Z"
   },
   {
    "duration": 8,
    "start_time": "2025-01-31T09:37:06.486Z"
   },
   {
    "duration": 146,
    "start_time": "2025-01-31T09:37:06.496Z"
   },
   {
    "duration": 91,
    "start_time": "2025-01-31T09:37:06.644Z"
   },
   {
    "duration": 4,
    "start_time": "2025-01-31T09:37:06.736Z"
   },
   {
    "duration": 38,
    "start_time": "2025-01-31T09:37:06.741Z"
   },
   {
    "duration": 38,
    "start_time": "2025-01-31T09:37:06.781Z"
   },
   {
    "duration": 65,
    "start_time": "2025-01-31T09:37:06.821Z"
   },
   {
    "duration": 14,
    "start_time": "2025-01-31T09:37:06.887Z"
   },
   {
    "duration": 13,
    "start_time": "2025-01-31T09:37:06.903Z"
   },
   {
    "duration": 66,
    "start_time": "2025-01-31T09:37:06.917Z"
   },
   {
    "duration": 12,
    "start_time": "2025-01-31T09:37:06.984Z"
   },
   {
    "duration": 35,
    "start_time": "2025-01-31T09:37:06.997Z"
   },
   {
    "duration": 844,
    "start_time": "2025-01-31T09:37:07.034Z"
   },
   {
    "duration": 269,
    "start_time": "2025-01-31T09:37:07.879Z"
   },
   {
    "duration": 96,
    "start_time": "2025-01-31T09:37:08.150Z"
   },
   {
    "duration": 55,
    "start_time": "2025-01-31T09:37:08.248Z"
   },
   {
    "duration": 26,
    "start_time": "2025-01-31T09:37:08.305Z"
   },
   {
    "duration": 19,
    "start_time": "2025-01-31T09:37:08.333Z"
   },
   {
    "duration": 23,
    "start_time": "2025-01-31T09:37:08.354Z"
   },
   {
    "duration": 126,
    "start_time": "2025-01-31T09:37:08.379Z"
   },
   {
    "duration": 85,
    "start_time": "2025-01-31T09:37:08.506Z"
   },
   {
    "duration": 75,
    "start_time": "2025-01-31T09:37:08.592Z"
   },
   {
    "duration": 14,
    "start_time": "2025-01-31T09:37:08.668Z"
   },
   {
    "duration": 28,
    "start_time": "2025-01-31T09:37:08.684Z"
   },
   {
    "duration": 14,
    "start_time": "2025-01-31T09:37:08.713Z"
   },
   {
    "duration": 6,
    "start_time": "2025-01-31T09:37:08.728Z"
   },
   {
    "duration": 12,
    "start_time": "2025-01-31T09:37:08.736Z"
   },
   {
    "duration": 16,
    "start_time": "2025-01-31T09:37:08.749Z"
   },
   {
    "duration": 8,
    "start_time": "2025-01-31T09:37:08.774Z"
   },
   {
    "duration": 25,
    "start_time": "2025-01-31T09:37:08.784Z"
   },
   {
    "duration": 4,
    "start_time": "2025-01-31T09:37:08.810Z"
   },
   {
    "duration": 8,
    "start_time": "2025-01-31T09:37:08.816Z"
   },
   {
    "duration": 12,
    "start_time": "2025-01-31T09:37:08.825Z"
   },
   {
    "duration": 254,
    "start_time": "2025-01-31T09:37:08.839Z"
   },
   {
    "duration": 149,
    "start_time": "2025-01-31T09:37:09.095Z"
   },
   {
    "duration": 385,
    "start_time": "2025-01-31T09:37:09.246Z"
   },
   {
    "duration": 54,
    "start_time": "2025-01-31T09:37:09.633Z"
   },
   {
    "duration": 198,
    "start_time": "2025-01-31T09:37:09.693Z"
   },
   {
    "duration": 169,
    "start_time": "2025-01-31T10:24:36.542Z"
   },
   {
    "duration": 165,
    "start_time": "2025-01-31T10:24:49.475Z"
   },
   {
    "duration": 80,
    "start_time": "2025-01-31T10:30:16.231Z"
   },
   {
    "duration": 74,
    "start_time": "2025-01-31T10:32:00.557Z"
   },
   {
    "duration": 82,
    "start_time": "2025-01-31T10:34:32.888Z"
   },
   {
    "duration": 80,
    "start_time": "2025-01-31T10:35:07.144Z"
   },
   {
    "duration": 61,
    "start_time": "2025-01-31T10:38:24.202Z"
   },
   {
    "duration": 149,
    "start_time": "2025-01-31T10:44:50.082Z"
   },
   {
    "duration": 2141,
    "start_time": "2025-01-31T12:07:43.554Z"
   },
   {
    "duration": 2765,
    "start_time": "2025-01-31T12:07:45.697Z"
   },
   {
    "duration": 12,
    "start_time": "2025-01-31T12:07:48.464Z"
   },
   {
    "duration": 5,
    "start_time": "2025-01-31T12:07:48.478Z"
   },
   {
    "duration": 11,
    "start_time": "2025-01-31T12:07:48.484Z"
   },
   {
    "duration": 17,
    "start_time": "2025-01-31T12:07:48.497Z"
   },
   {
    "duration": 4,
    "start_time": "2025-01-31T12:07:48.515Z"
   },
   {
    "duration": 18,
    "start_time": "2025-01-31T12:07:48.521Z"
   },
   {
    "duration": 4,
    "start_time": "2025-01-31T12:07:48.540Z"
   },
   {
    "duration": 6,
    "start_time": "2025-01-31T12:07:48.547Z"
   },
   {
    "duration": 21,
    "start_time": "2025-01-31T12:07:48.554Z"
   },
   {
    "duration": 14,
    "start_time": "2025-01-31T12:07:48.576Z"
   },
   {
    "duration": 118,
    "start_time": "2025-01-31T12:07:48.591Z"
   },
   {
    "duration": 26,
    "start_time": "2025-01-31T12:07:48.711Z"
   },
   {
    "duration": 37,
    "start_time": "2025-01-31T12:07:48.739Z"
   },
   {
    "duration": 14,
    "start_time": "2025-01-31T12:07:48.778Z"
   },
   {
    "duration": 11,
    "start_time": "2025-01-31T12:07:48.794Z"
   },
   {
    "duration": 41,
    "start_time": "2025-01-31T12:07:48.806Z"
   },
   {
    "duration": 1238,
    "start_time": "2025-01-31T12:07:48.849Z"
   },
   {
    "duration": 5,
    "start_time": "2025-01-31T12:07:50.089Z"
   },
   {
    "duration": 9,
    "start_time": "2025-01-31T12:07:50.095Z"
   },
   {
    "duration": 108,
    "start_time": "2025-01-31T12:07:50.106Z"
   },
   {
    "duration": 141,
    "start_time": "2025-01-31T12:07:50.215Z"
   },
   {
    "duration": 85,
    "start_time": "2025-01-31T12:07:50.357Z"
   },
   {
    "duration": 18,
    "start_time": "2025-01-31T12:07:50.444Z"
   },
   {
    "duration": 25,
    "start_time": "2025-01-31T12:07:50.463Z"
   },
   {
    "duration": 6,
    "start_time": "2025-01-31T12:07:50.490Z"
   },
   {
    "duration": 14,
    "start_time": "2025-01-31T12:07:50.500Z"
   },
   {
    "duration": 11,
    "start_time": "2025-01-31T12:07:50.515Z"
   },
   {
    "duration": 12,
    "start_time": "2025-01-31T12:07:50.527Z"
   },
   {
    "duration": 49,
    "start_time": "2025-01-31T12:07:50.540Z"
   },
   {
    "duration": 10,
    "start_time": "2025-01-31T12:07:50.591Z"
   },
   {
    "duration": 183,
    "start_time": "2025-01-31T12:07:50.603Z"
   },
   {
    "duration": 159,
    "start_time": "2025-01-31T12:07:50.788Z"
   },
   {
    "duration": 13,
    "start_time": "2025-01-31T12:07:50.949Z"
   },
   {
    "duration": 63,
    "start_time": "2025-01-31T12:07:50.963Z"
   },
   {
    "duration": 12,
    "start_time": "2025-01-31T12:07:51.027Z"
   },
   {
    "duration": 119,
    "start_time": "2025-01-31T12:07:51.041Z"
   },
   {
    "duration": 13,
    "start_time": "2025-01-31T12:07:51.161Z"
   },
   {
    "duration": 5,
    "start_time": "2025-01-31T12:07:51.176Z"
   },
   {
    "duration": 20,
    "start_time": "2025-01-31T12:07:51.183Z"
   },
   {
    "duration": 78,
    "start_time": "2025-01-31T12:07:51.204Z"
   },
   {
    "duration": 114,
    "start_time": "2025-01-31T12:07:51.284Z"
   },
   {
    "duration": 24,
    "start_time": "2025-01-31T12:07:51.400Z"
   },
   {
    "duration": 10,
    "start_time": "2025-01-31T12:07:51.426Z"
   },
   {
    "duration": 150,
    "start_time": "2025-01-31T12:07:51.438Z"
   },
   {
    "duration": 97,
    "start_time": "2025-01-31T12:07:51.590Z"
   },
   {
    "duration": 4,
    "start_time": "2025-01-31T12:07:51.688Z"
   },
   {
    "duration": 102,
    "start_time": "2025-01-31T12:07:51.693Z"
   },
   {
    "duration": 49,
    "start_time": "2025-01-31T12:07:51.796Z"
   },
   {
    "duration": 48,
    "start_time": "2025-01-31T12:07:51.847Z"
   },
   {
    "duration": 22,
    "start_time": "2025-01-31T12:07:51.897Z"
   },
   {
    "duration": 7,
    "start_time": "2025-01-31T12:07:51.920Z"
   },
   {
    "duration": 40,
    "start_time": "2025-01-31T12:07:51.928Z"
   },
   {
    "duration": 90,
    "start_time": "2025-01-31T12:07:51.970Z"
   },
   {
    "duration": 34,
    "start_time": "2025-01-31T12:07:52.062Z"
   },
   {
    "duration": 799,
    "start_time": "2025-01-31T12:07:52.098Z"
   },
   {
    "duration": 226,
    "start_time": "2025-01-31T12:07:52.899Z"
   },
   {
    "duration": 66,
    "start_time": "2025-01-31T12:07:53.127Z"
   },
   {
    "duration": 44,
    "start_time": "2025-01-31T12:07:53.194Z"
   },
   {
    "duration": 47,
    "start_time": "2025-01-31T12:07:53.239Z"
   },
   {
    "duration": 19,
    "start_time": "2025-01-31T12:07:53.288Z"
   },
   {
    "duration": 5,
    "start_time": "2025-01-31T12:07:53.309Z"
   },
   {
    "duration": 136,
    "start_time": "2025-01-31T12:07:53.316Z"
   },
   {
    "duration": 90,
    "start_time": "2025-01-31T12:07:53.453Z"
   },
   {
    "duration": 68,
    "start_time": "2025-01-31T12:07:53.544Z"
   },
   {
    "duration": 155,
    "start_time": "2025-01-31T12:07:53.613Z"
   },
   {
    "duration": 41,
    "start_time": "2025-01-31T12:07:53.769Z"
   },
   {
    "duration": 14,
    "start_time": "2025-01-31T12:07:53.812Z"
   },
   {
    "duration": 8,
    "start_time": "2025-01-31T12:07:53.828Z"
   },
   {
    "duration": 5,
    "start_time": "2025-01-31T12:07:53.838Z"
   },
   {
    "duration": 34,
    "start_time": "2025-01-31T12:07:53.845Z"
   },
   {
    "duration": 4,
    "start_time": "2025-01-31T12:07:53.880Z"
   },
   {
    "duration": 8,
    "start_time": "2025-01-31T12:07:53.886Z"
   },
   {
    "duration": 14,
    "start_time": "2025-01-31T12:07:53.895Z"
   },
   {
    "duration": 4,
    "start_time": "2025-01-31T12:07:53.910Z"
   },
   {
    "duration": 8,
    "start_time": "2025-01-31T12:07:53.916Z"
   },
   {
    "duration": 61,
    "start_time": "2025-01-31T12:07:53.926Z"
   },
   {
    "duration": 256,
    "start_time": "2025-01-31T12:07:53.989Z"
   },
   {
    "duration": 145,
    "start_time": "2025-01-31T12:07:54.247Z"
   },
   {
    "duration": 351,
    "start_time": "2025-01-31T12:07:54.395Z"
   },
   {
    "duration": 39,
    "start_time": "2025-01-31T12:07:54.753Z"
   },
   {
    "duration": 259,
    "start_time": "2025-01-31T12:07:54.795Z"
   },
   {
    "duration": 5099,
    "start_time": "2025-01-31T12:42:23.093Z"
   },
   {
    "duration": 2510,
    "start_time": "2025-01-31T12:42:28.195Z"
   },
   {
    "duration": 6,
    "start_time": "2025-01-31T12:42:30.707Z"
   },
   {
    "duration": 11,
    "start_time": "2025-01-31T12:42:30.715Z"
   },
   {
    "duration": 5,
    "start_time": "2025-01-31T12:42:30.728Z"
   },
   {
    "duration": 9,
    "start_time": "2025-01-31T12:42:30.735Z"
   },
   {
    "duration": 19,
    "start_time": "2025-01-31T12:42:30.745Z"
   },
   {
    "duration": 20,
    "start_time": "2025-01-31T12:42:30.776Z"
   },
   {
    "duration": 8,
    "start_time": "2025-01-31T12:42:30.799Z"
   },
   {
    "duration": 15,
    "start_time": "2025-01-31T12:42:30.811Z"
   },
   {
    "duration": 31,
    "start_time": "2025-01-31T12:42:30.829Z"
   },
   {
    "duration": 49,
    "start_time": "2025-01-31T12:42:30.862Z"
   },
   {
    "duration": 117,
    "start_time": "2025-01-31T12:42:30.913Z"
   },
   {
    "duration": 27,
    "start_time": "2025-01-31T12:42:31.032Z"
   },
   {
    "duration": 40,
    "start_time": "2025-01-31T12:42:31.060Z"
   },
   {
    "duration": 15,
    "start_time": "2025-01-31T12:42:31.102Z"
   },
   {
    "duration": 12,
    "start_time": "2025-01-31T12:42:31.119Z"
   },
   {
    "duration": 76,
    "start_time": "2025-01-31T12:42:31.132Z"
   },
   {
    "duration": 1448,
    "start_time": "2025-01-31T12:42:31.211Z"
   },
   {
    "duration": 16,
    "start_time": "2025-01-31T12:42:32.661Z"
   },
   {
    "duration": 12,
    "start_time": "2025-01-31T12:42:32.683Z"
   },
   {
    "duration": 15,
    "start_time": "2025-01-31T12:42:32.697Z"
   },
   {
    "duration": 217,
    "start_time": "2025-01-31T12:42:32.714Z"
   },
   {
    "duration": 98,
    "start_time": "2025-01-31T12:42:32.933Z"
   },
   {
    "duration": 20,
    "start_time": "2025-01-31T12:42:33.032Z"
   },
   {
    "duration": 53,
    "start_time": "2025-01-31T12:42:33.054Z"
   },
   {
    "duration": 44,
    "start_time": "2025-01-31T12:42:33.109Z"
   },
   {
    "duration": 29,
    "start_time": "2025-01-31T12:42:33.158Z"
   },
   {
    "duration": 18,
    "start_time": "2025-01-31T12:42:33.188Z"
   },
   {
    "duration": 22,
    "start_time": "2025-01-31T12:42:33.209Z"
   },
   {
    "duration": 23,
    "start_time": "2025-01-31T12:42:33.233Z"
   },
   {
    "duration": 24,
    "start_time": "2025-01-31T12:42:33.258Z"
   },
   {
    "duration": 209,
    "start_time": "2025-01-31T12:42:33.288Z"
   },
   {
    "duration": 167,
    "start_time": "2025-01-31T12:42:33.499Z"
   },
   {
    "duration": 19,
    "start_time": "2025-01-31T12:42:33.679Z"
   },
   {
    "duration": 92,
    "start_time": "2025-01-31T12:42:33.700Z"
   },
   {
    "duration": 19,
    "start_time": "2025-01-31T12:42:33.795Z"
   },
   {
    "duration": 8,
    "start_time": "2025-01-31T12:42:33.817Z"
   },
   {
    "duration": 78,
    "start_time": "2025-01-31T12:42:33.828Z"
   },
   {
    "duration": 21,
    "start_time": "2025-01-31T12:42:33.908Z"
   },
   {
    "duration": 88,
    "start_time": "2025-01-31T12:42:33.931Z"
   },
   {
    "duration": 97,
    "start_time": "2025-01-31T12:42:34.021Z"
   },
   {
    "duration": 25,
    "start_time": "2025-01-31T12:42:34.120Z"
   },
   {
    "duration": 72,
    "start_time": "2025-01-31T12:42:34.147Z"
   },
   {
    "duration": 174,
    "start_time": "2025-01-31T12:42:34.220Z"
   },
   {
    "duration": 100,
    "start_time": "2025-01-31T12:42:34.396Z"
   },
   {
    "duration": 4,
    "start_time": "2025-01-31T12:42:34.498Z"
   },
   {
    "duration": 39,
    "start_time": "2025-01-31T12:42:34.504Z"
   },
   {
    "duration": 63,
    "start_time": "2025-01-31T12:42:34.545Z"
   },
   {
    "duration": 50,
    "start_time": "2025-01-31T12:42:34.610Z"
   },
   {
    "duration": 28,
    "start_time": "2025-01-31T12:42:34.662Z"
   },
   {
    "duration": 4,
    "start_time": "2025-01-31T12:42:34.692Z"
   },
   {
    "duration": 57,
    "start_time": "2025-01-31T12:42:34.697Z"
   },
   {
    "duration": 13,
    "start_time": "2025-01-31T12:42:34.756Z"
   },
   {
    "duration": 50,
    "start_time": "2025-01-31T12:42:34.771Z"
   },
   {
    "duration": 888,
    "start_time": "2025-01-31T12:42:34.823Z"
   },
   {
    "duration": 252,
    "start_time": "2025-01-31T12:42:35.713Z"
   },
   {
    "duration": 78,
    "start_time": "2025-01-31T12:42:35.967Z"
   },
   {
    "duration": 147,
    "start_time": "2025-01-31T12:42:36.047Z"
   },
   {
    "duration": 26,
    "start_time": "2025-01-31T12:42:36.196Z"
   },
   {
    "duration": 144,
    "start_time": "2025-01-31T12:42:36.224Z"
   },
   {
    "duration": 85,
    "start_time": "2025-01-31T12:42:36.370Z"
   },
   {
    "duration": 72,
    "start_time": "2025-01-31T12:42:36.457Z"
   },
   {
    "duration": 178,
    "start_time": "2025-01-31T12:42:36.531Z"
   },
   {
    "duration": 40,
    "start_time": "2025-01-31T12:42:36.711Z"
   },
   {
    "duration": 41,
    "start_time": "2025-01-31T12:42:36.753Z"
   },
   {
    "duration": 7,
    "start_time": "2025-01-31T12:42:36.796Z"
   },
   {
    "duration": 8,
    "start_time": "2025-01-31T12:42:36.804Z"
   },
   {
    "duration": 5,
    "start_time": "2025-01-31T12:42:36.814Z"
   },
   {
    "duration": 14,
    "start_time": "2025-01-31T12:42:36.820Z"
   },
   {
    "duration": 12,
    "start_time": "2025-01-31T12:42:36.836Z"
   },
   {
    "duration": 37,
    "start_time": "2025-01-31T12:42:36.849Z"
   },
   {
    "duration": 9,
    "start_time": "2025-01-31T12:42:36.888Z"
   },
   {
    "duration": 7,
    "start_time": "2025-01-31T12:42:36.899Z"
   },
   {
    "duration": 283,
    "start_time": "2025-01-31T12:42:36.907Z"
   },
   {
    "duration": 157,
    "start_time": "2025-01-31T12:42:37.192Z"
   },
   {
    "duration": 376,
    "start_time": "2025-01-31T12:42:37.350Z"
   },
   {
    "duration": 32,
    "start_time": "2025-01-31T12:42:37.728Z"
   },
   {
    "duration": 212,
    "start_time": "2025-01-31T12:42:37.782Z"
   },
   {
    "duration": 5658,
    "start_time": "2025-01-31T13:36:58.045Z"
   },
   {
    "duration": 2645,
    "start_time": "2025-01-31T13:37:03.705Z"
   },
   {
    "duration": 7,
    "start_time": "2025-01-31T13:37:06.352Z"
   },
   {
    "duration": 101,
    "start_time": "2025-01-31T13:37:06.361Z"
   },
   {
    "duration": 26,
    "start_time": "2025-01-31T13:37:06.464Z"
   },
   {
    "duration": 18,
    "start_time": "2025-01-31T13:37:06.492Z"
   },
   {
    "duration": 47,
    "start_time": "2025-01-31T13:37:06.512Z"
   },
   {
    "duration": 28,
    "start_time": "2025-01-31T13:37:06.561Z"
   },
   {
    "duration": 7,
    "start_time": "2025-01-31T13:37:06.591Z"
   },
   {
    "duration": 21,
    "start_time": "2025-01-31T13:37:06.600Z"
   },
   {
    "duration": 12,
    "start_time": "2025-01-31T13:37:06.623Z"
   },
   {
    "duration": 22,
    "start_time": "2025-01-31T13:37:06.637Z"
   },
   {
    "duration": 188,
    "start_time": "2025-01-31T13:37:06.663Z"
   },
   {
    "duration": 64,
    "start_time": "2025-01-31T13:37:06.853Z"
   },
   {
    "duration": 29,
    "start_time": "2025-01-31T13:37:06.919Z"
   },
   {
    "duration": 15,
    "start_time": "2025-01-31T13:37:06.950Z"
   },
   {
    "duration": 36,
    "start_time": "2025-01-31T13:37:06.967Z"
   },
   {
    "duration": 52,
    "start_time": "2025-01-31T13:37:07.005Z"
   },
   {
    "duration": 1642,
    "start_time": "2025-01-31T13:37:07.060Z"
   },
   {
    "duration": 8,
    "start_time": "2025-01-31T13:37:08.703Z"
   },
   {
    "duration": 108,
    "start_time": "2025-01-31T13:37:08.712Z"
   },
   {
    "duration": 16,
    "start_time": "2025-01-31T13:37:08.823Z"
   },
   {
    "duration": 259,
    "start_time": "2025-01-31T13:37:08.846Z"
   },
   {
    "duration": 131,
    "start_time": "2025-01-31T13:37:09.111Z"
   },
   {
    "duration": 38,
    "start_time": "2025-01-31T13:37:09.244Z"
   },
   {
    "duration": 44,
    "start_time": "2025-01-31T13:37:09.284Z"
   },
   {
    "duration": 9,
    "start_time": "2025-01-31T13:37:09.330Z"
   },
   {
    "duration": 22,
    "start_time": "2025-01-31T13:37:09.341Z"
   },
   {
    "duration": 23,
    "start_time": "2025-01-31T13:37:09.365Z"
   },
   {
    "duration": 18,
    "start_time": "2025-01-31T13:37:09.394Z"
   },
   {
    "duration": 74,
    "start_time": "2025-01-31T13:37:09.414Z"
   },
   {
    "duration": 20,
    "start_time": "2025-01-31T13:37:09.490Z"
   },
   {
    "duration": 225,
    "start_time": "2025-01-31T13:37:09.516Z"
   },
   {
    "duration": 228,
    "start_time": "2025-01-31T13:37:09.744Z"
   },
   {
    "duration": 23,
    "start_time": "2025-01-31T13:37:09.976Z"
   },
   {
    "duration": 78,
    "start_time": "2025-01-31T13:37:10.002Z"
   },
   {
    "duration": 21,
    "start_time": "2025-01-31T13:37:10.086Z"
   },
   {
    "duration": 11,
    "start_time": "2025-01-31T13:37:10.109Z"
   },
   {
    "duration": 10,
    "start_time": "2025-01-31T13:37:10.122Z"
   },
   {
    "duration": 21,
    "start_time": "2025-01-31T13:37:10.133Z"
   },
   {
    "duration": 113,
    "start_time": "2025-01-31T13:37:10.155Z"
   },
   {
    "duration": 109,
    "start_time": "2025-01-31T13:37:10.270Z"
   },
   {
    "duration": 35,
    "start_time": "2025-01-31T13:37:10.381Z"
   },
   {
    "duration": 15,
    "start_time": "2025-01-31T13:37:10.420Z"
   },
   {
    "duration": 225,
    "start_time": "2025-01-31T13:37:10.437Z"
   },
   {
    "duration": 137,
    "start_time": "2025-01-31T13:37:10.664Z"
   },
   {
    "duration": 7,
    "start_time": "2025-01-31T13:37:10.807Z"
   },
   {
    "duration": 19,
    "start_time": "2025-01-31T13:37:10.820Z"
   },
   {
    "duration": 77,
    "start_time": "2025-01-31T13:37:10.842Z"
   },
   {
    "duration": 105,
    "start_time": "2025-01-31T13:37:10.920Z"
   },
   {
    "duration": 7,
    "start_time": "2025-01-31T13:37:11.027Z"
   },
   {
    "duration": 5,
    "start_time": "2025-01-31T13:37:11.036Z"
   },
   {
    "duration": 76,
    "start_time": "2025-01-31T13:37:11.044Z"
   },
   {
    "duration": 13,
    "start_time": "2025-01-31T13:37:11.124Z"
   },
   {
    "duration": 106,
    "start_time": "2025-01-31T13:37:11.139Z"
   },
   {
    "duration": 1108,
    "start_time": "2025-01-31T13:37:11.247Z"
   },
   {
    "duration": 299,
    "start_time": "2025-01-31T13:37:12.357Z"
   },
   {
    "duration": 99,
    "start_time": "2025-01-31T13:37:12.658Z"
   },
   {
    "duration": 163,
    "start_time": "2025-01-31T13:37:12.759Z"
   },
   {
    "duration": 40,
    "start_time": "2025-01-31T13:37:12.925Z"
   },
   {
    "duration": 185,
    "start_time": "2025-01-31T13:37:12.967Z"
   },
   {
    "duration": 101,
    "start_time": "2025-01-31T13:37:13.155Z"
   },
   {
    "duration": 83,
    "start_time": "2025-01-31T13:37:13.258Z"
   },
   {
    "duration": 203,
    "start_time": "2025-01-31T13:37:13.343Z"
   },
   {
    "duration": 69,
    "start_time": "2025-01-31T13:37:13.548Z"
   },
   {
    "duration": 16,
    "start_time": "2025-01-31T13:37:13.621Z"
   },
   {
    "duration": 7,
    "start_time": "2025-01-31T13:37:13.639Z"
   },
   {
    "duration": 11,
    "start_time": "2025-01-31T13:37:13.648Z"
   },
   {
    "duration": 34,
    "start_time": "2025-01-31T13:37:13.661Z"
   },
   {
    "duration": 13,
    "start_time": "2025-01-31T13:37:13.700Z"
   },
   {
    "duration": 30,
    "start_time": "2025-01-31T13:37:13.715Z"
   },
   {
    "duration": 5,
    "start_time": "2025-01-31T13:37:13.747Z"
   },
   {
    "duration": 6,
    "start_time": "2025-01-31T13:37:13.756Z"
   },
   {
    "duration": 21,
    "start_time": "2025-01-31T13:37:13.764Z"
   },
   {
    "duration": 339,
    "start_time": "2025-01-31T13:37:13.787Z"
   },
   {
    "duration": 188,
    "start_time": "2025-01-31T13:37:14.128Z"
   },
   {
    "duration": 449,
    "start_time": "2025-01-31T13:37:14.317Z"
   },
   {
    "duration": 60,
    "start_time": "2025-01-31T13:37:14.768Z"
   },
   {
    "duration": 270,
    "start_time": "2025-01-31T13:37:14.830Z"
   },
   {
    "duration": 8145,
    "start_time": "2025-02-01T04:53:23.710Z"
   },
   {
    "duration": 2471,
    "start_time": "2025-02-01T04:53:31.856Z"
   },
   {
    "duration": 5,
    "start_time": "2025-02-01T04:53:34.329Z"
   },
   {
    "duration": 14,
    "start_time": "2025-02-01T04:53:34.335Z"
   },
   {
    "duration": 3,
    "start_time": "2025-02-01T04:53:34.352Z"
   },
   {
    "duration": 3,
    "start_time": "2025-02-01T04:53:34.357Z"
   },
   {
    "duration": 4,
    "start_time": "2025-02-01T04:53:34.362Z"
   },
   {
    "duration": 4,
    "start_time": "2025-02-01T04:53:34.367Z"
   },
   {
    "duration": 9,
    "start_time": "2025-02-01T04:53:34.372Z"
   },
   {
    "duration": 34,
    "start_time": "2025-02-01T04:53:34.382Z"
   },
   {
    "duration": 5,
    "start_time": "2025-02-01T04:53:34.418Z"
   },
   {
    "duration": 22,
    "start_time": "2025-02-01T04:53:34.424Z"
   },
   {
    "duration": 104,
    "start_time": "2025-02-01T04:53:34.447Z"
   },
   {
    "duration": 23,
    "start_time": "2025-02-01T04:53:34.554Z"
   },
   {
    "duration": 19,
    "start_time": "2025-02-01T04:53:34.578Z"
   },
   {
    "duration": 13,
    "start_time": "2025-02-01T04:53:34.614Z"
   },
   {
    "duration": 10,
    "start_time": "2025-02-01T04:53:34.628Z"
   },
   {
    "duration": 38,
    "start_time": "2025-02-01T04:53:34.640Z"
   },
   {
    "duration": 1116,
    "start_time": "2025-02-01T04:53:34.680Z"
   },
   {
    "duration": 5,
    "start_time": "2025-02-01T04:53:35.797Z"
   },
   {
    "duration": 15,
    "start_time": "2025-02-01T04:53:35.803Z"
   },
   {
    "duration": 19,
    "start_time": "2025-02-01T04:53:35.820Z"
   },
   {
    "duration": 133,
    "start_time": "2025-02-01T04:53:35.841Z"
   },
   {
    "duration": 82,
    "start_time": "2025-02-01T04:53:35.976Z"
   },
   {
    "duration": 18,
    "start_time": "2025-02-01T04:53:36.059Z"
   },
   {
    "duration": 36,
    "start_time": "2025-02-01T04:53:36.078Z"
   },
   {
    "duration": 5,
    "start_time": "2025-02-01T04:53:36.116Z"
   },
   {
    "duration": 32,
    "start_time": "2025-02-01T04:53:36.123Z"
   },
   {
    "duration": 10,
    "start_time": "2025-02-01T04:53:36.157Z"
   },
   {
    "duration": 11,
    "start_time": "2025-02-01T04:53:36.169Z"
   },
   {
    "duration": 15,
    "start_time": "2025-02-01T04:53:36.182Z"
   },
   {
    "duration": 21,
    "start_time": "2025-02-01T04:53:36.199Z"
   },
   {
    "duration": 169,
    "start_time": "2025-02-01T04:53:36.222Z"
   },
   {
    "duration": 171,
    "start_time": "2025-02-01T04:53:36.393Z"
   },
   {
    "duration": 12,
    "start_time": "2025-02-01T04:53:36.566Z"
   },
   {
    "duration": 45,
    "start_time": "2025-02-01T04:53:36.579Z"
   },
   {
    "duration": 11,
    "start_time": "2025-02-01T04:53:36.626Z"
   },
   {
    "duration": 5,
    "start_time": "2025-02-01T04:53:36.638Z"
   },
   {
    "duration": 6,
    "start_time": "2025-02-01T04:53:36.645Z"
   },
   {
    "duration": 12,
    "start_time": "2025-02-01T04:53:36.652Z"
   },
   {
    "duration": 105,
    "start_time": "2025-02-01T04:53:36.668Z"
   },
   {
    "duration": 80,
    "start_time": "2025-02-01T04:53:36.775Z"
   },
   {
    "duration": 23,
    "start_time": "2025-02-01T04:53:36.857Z"
   },
   {
    "duration": 3,
    "start_time": "2025-02-01T04:53:36.882Z"
   },
   {
    "duration": 144,
    "start_time": "2025-02-01T04:53:36.887Z"
   },
   {
    "duration": 88,
    "start_time": "2025-02-01T04:53:37.033Z"
   },
   {
    "duration": 4,
    "start_time": "2025-02-01T04:53:37.122Z"
   },
   {
    "duration": 15,
    "start_time": "2025-02-01T04:53:37.127Z"
   },
   {
    "duration": 31,
    "start_time": "2025-02-01T04:53:37.144Z"
   },
   {
    "duration": 72,
    "start_time": "2025-02-01T04:53:37.177Z"
   },
   {
    "duration": 7,
    "start_time": "2025-02-01T04:53:37.250Z"
   },
   {
    "duration": 4,
    "start_time": "2025-02-01T04:53:37.258Z"
   },
   {
    "duration": 60,
    "start_time": "2025-02-01T04:53:37.263Z"
   },
   {
    "duration": 12,
    "start_time": "2025-02-01T04:53:37.325Z"
   },
   {
    "duration": 34,
    "start_time": "2025-02-01T04:53:37.338Z"
   },
   {
    "duration": 727,
    "start_time": "2025-02-01T04:53:37.373Z"
   },
   {
    "duration": 207,
    "start_time": "2025-02-01T04:53:38.102Z"
   },
   {
    "duration": 60,
    "start_time": "2025-02-01T04:53:38.311Z"
   },
   {
    "duration": 56,
    "start_time": "2025-02-01T04:53:38.373Z"
   },
   {
    "duration": 26,
    "start_time": "2025-02-01T04:53:38.431Z"
   },
   {
    "duration": 131,
    "start_time": "2025-02-01T04:53:38.459Z"
   },
   {
    "duration": 82,
    "start_time": "2025-02-01T04:53:38.596Z"
   },
   {
    "duration": 67,
    "start_time": "2025-02-01T04:53:38.680Z"
   },
   {
    "duration": 153,
    "start_time": "2025-02-01T04:53:38.748Z"
   },
   {
    "duration": 45,
    "start_time": "2025-02-01T04:53:38.902Z"
   },
   {
    "duration": 13,
    "start_time": "2025-02-01T04:53:38.949Z"
   },
   {
    "duration": 6,
    "start_time": "2025-02-01T04:53:38.963Z"
   },
   {
    "duration": 5,
    "start_time": "2025-02-01T04:53:38.970Z"
   },
   {
    "duration": 3,
    "start_time": "2025-02-01T04:53:38.976Z"
   },
   {
    "duration": 33,
    "start_time": "2025-02-01T04:53:38.981Z"
   },
   {
    "duration": 54,
    "start_time": "2025-02-01T04:53:39.885Z"
   },
   {
    "duration": 1668,
    "start_time": "2025-02-01T07:40:52.551Z"
   },
   {
    "duration": 2359,
    "start_time": "2025-02-01T07:40:54.221Z"
   },
   {
    "duration": 6,
    "start_time": "2025-02-01T07:40:56.581Z"
   },
   {
    "duration": 3,
    "start_time": "2025-02-01T07:40:56.601Z"
   },
   {
    "duration": 11,
    "start_time": "2025-02-01T07:40:56.605Z"
   },
   {
    "duration": 18,
    "start_time": "2025-02-01T07:40:56.617Z"
   },
   {
    "duration": 5,
    "start_time": "2025-02-01T07:40:56.636Z"
   },
   {
    "duration": 6,
    "start_time": "2025-02-01T07:40:56.643Z"
   },
   {
    "duration": 8,
    "start_time": "2025-02-01T07:40:56.650Z"
   },
   {
    "duration": 18,
    "start_time": "2025-02-01T07:40:56.661Z"
   },
   {
    "duration": 6,
    "start_time": "2025-02-01T07:40:56.681Z"
   },
   {
    "duration": 13,
    "start_time": "2025-02-01T07:40:56.688Z"
   },
   {
    "duration": 99,
    "start_time": "2025-02-01T07:40:56.703Z"
   },
   {
    "duration": 23,
    "start_time": "2025-02-01T07:40:56.803Z"
   },
   {
    "duration": 18,
    "start_time": "2025-02-01T07:40:56.828Z"
   },
   {
    "duration": 79,
    "start_time": "2025-02-01T07:40:56.848Z"
   },
   {
    "duration": 9,
    "start_time": "2025-02-01T07:40:56.929Z"
   },
   {
    "duration": 40,
    "start_time": "2025-02-01T07:40:56.940Z"
   },
   {
    "duration": 1149,
    "start_time": "2025-02-01T07:40:56.982Z"
   },
   {
    "duration": 5,
    "start_time": "2025-02-01T07:40:58.133Z"
   },
   {
    "duration": 63,
    "start_time": "2025-02-01T07:40:58.139Z"
   },
   {
    "duration": 12,
    "start_time": "2025-02-01T07:40:58.204Z"
   },
   {
    "duration": 139,
    "start_time": "2025-02-01T07:40:58.218Z"
   },
   {
    "duration": 80,
    "start_time": "2025-02-01T07:40:58.359Z"
   },
   {
    "duration": 16,
    "start_time": "2025-02-01T07:40:58.441Z"
   },
   {
    "duration": 28,
    "start_time": "2025-02-01T07:40:58.458Z"
   },
   {
    "duration": 16,
    "start_time": "2025-02-01T07:40:58.488Z"
   },
   {
    "duration": 19,
    "start_time": "2025-02-01T07:40:58.507Z"
   },
   {
    "duration": 11,
    "start_time": "2025-02-01T07:40:58.528Z"
   },
   {
    "duration": 11,
    "start_time": "2025-02-01T07:40:58.540Z"
   },
   {
    "duration": 15,
    "start_time": "2025-02-01T07:40:58.553Z"
   },
   {
    "duration": 33,
    "start_time": "2025-02-01T07:40:58.569Z"
   },
   {
    "duration": 166,
    "start_time": "2025-02-01T07:40:58.603Z"
   },
   {
    "duration": 154,
    "start_time": "2025-02-01T07:40:58.771Z"
   },
   {
    "duration": 11,
    "start_time": "2025-02-01T07:40:58.927Z"
   },
   {
    "duration": 34,
    "start_time": "2025-02-01T07:40:58.940Z"
   },
   {
    "duration": 28,
    "start_time": "2025-02-01T07:40:58.976Z"
   },
   {
    "duration": 6,
    "start_time": "2025-02-01T07:40:59.005Z"
   },
   {
    "duration": 8,
    "start_time": "2025-02-01T07:40:59.012Z"
   },
   {
    "duration": 95,
    "start_time": "2025-02-01T07:40:59.021Z"
   },
   {
    "duration": 74,
    "start_time": "2025-02-01T07:40:59.117Z"
   },
   {
    "duration": 75,
    "start_time": "2025-02-01T07:40:59.192Z"
   },
   {
    "duration": 32,
    "start_time": "2025-02-01T07:40:59.269Z"
   },
   {
    "duration": 4,
    "start_time": "2025-02-01T07:40:59.302Z"
   },
   {
    "duration": 146,
    "start_time": "2025-02-01T07:40:59.307Z"
   },
   {
    "duration": 104,
    "start_time": "2025-02-01T07:40:59.454Z"
   },
   {
    "duration": 24,
    "start_time": "2025-02-01T07:40:59.560Z"
   },
   {
    "duration": 30,
    "start_time": "2025-02-01T07:40:59.586Z"
   },
   {
    "duration": 54,
    "start_time": "2025-02-01T07:40:59.617Z"
   },
   {
    "duration": 48,
    "start_time": "2025-02-01T07:40:59.673Z"
   },
   {
    "duration": 56,
    "start_time": "2025-02-01T07:40:59.723Z"
   },
   {
    "duration": 4,
    "start_time": "2025-02-01T07:40:59.781Z"
   },
   {
    "duration": 119,
    "start_time": "2025-02-01T07:40:59.787Z"
   },
   {
    "duration": 16,
    "start_time": "2025-02-01T07:40:59.908Z"
   },
   {
    "duration": 34,
    "start_time": "2025-02-01T07:40:59.926Z"
   },
   {
    "duration": 543,
    "start_time": "2025-02-01T07:40:59.962Z"
   },
   {
    "duration": 234,
    "start_time": "2025-02-01T07:41:00.506Z"
   },
   {
    "duration": 65,
    "start_time": "2025-02-01T07:41:00.742Z"
   },
   {
    "duration": 30,
    "start_time": "2025-02-01T07:41:00.809Z"
   },
   {
    "duration": 2346,
    "start_time": "2025-02-01T07:46:00.381Z"
   },
   {
    "duration": 2500,
    "start_time": "2025-02-01T07:46:02.729Z"
   },
   {
    "duration": 6,
    "start_time": "2025-02-01T07:46:05.230Z"
   },
   {
    "duration": 7,
    "start_time": "2025-02-01T07:46:05.238Z"
   },
   {
    "duration": 7,
    "start_time": "2025-02-01T07:46:05.246Z"
   },
   {
    "duration": 5,
    "start_time": "2025-02-01T07:46:05.254Z"
   },
   {
    "duration": 29,
    "start_time": "2025-02-01T07:46:05.260Z"
   },
   {
    "duration": 14,
    "start_time": "2025-02-01T07:46:05.291Z"
   },
   {
    "duration": 7,
    "start_time": "2025-02-01T07:46:05.307Z"
   },
   {
    "duration": 13,
    "start_time": "2025-02-01T07:46:05.316Z"
   },
   {
    "duration": 10,
    "start_time": "2025-02-01T07:46:05.331Z"
   },
   {
    "duration": 41,
    "start_time": "2025-02-01T07:46:05.343Z"
   },
   {
    "duration": 141,
    "start_time": "2025-02-01T07:46:05.385Z"
   },
   {
    "duration": 30,
    "start_time": "2025-02-01T07:46:05.528Z"
   },
   {
    "duration": 71,
    "start_time": "2025-02-01T07:46:05.560Z"
   },
   {
    "duration": 24,
    "start_time": "2025-02-01T07:46:05.633Z"
   },
   {
    "duration": 10,
    "start_time": "2025-02-01T07:46:05.659Z"
   },
   {
    "duration": 70,
    "start_time": "2025-02-01T07:46:05.670Z"
   },
   {
    "duration": 1197,
    "start_time": "2025-02-01T07:46:05.741Z"
   },
   {
    "duration": 5,
    "start_time": "2025-02-01T07:46:06.939Z"
   },
   {
    "duration": 30,
    "start_time": "2025-02-01T07:46:06.945Z"
   },
   {
    "duration": 30,
    "start_time": "2025-02-01T07:46:06.977Z"
   },
   {
    "duration": 135,
    "start_time": "2025-02-01T07:46:07.009Z"
   },
   {
    "duration": 83,
    "start_time": "2025-02-01T07:46:07.145Z"
   },
   {
    "duration": 18,
    "start_time": "2025-02-01T07:46:07.229Z"
   },
   {
    "duration": 24,
    "start_time": "2025-02-01T07:46:07.249Z"
   },
   {
    "duration": 24,
    "start_time": "2025-02-01T07:46:07.275Z"
   },
   {
    "duration": 14,
    "start_time": "2025-02-01T07:46:07.305Z"
   },
   {
    "duration": 11,
    "start_time": "2025-02-01T07:46:07.321Z"
   },
   {
    "duration": 17,
    "start_time": "2025-02-01T07:46:07.333Z"
   },
   {
    "duration": 16,
    "start_time": "2025-02-01T07:46:07.352Z"
   },
   {
    "duration": 33,
    "start_time": "2025-02-01T07:46:07.370Z"
   },
   {
    "duration": 166,
    "start_time": "2025-02-01T07:46:07.405Z"
   },
   {
    "duration": 150,
    "start_time": "2025-02-01T07:46:07.573Z"
   },
   {
    "duration": 11,
    "start_time": "2025-02-01T07:46:07.725Z"
   },
   {
    "duration": 68,
    "start_time": "2025-02-01T07:46:07.738Z"
   },
   {
    "duration": 11,
    "start_time": "2025-02-01T07:46:07.808Z"
   },
   {
    "duration": 51,
    "start_time": "2025-02-01T07:46:07.822Z"
   },
   {
    "duration": 8,
    "start_time": "2025-02-01T07:46:07.874Z"
   },
   {
    "duration": 27,
    "start_time": "2025-02-01T07:46:07.883Z"
   },
   {
    "duration": 70,
    "start_time": "2025-02-01T07:46:07.912Z"
   },
   {
    "duration": 100,
    "start_time": "2025-02-01T07:46:07.983Z"
   },
   {
    "duration": 34,
    "start_time": "2025-02-01T07:46:08.085Z"
   },
   {
    "duration": 5,
    "start_time": "2025-02-01T07:46:08.121Z"
   },
   {
    "duration": 158,
    "start_time": "2025-02-01T07:46:08.128Z"
   },
   {
    "duration": 93,
    "start_time": "2025-02-01T07:46:08.288Z"
   },
   {
    "duration": 3,
    "start_time": "2025-02-01T07:46:08.382Z"
   },
   {
    "duration": 35,
    "start_time": "2025-02-01T07:46:08.387Z"
   },
   {
    "duration": 34,
    "start_time": "2025-02-01T07:46:08.424Z"
   },
   {
    "duration": 60,
    "start_time": "2025-02-01T07:46:08.460Z"
   },
   {
    "duration": 27,
    "start_time": "2025-02-01T07:46:08.522Z"
   },
   {
    "duration": 5,
    "start_time": "2025-02-01T07:46:08.551Z"
   },
   {
    "duration": 68,
    "start_time": "2025-02-01T07:46:08.558Z"
   },
   {
    "duration": 18,
    "start_time": "2025-02-01T07:46:08.628Z"
   },
   {
    "duration": 32,
    "start_time": "2025-02-01T07:46:08.648Z"
   },
   {
    "duration": 544,
    "start_time": "2025-02-01T07:46:08.682Z"
   },
   {
    "duration": 283,
    "start_time": "2025-02-01T07:46:09.227Z"
   },
   {
    "duration": 63,
    "start_time": "2025-02-01T07:46:09.511Z"
   },
   {
    "duration": 59,
    "start_time": "2025-02-01T07:46:09.575Z"
   },
   {
    "duration": 61323,
    "start_time": "2025-02-01T07:46:09.636Z"
   },
   {
    "duration": 0,
    "start_time": "2025-02-01T07:47:10.960Z"
   },
   {
    "duration": 0,
    "start_time": "2025-02-01T07:47:10.962Z"
   },
   {
    "duration": 0,
    "start_time": "2025-02-01T07:47:10.963Z"
   },
   {
    "duration": 0,
    "start_time": "2025-02-01T07:47:10.964Z"
   },
   {
    "duration": 0,
    "start_time": "2025-02-01T07:47:10.965Z"
   },
   {
    "duration": 0,
    "start_time": "2025-02-01T07:47:10.965Z"
   },
   {
    "duration": 0,
    "start_time": "2025-02-01T07:47:10.966Z"
   },
   {
    "duration": 0,
    "start_time": "2025-02-01T07:47:10.967Z"
   },
   {
    "duration": 0,
    "start_time": "2025-02-01T07:47:10.968Z"
   },
   {
    "duration": 0,
    "start_time": "2025-02-01T07:47:10.969Z"
   },
   {
    "duration": 0,
    "start_time": "2025-02-01T07:47:10.970Z"
   },
   {
    "duration": 0,
    "start_time": "2025-02-01T07:47:10.971Z"
   },
   {
    "duration": 0,
    "start_time": "2025-02-01T07:47:10.972Z"
   },
   {
    "duration": 0,
    "start_time": "2025-02-01T07:47:10.973Z"
   },
   {
    "duration": 0,
    "start_time": "2025-02-01T07:47:10.974Z"
   },
   {
    "duration": 0,
    "start_time": "2025-02-01T07:47:10.975Z"
   },
   {
    "duration": 0,
    "start_time": "2025-02-01T07:47:10.975Z"
   },
   {
    "duration": 0,
    "start_time": "2025-02-01T07:47:10.976Z"
   },
   {
    "duration": 0,
    "start_time": "2025-02-01T07:47:10.977Z"
   },
   {
    "duration": 32,
    "start_time": "2025-02-01T07:47:43.487Z"
   },
   {
    "duration": 25,
    "start_time": "2025-02-01T07:47:52.688Z"
   },
   {
    "duration": 113,
    "start_time": "2025-02-01T07:54:40.935Z"
   },
   {
    "duration": 108,
    "start_time": "2025-02-01T07:57:18.691Z"
   },
   {
    "duration": 31,
    "start_time": "2025-02-01T07:57:40.946Z"
   },
   {
    "duration": 31,
    "start_time": "2025-02-01T07:57:59.922Z"
   },
   {
    "duration": 144,
    "start_time": "2025-02-01T07:58:21.428Z"
   },
   {
    "duration": 165,
    "start_time": "2025-02-01T08:00:10.092Z"
   },
   {
    "duration": 32,
    "start_time": "2025-02-01T08:05:27.174Z"
   },
   {
    "duration": 15,
    "start_time": "2025-02-01T08:05:28.103Z"
   },
   {
    "duration": 6,
    "start_time": "2025-02-01T08:05:32.084Z"
   },
   {
    "duration": 5,
    "start_time": "2025-02-01T08:05:32.623Z"
   },
   {
    "duration": 3,
    "start_time": "2025-02-01T08:05:33.206Z"
   },
   {
    "duration": 6,
    "start_time": "2025-02-01T08:05:34.318Z"
   },
   {
    "duration": 4480,
    "start_time": "2025-02-01T08:14:12.802Z"
   },
   {
    "duration": 12,
    "start_time": "2025-02-01T08:14:29.874Z"
   },
   {
    "duration": 9,
    "start_time": "2025-02-01T08:15:18.667Z"
   },
   {
    "duration": 3,
    "start_time": "2025-02-01T08:15:22.025Z"
   },
   {
    "duration": 3,
    "start_time": "2025-02-01T08:15:22.722Z"
   },
   {
    "duration": 11,
    "start_time": "2025-02-01T08:15:23.387Z"
   },
   {
    "duration": 9,
    "start_time": "2025-02-01T08:15:31.267Z"
   },
   {
    "duration": 419,
    "start_time": "2025-02-01T08:15:47.668Z"
   },
   {
    "duration": 416,
    "start_time": "2025-02-01T08:18:19.964Z"
   },
   {
    "duration": 120,
    "start_time": "2025-02-01T08:18:46.349Z"
   },
   {
    "duration": 13,
    "start_time": "2025-02-01T08:18:47.684Z"
   },
   {
    "duration": 326,
    "start_time": "2025-02-01T08:19:46.845Z"
   },
   {
    "duration": 362,
    "start_time": "2025-02-01T08:23:11.174Z"
   },
   {
    "duration": 341,
    "start_time": "2025-02-01T08:27:14.632Z"
   },
   {
    "duration": 2037,
    "start_time": "2025-02-01T08:28:40.561Z"
   },
   {
    "duration": 30,
    "start_time": "2025-02-01T08:36:28.637Z"
   },
   {
    "duration": 19,
    "start_time": "2025-02-01T08:55:42.480Z"
   },
   {
    "duration": 13,
    "start_time": "2025-02-01T08:56:56.288Z"
   },
   {
    "duration": 34,
    "start_time": "2025-02-01T08:57:01.809Z"
   },
   {
    "duration": 30,
    "start_time": "2025-02-01T08:57:18.030Z"
   },
   {
    "duration": 22,
    "start_time": "2025-02-01T08:57:43.128Z"
   },
   {
    "duration": 133,
    "start_time": "2025-02-01T08:58:41.657Z"
   },
   {
    "duration": 12,
    "start_time": "2025-02-01T09:01:50.226Z"
   },
   {
    "duration": 11,
    "start_time": "2025-02-01T09:02:24.371Z"
   },
   {
    "duration": 11,
    "start_time": "2025-02-01T09:02:43.943Z"
   },
   {
    "duration": 31,
    "start_time": "2025-02-01T09:06:40.366Z"
   },
   {
    "duration": 1277,
    "start_time": "2025-02-01T09:22:24.683Z"
   },
   {
    "duration": 151,
    "start_time": "2025-02-01T09:22:44.444Z"
   },
   {
    "duration": 5296,
    "start_time": "2025-02-01T09:23:19.142Z"
   },
   {
    "duration": 34,
    "start_time": "2025-02-01T09:23:46.972Z"
   },
   {
    "duration": 3055,
    "start_time": "2025-02-01T09:34:33.168Z"
   },
   {
    "duration": 1943,
    "start_time": "2025-02-01T09:34:36.225Z"
   },
   {
    "duration": 6,
    "start_time": "2025-02-01T09:34:38.169Z"
   },
   {
    "duration": 24,
    "start_time": "2025-02-01T09:34:38.177Z"
   },
   {
    "duration": 91,
    "start_time": "2025-02-01T09:34:38.203Z"
   },
   {
    "duration": 30,
    "start_time": "2025-02-01T09:34:38.295Z"
   },
   {
    "duration": 12,
    "start_time": "2025-02-01T09:34:38.327Z"
   },
   {
    "duration": 120,
    "start_time": "2025-02-01T09:34:38.340Z"
   },
   {
    "duration": 8,
    "start_time": "2025-02-01T09:34:38.461Z"
   },
   {
    "duration": 3,
    "start_time": "2025-02-01T09:34:38.472Z"
   },
   {
    "duration": 12,
    "start_time": "2025-02-01T09:34:38.476Z"
   },
   {
    "duration": 31,
    "start_time": "2025-02-01T09:34:38.490Z"
   },
   {
    "duration": 103,
    "start_time": "2025-02-01T09:34:38.523Z"
   },
   {
    "duration": 24,
    "start_time": "2025-02-01T09:34:38.627Z"
   },
   {
    "duration": 29,
    "start_time": "2025-02-01T09:34:38.652Z"
   },
   {
    "duration": 23,
    "start_time": "2025-02-01T09:34:38.683Z"
   },
   {
    "duration": 27,
    "start_time": "2025-02-01T09:34:38.708Z"
   },
   {
    "duration": 41,
    "start_time": "2025-02-01T09:34:38.736Z"
   },
   {
    "duration": 1189,
    "start_time": "2025-02-01T09:34:38.779Z"
   },
   {
    "duration": 5,
    "start_time": "2025-02-01T09:34:39.970Z"
   },
   {
    "duration": 60,
    "start_time": "2025-02-01T09:34:39.977Z"
   },
   {
    "duration": 17,
    "start_time": "2025-02-01T09:34:40.039Z"
   },
   {
    "duration": 145,
    "start_time": "2025-02-01T09:34:40.058Z"
   },
   {
    "duration": 78,
    "start_time": "2025-02-01T09:34:40.205Z"
   },
   {
    "duration": 33,
    "start_time": "2025-02-01T09:34:40.284Z"
   },
   {
    "duration": 19,
    "start_time": "2025-02-01T09:34:40.319Z"
   },
   {
    "duration": 7,
    "start_time": "2025-02-01T09:34:40.339Z"
   },
   {
    "duration": 144,
    "start_time": "2025-02-01T09:34:40.350Z"
   },
   {
    "duration": 10,
    "start_time": "2025-02-01T09:34:40.496Z"
   },
   {
    "duration": 12,
    "start_time": "2025-02-01T09:34:40.507Z"
   },
   {
    "duration": 23,
    "start_time": "2025-02-01T09:34:40.520Z"
   },
   {
    "duration": 8,
    "start_time": "2025-02-01T09:34:40.545Z"
   },
   {
    "duration": 198,
    "start_time": "2025-02-01T09:34:40.555Z"
   },
   {
    "duration": 163,
    "start_time": "2025-02-01T09:34:40.755Z"
   },
   {
    "duration": 12,
    "start_time": "2025-02-01T09:34:40.920Z"
   },
   {
    "duration": 41,
    "start_time": "2025-02-01T09:34:40.934Z"
   },
   {
    "duration": 27,
    "start_time": "2025-02-01T09:34:40.976Z"
   },
   {
    "duration": 5,
    "start_time": "2025-02-01T09:34:41.005Z"
   },
   {
    "duration": 8,
    "start_time": "2025-02-01T09:34:41.012Z"
   },
   {
    "duration": 13,
    "start_time": "2025-02-01T09:34:41.022Z"
   },
   {
    "duration": 106,
    "start_time": "2025-02-01T09:34:41.036Z"
   },
   {
    "duration": 96,
    "start_time": "2025-02-01T09:34:41.144Z"
   },
   {
    "duration": 25,
    "start_time": "2025-02-01T09:34:41.242Z"
   },
   {
    "duration": 46,
    "start_time": "2025-02-01T09:34:41.269Z"
   },
   {
    "duration": 132,
    "start_time": "2025-02-01T09:34:41.317Z"
   },
   {
    "duration": 89,
    "start_time": "2025-02-01T09:34:41.451Z"
   },
   {
    "duration": 4,
    "start_time": "2025-02-01T09:34:41.542Z"
   },
   {
    "duration": 35,
    "start_time": "2025-02-01T09:34:41.548Z"
   },
   {
    "duration": 34,
    "start_time": "2025-02-01T09:34:41.585Z"
   },
   {
    "duration": 47,
    "start_time": "2025-02-01T09:34:41.621Z"
   },
   {
    "duration": 9,
    "start_time": "2025-02-01T09:34:41.669Z"
   },
   {
    "duration": 22,
    "start_time": "2025-02-01T09:34:41.679Z"
   },
   {
    "duration": 60,
    "start_time": "2025-02-01T09:34:41.703Z"
   },
   {
    "duration": 19,
    "start_time": "2025-02-01T09:34:41.764Z"
   },
   {
    "duration": 76,
    "start_time": "2025-02-01T09:34:41.784Z"
   },
   {
    "duration": 535,
    "start_time": "2025-02-01T09:34:41.862Z"
   },
   {
    "duration": 293,
    "start_time": "2025-02-01T09:34:42.398Z"
   },
   {
    "duration": 70,
    "start_time": "2025-02-01T09:34:42.692Z"
   },
   {
    "duration": 15,
    "start_time": "2025-02-01T09:34:42.764Z"
   },
   {
    "duration": 26,
    "start_time": "2025-02-01T09:34:42.800Z"
   },
   {
    "duration": 132,
    "start_time": "2025-02-01T09:34:42.828Z"
   },
   {
    "duration": 40,
    "start_time": "2025-02-01T09:34:42.961Z"
   },
   {
    "duration": 34,
    "start_time": "2025-02-01T09:34:43.002Z"
   },
   {
    "duration": 170,
    "start_time": "2025-02-01T09:34:43.038Z"
   },
   {
    "duration": 33,
    "start_time": "2025-02-01T09:34:43.209Z"
   },
   {
    "duration": 14,
    "start_time": "2025-02-01T09:34:43.244Z"
   },
   {
    "duration": 95,
    "start_time": "2025-02-01T09:34:43.259Z"
   },
   {
    "duration": 10,
    "start_time": "2025-02-01T09:34:43.355Z"
   },
   {
    "duration": 4,
    "start_time": "2025-02-01T09:34:43.366Z"
   },
   {
    "duration": 6,
    "start_time": "2025-02-01T09:34:43.371Z"
   },
   {
    "duration": 8,
    "start_time": "2025-02-01T09:34:43.378Z"
   },
   {
    "duration": 9,
    "start_time": "2025-02-01T09:34:43.387Z"
   },
   {
    "duration": 24,
    "start_time": "2025-02-01T09:34:43.397Z"
   },
   {
    "duration": 339,
    "start_time": "2025-02-01T09:34:43.422Z"
   },
   {
    "duration": 343,
    "start_time": "2025-02-01T09:34:43.762Z"
   },
   {
    "duration": 23,
    "start_time": "2025-02-01T09:34:44.107Z"
   },
   {
    "duration": 11,
    "start_time": "2025-02-01T09:34:44.131Z"
   },
   {
    "duration": 232,
    "start_time": "2025-02-01T09:34:44.143Z"
   },
   {
    "duration": 1430,
    "start_time": "2025-02-06T19:10:48.047Z"
   },
   {
    "duration": 2055,
    "start_time": "2025-02-06T19:10:49.479Z"
   },
   {
    "duration": 7,
    "start_time": "2025-02-06T19:10:51.535Z"
   },
   {
    "duration": 17,
    "start_time": "2025-02-06T19:10:51.544Z"
   },
   {
    "duration": 4,
    "start_time": "2025-02-06T19:10:51.563Z"
   },
   {
    "duration": 5,
    "start_time": "2025-02-06T19:10:51.569Z"
   },
   {
    "duration": 10,
    "start_time": "2025-02-06T19:10:51.576Z"
   },
   {
    "duration": 5,
    "start_time": "2025-02-06T19:10:51.589Z"
   },
   {
    "duration": 5,
    "start_time": "2025-02-06T19:10:51.596Z"
   },
   {
    "duration": 54,
    "start_time": "2025-02-06T19:10:51.604Z"
   },
   {
    "duration": 6,
    "start_time": "2025-02-06T19:10:51.659Z"
   },
   {
    "duration": 14,
    "start_time": "2025-02-06T19:10:51.666Z"
   },
   {
    "duration": 126,
    "start_time": "2025-02-06T19:10:51.681Z"
   },
   {
    "duration": 26,
    "start_time": "2025-02-06T19:10:51.809Z"
   },
   {
    "duration": 41,
    "start_time": "2025-02-06T19:10:51.837Z"
   },
   {
    "duration": 14,
    "start_time": "2025-02-06T19:10:51.879Z"
   },
   {
    "duration": 10,
    "start_time": "2025-02-06T19:10:51.894Z"
   },
   {
    "duration": 77,
    "start_time": "2025-02-06T19:10:51.906Z"
   },
   {
    "duration": 1169,
    "start_time": "2025-02-06T19:10:51.984Z"
   },
   {
    "duration": 5,
    "start_time": "2025-02-06T19:10:53.158Z"
   },
   {
    "duration": 13,
    "start_time": "2025-02-06T19:10:53.164Z"
   },
   {
    "duration": 12,
    "start_time": "2025-02-06T19:10:53.179Z"
   },
   {
    "duration": 160,
    "start_time": "2025-02-06T19:10:53.193Z"
   },
   {
    "duration": 80,
    "start_time": "2025-02-06T19:10:53.357Z"
   },
   {
    "duration": 31,
    "start_time": "2025-02-06T19:10:53.438Z"
   },
   {
    "duration": 17,
    "start_time": "2025-02-06T19:10:53.471Z"
   },
   {
    "duration": 6,
    "start_time": "2025-02-06T19:10:53.489Z"
   },
   {
    "duration": 12,
    "start_time": "2025-02-06T19:10:53.499Z"
   },
   {
    "duration": 48,
    "start_time": "2025-02-06T19:10:53.512Z"
   },
   {
    "duration": 12,
    "start_time": "2025-02-06T19:10:53.561Z"
   },
   {
    "duration": 15,
    "start_time": "2025-02-06T19:10:53.574Z"
   },
   {
    "duration": 9,
    "start_time": "2025-02-06T19:10:53.591Z"
   },
   {
    "duration": 194,
    "start_time": "2025-02-06T19:10:53.601Z"
   },
   {
    "duration": 161,
    "start_time": "2025-02-06T19:10:53.797Z"
   },
   {
    "duration": 13,
    "start_time": "2025-02-06T19:10:53.959Z"
   },
   {
    "duration": 47,
    "start_time": "2025-02-06T19:10:53.973Z"
   },
   {
    "duration": 11,
    "start_time": "2025-02-06T19:10:54.022Z"
   },
   {
    "duration": 23,
    "start_time": "2025-02-06T19:10:54.035Z"
   },
   {
    "duration": 8,
    "start_time": "2025-02-06T19:10:54.061Z"
   },
   {
    "duration": 14,
    "start_time": "2025-02-06T19:10:54.071Z"
   },
   {
    "duration": 114,
    "start_time": "2025-02-06T19:10:54.087Z"
   },
   {
    "duration": 88,
    "start_time": "2025-02-06T19:10:54.203Z"
   },
   {
    "duration": 25,
    "start_time": "2025-02-06T19:10:54.292Z"
   },
   {
    "duration": 4,
    "start_time": "2025-02-06T19:10:54.318Z"
   },
   {
    "duration": 160,
    "start_time": "2025-02-06T19:10:54.323Z"
   },
   {
    "duration": 94,
    "start_time": "2025-02-06T19:10:54.485Z"
   },
   {
    "duration": 4,
    "start_time": "2025-02-06T19:10:54.581Z"
   },
   {
    "duration": 16,
    "start_time": "2025-02-06T19:10:54.586Z"
   },
   {
    "duration": 59,
    "start_time": "2025-02-06T19:10:54.604Z"
   },
   {
    "duration": 45,
    "start_time": "2025-02-06T19:10:54.664Z"
   },
   {
    "duration": 8,
    "start_time": "2025-02-06T19:10:54.710Z"
   },
   {
    "duration": 4,
    "start_time": "2025-02-06T19:10:54.719Z"
   },
   {
    "duration": 83,
    "start_time": "2025-02-06T19:10:54.724Z"
   },
   {
    "duration": 16,
    "start_time": "2025-02-06T19:10:54.808Z"
   },
   {
    "duration": 42,
    "start_time": "2025-02-06T19:10:54.825Z"
   },
   {
    "duration": 562,
    "start_time": "2025-02-06T19:10:54.869Z"
   },
   {
    "duration": 286,
    "start_time": "2025-02-06T19:10:55.433Z"
   },
   {
    "duration": 75,
    "start_time": "2025-02-06T19:10:55.721Z"
   },
   {
    "duration": 16,
    "start_time": "2025-02-06T19:10:55.798Z"
   },
   {
    "duration": 51,
    "start_time": "2025-02-06T19:10:55.816Z"
   },
   {
    "duration": 125,
    "start_time": "2025-02-06T19:10:55.869Z"
   },
   {
    "duration": 31,
    "start_time": "2025-02-06T19:10:55.996Z"
   },
   {
    "duration": 54,
    "start_time": "2025-02-06T19:10:56.029Z"
   },
   {
    "duration": 161,
    "start_time": "2025-02-06T19:10:56.085Z"
   },
   {
    "duration": 41,
    "start_time": "2025-02-06T19:10:56.247Z"
   },
   {
    "duration": 15,
    "start_time": "2025-02-06T19:10:56.289Z"
   },
   {
    "duration": 6,
    "start_time": "2025-02-06T19:10:56.305Z"
   },
   {
    "duration": 11,
    "start_time": "2025-02-06T19:10:56.313Z"
   },
   {
    "duration": 32,
    "start_time": "2025-02-06T19:10:56.326Z"
   },
   {
    "duration": 7,
    "start_time": "2025-02-06T19:10:56.360Z"
   },
   {
    "duration": 9,
    "start_time": "2025-02-06T19:10:56.368Z"
   },
   {
    "duration": 11,
    "start_time": "2025-02-06T19:10:56.379Z"
   },
   {
    "duration": 5,
    "start_time": "2025-02-06T19:10:56.392Z"
   },
   {
    "duration": 366,
    "start_time": "2025-02-06T19:10:56.398Z"
   },
   {
    "duration": 347,
    "start_time": "2025-02-06T19:10:56.765Z"
   },
   {
    "duration": 21,
    "start_time": "2025-02-06T19:10:57.114Z"
   },
   {
    "duration": 27,
    "start_time": "2025-02-06T19:10:57.136Z"
   },
   {
    "duration": 219,
    "start_time": "2025-02-06T19:10:57.164Z"
   },
   {
    "duration": 96,
    "start_time": "2025-02-06T19:11:17.915Z"
   },
   {
    "duration": 4,
    "start_time": "2025-02-06T19:11:23.148Z"
   }
  ],
  "colab": {
   "provenance": []
  },
  "kernelspec": {
   "display_name": "Python 3 (ipykernel)",
   "language": "python",
   "name": "python3"
  },
  "language_info": {
   "codemirror_mode": {
    "name": "ipython",
    "version": 3
   },
   "file_extension": ".py",
   "mimetype": "text/x-python",
   "name": "python",
   "nbconvert_exporter": "python",
   "pygments_lexer": "ipython3",
   "version": "3.12.7"
  },
  "toc": {
   "base_numbering": 1,
   "nav_menu": {},
   "number_sections": true,
   "sideBar": true,
   "skip_h1_title": true,
   "title_cell": "Table of Contents",
   "title_sidebar": "Contents",
   "toc_cell": false,
   "toc_position": {
    "height": "calc(100% - 180px)",
    "left": "10px",
    "top": "150px",
    "width": "214px"
   },
   "toc_section_display": true,
   "toc_window_display": true
  }
 },
 "nbformat": 4,
 "nbformat_minor": 4
}

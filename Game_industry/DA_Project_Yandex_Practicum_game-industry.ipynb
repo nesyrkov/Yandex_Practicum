{
 "cells": [
  {
   "cell_type": "markdown",
   "id": "50847137-79e4-4de6-934b-b60c5f4b82ca",
   "metadata": {},
   "source": [
    "# Развитие индустрии игр в начале XXI века."
   ]
  },
  {
   "cell_type": "markdown",
   "id": "665131d8-4bc3-4a70-8589-044d4e120736",
   "metadata": {},
   "source": [
    "1 Загрузка и знакомство с данными  \n",
    "2 Проверка ошибок в данных и их предобработка  \n",
    "2.1 Названия, или метки, столбцов датафрейма  \n",
    "2.2 Типы данных  \n",
    "2.3 Наличие пропусков в данных  \n",
    "2.4 Явные и неявные дубликаты в данных  \n",
    "3 Фильтрация данных  \n",
    "4 Категоризация данных  \n",
    "5 Вывод "
   ]
  },
  {
   "cell_type": "markdown",
   "id": "1f39d8a5-0e03-4b95-bd8a-c41e44e7ef37",
   "metadata": {},
   "source": [
    "## 1 Загрузка и знакомство с данными\n",
    "\n",
    "\n"
   ]
  },
  {
   "cell_type": "code",
   "execution_count": 75,
   "id": "3c72c8dc-36e1-4a5d-a9cb-1b48c135adcc",
   "metadata": {},
   "outputs": [],
   "source": [
    "##Загрузите необходимые библиотеки Python и данные датасета /datasets/new_games.csv.\n",
    "import pandas as pd\n",
    "import numpy as np\n",
    "df=pd.read_csv('https://code.s3.yandex.net/datasets/new_games.csv')"
   ]
  },
  {
   "cell_type": "code",
   "execution_count": 76,
   "id": "f3a8af2e-87bd-4ea6-a310-5509d446ff72",
   "metadata": {},
   "outputs": [
    {
     "data": {
      "text/html": [
       "<div>\n",
       "<style scoped>\n",
       "    .dataframe tbody tr th:only-of-type {\n",
       "        vertical-align: middle;\n",
       "    }\n",
       "\n",
       "    .dataframe tbody tr th {\n",
       "        vertical-align: top;\n",
       "    }\n",
       "\n",
       "    .dataframe thead th {\n",
       "        text-align: right;\n",
       "    }\n",
       "</style>\n",
       "<table border=\"1\" class=\"dataframe\">\n",
       "  <thead>\n",
       "    <tr style=\"text-align: right;\">\n",
       "      <th></th>\n",
       "      <th>Name</th>\n",
       "      <th>Platform</th>\n",
       "      <th>Year of Release</th>\n",
       "      <th>Genre</th>\n",
       "      <th>NA sales</th>\n",
       "      <th>EU sales</th>\n",
       "      <th>JP sales</th>\n",
       "      <th>Other sales</th>\n",
       "      <th>Critic Score</th>\n",
       "      <th>User Score</th>\n",
       "      <th>Rating</th>\n",
       "    </tr>\n",
       "  </thead>\n",
       "  <tbody>\n",
       "    <tr>\n",
       "      <th>0</th>\n",
       "      <td>Wii Sports</td>\n",
       "      <td>Wii</td>\n",
       "      <td>2006.0</td>\n",
       "      <td>Sports</td>\n",
       "      <td>41.36</td>\n",
       "      <td>28.96</td>\n",
       "      <td>3.77</td>\n",
       "      <td>8.45</td>\n",
       "      <td>76.0</td>\n",
       "      <td>8</td>\n",
       "      <td>E</td>\n",
       "    </tr>\n",
       "    <tr>\n",
       "      <th>1</th>\n",
       "      <td>Super Mario Bros.</td>\n",
       "      <td>NES</td>\n",
       "      <td>1985.0</td>\n",
       "      <td>Platform</td>\n",
       "      <td>29.08</td>\n",
       "      <td>3.58</td>\n",
       "      <td>6.81</td>\n",
       "      <td>0.77</td>\n",
       "      <td>NaN</td>\n",
       "      <td>NaN</td>\n",
       "      <td>NaN</td>\n",
       "    </tr>\n",
       "    <tr>\n",
       "      <th>2</th>\n",
       "      <td>Mario Kart Wii</td>\n",
       "      <td>Wii</td>\n",
       "      <td>2008.0</td>\n",
       "      <td>Racing</td>\n",
       "      <td>15.68</td>\n",
       "      <td>12.76</td>\n",
       "      <td>3.79</td>\n",
       "      <td>3.29</td>\n",
       "      <td>82.0</td>\n",
       "      <td>8.3</td>\n",
       "      <td>E</td>\n",
       "    </tr>\n",
       "    <tr>\n",
       "      <th>3</th>\n",
       "      <td>Wii Sports Resort</td>\n",
       "      <td>Wii</td>\n",
       "      <td>2009.0</td>\n",
       "      <td>Sports</td>\n",
       "      <td>15.61</td>\n",
       "      <td>10.93</td>\n",
       "      <td>3.28</td>\n",
       "      <td>2.95</td>\n",
       "      <td>80.0</td>\n",
       "      <td>8</td>\n",
       "      <td>E</td>\n",
       "    </tr>\n",
       "    <tr>\n",
       "      <th>4</th>\n",
       "      <td>Pokemon Red/Pokemon Blue</td>\n",
       "      <td>GB</td>\n",
       "      <td>1996.0</td>\n",
       "      <td>Role-Playing</td>\n",
       "      <td>11.27</td>\n",
       "      <td>8.89</td>\n",
       "      <td>10.22</td>\n",
       "      <td>1.00</td>\n",
       "      <td>NaN</td>\n",
       "      <td>NaN</td>\n",
       "      <td>NaN</td>\n",
       "    </tr>\n",
       "  </tbody>\n",
       "</table>\n",
       "</div>"
      ],
      "text/plain": [
       "                       Name Platform  Year of Release         Genre  NA sales  \\\n",
       "0                Wii Sports      Wii           2006.0        Sports     41.36   \n",
       "1         Super Mario Bros.      NES           1985.0      Platform     29.08   \n",
       "2            Mario Kart Wii      Wii           2008.0        Racing     15.68   \n",
       "3         Wii Sports Resort      Wii           2009.0        Sports     15.61   \n",
       "4  Pokemon Red/Pokemon Blue       GB           1996.0  Role-Playing     11.27   \n",
       "\n",
       "  EU sales JP sales  Other sales  Critic Score User Score Rating  \n",
       "0    28.96     3.77         8.45          76.0          8      E  \n",
       "1     3.58     6.81         0.77           NaN        NaN    NaN  \n",
       "2    12.76     3.79         3.29          82.0        8.3      E  \n",
       "3    10.93     3.28         2.95          80.0          8      E  \n",
       "4     8.89    10.22         1.00           NaN        NaN    NaN  "
      ]
     },
     "metadata": {},
     "output_type": "display_data"
    },
    {
     "name": "stdout",
     "output_type": "stream",
     "text": [
      "<class 'pandas.core.frame.DataFrame'>\n",
      "RangeIndex: 16956 entries, 0 to 16955\n",
      "Data columns (total 11 columns):\n",
      " #   Column           Non-Null Count  Dtype  \n",
      "---  ------           --------------  -----  \n",
      " 0   Name             16954 non-null  object \n",
      " 1   Platform         16956 non-null  object \n",
      " 2   Year of Release  16681 non-null  float64\n",
      " 3   Genre            16954 non-null  object \n",
      " 4   NA sales         16956 non-null  float64\n",
      " 5   EU sales         16956 non-null  object \n",
      " 6   JP sales         16956 non-null  object \n",
      " 7   Other sales      16956 non-null  float64\n",
      " 8   Critic Score     8242 non-null   float64\n",
      " 9   User Score       10152 non-null  object \n",
      " 10  Rating           10085 non-null  object \n",
      "dtypes: float64(4), object(7)\n",
      "memory usage: 1.4+ MB\n"
     ]
    },
    {
     "data": {
      "text/plain": [
       "None"
      ]
     },
     "metadata": {},
     "output_type": "display_data"
    }
   ],
   "source": [
    "#Знакомимся с данными: выводим первые строки и результат метода info().\n",
    "display(df.head())\n",
    "display(df.info())"
   ]
  },
  {
   "cell_type": "markdown",
   "id": "9b99a56d-c367-4c03-b7bd-f4cfa7e1cd3a",
   "metadata": {},
   "source": [
    "**Вывод о полученных данных:** всего 16956 строк и 11 столбцов, \n",
    "есть пропуски в столбцах Name, Year of Release, Genre, Critic Score, User Score, Rating. \n",
    "Года некорректно прописаны надо исправить."
   ]
  },
  {
   "cell_type": "markdown",
   "id": "5629310e-751d-4913-be8b-79c804e50e40",
   "metadata": {},
   "source": [
    "# 2 Проверка ошибок в данных и их предобработка"
   ]
  },
  {
   "cell_type": "markdown",
   "id": "cf437dbb-d775-4554-9542-10b34f1155fe",
   "metadata": {},
   "source": [
    "## 2.1 Названия, или метки, столбцов датафрейма:"
   ]
  },
  {
   "cell_type": "code",
   "execution_count": 80,
   "id": "9fc65105-f21f-4d85-917d-4a800cdb9eb8",
   "metadata": {},
   "outputs": [
    {
     "data": {
      "text/plain": [
       "array(['Name', 'Platform', 'Year of Release', 'Genre', 'NA sales',\n",
       "       'EU sales', 'JP sales', 'Other sales', 'Critic Score',\n",
       "       'User Score', 'Rating'], dtype=object)"
      ]
     },
     "metadata": {},
     "output_type": "display_data"
    }
   ],
   "source": [
    "#Выведим на экран названия всех столбцов датафрейма и проверьте их стиль написания.\n",
    "display(df.columns.values)"
   ]
  },
  {
   "cell_type": "code",
   "execution_count": 81,
   "id": "e4a197dc-8998-4dec-a71f-8032fdbf21f8",
   "metadata": {},
   "outputs": [],
   "source": [
    "#Приводим все столбцы к стилю snake case. Названия должны быть в нижнем регистре, а вместо пробелов — подчёркивания _.\n",
    "def snake_case(x):\n",
    "    SC=[]\n",
    "    for index in x.columns.values.tolist():\n",
    "        SC.append(str(index).lower().replace(' ', '_'))\n",
    "    return SC\n",
    "df=df.set_axis(snake_case(df), axis=1)"
   ]
  },
  {
   "cell_type": "markdown",
   "id": "ab9c702f-3957-4f0a-9987-d70c6d3b0668",
   "metadata": {},
   "source": [
    "## 2.2 Типы данных\n"
   ]
  },
  {
   "cell_type": "code",
   "execution_count": 83,
   "id": "29c018c2-2b5b-4256-be8c-82942986d901",
   "metadata": {},
   "outputs": [
    {
     "name": "stdout",
     "output_type": "stream",
     "text": [
      "<class 'pandas.core.frame.DataFrame'>\n",
      "RangeIndex: 16956 entries, 0 to 16955\n",
      "Data columns (total 11 columns):\n",
      " #   Column           Non-Null Count  Dtype  \n",
      "---  ------           --------------  -----  \n",
      " 0   name             16954 non-null  object \n",
      " 1   platform         16956 non-null  object \n",
      " 2   year_of_release  16681 non-null  float64\n",
      " 3   genre            16954 non-null  object \n",
      " 4   na_sales         16956 non-null  float64\n",
      " 5   eu_sales         16956 non-null  object \n",
      " 6   jp_sales         16956 non-null  object \n",
      " 7   other_sales      16956 non-null  float64\n",
      " 8   critic_score     8242 non-null   float64\n",
      " 9   user_score       10152 non-null  object \n",
      " 10  rating           10085 non-null  object \n",
      "dtypes: float64(4), object(7)\n",
      "memory usage: 1.4+ MB\n"
     ]
    }
   ],
   "source": [
    "df.info()"
   ]
  },
  {
   "cell_type": "code",
   "execution_count": 84,
   "id": "e4cb46c7-ab84-4845-b614-1fcfb361969b",
   "metadata": {},
   "outputs": [
    {
     "data": {
      "text/plain": [
       "array([2006., 1985., 2008., 2009., 1996., 1989., 1984., 2005., 1999.,\n",
       "       2007., 2010., 2013., 2004., 1990., 1988., 2002., 2001., 2011.,\n",
       "       1998., 2015., 2012., 2014., 1992., 1997., 1993., 1994., 1982.,\n",
       "       2016., 2003., 1986., 2000.,   nan, 1995., 1991., 1981., 1987.,\n",
       "       1980., 1983.])"
      ]
     },
     "execution_count": 84,
     "metadata": {},
     "output_type": "execute_result"
    }
   ],
   "source": [
    "df['year_of_release'].unique()"
   ]
  },
  {
   "cell_type": "code",
   "execution_count": 85,
   "id": "b3166f41-a729-48a1-9962-c73fd2fa39c1",
   "metadata": {},
   "outputs": [
    {
     "data": {
      "text/plain": [
       "array(['Sports', 'Platform', 'Racing', 'Role-Playing', 'Puzzle', 'Misc',\n",
       "       'Shooter', 'Simulation', 'Action', 'Fighting', 'Adventure',\n",
       "       'Strategy', nan, 'MISC', 'ROLE-PLAYING', 'RACING', 'ACTION',\n",
       "       'SHOOTER', 'FIGHTING', 'SPORTS', 'PLATFORM', 'ADVENTURE',\n",
       "       'SIMULATION', 'PUZZLE', 'STRATEGY'], dtype=object)"
      ]
     },
     "execution_count": 85,
     "metadata": {},
     "output_type": "execute_result"
    }
   ],
   "source": [
    "df['genre'].unique()"
   ]
  },
  {
   "cell_type": "code",
   "execution_count": 86,
   "id": "3d042e1b-f4c2-45b1-8d85-bad1874f618e",
   "metadata": {},
   "outputs": [
    {
     "data": {
      "text/plain": [
       "array([76., nan, 82., 80., 89., 58., 87., 91., 61., 97., 95., 77., 88.,\n",
       "       83., 94., 93., 85., 86., 98., 96., 90., 84., 73., 74., 78., 92.,\n",
       "       71., 72., 68., 62., 49., 67., 81., 66., 56., 79., 70., 59., 64.,\n",
       "       75., 60., 63., 69., 50., 25., 42., 44., 55., 48., 57., 29., 47.,\n",
       "       65., 54., 20., 53., 37., 38., 33., 52., 30., 32., 43., 45., 51.,\n",
       "       40., 46., 39., 34., 35., 41., 36., 28., 31., 27., 26., 19., 23.,\n",
       "       24., 21., 17., 22., 13.])"
      ]
     },
     "execution_count": 86,
     "metadata": {},
     "output_type": "execute_result"
    }
   ],
   "source": [
    "df['critic_score'].unique()"
   ]
  },
  {
   "cell_type": "code",
   "execution_count": 87,
   "id": "09d9dfc9-daac-4276-a09a-a465f17304ff",
   "metadata": {},
   "outputs": [
    {
     "data": {
      "text/plain": [
       "array(['8', nan, '8.3', '8.5', '6.6', '8.4', '8.6', '7.7', '6.3', '7.4',\n",
       "       '8.2', '9', '7.9', '8.1', '8.7', '7.1', '3.4', '5.3', '4.8', '3.2',\n",
       "       '8.9', '6.4', '7.8', '7.5', '2.6', '7.2', '9.2', '7', '7.3', '4.3',\n",
       "       '7.6', '5.7', '5', '9.1', '6.5', 'tbd', '8.8', '6.9', '9.4', '6.8',\n",
       "       '6.1', '6.7', '5.4', '4', '4.9', '4.5', '9.3', '6.2', '4.2', '6',\n",
       "       '3.7', '4.1', '5.8', '5.6', '5.5', '4.4', '4.6', '5.9', '3.9',\n",
       "       '3.1', '2.9', '5.2', '3.3', '4.7', '5.1', '3.5', '2.5', '1.9', '3',\n",
       "       '2.7', '2.2', '2', '9.5', '2.1', '3.6', '2.8', '1.8', '3.8', '0',\n",
       "       '1.6', '9.6', '2.4', '1.7', '1.1', '0.3', '1.5', '0.7', '1.2',\n",
       "       '2.3', '0.5', '1.3', '0.2', '0.6', '1.4', '0.9', '1', '9.7'],\n",
       "      dtype=object)"
      ]
     },
     "execution_count": 87,
     "metadata": {},
     "output_type": "execute_result"
    }
   ],
   "source": [
    "df['user_score'].unique()"
   ]
  },
  {
   "cell_type": "code",
   "execution_count": 88,
   "id": "e4f5e52c-ce73-4aee-b5b9-29b5b21b3b2e",
   "metadata": {},
   "outputs": [
    {
     "data": {
      "text/plain": [
       "array(['E', nan, 'M', 'T', 'E10+', 'K-A', 'AO', 'EC', 'RP'], dtype=object)"
      ]
     },
     "execution_count": 88,
     "metadata": {},
     "output_type": "execute_result"
    }
   ],
   "source": [
    "df['rating'].unique()"
   ]
  },
  {
   "cell_type": "markdown",
   "id": "755d6c32-0e3e-4a60-af4d-a935ebfea777",
   "metadata": {},
   "source": [
    "## 2.3 Наличие пропусков в данных"
   ]
  },
  {
   "cell_type": "code",
   "execution_count": 90,
   "id": "1a9ed6d1-52ee-4511-9c26-0db19e189908",
   "metadata": {},
   "outputs": [
    {
     "name": "stdout",
     "output_type": "stream",
     "text": [
      "Количество name NaN значений 2 и их доля от общего числа 0.0\n",
      "Количество platform NaN значений 0 и их доля от общего числа 0.0\n",
      "Количество year_of_release NaN значений 275 и их доля от общего числа 0.016\n",
      "Количество genre NaN значений 2 и их доля от общего числа 0.0\n",
      "Количество na_sales NaN значений 0 и их доля от общего числа 0.0\n",
      "Количество eu_sales NaN значений 0 и их доля от общего числа 0.0\n",
      "Количество jp_sales NaN значений 0 и их доля от общего числа 0.0\n",
      "Количество other_sales NaN значений 0 и их доля от общего числа 0.0\n",
      "Количество critic_score NaN значений 8714 и их доля от общего числа 0.514\n",
      "Количество user_score NaN значений 6804 и их доля от общего числа 0.401\n",
      "Количество rating NaN значений 6871 и их доля от общего числа 0.405\n"
     ]
    }
   ],
   "source": [
    "#Посчитайте количество пропусков в каждом столбце в абсолютных и относительных значениях.\n",
    "print(f'Количество name NaN значений {df[\"name\"].isna().sum()} и их доля от общего числа {round(df[\"name\"].isna().sum()/len(df[\"name\"]),3)}')\n",
    "print(f'Количество platform NaN значений {df[\"platform\"].isna().sum()} и их доля от общего числа {round(df[\"platform\"].isna().sum()/len(df[\"platform\"]),3)}')\n",
    "print(f'Количество year_of_release NaN значений {df[\"year_of_release\"].isna().sum()} и их доля от общего числа {round(df[\"year_of_release\"].isna().sum()/len(df[\"year_of_release\"]),3)}')\n",
    "print(f'Количество genre NaN значений {df[\"genre\"].isna().sum()} и их доля от общего числа {round(df[\"genre\"].isna().sum()/len(df[\"genre\"]),3)}')\n",
    "print(f'Количество na_sales NaN значений {df[\"na_sales\"].isna().sum()} и их доля от общего числа {round(df[\"na_sales\"].isna().sum()/len(df[\"na_sales\"]),3)}')\n",
    "print(f'Количество eu_sales NaN значений {df[\"eu_sales\"].isna().sum()} и их доля от общего числа {round(df[\"eu_sales\"].isna().sum()/len(df[\"eu_sales\"]),3)}')\n",
    "print(f'Количество jp_sales NaN значений {df[\"jp_sales\"].isna().sum()} и их доля от общего числа {round(df[\"jp_sales\"].isna().sum()/len(df[\"jp_sales\"]),3)}')\n",
    "print(f'Количество other_sales NaN значений {df[\"other_sales\"].isna().sum()} и их доля от общего числа {round(df[\"other_sales\"].isna().sum()/len(df[\"other_sales\"]),3)}')\n",
    "print(f'Количество critic_score NaN значений {df[\"critic_score\"].isna().sum()} и их доля от общего числа {round(df[\"critic_score\"].isna().sum()/len(df[\"critic_score\"]),3)}')\n",
    "print(f'Количество user_score NaN значений {df[\"user_score\"].isna().sum()} и их доля от общего числа {round(df[\"user_score\"].isna().sum()/len(df[\"user_score\"]),3)}')\n",
    "print(f'Количество rating NaN значений {df[\"rating\"].isna().sum()} и их доля от общего числа {round(df[\"rating\"].isna().sum()/len(df[\"rating\"]),3)}')"
   ]
  },
  {
   "cell_type": "code",
   "execution_count": 91,
   "id": "88af551f-7943-4696-91a4-facf11dfb2ff",
   "metadata": {},
   "outputs": [],
   "source": [
    "df=df.dropna(subset=['year_of_release'])"
   ]
  },
  {
   "cell_type": "code",
   "execution_count": 92,
   "id": "16f1587b-0952-4785-909a-f4414636dedb",
   "metadata": {},
   "outputs": [
    {
     "name": "stdout",
     "output_type": "stream",
     "text": [
      "<class 'pandas.core.frame.DataFrame'>\n",
      "Index: 16681 entries, 0 to 16955\n",
      "Data columns (total 11 columns):\n",
      " #   Column           Non-Null Count  Dtype  \n",
      "---  ------           --------------  -----  \n",
      " 0   name             16679 non-null  object \n",
      " 1   platform         16681 non-null  object \n",
      " 2   year_of_release  16681 non-null  int64  \n",
      " 3   genre            16679 non-null  object \n",
      " 4   na_sales         16681 non-null  float64\n",
      " 5   eu_sales         16681 non-null  object \n",
      " 6   jp_sales         16681 non-null  object \n",
      " 7   other_sales      16681 non-null  float64\n",
      " 8   critic_score     8085 non-null   float64\n",
      " 9   user_score       9974 non-null   object \n",
      " 10  rating           9901 non-null   object \n",
      "dtypes: float64(3), int64(1), object(7)\n",
      "memory usage: 1.5+ MB\n"
     ]
    }
   ],
   "source": [
    "#Проведение преобразования типов данных.\n",
    "df['year_of_release']=df['year_of_release'].astype('int64')\n",
    "df.info()"
   ]
  },
  {
   "cell_type": "code",
   "execution_count": 93,
   "id": "01bcd45b-7fe6-4bed-8a21-737b1eb16a32",
   "metadata": {},
   "outputs": [
    {
     "name": "stdout",
     "output_type": "stream",
     "text": [
      "<class 'pandas.core.frame.DataFrame'>\n",
      "Index: 16679 entries, 0 to 16955\n",
      "Data columns (total 11 columns):\n",
      " #   Column           Non-Null Count  Dtype  \n",
      "---  ------           --------------  -----  \n",
      " 0   name             16679 non-null  object \n",
      " 1   platform         16679 non-null  object \n",
      " 2   year_of_release  16679 non-null  int64  \n",
      " 3   genre            16679 non-null  object \n",
      " 4   na_sales         16679 non-null  float64\n",
      " 5   eu_sales         16679 non-null  object \n",
      " 6   jp_sales         16679 non-null  object \n",
      " 7   other_sales      16679 non-null  float64\n",
      " 8   critic_score     8085 non-null   float64\n",
      " 9   user_score       9974 non-null   object \n",
      " 10  rating           9901 non-null   object \n",
      "dtypes: float64(3), int64(1), object(7)\n",
      "memory usage: 1.5+ MB\n"
     ]
    }
   ],
   "source": [
    "df=df.dropna(subset=['name'])\n",
    "df=df.dropna(subset=['genre'])\n",
    "df.info()"
   ]
  },
  {
   "cell_type": "code",
   "execution_count": 94,
   "id": "9af1094f",
   "metadata": {},
   "outputs": [
    {
     "name": "stdout",
     "output_type": "stream",
     "text": [
      "<class 'pandas.core.frame.DataFrame'>\n",
      "Index: 16679 entries, 0 to 16955\n",
      "Data columns (total 11 columns):\n",
      " #   Column           Non-Null Count  Dtype  \n",
      "---  ------           --------------  -----  \n",
      " 0   name             16679 non-null  object \n",
      " 1   platform         16679 non-null  object \n",
      " 2   year_of_release  16679 non-null  int64  \n",
      " 3   genre            16679 non-null  object \n",
      " 4   na_sales         16679 non-null  float64\n",
      " 5   eu_sales         16679 non-null  float64\n",
      " 6   jp_sales         16679 non-null  float64\n",
      " 7   other_sales      16679 non-null  float64\n",
      " 8   critic_score     8085 non-null   float64\n",
      " 9   user_score       9974 non-null   object \n",
      " 10  rating           9901 non-null   object \n",
      "dtypes: float64(5), int64(1), object(5)\n",
      "memory usage: 1.5+ MB\n"
     ]
    }
   ],
   "source": [
    "#Замена значения unknown и преобразования к float \n",
    "df['jp_sales']=df['jp_sales'].str.replace('unknown', '-1')\n",
    "df['jp_sales']= pd.to_numeric(df['jp_sales'])\n",
    "df['eu_sales']=df['eu_sales'].str.replace('unknown', '-1')\n",
    "df['eu_sales']= pd.to_numeric(df['eu_sales'])\n",
    "df.info()\n",
    "\n",
    "\n"
   ]
  },
  {
   "cell_type": "code",
   "execution_count": 95,
   "id": "c930f700",
   "metadata": {},
   "outputs": [],
   "source": [
    "df['user_score'] = df['user_score'].replace('tbd', np.nan)\n",
    "df['user_score']= pd.to_numeric(df['user_score'])\n",
    "#df[\"user_score\"] = df.groupby([\"platform\",\"year_of_release\"])[\"user_score\"].transform(lambda x: x.fillna(x.mean()))"
   ]
  },
  {
   "cell_type": "code",
   "execution_count": 96,
   "id": "cd3c91d2-cc3f-4822-b249-2f260c6b5616",
   "metadata": {},
   "outputs": [
    {
     "name": "stdout",
     "output_type": "stream",
     "text": [
      "<class 'pandas.core.frame.DataFrame'>\n",
      "Index: 16679 entries, 0 to 16955\n",
      "Data columns (total 11 columns):\n",
      " #   Column           Non-Null Count  Dtype  \n",
      "---  ------           --------------  -----  \n",
      " 0   name             16679 non-null  object \n",
      " 1   platform         16679 non-null  object \n",
      " 2   year_of_release  16679 non-null  int64  \n",
      " 3   genre            16679 non-null  object \n",
      " 4   na_sales         16679 non-null  float64\n",
      " 5   eu_sales         16679 non-null  float64\n",
      " 6   jp_sales         16679 non-null  float64\n",
      " 7   other_sales      16679 non-null  float64\n",
      " 8   critic_score     8085 non-null   float64\n",
      " 9   user_score       7558 non-null   float64\n",
      " 10  rating           9901 non-null   object \n",
      "dtypes: float64(6), int64(1), object(4)\n",
      "memory usage: 1.5+ MB\n"
     ]
    }
   ],
   "source": [
    "df.info()"
   ]
  },
  {
   "cell_type": "markdown",
   "id": "3f61aa58",
   "metadata": {},
   "source": [
    "**Вывод:** Все столбцы кроме critic_score, user_score, rating без пропусков, эти столбцы мы заполнить не можем потому что они заполняются подьзователями, если необходимо заполнить можно заполнить 0/-1, удалить не можем потому что составляет до половины выборки.  "
   ]
  },
  {
   "cell_type": "markdown",
   "id": "50c80dad-dde2-440f-bb77-7bdd19dd4287",
   "metadata": {},
   "source": [
    "## 2.4 Явные и неявные дубликаты в данных:"
   ]
  },
  {
   "cell_type": "code",
   "execution_count": 99,
   "id": "7e13fb06-9495-4653-a8cb-90efa0914a03",
   "metadata": {},
   "outputs": [
    {
     "data": {
      "text/plain": [
       "'Количество явных дубликатов 179 и относительное количество явных дубликатов 0.011'"
      ]
     },
     "metadata": {},
     "output_type": "display_data"
    }
   ],
   "source": [
    "#Подсчет количества пропусков \n",
    "display(f'Количество явных дубликатов {df.duplicated(keep=\"last\").sum()} и относительное количество явных дубликатов {round(df.duplicated(keep=\"last\").sum()/len(df),3)}')"
   ]
  },
  {
   "cell_type": "code",
   "execution_count": 100,
   "id": "7d75e6fe",
   "metadata": {},
   "outputs": [
    {
     "data": {
      "text/plain": [
       "genre\n",
       "Action          3341\n",
       "Sports          2325\n",
       "Misc            1740\n",
       "Role-Playing    1493\n",
       "Shooter         1314\n",
       "Adventure       1309\n",
       "Racing          1244\n",
       "Platform         891\n",
       "Simulation       866\n",
       "Fighting         844\n",
       "Strategy         679\n",
       "Puzzle           577\n",
       "ACTION            12\n",
       "SPORTS             7\n",
       "ROLE-PLAYING       6\n",
       "RACING             6\n",
       "FIGHTING           6\n",
       "SHOOTER            5\n",
       "ADVENTURE          4\n",
       "MISC               3\n",
       "PLATFORM           3\n",
       "PUZZLE             2\n",
       "SIMULATION         1\n",
       "STRATEGY           1\n",
       "Name: count, dtype: int64"
      ]
     },
     "metadata": {},
     "output_type": "display_data"
    },
    {
     "data": {
      "text/plain": [
       "platform\n",
       "PS2     2154\n",
       "DS      2147\n",
       "PS3     1330\n",
       "Wii     1305\n",
       "X360    1249\n",
       "PSP     1212\n",
       "PS      1208\n",
       "PC       972\n",
       "GBA      826\n",
       "XB       818\n",
       "GC       549\n",
       "3DS      522\n",
       "PSV      434\n",
       "PS4      395\n",
       "N64      320\n",
       "XOne     251\n",
       "SNES     241\n",
       "SAT      174\n",
       "WiiU     147\n",
       "2600     118\n",
       "NES      100\n",
       "GB        97\n",
       "DC        52\n",
       "GEN       27\n",
       "NG        12\n",
       "SCD        6\n",
       "WS         6\n",
       "3DO        3\n",
       "TG16       2\n",
       "GG         1\n",
       "PCFX       1\n",
       "Name: count, dtype: int64"
      ]
     },
     "metadata": {},
     "output_type": "display_data"
    },
    {
     "data": {
      "text/plain": [
       "rating\n",
       "E       3968\n",
       "T       2948\n",
       "M       1558\n",
       "E10+    1414\n",
       "EC         8\n",
       "K-A        3\n",
       "AO         1\n",
       "RP         1\n",
       "Name: count, dtype: int64"
      ]
     },
     "metadata": {},
     "output_type": "display_data"
    },
    {
     "data": {
      "text/plain": [
       "year_of_release\n",
       "2009    1450\n",
       "2008    1445\n",
       "2010    1279\n",
       "2007    1218\n",
       "2011    1149\n",
       "2006    1020\n",
       "2005     950\n",
       "2002     839\n",
       "2003     789\n",
       "2004     771\n",
       "2012     670\n",
       "2015     612\n",
       "2014     584\n",
       "2013     552\n",
       "2016     507\n",
       "2001     491\n",
       "1998     384\n",
       "2000     357\n",
       "1999     341\n",
       "1997     293\n",
       "1996     267\n",
       "1995     220\n",
       "1994     121\n",
       "1993      60\n",
       "1981      46\n",
       "1992      43\n",
       "1991      42\n",
       "1982      37\n",
       "1986      22\n",
       "1983      18\n",
       "1987      17\n",
       "1989      17\n",
       "1990      16\n",
       "1988      15\n",
       "1985      14\n",
       "1984      14\n",
       "1980       9\n",
       "Name: count, dtype: int64"
      ]
     },
     "metadata": {},
     "output_type": "display_data"
    }
   ],
   "source": [
    "for i in ['genre', 'platform', 'rating', 'year_of_release']:\n",
    "    display(df[i].value_counts())"
   ]
  },
  {
   "cell_type": "code",
   "execution_count": 101,
   "id": "44446755",
   "metadata": {},
   "outputs": [],
   "source": [
    "df['name']=df['name'].str.lower()"
   ]
  },
  {
   "cell_type": "code",
   "execution_count": 102,
   "id": "0126b01a",
   "metadata": {},
   "outputs": [],
   "source": [
    "df['genre']=df['genre'].str.lower()"
   ]
  },
  {
   "cell_type": "code",
   "execution_count": 103,
   "id": "6ee607ad",
   "metadata": {},
   "outputs": [],
   "source": [
    "df['rating']=df['rating'].str.upper()"
   ]
  },
  {
   "cell_type": "code",
   "execution_count": 104,
   "id": "b9ea9723",
   "metadata": {},
   "outputs": [],
   "source": [
    "#Удаление явных дубликатов\n",
    "df.drop_duplicates(inplace=True)"
   ]
  },
  {
   "cell_type": "markdown",
   "id": "17f3f7bd",
   "metadata": {},
   "source": [
    "**Вывод:** По данным выявили, что есть по жанрам различающиеся в написании неявные дубликаты. Пример:Action ACTION, Shooter SHOOTER. Также некотрые платформы очень похожи в описании PS2 PS4. "
   ]
  },
  {
   "cell_type": "markdown",
   "id": "1d9faf02",
   "metadata": {},
   "source": [
    "\n",
    "</div>\n",
    "<div class=\"alert alert-success\">\n",
    "\n",
    "**Артём:** ✔️ Хорошо. Хотя стоило сделать проверку было/стало."
   ]
  },
  {
   "cell_type": "markdown",
   "id": "cc01b0c4-b3fa-4721-80f2-427dd9d8eb0c",
   "metadata": {},
   "source": [
    "# 3 Фильтрация данных"
   ]
  },
  {
   "cell_type": "code",
   "execution_count": 108,
   "id": "583960ab-848e-425f-9a41-a37d0bab0b5c",
   "metadata": {},
   "outputs": [],
   "source": [
    "#Отобраны данные по показателю период с 2000 по 2013\n",
    "df_actual=df[(df['year_of_release']>=2000)&(df['year_of_release']<=2013)].copy()"
   ]
  },
  {
   "cell_type": "markdown",
   "id": "1e71d1de-1b2c-4171-98c7-7367a8345beb",
   "metadata": {},
   "source": [
    "# 4 Категоризация данных"
   ]
  },
  {
   "cell_type": "code",
   "execution_count": 110,
   "id": "97ac93de-6dc3-4ca9-b94d-6a7a5daea99f",
   "metadata": {},
   "outputs": [],
   "source": [
    "#Разделите все игры по оценкам пользователей и выделите такие категории: \n",
    "#высокая оценка (от 8 до 10 включительно), средняя оценка (от 3 до 8, не включая правую границу интервала) и \n",
    "#[](от 0 до 3, не включая правую границу интервала).\n",
    "def user_sc(x):\n",
    "    if x['user_score']>=8 and x['user_score']<=10:\n",
    "        return 'высокая оценка'\n",
    "    elif x['user_score']>=3 and x['user_score']<8:\n",
    "        return 'средняя оценка'\n",
    "    elif x['user_score']>=0 and x['user_score']<3: \n",
    "        return 'низкая оценка'\n",
    "    else:\n",
    "        return 'без оценки'\n",
    "df_actual['games_user_categorization']=df_actual.apply(user_sc, axis=1)"
   ]
  },
  {
   "cell_type": "code",
   "execution_count": 111,
   "id": "e7c407de-06b6-4305-aa80-d2c374b353c1",
   "metadata": {},
   "outputs": [],
   "source": [
    "#Разделите все игры по оценкам критиков и выделите такие категории: высокая оценка (от 80 до 100 включительно), \n",
    "#средняя оценка (от 30 до 80, не включая правую границу интервала) и низкая оценка (от 0 до 30, не включая правую границу интервала).\n",
    "def critic_sc(x):\n",
    "    if x['critic_score']>=80 and x['critic_score']<=100:\n",
    "        return 'высокая оценка'\n",
    "    elif x['critic_score']>=30 and x['critic_score']<80:\n",
    "        return 'средняя оценка'\n",
    "    elif x['critic_score']>=0 and x['critic_score']<30: \n",
    "        return 'низкая оценка' \n",
    "    else:\n",
    "        return 'без оценки'\n",
    "df_actual['games_critic_categorization']=df_actual.apply(critic_sc, axis=1)"
   ]
  },
  {
   "cell_type": "code",
   "execution_count": 112,
   "id": "af9bb0bb-6b8c-4167-9006-cf0e6698a0bc",
   "metadata": {},
   "outputs": [
    {
     "data": {
      "text/html": [
       "<div>\n",
       "<style scoped>\n",
       "    .dataframe tbody tr th:only-of-type {\n",
       "        vertical-align: middle;\n",
       "    }\n",
       "\n",
       "    .dataframe tbody tr th {\n",
       "        vertical-align: top;\n",
       "    }\n",
       "\n",
       "    .dataframe thead th {\n",
       "        text-align: right;\n",
       "    }\n",
       "</style>\n",
       "<table border=\"1\" class=\"dataframe\">\n",
       "  <thead>\n",
       "    <tr style=\"text-align: right;\">\n",
       "      <th></th>\n",
       "      <th>name</th>\n",
       "      <th>platform</th>\n",
       "      <th>year_of_release</th>\n",
       "      <th>genre</th>\n",
       "      <th>na_sales</th>\n",
       "      <th>eu_sales</th>\n",
       "      <th>jp_sales</th>\n",
       "      <th>other_sales</th>\n",
       "      <th>critic_score</th>\n",
       "      <th>user_score</th>\n",
       "      <th>rating</th>\n",
       "      <th>games_user_categorization</th>\n",
       "      <th>games_critic_categorization</th>\n",
       "    </tr>\n",
       "  </thead>\n",
       "  <tbody>\n",
       "    <tr>\n",
       "      <th>0</th>\n",
       "      <td>wii sports</td>\n",
       "      <td>Wii</td>\n",
       "      <td>2006</td>\n",
       "      <td>sports</td>\n",
       "      <td>41.36</td>\n",
       "      <td>28.96</td>\n",
       "      <td>3.77</td>\n",
       "      <td>8.45</td>\n",
       "      <td>76.0</td>\n",
       "      <td>8.0</td>\n",
       "      <td>E</td>\n",
       "      <td>высокая оценка</td>\n",
       "      <td>средняя оценка</td>\n",
       "    </tr>\n",
       "    <tr>\n",
       "      <th>2</th>\n",
       "      <td>mario kart wii</td>\n",
       "      <td>Wii</td>\n",
       "      <td>2008</td>\n",
       "      <td>racing</td>\n",
       "      <td>15.68</td>\n",
       "      <td>12.76</td>\n",
       "      <td>3.79</td>\n",
       "      <td>3.29</td>\n",
       "      <td>82.0</td>\n",
       "      <td>8.3</td>\n",
       "      <td>E</td>\n",
       "      <td>высокая оценка</td>\n",
       "      <td>высокая оценка</td>\n",
       "    </tr>\n",
       "    <tr>\n",
       "      <th>3</th>\n",
       "      <td>wii sports resort</td>\n",
       "      <td>Wii</td>\n",
       "      <td>2009</td>\n",
       "      <td>sports</td>\n",
       "      <td>15.61</td>\n",
       "      <td>10.93</td>\n",
       "      <td>3.28</td>\n",
       "      <td>2.95</td>\n",
       "      <td>80.0</td>\n",
       "      <td>8.0</td>\n",
       "      <td>E</td>\n",
       "      <td>высокая оценка</td>\n",
       "      <td>высокая оценка</td>\n",
       "    </tr>\n",
       "    <tr>\n",
       "      <th>6</th>\n",
       "      <td>new super mario bros.</td>\n",
       "      <td>DS</td>\n",
       "      <td>2006</td>\n",
       "      <td>platform</td>\n",
       "      <td>11.28</td>\n",
       "      <td>9.14</td>\n",
       "      <td>6.50</td>\n",
       "      <td>2.88</td>\n",
       "      <td>89.0</td>\n",
       "      <td>8.5</td>\n",
       "      <td>E</td>\n",
       "      <td>высокая оценка</td>\n",
       "      <td>высокая оценка</td>\n",
       "    </tr>\n",
       "    <tr>\n",
       "      <th>7</th>\n",
       "      <td>wii play</td>\n",
       "      <td>Wii</td>\n",
       "      <td>2006</td>\n",
       "      <td>misc</td>\n",
       "      <td>13.96</td>\n",
       "      <td>9.18</td>\n",
       "      <td>2.93</td>\n",
       "      <td>2.84</td>\n",
       "      <td>58.0</td>\n",
       "      <td>6.6</td>\n",
       "      <td>E</td>\n",
       "      <td>средняя оценка</td>\n",
       "      <td>средняя оценка</td>\n",
       "    </tr>\n",
       "    <tr>\n",
       "      <th>8</th>\n",
       "      <td>new super mario bros. wii</td>\n",
       "      <td>Wii</td>\n",
       "      <td>2009</td>\n",
       "      <td>platform</td>\n",
       "      <td>14.44</td>\n",
       "      <td>6.94</td>\n",
       "      <td>4.70</td>\n",
       "      <td>2.24</td>\n",
       "      <td>87.0</td>\n",
       "      <td>8.4</td>\n",
       "      <td>E</td>\n",
       "      <td>высокая оценка</td>\n",
       "      <td>высокая оценка</td>\n",
       "    </tr>\n",
       "    <tr>\n",
       "      <th>10</th>\n",
       "      <td>nintendogs</td>\n",
       "      <td>DS</td>\n",
       "      <td>2005</td>\n",
       "      <td>simulation</td>\n",
       "      <td>9.05</td>\n",
       "      <td>10.95</td>\n",
       "      <td>1.93</td>\n",
       "      <td>2.74</td>\n",
       "      <td>NaN</td>\n",
       "      <td>NaN</td>\n",
       "      <td>NaN</td>\n",
       "      <td>без оценки</td>\n",
       "      <td>без оценки</td>\n",
       "    </tr>\n",
       "    <tr>\n",
       "      <th>11</th>\n",
       "      <td>mario kart ds</td>\n",
       "      <td>DS</td>\n",
       "      <td>2005</td>\n",
       "      <td>racing</td>\n",
       "      <td>9.71</td>\n",
       "      <td>7.47</td>\n",
       "      <td>4.13</td>\n",
       "      <td>1.90</td>\n",
       "      <td>91.0</td>\n",
       "      <td>8.6</td>\n",
       "      <td>E</td>\n",
       "      <td>высокая оценка</td>\n",
       "      <td>высокая оценка</td>\n",
       "    </tr>\n",
       "    <tr>\n",
       "      <th>13</th>\n",
       "      <td>wii fit</td>\n",
       "      <td>Wii</td>\n",
       "      <td>2007</td>\n",
       "      <td>sports</td>\n",
       "      <td>8.92</td>\n",
       "      <td>8.03</td>\n",
       "      <td>3.60</td>\n",
       "      <td>2.15</td>\n",
       "      <td>80.0</td>\n",
       "      <td>7.7</td>\n",
       "      <td>E</td>\n",
       "      <td>средняя оценка</td>\n",
       "      <td>высокая оценка</td>\n",
       "    </tr>\n",
       "    <tr>\n",
       "      <th>14</th>\n",
       "      <td>kinect adventures!</td>\n",
       "      <td>X360</td>\n",
       "      <td>2010</td>\n",
       "      <td>misc</td>\n",
       "      <td>15.00</td>\n",
       "      <td>4.89</td>\n",
       "      <td>0.24</td>\n",
       "      <td>1.69</td>\n",
       "      <td>61.0</td>\n",
       "      <td>6.3</td>\n",
       "      <td>E</td>\n",
       "      <td>средняя оценка</td>\n",
       "      <td>средняя оценка</td>\n",
       "    </tr>\n",
       "  </tbody>\n",
       "</table>\n",
       "</div>"
      ],
      "text/plain": [
       "                         name platform  year_of_release       genre  na_sales  \\\n",
       "0                  wii sports      Wii             2006      sports     41.36   \n",
       "2              mario kart wii      Wii             2008      racing     15.68   \n",
       "3           wii sports resort      Wii             2009      sports     15.61   \n",
       "6       new super mario bros.       DS             2006    platform     11.28   \n",
       "7                    wii play      Wii             2006        misc     13.96   \n",
       "8   new super mario bros. wii      Wii             2009    platform     14.44   \n",
       "10                 nintendogs       DS             2005  simulation      9.05   \n",
       "11              mario kart ds       DS             2005      racing      9.71   \n",
       "13                    wii fit      Wii             2007      sports      8.92   \n",
       "14         kinect adventures!     X360             2010        misc     15.00   \n",
       "\n",
       "    eu_sales  jp_sales  other_sales  critic_score  user_score rating  \\\n",
       "0      28.96      3.77         8.45          76.0         8.0      E   \n",
       "2      12.76      3.79         3.29          82.0         8.3      E   \n",
       "3      10.93      3.28         2.95          80.0         8.0      E   \n",
       "6       9.14      6.50         2.88          89.0         8.5      E   \n",
       "7       9.18      2.93         2.84          58.0         6.6      E   \n",
       "8       6.94      4.70         2.24          87.0         8.4      E   \n",
       "10     10.95      1.93         2.74           NaN         NaN    NaN   \n",
       "11      7.47      4.13         1.90          91.0         8.6      E   \n",
       "13      8.03      3.60         2.15          80.0         7.7      E   \n",
       "14      4.89      0.24         1.69          61.0         6.3      E   \n",
       "\n",
       "   games_user_categorization games_critic_categorization  \n",
       "0             высокая оценка              средняя оценка  \n",
       "2             высокая оценка              высокая оценка  \n",
       "3             высокая оценка              высокая оценка  \n",
       "6             высокая оценка              высокая оценка  \n",
       "7             средняя оценка              средняя оценка  \n",
       "8             высокая оценка              высокая оценка  \n",
       "10                без оценки                  без оценки  \n",
       "11            высокая оценка              высокая оценка  \n",
       "13            средняя оценка              высокая оценка  \n",
       "14            средняя оценка              средняя оценка  "
      ]
     },
     "execution_count": 112,
     "metadata": {},
     "output_type": "execute_result"
    }
   ],
   "source": [
    "df_actual.head(10)"
   ]
  },
  {
   "cell_type": "code",
   "execution_count": 113,
   "id": "3325e956",
   "metadata": {},
   "outputs": [
    {
     "data": {
      "text/html": [
       "<div>\n",
       "<style scoped>\n",
       "    .dataframe tbody tr th:only-of-type {\n",
       "        vertical-align: middle;\n",
       "    }\n",
       "\n",
       "    .dataframe tbody tr th {\n",
       "        vertical-align: top;\n",
       "    }\n",
       "\n",
       "    .dataframe thead th {\n",
       "        text-align: right;\n",
       "    }\n",
       "</style>\n",
       "<table border=\"1\" class=\"dataframe\">\n",
       "  <thead>\n",
       "    <tr style=\"text-align: right;\">\n",
       "      <th></th>\n",
       "      <th>name</th>\n",
       "    </tr>\n",
       "    <tr>\n",
       "      <th>platform</th>\n",
       "      <th></th>\n",
       "    </tr>\n",
       "  </thead>\n",
       "  <tbody>\n",
       "    <tr>\n",
       "      <th>PS2</th>\n",
       "      <td>2127</td>\n",
       "    </tr>\n",
       "    <tr>\n",
       "      <th>DS</th>\n",
       "      <td>2120</td>\n",
       "    </tr>\n",
       "    <tr>\n",
       "      <th>Wii</th>\n",
       "      <td>1275</td>\n",
       "    </tr>\n",
       "    <tr>\n",
       "      <th>PSP</th>\n",
       "      <td>1180</td>\n",
       "    </tr>\n",
       "    <tr>\n",
       "      <th>X360</th>\n",
       "      <td>1121</td>\n",
       "    </tr>\n",
       "    <tr>\n",
       "      <th>PS3</th>\n",
       "      <td>1087</td>\n",
       "    </tr>\n",
       "    <tr>\n",
       "      <th>GBA</th>\n",
       "      <td>811</td>\n",
       "    </tr>\n",
       "  </tbody>\n",
       "</table>\n",
       "</div>"
      ],
      "text/plain": [
       "          name\n",
       "platform      \n",
       "PS2       2127\n",
       "DS        2120\n",
       "Wii       1275\n",
       "PSP       1180\n",
       "X360      1121\n",
       "PS3       1087\n",
       "GBA        811"
      ]
     },
     "execution_count": 113,
     "metadata": {},
     "output_type": "execute_result"
    }
   ],
   "source": [
    "#Выделим топ-7 платформ по количеству игр, выпущенных за весь актуальный период.\n",
    "df_actual.groupby('platform').agg({'name':'count'}).apply(lambda x: x.sort_values(ascending=False).head(7))"
   ]
  },
  {
   "cell_type": "markdown",
   "id": "57859273-bdfc-4437-aaa6-4cbbd21dc716",
   "metadata": {},
   "source": [
    "**Вывод:** На финальном этапе анализировались данные за 2000-2013 годы, были удалены записи с пропусками в столбцах name,\n",
    "genre, year_of_release в которых были пропуски. Заменены unknown на 0, в столбцах jp_sales, eu_sales. Были удалены явные дубликаты \n",
    "в количеситве 179 записей.\n",
    "Добавлены новые поля games_user_categorization, games_critic_categorization, подсчитана сводная статистика по наиболее популярным платформам. "
   ]
  }
 ],
 "metadata": {
  "ExecuteTimeLog": [
   {
    "duration": 498,
    "start_time": "2024-12-23T16:06:24.719Z"
   },
   {
    "duration": 21,
    "start_time": "2024-12-23T16:06:25.218Z"
   },
   {
    "duration": 4,
    "start_time": "2024-12-23T16:06:25.241Z"
   },
   {
    "duration": 19,
    "start_time": "2024-12-23T16:06:25.247Z"
   },
   {
    "duration": 35,
    "start_time": "2024-12-23T16:06:25.272Z"
   },
   {
    "duration": 8,
    "start_time": "2024-12-23T16:06:25.309Z"
   },
   {
    "duration": 9,
    "start_time": "2024-12-23T16:06:25.319Z"
   },
   {
    "duration": 17,
    "start_time": "2024-12-23T16:06:25.329Z"
   },
   {
    "duration": 22,
    "start_time": "2024-12-23T16:06:25.347Z"
   },
   {
    "duration": 5,
    "start_time": "2024-12-23T16:06:25.374Z"
   },
   {
    "duration": 117,
    "start_time": "2024-12-23T16:06:25.380Z"
   },
   {
    "duration": 0,
    "start_time": "2024-12-23T16:06:25.499Z"
   },
   {
    "duration": 0,
    "start_time": "2024-12-23T16:06:25.499Z"
   },
   {
    "duration": 0,
    "start_time": "2024-12-23T16:06:25.500Z"
   },
   {
    "duration": 0,
    "start_time": "2024-12-23T16:06:25.501Z"
   },
   {
    "duration": 0,
    "start_time": "2024-12-23T16:06:25.502Z"
   },
   {
    "duration": 0,
    "start_time": "2024-12-23T16:06:25.503Z"
   },
   {
    "duration": 0,
    "start_time": "2024-12-23T16:06:25.504Z"
   },
   {
    "duration": 0,
    "start_time": "2024-12-23T16:06:25.505Z"
   },
   {
    "duration": 0,
    "start_time": "2024-12-23T16:06:25.506Z"
   },
   {
    "duration": 0,
    "start_time": "2024-12-23T16:06:25.507Z"
   },
   {
    "duration": 0,
    "start_time": "2024-12-23T16:06:25.508Z"
   },
   {
    "duration": 0,
    "start_time": "2024-12-23T16:06:25.509Z"
   },
   {
    "duration": 0,
    "start_time": "2024-12-23T16:06:25.511Z"
   },
   {
    "duration": 0,
    "start_time": "2024-12-23T16:06:25.512Z"
   },
   {
    "duration": 48,
    "start_time": "2024-12-23T16:59:37.713Z"
   },
   {
    "duration": 622,
    "start_time": "2024-12-23T16:59:45.945Z"
   },
   {
    "duration": 19,
    "start_time": "2024-12-23T16:59:46.568Z"
   },
   {
    "duration": 7,
    "start_time": "2024-12-23T16:59:46.588Z"
   },
   {
    "duration": 6,
    "start_time": "2024-12-23T16:59:46.597Z"
   },
   {
    "duration": 15,
    "start_time": "2024-12-23T16:59:46.604Z"
   },
   {
    "duration": 28,
    "start_time": "2024-12-23T16:59:46.620Z"
   },
   {
    "duration": 6,
    "start_time": "2024-12-23T16:59:46.650Z"
   },
   {
    "duration": 12,
    "start_time": "2024-12-23T16:59:46.658Z"
   },
   {
    "duration": 5,
    "start_time": "2024-12-23T16:59:46.672Z"
   },
   {
    "duration": 5,
    "start_time": "2024-12-23T16:59:46.681Z"
   },
   {
    "duration": 57,
    "start_time": "2024-12-23T16:59:46.688Z"
   },
   {
    "duration": 8,
    "start_time": "2024-12-23T16:59:46.747Z"
   },
   {
    "duration": 13,
    "start_time": "2024-12-23T16:59:46.756Z"
   },
   {
    "duration": 17,
    "start_time": "2024-12-23T16:59:46.771Z"
   },
   {
    "duration": 63,
    "start_time": "2024-12-23T16:59:46.789Z"
   },
   {
    "duration": 56,
    "start_time": "2024-12-23T16:59:46.853Z"
   },
   {
    "duration": 76,
    "start_time": "2024-12-23T16:59:46.910Z"
   },
   {
    "duration": 11,
    "start_time": "2024-12-23T16:59:46.988Z"
   },
   {
    "duration": 24,
    "start_time": "2024-12-23T16:59:47.000Z"
   },
   {
    "duration": 31,
    "start_time": "2024-12-23T16:59:47.026Z"
   },
   {
    "duration": 6,
    "start_time": "2024-12-23T16:59:47.059Z"
   },
   {
    "duration": 167,
    "start_time": "2024-12-23T16:59:47.066Z"
   },
   {
    "duration": 44,
    "start_time": "2024-12-23T16:59:47.235Z"
   },
   {
    "duration": 154,
    "start_time": "2024-12-23T16:59:47.281Z"
   },
   {
    "duration": 16,
    "start_time": "2024-12-23T16:59:47.437Z"
   },
   {
    "duration": 963,
    "start_time": "2024-12-23T17:03:35.245Z"
   },
   {
    "duration": 33,
    "start_time": "2024-12-23T17:03:36.211Z"
   },
   {
    "duration": 18,
    "start_time": "2024-12-23T17:03:36.246Z"
   },
   {
    "duration": 17,
    "start_time": "2024-12-23T17:03:36.266Z"
   },
   {
    "duration": 17,
    "start_time": "2024-12-23T17:03:36.285Z"
   },
   {
    "duration": 7,
    "start_time": "2024-12-23T17:03:36.303Z"
   },
   {
    "duration": 51,
    "start_time": "2024-12-23T17:03:36.311Z"
   },
   {
    "duration": 13,
    "start_time": "2024-12-23T17:03:36.363Z"
   },
   {
    "duration": 4,
    "start_time": "2024-12-23T17:03:36.377Z"
   },
   {
    "duration": 20,
    "start_time": "2024-12-23T17:03:36.384Z"
   },
   {
    "duration": 20,
    "start_time": "2024-12-23T17:03:36.406Z"
   },
   {
    "duration": 28,
    "start_time": "2024-12-23T17:03:36.428Z"
   },
   {
    "duration": 26,
    "start_time": "2024-12-23T17:03:36.457Z"
   },
   {
    "duration": 19,
    "start_time": "2024-12-23T17:03:36.485Z"
   },
   {
    "duration": 40,
    "start_time": "2024-12-23T17:03:36.506Z"
   },
   {
    "duration": 57,
    "start_time": "2024-12-23T17:03:36.547Z"
   },
   {
    "duration": 115,
    "start_time": "2024-12-23T17:03:36.605Z"
   },
   {
    "duration": 11,
    "start_time": "2024-12-23T17:03:36.722Z"
   },
   {
    "duration": 43,
    "start_time": "2024-12-23T17:03:36.735Z"
   },
   {
    "duration": 15,
    "start_time": "2024-12-23T17:03:36.780Z"
   },
   {
    "duration": 5,
    "start_time": "2024-12-23T17:03:36.796Z"
   },
   {
    "duration": 161,
    "start_time": "2024-12-23T17:03:36.802Z"
   },
   {
    "duration": 11,
    "start_time": "2024-12-23T17:03:36.965Z"
   },
   {
    "duration": 153,
    "start_time": "2024-12-23T17:03:36.978Z"
   },
   {
    "duration": 19,
    "start_time": "2024-12-23T17:03:37.132Z"
   },
   {
    "duration": 69,
    "start_time": "2024-12-23T17:07:30.988Z"
   },
   {
    "duration": 66,
    "start_time": "2024-12-23T17:10:50.510Z"
   },
   {
    "duration": 516,
    "start_time": "2024-12-23T17:13:54.733Z"
   },
   {
    "duration": 30,
    "start_time": "2024-12-23T17:13:55.251Z"
   },
   {
    "duration": 3,
    "start_time": "2024-12-23T17:13:55.283Z"
   },
   {
    "duration": 5,
    "start_time": "2024-12-23T17:13:55.288Z"
   },
   {
    "duration": 19,
    "start_time": "2024-12-23T17:13:55.294Z"
   },
   {
    "duration": 33,
    "start_time": "2024-12-23T17:13:55.314Z"
   },
   {
    "duration": 4,
    "start_time": "2024-12-23T17:13:55.348Z"
   },
   {
    "duration": 65,
    "start_time": "2024-12-23T17:13:55.353Z"
   },
   {
    "duration": 5,
    "start_time": "2024-12-23T17:13:55.419Z"
   },
   {
    "duration": 5,
    "start_time": "2024-12-23T17:13:55.427Z"
   },
   {
    "duration": 20,
    "start_time": "2024-12-23T17:13:55.434Z"
   },
   {
    "duration": 7,
    "start_time": "2024-12-23T17:13:55.455Z"
   },
   {
    "duration": 14,
    "start_time": "2024-12-23T17:13:55.463Z"
   },
   {
    "duration": 19,
    "start_time": "2024-12-23T17:13:55.478Z"
   },
   {
    "duration": 63,
    "start_time": "2024-12-23T17:13:55.498Z"
   },
   {
    "duration": 59,
    "start_time": "2024-12-23T17:13:55.562Z"
   },
   {
    "duration": 109,
    "start_time": "2024-12-23T17:13:55.623Z"
   },
   {
    "duration": 19,
    "start_time": "2024-12-23T17:13:55.734Z"
   },
   {
    "duration": 61,
    "start_time": "2024-12-23T17:13:55.754Z"
   },
   {
    "duration": 14,
    "start_time": "2024-12-23T17:13:55.817Z"
   },
   {
    "duration": 4,
    "start_time": "2024-12-23T17:13:55.833Z"
   },
   {
    "duration": 149,
    "start_time": "2024-12-23T17:13:55.838Z"
   },
   {
    "duration": 13,
    "start_time": "2024-12-23T17:13:55.988Z"
   },
   {
    "duration": 226,
    "start_time": "2024-12-23T17:13:56.002Z"
   },
   {
    "duration": 10,
    "start_time": "2024-12-23T17:13:56.230Z"
   },
   {
    "duration": 492,
    "start_time": "2024-12-23T17:14:44.857Z"
   },
   {
    "duration": 29,
    "start_time": "2024-12-23T17:14:45.351Z"
   },
   {
    "duration": 71,
    "start_time": "2024-12-23T17:14:45.381Z"
   },
   {
    "duration": 46,
    "start_time": "2024-12-23T17:14:45.454Z"
   },
   {
    "duration": 52,
    "start_time": "2024-12-23T17:14:45.502Z"
   },
   {
    "duration": 15,
    "start_time": "2024-12-23T17:14:45.556Z"
   },
   {
    "duration": 27,
    "start_time": "2024-12-23T17:14:45.572Z"
   },
   {
    "duration": 17,
    "start_time": "2024-12-23T17:14:45.600Z"
   },
   {
    "duration": 49,
    "start_time": "2024-12-23T17:14:45.618Z"
   },
   {
    "duration": 5,
    "start_time": "2024-12-23T17:14:45.669Z"
   },
   {
    "duration": 34,
    "start_time": "2024-12-23T17:14:45.676Z"
   },
   {
    "duration": 8,
    "start_time": "2024-12-23T17:14:45.711Z"
   },
   {
    "duration": 80,
    "start_time": "2024-12-23T17:14:45.720Z"
   },
   {
    "duration": 18,
    "start_time": "2024-12-23T17:14:45.802Z"
   },
   {
    "duration": 34,
    "start_time": "2024-12-23T17:14:45.822Z"
   },
   {
    "duration": 57,
    "start_time": "2024-12-23T17:14:45.857Z"
   },
   {
    "duration": 102,
    "start_time": "2024-12-23T17:14:45.916Z"
   },
   {
    "duration": 12,
    "start_time": "2024-12-23T17:14:46.019Z"
   },
   {
    "duration": 56,
    "start_time": "2024-12-23T17:14:46.033Z"
   },
   {
    "duration": 15,
    "start_time": "2024-12-23T17:14:46.090Z"
   },
   {
    "duration": 4,
    "start_time": "2024-12-23T17:14:46.106Z"
   },
   {
    "duration": 175,
    "start_time": "2024-12-23T17:14:46.111Z"
   },
   {
    "duration": 12,
    "start_time": "2024-12-23T17:14:46.287Z"
   },
   {
    "duration": 150,
    "start_time": "2024-12-23T17:14:46.300Z"
   },
   {
    "duration": 10,
    "start_time": "2024-12-23T17:14:46.451Z"
   },
   {
    "duration": 24,
    "start_time": "2024-12-23T17:16:06.216Z"
   },
   {
    "duration": 521,
    "start_time": "2024-12-23T17:17:39.843Z"
   },
   {
    "duration": 30,
    "start_time": "2024-12-23T17:17:40.366Z"
   },
   {
    "duration": 4,
    "start_time": "2024-12-23T17:17:40.398Z"
   },
   {
    "duration": 12,
    "start_time": "2024-12-23T17:17:40.404Z"
   },
   {
    "duration": 95,
    "start_time": "2024-12-23T17:17:40.417Z"
   },
   {
    "duration": 4,
    "start_time": "2024-12-23T17:17:40.514Z"
   },
   {
    "duration": 5,
    "start_time": "2024-12-23T17:17:40.519Z"
   },
   {
    "duration": 9,
    "start_time": "2024-12-23T17:17:40.526Z"
   },
   {
    "duration": 6,
    "start_time": "2024-12-23T17:17:40.537Z"
   },
   {
    "duration": 6,
    "start_time": "2024-12-23T17:17:40.547Z"
   },
   {
    "duration": 26,
    "start_time": "2024-12-23T17:17:40.555Z"
   },
   {
    "duration": 7,
    "start_time": "2024-12-23T17:17:40.582Z"
   },
   {
    "duration": 19,
    "start_time": "2024-12-23T17:17:40.591Z"
   },
   {
    "duration": 44,
    "start_time": "2024-12-23T17:17:40.611Z"
   },
   {
    "duration": 35,
    "start_time": "2024-12-23T17:17:40.656Z"
   },
   {
    "duration": 88,
    "start_time": "2024-12-23T17:17:40.692Z"
   },
   {
    "duration": 107,
    "start_time": "2024-12-23T17:17:40.781Z"
   },
   {
    "duration": 12,
    "start_time": "2024-12-23T17:17:40.890Z"
   },
   {
    "duration": 43,
    "start_time": "2024-12-23T17:17:40.904Z"
   },
   {
    "duration": 22,
    "start_time": "2024-12-23T17:17:40.949Z"
   },
   {
    "duration": 5,
    "start_time": "2024-12-23T17:17:40.973Z"
   },
   {
    "duration": 174,
    "start_time": "2024-12-23T17:17:40.979Z"
   },
   {
    "duration": 12,
    "start_time": "2024-12-23T17:17:41.155Z"
   },
   {
    "duration": 156,
    "start_time": "2024-12-23T17:17:41.169Z"
   },
   {
    "duration": 22,
    "start_time": "2024-12-23T17:17:41.327Z"
   },
   {
    "duration": 634,
    "start_time": "2024-12-23T17:19:51.560Z"
   },
   {
    "duration": 30,
    "start_time": "2024-12-23T17:19:52.198Z"
   },
   {
    "duration": 4,
    "start_time": "2024-12-23T17:19:52.229Z"
   },
   {
    "duration": 12,
    "start_time": "2024-12-23T17:19:52.234Z"
   },
   {
    "duration": 58,
    "start_time": "2024-12-23T17:19:52.247Z"
   },
   {
    "duration": 10,
    "start_time": "2024-12-23T17:19:52.307Z"
   },
   {
    "duration": 21,
    "start_time": "2024-12-23T17:19:52.318Z"
   },
   {
    "duration": 42,
    "start_time": "2024-12-23T17:19:52.340Z"
   },
   {
    "duration": 23,
    "start_time": "2024-12-23T17:19:52.384Z"
   },
   {
    "duration": 19,
    "start_time": "2024-12-23T17:19:52.408Z"
   },
   {
    "duration": 36,
    "start_time": "2024-12-23T17:19:52.429Z"
   },
   {
    "duration": 79,
    "start_time": "2024-12-23T17:19:52.466Z"
   },
   {
    "duration": 25,
    "start_time": "2024-12-23T17:19:52.547Z"
   },
   {
    "duration": 22,
    "start_time": "2024-12-23T17:19:52.574Z"
   },
   {
    "duration": 35,
    "start_time": "2024-12-23T17:19:52.598Z"
   },
   {
    "duration": 89,
    "start_time": "2024-12-23T17:19:52.635Z"
   },
   {
    "duration": 106,
    "start_time": "2024-12-23T17:19:52.726Z"
   },
   {
    "duration": 20,
    "start_time": "2024-12-23T17:19:52.834Z"
   },
   {
    "duration": 55,
    "start_time": "2024-12-23T17:19:52.855Z"
   },
   {
    "duration": 21,
    "start_time": "2024-12-23T17:19:52.911Z"
   },
   {
    "duration": 4,
    "start_time": "2024-12-23T17:19:52.933Z"
   },
   {
    "duration": 157,
    "start_time": "2024-12-23T17:19:52.939Z"
   },
   {
    "duration": 12,
    "start_time": "2024-12-23T17:19:53.098Z"
   },
   {
    "duration": 155,
    "start_time": "2024-12-23T17:19:53.111Z"
   },
   {
    "duration": 11,
    "start_time": "2024-12-23T17:19:53.267Z"
   },
   {
    "duration": 529,
    "start_time": "2024-12-23T18:52:36.733Z"
   },
   {
    "duration": 30,
    "start_time": "2024-12-23T18:52:37.264Z"
   },
   {
    "duration": 24,
    "start_time": "2024-12-23T18:52:37.295Z"
   },
   {
    "duration": 42,
    "start_time": "2024-12-23T18:52:37.320Z"
   },
   {
    "duration": 21,
    "start_time": "2024-12-23T18:52:37.364Z"
   },
   {
    "duration": 43,
    "start_time": "2024-12-23T18:52:37.386Z"
   },
   {
    "duration": 14,
    "start_time": "2024-12-23T18:52:37.431Z"
   },
   {
    "duration": 9,
    "start_time": "2024-12-23T18:52:37.446Z"
   },
   {
    "duration": 5,
    "start_time": "2024-12-23T18:52:37.456Z"
   },
   {
    "duration": 13,
    "start_time": "2024-12-23T18:52:37.462Z"
   },
   {
    "duration": 35,
    "start_time": "2024-12-23T18:52:37.477Z"
   },
   {
    "duration": 22,
    "start_time": "2024-12-23T18:52:37.513Z"
   },
   {
    "duration": 40,
    "start_time": "2024-12-23T18:52:37.537Z"
   },
   {
    "duration": 37,
    "start_time": "2024-12-23T18:52:37.580Z"
   },
   {
    "duration": 52,
    "start_time": "2024-12-23T18:52:37.619Z"
   },
   {
    "duration": 63,
    "start_time": "2024-12-23T18:52:37.673Z"
   },
   {
    "duration": 89,
    "start_time": "2024-12-23T18:52:37.738Z"
   },
   {
    "duration": 11,
    "start_time": "2024-12-23T18:52:37.829Z"
   },
   {
    "duration": 39,
    "start_time": "2024-12-23T18:52:37.841Z"
   },
   {
    "duration": 16,
    "start_time": "2024-12-23T18:52:37.881Z"
   },
   {
    "duration": 43,
    "start_time": "2024-12-23T18:52:37.899Z"
   },
   {
    "duration": 173,
    "start_time": "2024-12-23T18:52:37.943Z"
   },
   {
    "duration": 13,
    "start_time": "2024-12-23T18:52:38.118Z"
   },
   {
    "duration": 172,
    "start_time": "2024-12-23T18:52:38.132Z"
   },
   {
    "duration": 10,
    "start_time": "2024-12-23T18:52:38.305Z"
   },
   {
    "duration": 484,
    "start_time": "2024-12-24T11:38:06.071Z"
   },
   {
    "duration": 37,
    "start_time": "2024-12-24T11:38:06.557Z"
   },
   {
    "duration": 4,
    "start_time": "2024-12-24T11:38:06.595Z"
   },
   {
    "duration": 28,
    "start_time": "2024-12-24T11:38:06.602Z"
   },
   {
    "duration": 33,
    "start_time": "2024-12-24T11:38:06.631Z"
   },
   {
    "duration": 12,
    "start_time": "2024-12-24T11:38:06.666Z"
   },
   {
    "duration": 20,
    "start_time": "2024-12-24T11:38:06.680Z"
   },
   {
    "duration": 30,
    "start_time": "2024-12-24T11:38:06.702Z"
   },
   {
    "duration": 32,
    "start_time": "2024-12-24T11:38:06.734Z"
   },
   {
    "duration": 52,
    "start_time": "2024-12-24T11:38:06.770Z"
   },
   {
    "duration": 52,
    "start_time": "2024-12-24T11:38:06.825Z"
   },
   {
    "duration": 48,
    "start_time": "2024-12-24T11:38:06.878Z"
   },
   {
    "duration": 17,
    "start_time": "2024-12-24T11:38:06.928Z"
   },
   {
    "duration": 25,
    "start_time": "2024-12-24T11:38:06.947Z"
   },
   {
    "duration": 66,
    "start_time": "2024-12-24T11:38:06.974Z"
   },
   {
    "duration": 88,
    "start_time": "2024-12-24T11:38:07.042Z"
   },
   {
    "duration": 129,
    "start_time": "2024-12-24T11:38:07.131Z"
   },
   {
    "duration": 17,
    "start_time": "2024-12-24T11:38:07.262Z"
   },
   {
    "duration": 28,
    "start_time": "2024-12-24T11:38:07.281Z"
   },
   {
    "duration": 18,
    "start_time": "2024-12-24T11:38:07.329Z"
   },
   {
    "duration": 6,
    "start_time": "2024-12-24T11:38:07.349Z"
   },
   {
    "duration": 179,
    "start_time": "2024-12-24T11:38:07.357Z"
   },
   {
    "duration": 16,
    "start_time": "2024-12-24T11:38:07.538Z"
   },
   {
    "duration": 169,
    "start_time": "2024-12-24T11:38:07.556Z"
   },
   {
    "duration": 14,
    "start_time": "2024-12-24T11:38:07.727Z"
   },
   {
    "duration": 11,
    "start_time": "2024-12-24T11:53:31.774Z"
   },
   {
    "duration": 12,
    "start_time": "2024-12-24T11:54:06.532Z"
   },
   {
    "duration": 13,
    "start_time": "2024-12-24T11:55:48.558Z"
   },
   {
    "duration": 19,
    "start_time": "2024-12-24T11:55:48.989Z"
   },
   {
    "duration": 13,
    "start_time": "2024-12-24T11:56:03.572Z"
   },
   {
    "duration": 25,
    "start_time": "2024-12-24T11:56:03.988Z"
   },
   {
    "duration": 501,
    "start_time": "2024-12-24T11:56:59.158Z"
   },
   {
    "duration": 35,
    "start_time": "2024-12-24T11:56:59.661Z"
   },
   {
    "duration": 4,
    "start_time": "2024-12-24T11:56:59.697Z"
   },
   {
    "duration": 27,
    "start_time": "2024-12-24T11:56:59.703Z"
   },
   {
    "duration": 16,
    "start_time": "2024-12-24T11:56:59.731Z"
   },
   {
    "duration": 5,
    "start_time": "2024-12-24T11:56:59.748Z"
   },
   {
    "duration": 8,
    "start_time": "2024-12-24T11:56:59.754Z"
   },
   {
    "duration": 5,
    "start_time": "2024-12-24T11:56:59.763Z"
   },
   {
    "duration": 9,
    "start_time": "2024-12-24T11:56:59.770Z"
   },
   {
    "duration": 7,
    "start_time": "2024-12-24T11:56:59.781Z"
   },
   {
    "duration": 54,
    "start_time": "2024-12-24T11:56:59.789Z"
   },
   {
    "duration": 7,
    "start_time": "2024-12-24T11:56:59.844Z"
   },
   {
    "duration": 16,
    "start_time": "2024-12-24T11:56:59.853Z"
   },
   {
    "duration": 24,
    "start_time": "2024-12-24T11:56:59.871Z"
   },
   {
    "duration": 74,
    "start_time": "2024-12-24T11:56:59.896Z"
   },
   {
    "duration": 101,
    "start_time": "2024-12-24T11:56:59.971Z"
   },
   {
    "duration": 136,
    "start_time": "2024-12-24T11:57:00.074Z"
   },
   {
    "duration": 23,
    "start_time": "2024-12-24T11:57:00.211Z"
   },
   {
    "duration": 58,
    "start_time": "2024-12-24T11:57:00.235Z"
   },
   {
    "duration": 43,
    "start_time": "2024-12-24T11:57:00.295Z"
   },
   {
    "duration": 71,
    "start_time": "2024-12-24T11:57:00.340Z"
   },
   {
    "duration": 194,
    "start_time": "2024-12-24T11:57:00.413Z"
   },
   {
    "duration": 14,
    "start_time": "2024-12-24T11:57:00.609Z"
   },
   {
    "duration": 66,
    "start_time": "2024-12-24T11:57:00.625Z"
   },
   {
    "duration": 71,
    "start_time": "2024-12-24T11:57:00.693Z"
   },
   {
    "duration": 189,
    "start_time": "2024-12-24T11:57:00.766Z"
   },
   {
    "duration": 13,
    "start_time": "2024-12-24T11:57:00.956Z"
   },
   {
    "duration": 18,
    "start_time": "2024-12-24T11:57:27.633Z"
   },
   {
    "duration": 127,
    "start_time": "2024-12-24T12:01:43.204Z"
   },
   {
    "duration": 6,
    "start_time": "2024-12-24T12:01:55.246Z"
   },
   {
    "duration": 519,
    "start_time": "2024-12-24T12:02:35.753Z"
   },
   {
    "duration": 37,
    "start_time": "2024-12-24T12:02:36.274Z"
   },
   {
    "duration": 37,
    "start_time": "2024-12-24T12:02:36.312Z"
   },
   {
    "duration": 21,
    "start_time": "2024-12-24T12:02:36.351Z"
   },
   {
    "duration": 29,
    "start_time": "2024-12-24T12:02:36.375Z"
   },
   {
    "duration": 62,
    "start_time": "2024-12-24T12:02:36.406Z"
   },
   {
    "duration": 24,
    "start_time": "2024-12-24T12:02:36.470Z"
   },
   {
    "duration": 25,
    "start_time": "2024-12-24T12:02:36.496Z"
   },
   {
    "duration": 51,
    "start_time": "2024-12-24T12:02:36.523Z"
   },
   {
    "duration": 25,
    "start_time": "2024-12-24T12:02:36.576Z"
   },
   {
    "duration": 68,
    "start_time": "2024-12-24T12:02:36.603Z"
   },
   {
    "duration": 16,
    "start_time": "2024-12-24T12:02:36.673Z"
   },
   {
    "duration": 20,
    "start_time": "2024-12-24T12:02:36.690Z"
   },
   {
    "duration": 37,
    "start_time": "2024-12-24T12:02:36.715Z"
   },
   {
    "duration": 49,
    "start_time": "2024-12-24T12:02:36.754Z"
   },
   {
    "duration": 100,
    "start_time": "2024-12-24T12:02:36.805Z"
   },
   {
    "duration": 138,
    "start_time": "2024-12-24T12:02:36.907Z"
   },
   {
    "duration": 16,
    "start_time": "2024-12-24T12:02:37.047Z"
   },
   {
    "duration": 26,
    "start_time": "2024-12-24T12:02:37.065Z"
   },
   {
    "duration": 37,
    "start_time": "2024-12-24T12:02:37.093Z"
   },
   {
    "duration": 19,
    "start_time": "2024-12-24T12:02:37.132Z"
   },
   {
    "duration": 154,
    "start_time": "2024-12-24T12:02:37.153Z"
   },
   {
    "duration": 14,
    "start_time": "2024-12-24T12:02:37.309Z"
   },
   {
    "duration": 41,
    "start_time": "2024-12-24T12:02:37.330Z"
   },
   {
    "duration": 28,
    "start_time": "2024-12-24T12:02:37.372Z"
   },
   {
    "duration": 166,
    "start_time": "2024-12-24T12:02:37.402Z"
   },
   {
    "duration": 11,
    "start_time": "2024-12-24T12:02:37.569Z"
   },
   {
    "duration": 18,
    "start_time": "2024-12-24T12:03:47.921Z"
   },
   {
    "duration": 30,
    "start_time": "2024-12-24T12:05:20.043Z"
   },
   {
    "duration": 7,
    "start_time": "2024-12-24T12:05:29.352Z"
   },
   {
    "duration": 27,
    "start_time": "2024-12-24T12:05:38.122Z"
   },
   {
    "duration": 33,
    "start_time": "2024-12-24T12:06:02.760Z"
   },
   {
    "duration": 11,
    "start_time": "2024-12-24T12:11:31.527Z"
   },
   {
    "duration": 517,
    "start_time": "2024-12-24T12:12:30.447Z"
   },
   {
    "duration": 36,
    "start_time": "2024-12-24T12:12:30.966Z"
   },
   {
    "duration": 5,
    "start_time": "2024-12-24T12:12:31.003Z"
   },
   {
    "duration": 6,
    "start_time": "2024-12-24T12:12:31.029Z"
   },
   {
    "duration": 44,
    "start_time": "2024-12-24T12:12:31.038Z"
   },
   {
    "duration": 6,
    "start_time": "2024-12-24T12:12:31.084Z"
   },
   {
    "duration": 9,
    "start_time": "2024-12-24T12:12:31.092Z"
   },
   {
    "duration": 7,
    "start_time": "2024-12-24T12:12:31.103Z"
   },
   {
    "duration": 14,
    "start_time": "2024-12-24T12:12:31.112Z"
   },
   {
    "duration": 23,
    "start_time": "2024-12-24T12:12:31.128Z"
   },
   {
    "duration": 37,
    "start_time": "2024-12-24T12:12:31.153Z"
   },
   {
    "duration": 9,
    "start_time": "2024-12-24T12:12:31.192Z"
   },
   {
    "duration": 37,
    "start_time": "2024-12-24T12:12:31.203Z"
   },
   {
    "duration": 23,
    "start_time": "2024-12-24T12:12:31.243Z"
   },
   {
    "duration": 15,
    "start_time": "2024-12-24T12:12:31.268Z"
   },
   {
    "duration": 50,
    "start_time": "2024-12-24T12:12:31.284Z"
   },
   {
    "duration": 17,
    "start_time": "2024-12-24T12:12:31.335Z"
   },
   {
    "duration": 16,
    "start_time": "2024-12-24T12:12:31.354Z"
   },
   {
    "duration": 101,
    "start_time": "2024-12-24T12:12:31.372Z"
   },
   {
    "duration": 0,
    "start_time": "2024-12-24T12:12:31.474Z"
   },
   {
    "duration": 0,
    "start_time": "2024-12-24T12:12:31.476Z"
   },
   {
    "duration": 0,
    "start_time": "2024-12-24T12:12:31.477Z"
   },
   {
    "duration": 0,
    "start_time": "2024-12-24T12:12:31.478Z"
   },
   {
    "duration": 12,
    "start_time": "2024-12-24T12:12:50.021Z"
   },
   {
    "duration": 11,
    "start_time": "2024-12-24T12:12:50.736Z"
   },
   {
    "duration": 19,
    "start_time": "2024-12-24T12:15:07.511Z"
   },
   {
    "duration": 475,
    "start_time": "2024-12-24T12:15:42.988Z"
   },
   {
    "duration": 36,
    "start_time": "2024-12-24T12:15:43.465Z"
   },
   {
    "duration": 5,
    "start_time": "2024-12-24T12:15:43.503Z"
   },
   {
    "duration": 31,
    "start_time": "2024-12-24T12:15:43.510Z"
   },
   {
    "duration": 27,
    "start_time": "2024-12-24T12:15:43.543Z"
   },
   {
    "duration": 7,
    "start_time": "2024-12-24T12:15:43.572Z"
   },
   {
    "duration": 30,
    "start_time": "2024-12-24T12:15:43.581Z"
   },
   {
    "duration": 15,
    "start_time": "2024-12-24T12:15:43.613Z"
   },
   {
    "duration": 7,
    "start_time": "2024-12-24T12:15:43.629Z"
   },
   {
    "duration": 32,
    "start_time": "2024-12-24T12:15:43.638Z"
   },
   {
    "duration": 48,
    "start_time": "2024-12-24T12:15:43.671Z"
   },
   {
    "duration": 8,
    "start_time": "2024-12-24T12:15:43.720Z"
   },
   {
    "duration": 40,
    "start_time": "2024-12-24T12:15:43.730Z"
   },
   {
    "duration": 24,
    "start_time": "2024-12-24T12:15:43.772Z"
   },
   {
    "duration": 42,
    "start_time": "2024-12-24T12:15:43.797Z"
   },
   {
    "duration": 92,
    "start_time": "2024-12-24T12:15:43.842Z"
   },
   {
    "duration": 14,
    "start_time": "2024-12-24T12:15:43.936Z"
   },
   {
    "duration": 24,
    "start_time": "2024-12-24T12:15:43.951Z"
   },
   {
    "duration": 14,
    "start_time": "2024-12-24T12:15:43.976Z"
   },
   {
    "duration": 19,
    "start_time": "2024-12-24T12:15:43.991Z"
   },
   {
    "duration": 180,
    "start_time": "2024-12-24T12:15:44.012Z"
   },
   {
    "duration": 15,
    "start_time": "2024-12-24T12:15:44.193Z"
   },
   {
    "duration": 170,
    "start_time": "2024-12-24T12:15:44.210Z"
   },
   {
    "duration": 12,
    "start_time": "2024-12-24T12:15:44.382Z"
   },
   {
    "duration": 17,
    "start_time": "2024-12-24T12:16:07.923Z"
   },
   {
    "duration": 15,
    "start_time": "2024-12-24T12:16:21.489Z"
   },
   {
    "duration": 511,
    "start_time": "2024-12-24T12:18:30.642Z"
   },
   {
    "duration": 40,
    "start_time": "2024-12-24T12:18:31.155Z"
   },
   {
    "duration": 4,
    "start_time": "2024-12-24T12:18:31.197Z"
   },
   {
    "duration": 26,
    "start_time": "2024-12-24T12:18:31.204Z"
   },
   {
    "duration": 16,
    "start_time": "2024-12-24T12:18:31.232Z"
   },
   {
    "duration": 35,
    "start_time": "2024-12-24T12:18:31.250Z"
   },
   {
    "duration": 20,
    "start_time": "2024-12-24T12:18:31.287Z"
   },
   {
    "duration": 16,
    "start_time": "2024-12-24T12:18:31.309Z"
   },
   {
    "duration": 39,
    "start_time": "2024-12-24T12:18:31.327Z"
   },
   {
    "duration": 19,
    "start_time": "2024-12-24T12:18:31.369Z"
   },
   {
    "duration": 34,
    "start_time": "2024-12-24T12:18:31.390Z"
   },
   {
    "duration": 8,
    "start_time": "2024-12-24T12:18:31.426Z"
   },
   {
    "duration": 32,
    "start_time": "2024-12-24T12:18:31.436Z"
   },
   {
    "duration": 39,
    "start_time": "2024-12-24T12:18:31.469Z"
   },
   {
    "duration": 42,
    "start_time": "2024-12-24T12:18:31.510Z"
   },
   {
    "duration": 79,
    "start_time": "2024-12-24T12:18:31.553Z"
   },
   {
    "duration": 135,
    "start_time": "2024-12-24T12:18:31.634Z"
   },
   {
    "duration": 13,
    "start_time": "2024-12-24T12:18:31.771Z"
   },
   {
    "duration": 12,
    "start_time": "2024-12-24T12:18:31.786Z"
   },
   {
    "duration": 45,
    "start_time": "2024-12-24T12:18:31.800Z"
   },
   {
    "duration": 18,
    "start_time": "2024-12-24T12:18:31.846Z"
   },
   {
    "duration": 22,
    "start_time": "2024-12-24T12:18:31.865Z"
   },
   {
    "duration": 164,
    "start_time": "2024-12-24T12:18:31.889Z"
   },
   {
    "duration": 15,
    "start_time": "2024-12-24T12:18:32.054Z"
   },
   {
    "duration": 174,
    "start_time": "2024-12-24T12:18:32.071Z"
   },
   {
    "duration": 11,
    "start_time": "2024-12-24T12:18:32.247Z"
   },
   {
    "duration": 478,
    "start_time": "2024-12-25T07:03:33.062Z"
   },
   {
    "duration": 31,
    "start_time": "2024-12-25T07:03:33.542Z"
   },
   {
    "duration": 11,
    "start_time": "2024-12-25T07:03:37.418Z"
   },
   {
    "duration": 11,
    "start_time": "2024-12-25T07:03:37.922Z"
   },
   {
    "duration": 20,
    "start_time": "2024-12-25T07:03:39.720Z"
   },
   {
    "duration": 5,
    "start_time": "2024-12-25T07:03:40.298Z"
   },
   {
    "duration": 4,
    "start_time": "2024-12-25T07:03:40.993Z"
   },
   {
    "duration": 5,
    "start_time": "2024-12-25T07:03:41.576Z"
   },
   {
    "duration": 5,
    "start_time": "2024-12-25T07:03:41.947Z"
   },
   {
    "duration": 4,
    "start_time": "2024-12-25T07:03:42.460Z"
   },
   {
    "duration": 23,
    "start_time": "2024-12-25T07:03:47.176Z"
   },
   {
    "duration": 8,
    "start_time": "2024-12-25T07:04:06.362Z"
   },
   {
    "duration": 15,
    "start_time": "2024-12-25T07:04:15.043Z"
   },
   {
    "duration": 30,
    "start_time": "2024-12-25T07:04:26.905Z"
   },
   {
    "duration": 102,
    "start_time": "2024-12-25T07:07:49.964Z"
   },
   {
    "duration": 22,
    "start_time": "2024-12-25T07:07:50.068Z"
   },
   {
    "duration": 49,
    "start_time": "2024-12-25T07:07:50.092Z"
   },
   {
    "duration": 32,
    "start_time": "2024-12-25T07:07:50.142Z"
   },
   {
    "duration": 59,
    "start_time": "2024-12-25T07:07:50.176Z"
   },
   {
    "duration": 4,
    "start_time": "2024-12-25T07:07:50.237Z"
   },
   {
    "duration": 36,
    "start_time": "2024-12-25T07:07:50.243Z"
   },
   {
    "duration": 34,
    "start_time": "2024-12-25T07:07:50.280Z"
   },
   {
    "duration": 41,
    "start_time": "2024-12-25T07:07:50.316Z"
   },
   {
    "duration": 32,
    "start_time": "2024-12-25T07:07:50.358Z"
   },
   {
    "duration": 61,
    "start_time": "2024-12-25T07:07:50.391Z"
   },
   {
    "duration": 28,
    "start_time": "2024-12-25T07:07:50.453Z"
   },
   {
    "duration": 29,
    "start_time": "2024-12-25T07:07:50.482Z"
   },
   {
    "duration": 39,
    "start_time": "2024-12-25T07:07:50.513Z"
   },
   {
    "duration": 50,
    "start_time": "2024-12-25T07:07:58.187Z"
   },
   {
    "duration": 92,
    "start_time": "2024-12-25T07:09:38.773Z"
   },
   {
    "duration": 13,
    "start_time": "2024-12-25T07:12:38.719Z"
   },
   {
    "duration": 7,
    "start_time": "2024-12-25T07:18:48.905Z"
   },
   {
    "duration": 26,
    "start_time": "2024-12-25T07:19:34.546Z"
   },
   {
    "duration": 20,
    "start_time": "2024-12-25T07:22:19.380Z"
   },
   {
    "duration": 60,
    "start_time": "2024-12-25T07:30:51.104Z"
   },
   {
    "duration": 15,
    "start_time": "2024-12-25T07:31:07.935Z"
   },
   {
    "duration": 6,
    "start_time": "2024-12-25T07:31:33.655Z"
   },
   {
    "duration": 8,
    "start_time": "2024-12-25T07:32:02.530Z"
   },
   {
    "duration": 15,
    "start_time": "2024-12-25T07:32:08.351Z"
   },
   {
    "duration": 8,
    "start_time": "2024-12-25T07:34:00.853Z"
   },
   {
    "duration": 6,
    "start_time": "2024-12-25T07:34:06.672Z"
   },
   {
    "duration": 21,
    "start_time": "2024-12-25T07:34:10.897Z"
   },
   {
    "duration": 4,
    "start_time": "2024-12-25T07:35:27.600Z"
   },
   {
    "duration": 591,
    "start_time": "2024-12-25T07:36:17.618Z"
   },
   {
    "duration": 22,
    "start_time": "2024-12-25T07:36:37.587Z"
   },
   {
    "duration": 7,
    "start_time": "2024-12-25T07:37:23.349Z"
   },
   {
    "duration": 4,
    "start_time": "2024-12-25T07:37:26.148Z"
   },
   {
    "duration": 154,
    "start_time": "2024-12-25T07:37:34.726Z"
   },
   {
    "duration": 13,
    "start_time": "2024-12-25T07:38:30.973Z"
   },
   {
    "duration": 3,
    "start_time": "2024-12-25T07:38:32.094Z"
   },
   {
    "duration": 164,
    "start_time": "2024-12-25T07:38:42.309Z"
   },
   {
    "duration": 11,
    "start_time": "2024-12-25T07:38:48.629Z"
   },
   {
    "duration": 10,
    "start_time": "2024-12-25T07:40:37.085Z"
   },
   {
    "duration": 16,
    "start_time": "2024-12-25T07:43:56.998Z"
   },
   {
    "duration": 15,
    "start_time": "2024-12-25T07:44:55.770Z"
   },
   {
    "duration": 7,
    "start_time": "2024-12-25T07:45:14.350Z"
   },
   {
    "duration": 8,
    "start_time": "2024-12-25T07:45:59.121Z"
   },
   {
    "duration": 8,
    "start_time": "2024-12-25T07:47:28.291Z"
   },
   {
    "duration": 21,
    "start_time": "2024-12-25T07:48:10.000Z"
   },
   {
    "duration": 10,
    "start_time": "2024-12-25T07:48:24.354Z"
   },
   {
    "duration": 24,
    "start_time": "2024-12-25T07:48:36.240Z"
   },
   {
    "duration": 12,
    "start_time": "2024-12-25T07:50:32.569Z"
   },
   {
    "duration": 94,
    "start_time": "2024-12-25T07:51:11.118Z"
   },
   {
    "duration": 23,
    "start_time": "2024-12-25T07:51:11.214Z"
   },
   {
    "duration": 12,
    "start_time": "2024-12-25T07:51:11.238Z"
   },
   {
    "duration": 19,
    "start_time": "2024-12-25T07:51:11.252Z"
   },
   {
    "duration": 16,
    "start_time": "2024-12-25T07:51:11.272Z"
   },
   {
    "duration": 4,
    "start_time": "2024-12-25T07:51:11.290Z"
   },
   {
    "duration": 29,
    "start_time": "2024-12-25T07:51:11.296Z"
   },
   {
    "duration": 33,
    "start_time": "2024-12-25T07:51:11.327Z"
   },
   {
    "duration": 17,
    "start_time": "2024-12-25T07:51:11.362Z"
   },
   {
    "duration": 6,
    "start_time": "2024-12-25T07:51:11.381Z"
   },
   {
    "duration": 23,
    "start_time": "2024-12-25T07:51:11.388Z"
   },
   {
    "duration": 6,
    "start_time": "2024-12-25T07:51:11.413Z"
   },
   {
    "duration": 28,
    "start_time": "2024-12-25T07:51:11.420Z"
   },
   {
    "duration": 27,
    "start_time": "2024-12-25T07:51:11.449Z"
   },
   {
    "duration": 35,
    "start_time": "2024-12-25T07:51:11.478Z"
   },
   {
    "duration": 2,
    "start_time": "2024-12-25T07:51:11.514Z"
   },
   {
    "duration": 17,
    "start_time": "2024-12-25T07:51:11.521Z"
   },
   {
    "duration": 11,
    "start_time": "2024-12-25T07:51:11.540Z"
   },
   {
    "duration": 23,
    "start_time": "2024-12-25T07:51:11.552Z"
   },
   {
    "duration": 14,
    "start_time": "2024-12-25T07:51:11.577Z"
   },
   {
    "duration": 7,
    "start_time": "2024-12-25T07:51:11.592Z"
   },
   {
    "duration": 31,
    "start_time": "2024-12-25T07:51:11.622Z"
   },
   {
    "duration": 14,
    "start_time": "2024-12-25T07:51:11.655Z"
   },
   {
    "duration": 13,
    "start_time": "2024-12-25T07:51:11.671Z"
   },
   {
    "duration": 149,
    "start_time": "2024-12-25T07:51:11.685Z"
   },
   {
    "duration": 141,
    "start_time": "2024-12-25T07:51:11.835Z"
   },
   {
    "duration": 16,
    "start_time": "2024-12-25T07:51:11.977Z"
   },
   {
    "duration": 11,
    "start_time": "2024-12-25T07:51:18.229Z"
   },
   {
    "duration": 10,
    "start_time": "2024-12-25T07:52:05.351Z"
   },
   {
    "duration": 90,
    "start_time": "2024-12-25T07:53:11.798Z"
   },
   {
    "duration": 24,
    "start_time": "2024-12-25T07:53:11.890Z"
   },
   {
    "duration": 4,
    "start_time": "2024-12-25T07:53:11.915Z"
   },
   {
    "duration": 5,
    "start_time": "2024-12-25T07:53:11.920Z"
   },
   {
    "duration": 13,
    "start_time": "2024-12-25T07:53:11.926Z"
   },
   {
    "duration": 5,
    "start_time": "2024-12-25T07:53:11.940Z"
   },
   {
    "duration": 9,
    "start_time": "2024-12-25T07:53:11.946Z"
   },
   {
    "duration": 7,
    "start_time": "2024-12-25T07:53:11.956Z"
   },
   {
    "duration": 83,
    "start_time": "2024-12-25T07:53:11.965Z"
   },
   {
    "duration": 9,
    "start_time": "2024-12-25T07:53:12.050Z"
   },
   {
    "duration": 28,
    "start_time": "2024-12-25T07:53:12.061Z"
   },
   {
    "duration": 26,
    "start_time": "2024-12-25T07:53:12.090Z"
   },
   {
    "duration": 91,
    "start_time": "2024-12-25T07:53:12.117Z"
   },
   {
    "duration": 27,
    "start_time": "2024-12-25T07:53:12.210Z"
   },
   {
    "duration": 37,
    "start_time": "2024-12-25T07:53:12.238Z"
   },
   {
    "duration": 15,
    "start_time": "2024-12-25T07:53:12.276Z"
   },
   {
    "duration": 25,
    "start_time": "2024-12-25T07:53:12.292Z"
   },
   {
    "duration": 13,
    "start_time": "2024-12-25T07:53:12.318Z"
   },
   {
    "duration": 22,
    "start_time": "2024-12-25T07:53:12.332Z"
   },
   {
    "duration": 15,
    "start_time": "2024-12-25T07:53:12.355Z"
   },
   {
    "duration": 8,
    "start_time": "2024-12-25T07:53:12.371Z"
   },
   {
    "duration": 18,
    "start_time": "2024-12-25T07:53:12.380Z"
   },
   {
    "duration": 43,
    "start_time": "2024-12-25T07:53:12.400Z"
   },
   {
    "duration": 11,
    "start_time": "2024-12-25T07:53:12.445Z"
   },
   {
    "duration": 157,
    "start_time": "2024-12-25T07:53:12.457Z"
   },
   {
    "duration": 143,
    "start_time": "2024-12-25T07:53:12.616Z"
   },
   {
    "duration": 16,
    "start_time": "2024-12-25T07:53:12.761Z"
   },
   {
    "duration": 9,
    "start_time": "2024-12-25T07:53:12.780Z"
   },
   {
    "duration": 9,
    "start_time": "2024-12-25T07:54:53.470Z"
   },
   {
    "duration": 8,
    "start_time": "2024-12-25T07:54:54.206Z"
   },
   {
    "duration": 8,
    "start_time": "2024-12-25T07:54:54.685Z"
   },
   {
    "duration": 88,
    "start_time": "2024-12-25T07:55:04.849Z"
   },
   {
    "duration": 26,
    "start_time": "2024-12-25T07:55:04.939Z"
   },
   {
    "duration": 45,
    "start_time": "2024-12-25T07:55:04.967Z"
   },
   {
    "duration": 87,
    "start_time": "2024-12-25T07:55:05.015Z"
   },
   {
    "duration": 44,
    "start_time": "2024-12-25T07:55:05.104Z"
   },
   {
    "duration": 35,
    "start_time": "2024-12-25T07:55:05.149Z"
   },
   {
    "duration": 11,
    "start_time": "2024-12-25T07:55:05.186Z"
   },
   {
    "duration": 42,
    "start_time": "2024-12-25T07:55:05.199Z"
   },
   {
    "duration": 34,
    "start_time": "2024-12-25T07:55:05.242Z"
   },
   {
    "duration": 63,
    "start_time": "2024-12-25T07:55:05.278Z"
   },
   {
    "duration": 57,
    "start_time": "2024-12-25T07:55:05.342Z"
   },
   {
    "duration": 60,
    "start_time": "2024-12-25T07:55:05.401Z"
   },
   {
    "duration": 21,
    "start_time": "2024-12-25T07:55:05.462Z"
   },
   {
    "duration": 53,
    "start_time": "2024-12-25T07:55:05.485Z"
   },
   {
    "duration": 53,
    "start_time": "2024-12-25T07:55:05.539Z"
   },
   {
    "duration": 37,
    "start_time": "2024-12-25T07:55:05.594Z"
   },
   {
    "duration": 39,
    "start_time": "2024-12-25T07:55:05.634Z"
   },
   {
    "duration": 34,
    "start_time": "2024-12-25T07:55:05.674Z"
   },
   {
    "duration": 54,
    "start_time": "2024-12-25T07:55:05.710Z"
   },
   {
    "duration": 24,
    "start_time": "2024-12-25T07:55:05.765Z"
   },
   {
    "duration": 18,
    "start_time": "2024-12-25T07:55:05.790Z"
   },
   {
    "duration": 56,
    "start_time": "2024-12-25T07:55:05.809Z"
   },
   {
    "duration": 60,
    "start_time": "2024-12-25T07:55:05.866Z"
   },
   {
    "duration": 53,
    "start_time": "2024-12-25T07:55:05.933Z"
   },
   {
    "duration": 95,
    "start_time": "2024-12-25T07:55:05.988Z"
   },
   {
    "duration": 200,
    "start_time": "2024-12-25T07:55:06.085Z"
   },
   {
    "duration": 147,
    "start_time": "2024-12-25T07:55:06.287Z"
   },
   {
    "duration": 16,
    "start_time": "2024-12-25T07:55:06.437Z"
   },
   {
    "duration": 17,
    "start_time": "2024-12-25T07:55:06.454Z"
   },
   {
    "duration": 84,
    "start_time": "2024-12-25T08:11:47.088Z"
   },
   {
    "duration": 26,
    "start_time": "2024-12-25T08:11:47.174Z"
   },
   {
    "duration": 24,
    "start_time": "2024-12-25T08:11:47.202Z"
   },
   {
    "duration": 6,
    "start_time": "2024-12-25T08:11:47.228Z"
   },
   {
    "duration": 30,
    "start_time": "2024-12-25T08:11:47.235Z"
   },
   {
    "duration": 5,
    "start_time": "2024-12-25T08:11:47.266Z"
   },
   {
    "duration": 8,
    "start_time": "2024-12-25T08:11:47.272Z"
   },
   {
    "duration": 10,
    "start_time": "2024-12-25T08:11:47.281Z"
   },
   {
    "duration": 14,
    "start_time": "2024-12-25T08:11:47.292Z"
   },
   {
    "duration": 25,
    "start_time": "2024-12-25T08:11:47.309Z"
   },
   {
    "duration": 54,
    "start_time": "2024-12-25T08:11:47.335Z"
   },
   {
    "duration": 5,
    "start_time": "2024-12-25T08:11:47.391Z"
   },
   {
    "duration": 26,
    "start_time": "2024-12-25T08:11:47.398Z"
   },
   {
    "duration": 21,
    "start_time": "2024-12-25T08:11:47.425Z"
   },
   {
    "duration": 37,
    "start_time": "2024-12-25T08:11:47.447Z"
   },
   {
    "duration": 2,
    "start_time": "2024-12-25T08:11:47.486Z"
   },
   {
    "duration": 43,
    "start_time": "2024-12-25T08:11:47.489Z"
   },
   {
    "duration": 13,
    "start_time": "2024-12-25T08:11:47.533Z"
   },
   {
    "duration": 21,
    "start_time": "2024-12-25T08:11:47.548Z"
   },
   {
    "duration": 15,
    "start_time": "2024-12-25T08:11:47.571Z"
   },
   {
    "duration": 15,
    "start_time": "2024-12-25T08:11:47.623Z"
   },
   {
    "duration": 17,
    "start_time": "2024-12-25T08:11:47.639Z"
   },
   {
    "duration": 8,
    "start_time": "2024-12-25T08:11:47.658Z"
   },
   {
    "duration": 15,
    "start_time": "2024-12-25T08:11:47.668Z"
   },
   {
    "duration": 5,
    "start_time": "2024-12-25T08:11:47.685Z"
   },
   {
    "duration": 150,
    "start_time": "2024-12-25T08:11:47.691Z"
   },
   {
    "duration": 140,
    "start_time": "2024-12-25T08:11:47.842Z"
   },
   {
    "duration": 15,
    "start_time": "2024-12-25T08:11:47.985Z"
   },
   {
    "duration": 27,
    "start_time": "2024-12-25T08:11:48.002Z"
   },
   {
    "duration": 507,
    "start_time": "2024-12-25T08:12:40.920Z"
   },
   {
    "duration": 31,
    "start_time": "2024-12-25T08:12:41.429Z"
   },
   {
    "duration": 7,
    "start_time": "2024-12-25T08:12:41.462Z"
   },
   {
    "duration": 43,
    "start_time": "2024-12-25T08:12:41.470Z"
   },
   {
    "duration": 30,
    "start_time": "2024-12-25T08:12:41.514Z"
   },
   {
    "duration": 6,
    "start_time": "2024-12-25T08:12:41.546Z"
   },
   {
    "duration": 15,
    "start_time": "2024-12-25T08:12:41.553Z"
   },
   {
    "duration": 22,
    "start_time": "2024-12-25T08:12:41.570Z"
   },
   {
    "duration": 16,
    "start_time": "2024-12-25T08:12:41.593Z"
   },
   {
    "duration": 6,
    "start_time": "2024-12-25T08:12:41.613Z"
   },
   {
    "duration": 36,
    "start_time": "2024-12-25T08:12:41.621Z"
   },
   {
    "duration": 13,
    "start_time": "2024-12-25T08:12:41.659Z"
   },
   {
    "duration": 34,
    "start_time": "2024-12-25T08:12:41.674Z"
   },
   {
    "duration": 30,
    "start_time": "2024-12-25T08:12:41.710Z"
   },
   {
    "duration": 44,
    "start_time": "2024-12-25T08:12:41.742Z"
   },
   {
    "duration": 2,
    "start_time": "2024-12-25T08:12:41.787Z"
   },
   {
    "duration": 14,
    "start_time": "2024-12-25T08:12:41.790Z"
   },
   {
    "duration": 28,
    "start_time": "2024-12-25T08:12:41.805Z"
   },
   {
    "duration": 23,
    "start_time": "2024-12-25T08:12:41.834Z"
   },
   {
    "duration": 17,
    "start_time": "2024-12-25T08:12:41.858Z"
   },
   {
    "duration": 10,
    "start_time": "2024-12-25T08:12:41.876Z"
   },
   {
    "duration": 37,
    "start_time": "2024-12-25T08:12:41.887Z"
   },
   {
    "duration": 25,
    "start_time": "2024-12-25T08:12:41.926Z"
   },
   {
    "duration": 21,
    "start_time": "2024-12-25T08:12:41.953Z"
   },
   {
    "duration": 5,
    "start_time": "2024-12-25T08:12:41.975Z"
   },
   {
    "duration": 140,
    "start_time": "2024-12-25T08:12:41.982Z"
   },
   {
    "duration": 146,
    "start_time": "2024-12-25T08:12:42.124Z"
   },
   {
    "duration": 15,
    "start_time": "2024-12-25T08:12:42.274Z"
   },
   {
    "duration": 11,
    "start_time": "2024-12-25T08:12:42.291Z"
   },
   {
    "duration": 57,
    "start_time": "2024-12-25T11:27:03.832Z"
   },
   {
    "duration": 521,
    "start_time": "2024-12-25T11:27:20.489Z"
   },
   {
    "duration": 34,
    "start_time": "2024-12-25T11:27:21.012Z"
   },
   {
    "duration": 4,
    "start_time": "2024-12-25T11:27:21.048Z"
   },
   {
    "duration": 15,
    "start_time": "2024-12-25T11:27:21.070Z"
   },
   {
    "duration": 56,
    "start_time": "2024-12-25T11:27:21.087Z"
   },
   {
    "duration": 67,
    "start_time": "2024-12-25T11:27:21.145Z"
   },
   {
    "duration": 23,
    "start_time": "2024-12-25T11:27:21.214Z"
   },
   {
    "duration": 10,
    "start_time": "2024-12-25T11:27:21.238Z"
   },
   {
    "duration": 17,
    "start_time": "2024-12-25T11:27:21.250Z"
   },
   {
    "duration": 21,
    "start_time": "2024-12-25T11:27:21.269Z"
   },
   {
    "duration": 40,
    "start_time": "2024-12-25T11:27:21.292Z"
   },
   {
    "duration": 30,
    "start_time": "2024-12-25T11:27:21.334Z"
   },
   {
    "duration": 112,
    "start_time": "2024-12-25T11:27:21.365Z"
   },
   {
    "duration": 22,
    "start_time": "2024-12-25T11:27:21.483Z"
   },
   {
    "duration": 86,
    "start_time": "2024-12-25T11:27:21.507Z"
   },
   {
    "duration": 38,
    "start_time": "2024-12-25T11:27:21.595Z"
   },
   {
    "duration": 47,
    "start_time": "2024-12-25T11:27:21.635Z"
   },
   {
    "duration": 30,
    "start_time": "2024-12-25T11:27:21.684Z"
   },
   {
    "duration": 47,
    "start_time": "2024-12-25T11:27:21.716Z"
   },
   {
    "duration": 30,
    "start_time": "2024-12-25T11:27:21.764Z"
   },
   {
    "duration": 9,
    "start_time": "2024-12-25T11:27:21.796Z"
   },
   {
    "duration": 32,
    "start_time": "2024-12-25T11:27:21.807Z"
   },
   {
    "duration": 22,
    "start_time": "2024-12-25T11:27:21.841Z"
   },
   {
    "duration": 36,
    "start_time": "2024-12-25T11:27:21.865Z"
   },
   {
    "duration": 23,
    "start_time": "2024-12-25T11:27:21.903Z"
   },
   {
    "duration": 186,
    "start_time": "2024-12-25T11:27:21.928Z"
   },
   {
    "duration": 177,
    "start_time": "2024-12-25T11:27:22.116Z"
   },
   {
    "duration": 18,
    "start_time": "2024-12-25T11:27:22.297Z"
   },
   {
    "duration": 33,
    "start_time": "2024-12-25T11:27:22.316Z"
   },
   {
    "duration": 19,
    "start_time": "2024-12-25T11:27:30.280Z"
   },
   {
    "duration": 26,
    "start_time": "2024-12-25T11:27:59.293Z"
   },
   {
    "duration": 4,
    "start_time": "2024-12-25T11:29:12.483Z"
   },
   {
    "duration": 557,
    "start_time": "2024-12-25T11:31:05.468Z"
   },
   {
    "duration": 35,
    "start_time": "2024-12-25T11:31:06.028Z"
   },
   {
    "duration": 18,
    "start_time": "2024-12-25T11:31:06.065Z"
   },
   {
    "duration": 57,
    "start_time": "2024-12-25T11:31:06.085Z"
   },
   {
    "duration": 45,
    "start_time": "2024-12-25T11:31:06.145Z"
   },
   {
    "duration": 6,
    "start_time": "2024-12-25T11:31:06.191Z"
   },
   {
    "duration": 64,
    "start_time": "2024-12-25T11:31:06.198Z"
   },
   {
    "duration": 19,
    "start_time": "2024-12-25T11:31:06.263Z"
   },
   {
    "duration": 6,
    "start_time": "2024-12-25T11:31:06.285Z"
   },
   {
    "duration": 45,
    "start_time": "2024-12-25T11:31:06.292Z"
   },
   {
    "duration": 445,
    "start_time": "2024-12-25T11:31:06.339Z"
   },
   {
    "duration": 0,
    "start_time": "2024-12-25T11:31:06.787Z"
   },
   {
    "duration": 0,
    "start_time": "2024-12-25T11:31:06.788Z"
   },
   {
    "duration": 0,
    "start_time": "2024-12-25T11:31:06.789Z"
   },
   {
    "duration": 1,
    "start_time": "2024-12-25T11:31:06.790Z"
   },
   {
    "duration": 0,
    "start_time": "2024-12-25T11:31:06.792Z"
   },
   {
    "duration": 0,
    "start_time": "2024-12-25T11:31:06.793Z"
   },
   {
    "duration": 0,
    "start_time": "2024-12-25T11:31:06.794Z"
   },
   {
    "duration": 0,
    "start_time": "2024-12-25T11:31:06.795Z"
   },
   {
    "duration": 0,
    "start_time": "2024-12-25T11:31:06.796Z"
   },
   {
    "duration": 0,
    "start_time": "2024-12-25T11:31:06.797Z"
   },
   {
    "duration": 0,
    "start_time": "2024-12-25T11:31:06.798Z"
   },
   {
    "duration": 0,
    "start_time": "2024-12-25T11:31:06.799Z"
   },
   {
    "duration": 0,
    "start_time": "2024-12-25T11:31:06.800Z"
   },
   {
    "duration": 0,
    "start_time": "2024-12-25T11:31:06.801Z"
   },
   {
    "duration": 0,
    "start_time": "2024-12-25T11:31:06.802Z"
   },
   {
    "duration": 0,
    "start_time": "2024-12-25T11:31:06.804Z"
   },
   {
    "duration": 0,
    "start_time": "2024-12-25T11:31:06.805Z"
   },
   {
    "duration": 0,
    "start_time": "2024-12-25T11:31:06.806Z"
   },
   {
    "duration": 0,
    "start_time": "2024-12-25T11:31:06.807Z"
   },
   {
    "duration": 0,
    "start_time": "2024-12-25T11:31:06.808Z"
   },
   {
    "duration": 338,
    "start_time": "2024-12-25T11:31:59.483Z"
   },
   {
    "duration": 388,
    "start_time": "2024-12-25T11:32:25.616Z"
   },
   {
    "duration": 35,
    "start_time": "2024-12-25T11:33:15.647Z"
   },
   {
    "duration": 6,
    "start_time": "2024-12-25T11:33:17.853Z"
   },
   {
    "duration": 325,
    "start_time": "2024-12-25T11:33:18.536Z"
   },
   {
    "duration": 18,
    "start_time": "2024-12-25T11:33:26.283Z"
   },
   {
    "duration": 379,
    "start_time": "2024-12-25T11:33:29.075Z"
   },
   {
    "duration": 25,
    "start_time": "2024-12-25T11:33:47.083Z"
   },
   {
    "duration": 457,
    "start_time": "2024-12-25T11:33:47.749Z"
   },
   {
    "duration": 44,
    "start_time": "2024-12-25T11:33:54.883Z"
   },
   {
    "duration": 372,
    "start_time": "2024-12-25T11:33:55.683Z"
   },
   {
    "duration": 23,
    "start_time": "2024-12-25T11:34:23.268Z"
   },
   {
    "duration": 46,
    "start_time": "2024-12-25T11:34:24.250Z"
   },
   {
    "duration": 560,
    "start_time": "2024-12-25T11:35:31.847Z"
   },
   {
    "duration": 38,
    "start_time": "2024-12-25T11:35:32.409Z"
   },
   {
    "duration": 48,
    "start_time": "2024-12-25T11:35:32.449Z"
   },
   {
    "duration": 25,
    "start_time": "2024-12-25T11:35:32.499Z"
   },
   {
    "duration": 32,
    "start_time": "2024-12-25T11:35:32.526Z"
   },
   {
    "duration": 6,
    "start_time": "2024-12-25T11:35:32.560Z"
   },
   {
    "duration": 118,
    "start_time": "2024-12-25T11:35:32.568Z"
   },
   {
    "duration": 21,
    "start_time": "2024-12-25T11:35:32.688Z"
   },
   {
    "duration": 15,
    "start_time": "2024-12-25T11:35:32.711Z"
   },
   {
    "duration": 24,
    "start_time": "2024-12-25T11:35:32.729Z"
   },
   {
    "duration": 47,
    "start_time": "2024-12-25T11:35:32.755Z"
   },
   {
    "duration": 44,
    "start_time": "2024-12-25T11:35:32.803Z"
   },
   {
    "duration": 19,
    "start_time": "2024-12-25T11:35:32.849Z"
   },
   {
    "duration": 125,
    "start_time": "2024-12-25T11:35:32.877Z"
   },
   {
    "duration": 45,
    "start_time": "2024-12-25T11:35:33.004Z"
   },
   {
    "duration": 3,
    "start_time": "2024-12-25T11:35:33.051Z"
   },
   {
    "duration": 34,
    "start_time": "2024-12-25T11:35:33.056Z"
   },
   {
    "duration": 15,
    "start_time": "2024-12-25T11:35:33.092Z"
   },
   {
    "duration": 34,
    "start_time": "2024-12-25T11:35:33.109Z"
   },
   {
    "duration": 50,
    "start_time": "2024-12-25T11:35:33.145Z"
   },
   {
    "duration": 17,
    "start_time": "2024-12-25T11:35:33.197Z"
   },
   {
    "duration": 14,
    "start_time": "2024-12-25T11:35:33.216Z"
   },
   {
    "duration": 53,
    "start_time": "2024-12-25T11:35:33.232Z"
   },
   {
    "duration": 37,
    "start_time": "2024-12-25T11:35:33.287Z"
   },
   {
    "duration": 38,
    "start_time": "2024-12-25T11:35:33.326Z"
   },
   {
    "duration": 7,
    "start_time": "2024-12-25T11:35:33.366Z"
   },
   {
    "duration": 174,
    "start_time": "2024-12-25T11:35:33.375Z"
   },
   {
    "duration": 178,
    "start_time": "2024-12-25T11:35:33.552Z"
   },
   {
    "duration": 18,
    "start_time": "2024-12-25T11:35:33.732Z"
   },
   {
    "duration": 40,
    "start_time": "2024-12-25T11:35:33.752Z"
   },
   {
    "duration": 32,
    "start_time": "2024-12-25T11:36:29.011Z"
   },
   {
    "duration": 94,
    "start_time": "2024-12-25T11:41:04.191Z"
   },
   {
    "duration": 540,
    "start_time": "2024-12-25T12:57:17.991Z"
   },
   {
    "duration": 32,
    "start_time": "2024-12-25T12:57:18.533Z"
   },
   {
    "duration": 3,
    "start_time": "2024-12-25T12:57:18.567Z"
   },
   {
    "duration": 9,
    "start_time": "2024-12-25T12:57:18.572Z"
   },
   {
    "duration": 72,
    "start_time": "2024-12-25T12:57:18.583Z"
   },
   {
    "duration": 21,
    "start_time": "2024-12-25T12:57:18.657Z"
   },
   {
    "duration": 10,
    "start_time": "2024-12-25T12:57:18.679Z"
   },
   {
    "duration": 21,
    "start_time": "2024-12-25T12:57:18.690Z"
   },
   {
    "duration": 14,
    "start_time": "2024-12-25T12:57:18.713Z"
   },
   {
    "duration": 25,
    "start_time": "2024-12-25T12:57:18.729Z"
   },
   {
    "duration": 45,
    "start_time": "2024-12-25T12:57:18.755Z"
   },
   {
    "duration": 12,
    "start_time": "2024-12-25T12:57:18.802Z"
   },
   {
    "duration": 27,
    "start_time": "2024-12-25T12:57:18.816Z"
   },
   {
    "duration": 21,
    "start_time": "2024-12-25T12:57:18.846Z"
   },
   {
    "duration": 37,
    "start_time": "2024-12-25T12:57:18.868Z"
   },
   {
    "duration": 2,
    "start_time": "2024-12-25T12:57:18.907Z"
   },
   {
    "duration": 12,
    "start_time": "2024-12-25T12:57:18.922Z"
   },
   {
    "duration": 16,
    "start_time": "2024-12-25T12:57:18.936Z"
   },
   {
    "duration": 37,
    "start_time": "2024-12-25T12:57:18.953Z"
   },
   {
    "duration": 15,
    "start_time": "2024-12-25T12:57:18.991Z"
   },
   {
    "duration": 9,
    "start_time": "2024-12-25T12:57:19.007Z"
   },
   {
    "duration": 14,
    "start_time": "2024-12-25T12:57:19.021Z"
   },
   {
    "duration": 19,
    "start_time": "2024-12-25T12:57:19.037Z"
   },
   {
    "duration": 21,
    "start_time": "2024-12-25T12:57:19.057Z"
   },
   {
    "duration": 12,
    "start_time": "2024-12-25T12:57:19.080Z"
   },
   {
    "duration": 144,
    "start_time": "2024-12-25T12:57:19.094Z"
   },
   {
    "duration": 143,
    "start_time": "2024-12-25T12:57:19.240Z"
   },
   {
    "duration": 16,
    "start_time": "2024-12-25T12:57:19.385Z"
   },
   {
    "duration": 32,
    "start_time": "2024-12-25T12:57:19.402Z"
   },
   {
    "duration": 541,
    "start_time": "2024-12-25T17:04:28.696Z"
   },
   {
    "duration": 33,
    "start_time": "2024-12-25T17:04:29.239Z"
   },
   {
    "duration": 4,
    "start_time": "2024-12-25T17:04:29.273Z"
   },
   {
    "duration": 34,
    "start_time": "2024-12-25T17:04:29.279Z"
   },
   {
    "duration": 37,
    "start_time": "2024-12-25T17:04:29.315Z"
   },
   {
    "duration": 23,
    "start_time": "2024-12-25T17:04:29.354Z"
   },
   {
    "duration": 12,
    "start_time": "2024-12-25T17:04:29.379Z"
   },
   {
    "duration": 12,
    "start_time": "2024-12-25T17:04:29.393Z"
   },
   {
    "duration": 7,
    "start_time": "2024-12-25T17:04:29.406Z"
   },
   {
    "duration": 7,
    "start_time": "2024-12-25T17:04:29.416Z"
   },
   {
    "duration": 34,
    "start_time": "2024-12-25T17:04:29.425Z"
   },
   {
    "duration": 13,
    "start_time": "2024-12-25T17:04:29.461Z"
   },
   {
    "duration": 18,
    "start_time": "2024-12-25T17:04:29.475Z"
   },
   {
    "duration": 22,
    "start_time": "2024-12-25T17:04:29.495Z"
   },
   {
    "duration": 58,
    "start_time": "2024-12-25T17:04:29.518Z"
   },
   {
    "duration": 3,
    "start_time": "2024-12-25T17:04:29.577Z"
   },
   {
    "duration": 23,
    "start_time": "2024-12-25T17:04:29.581Z"
   },
   {
    "duration": 39,
    "start_time": "2024-12-25T17:04:29.605Z"
   },
   {
    "duration": 36,
    "start_time": "2024-12-25T17:04:29.645Z"
   },
   {
    "duration": 16,
    "start_time": "2024-12-25T17:04:29.682Z"
   },
   {
    "duration": 10,
    "start_time": "2024-12-25T17:04:29.699Z"
   },
   {
    "duration": 15,
    "start_time": "2024-12-25T17:04:29.710Z"
   },
   {
    "duration": 49,
    "start_time": "2024-12-25T17:04:29.726Z"
   },
   {
    "duration": 39,
    "start_time": "2024-12-25T17:04:29.777Z"
   },
   {
    "duration": 6,
    "start_time": "2024-12-25T17:04:29.817Z"
   },
   {
    "duration": 156,
    "start_time": "2024-12-25T17:04:29.824Z"
   },
   {
    "duration": 153,
    "start_time": "2024-12-25T17:04:29.982Z"
   },
   {
    "duration": 16,
    "start_time": "2024-12-25T17:04:30.138Z"
   },
   {
    "duration": 119,
    "start_time": "2024-12-25T17:04:30.156Z"
   },
   {
    "duration": 18,
    "start_time": "2024-12-25T17:05:16.754Z"
   }
  ],
  "kernelspec": {
   "display_name": "Python 3 (ipykernel)",
   "language": "python",
   "name": "python3"
  },
  "language_info": {
   "codemirror_mode": {
    "name": "ipython",
    "version": 3
   },
   "file_extension": ".py",
   "mimetype": "text/x-python",
   "name": "python",
   "nbconvert_exporter": "python",
   "pygments_lexer": "ipython3",
   "version": "3.12.7"
  },
  "toc": {
   "base_numbering": 1,
   "nav_menu": {},
   "number_sections": true,
   "sideBar": true,
   "skip_h1_title": true,
   "title_cell": "Table of Contents",
   "title_sidebar": "Contents",
   "toc_cell": false,
   "toc_position": {
    "height": "calc(100% - 180px)",
    "left": "10px",
    "top": "150px",
    "width": "342px"
   },
   "toc_section_display": true,
   "toc_window_display": true
  }
 },
 "nbformat": 4,
 "nbformat_minor": 5
}

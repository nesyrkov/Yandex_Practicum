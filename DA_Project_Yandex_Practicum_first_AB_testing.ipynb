{
 "cells": [
  {
   "cell_type": "markdown",
   "metadata": {
    "id": "u98L9TgH0eMk"
   },
   "source": [
    "# Разработка A/B-тестирования и анализ результатов\n",
    "\n",
    "Вы работаете продуктовым аналитиком в компании, которая разрабатывает развлекательное приложение с функцией «бесконечной» ленты, как, например, в приложениях с короткими видео. В вашем приложении существует две модели монетизации: первая — ежемесячная платная подписка, которая позволяет пользователям смотреть ленту без рекламы, вторая — демонстрация рекламы для пользователей, которые ещё не оформили подписку.\n",
    "\n",
    "Команда разработчиков рекомендательных систем создала новый алгоритм рекомендаций, который, по их мнению, будет показывать более интересный контент для каждого пользователя. Вас, как аналитика, просят помочь рассчитать параметры A/B-теста, который позволит проверить эту гипотезу, и проанализировать его результаты."
   ]
  },
  {
   "cell_type": "markdown",
   "metadata": {
    "id": "LJBRALHs0eMf"
   },
   "source": [
    "## Описание данных\n",
    "\n",
    "Вы будете работать с тремя таблицами:\n",
    "\n",
    "- `sessions_project_history.csv` — таблица с историческими данными по сессиям пользователей на период с 2025-08-15 по 2025-09-23. Путь к файлу: `/datasets/sessions_project_history.csv`.\n",
    "\n",
    "- `sessions_project_test_part.csv` — таблица с данными за первый день проведения A/B-теста, то есть за 2025-10-14. Путь к файлу: `/datasets/sessions_project_test_part.csv`.\n",
    "\n",
    "- `sessions_project_test.csv` — таблица с данными за весь период проведения A/B-теста, то есть с 2025-10-14 по 2025-11-02. Путь к файлу: `/datasets/sessions_project_test.csv`.\n",
    "\n",
    "У этих таблиц почти совпадает структура и содержание колонок, различаются лишь периоды наблюдения.\n",
    "\n",
    "Поля таблиц `sessions_project_history.csv`, `sessions_project_test.csv`, `sessions_project_test_part.csv`:\n",
    "\n",
    "- `user_id` — идентификатор пользователя;\n",
    "\n",
    "- `session_id` — идентификатор сессии в приложении;\n",
    "\n",
    "- `session_date` — дата сессии;\n",
    "\n",
    "- `session_start_ts` — дата и время начала сессии;\n",
    "\n",
    "- `install_date` — дата установки приложения;\n",
    "\n",
    "- `session_number` — порядковый номер сессии для конкретного пользователя;\n",
    "\n",
    "- `registration_flag` — является ли пользователь зарегистрированным;\n",
    "\n",
    "- `page_counter` — количество просмотренных страниц во время сессии;\n",
    "\n",
    "- `region` — регион пользователя;\n",
    "\n",
    "- `device` — тип устройства пользователя;\n",
    "\n",
    "- `test_group` — тестовая группа (в таблице с историческими данными этого столбца нет).\n",
    "\n",
    "\n",
    "## Что нужно сделать\n",
    "Ваши задачи: рассчитать параметры теста, оценить корректность его проведения и проанализировать результаты эксперимента."
   ]
  },
  {
   "cell_type": "markdown",
   "metadata": {
    "id": "UpOucjID0eMl"
   },
   "source": [
    "### 1. Работа с историческими данными (EDA)"
   ]
  },
  {
   "cell_type": "markdown",
   "metadata": {
    "id": "8iJMtL-30eMl"
   },
   "source": [
    "#### 1.1. Загрузка исторических данных\n",
    "На первом этапе поработайте с историческими данными приложения:\n",
    "\n",
    "- Импортируйте библиотеку pandas.\n",
    "\n",
    "- Считайте и сохраните в датафрейм `sessions_history` CSV-файл с историческими данными о сессиях пользователей `sessions_project_history.csv`.\n",
    "\n",
    "Выведите на экран первые пять строк полученного датафрейма."
   ]
  },
  {
   "cell_type": "code",
   "execution_count": 57,
   "metadata": {
    "id": "6TPR2-1RPboT"
   },
   "outputs": [
    {
     "data": {
      "text/html": [
       "<div>\n",
       "<style scoped>\n",
       "    .dataframe tbody tr th:only-of-type {\n",
       "        vertical-align: middle;\n",
       "    }\n",
       "\n",
       "    .dataframe tbody tr th {\n",
       "        vertical-align: top;\n",
       "    }\n",
       "\n",
       "    .dataframe thead th {\n",
       "        text-align: right;\n",
       "    }\n",
       "</style>\n",
       "<table border=\"1\" class=\"dataframe\">\n",
       "  <thead>\n",
       "    <tr style=\"text-align: right;\">\n",
       "      <th></th>\n",
       "      <th>user_id</th>\n",
       "      <th>session_id</th>\n",
       "      <th>session_date</th>\n",
       "      <th>session_start_ts</th>\n",
       "      <th>install_date</th>\n",
       "      <th>session_number</th>\n",
       "      <th>registration_flag</th>\n",
       "      <th>page_counter</th>\n",
       "      <th>region</th>\n",
       "      <th>device</th>\n",
       "    </tr>\n",
       "  </thead>\n",
       "  <tbody>\n",
       "    <tr>\n",
       "      <th>0</th>\n",
       "      <td>E302123B7000BFE4</td>\n",
       "      <td>F9AF61A0C2023832</td>\n",
       "      <td>2025-08-15</td>\n",
       "      <td>2025-08-15 17:47:35</td>\n",
       "      <td>2025-08-15</td>\n",
       "      <td>1</td>\n",
       "      <td>0</td>\n",
       "      <td>3</td>\n",
       "      <td>CIS</td>\n",
       "      <td>iPhone</td>\n",
       "    </tr>\n",
       "    <tr>\n",
       "      <th>1</th>\n",
       "      <td>2530F72E221829FB</td>\n",
       "      <td>85003A206CBDAC6F</td>\n",
       "      <td>2025-08-15</td>\n",
       "      <td>2025-08-15 16:42:14</td>\n",
       "      <td>2025-08-15</td>\n",
       "      <td>1</td>\n",
       "      <td>0</td>\n",
       "      <td>4</td>\n",
       "      <td>MENA</td>\n",
       "      <td>Android</td>\n",
       "    </tr>\n",
       "    <tr>\n",
       "      <th>2</th>\n",
       "      <td>876E020A4FC512F5</td>\n",
       "      <td>3677423E49D72DEE</td>\n",
       "      <td>2025-08-15</td>\n",
       "      <td>2025-08-15 12:30:00</td>\n",
       "      <td>2025-08-15</td>\n",
       "      <td>1</td>\n",
       "      <td>0</td>\n",
       "      <td>4</td>\n",
       "      <td>EU</td>\n",
       "      <td>PC</td>\n",
       "    </tr>\n",
       "    <tr>\n",
       "      <th>3</th>\n",
       "      <td>2640B349E1D81584</td>\n",
       "      <td>956B45F5915CA225</td>\n",
       "      <td>2025-08-15</td>\n",
       "      <td>2025-08-15 15:31:31</td>\n",
       "      <td>2025-08-15</td>\n",
       "      <td>1</td>\n",
       "      <td>0</td>\n",
       "      <td>4</td>\n",
       "      <td>CIS</td>\n",
       "      <td>Android</td>\n",
       "    </tr>\n",
       "    <tr>\n",
       "      <th>4</th>\n",
       "      <td>94E1CBFAEF1F5EE9</td>\n",
       "      <td>83BF0DA35F9F1F40</td>\n",
       "      <td>2025-08-15</td>\n",
       "      <td>2025-08-15 21:33:53</td>\n",
       "      <td>2025-08-15</td>\n",
       "      <td>1</td>\n",
       "      <td>0</td>\n",
       "      <td>3</td>\n",
       "      <td>CIS</td>\n",
       "      <td>Android</td>\n",
       "    </tr>\n",
       "  </tbody>\n",
       "</table>\n",
       "</div>"
      ],
      "text/plain": [
       "            user_id        session_id session_date     session_start_ts  \\\n",
       "0  E302123B7000BFE4  F9AF61A0C2023832   2025-08-15  2025-08-15 17:47:35   \n",
       "1  2530F72E221829FB  85003A206CBDAC6F   2025-08-15  2025-08-15 16:42:14   \n",
       "2  876E020A4FC512F5  3677423E49D72DEE   2025-08-15  2025-08-15 12:30:00   \n",
       "3  2640B349E1D81584  956B45F5915CA225   2025-08-15  2025-08-15 15:31:31   \n",
       "4  94E1CBFAEF1F5EE9  83BF0DA35F9F1F40   2025-08-15  2025-08-15 21:33:53   \n",
       "\n",
       "  install_date  session_number  registration_flag  page_counter region  \\\n",
       "0   2025-08-15               1                  0             3    CIS   \n",
       "1   2025-08-15               1                  0             4   MENA   \n",
       "2   2025-08-15               1                  0             4     EU   \n",
       "3   2025-08-15               1                  0             4    CIS   \n",
       "4   2025-08-15               1                  0             3    CIS   \n",
       "\n",
       "    device  \n",
       "0   iPhone  \n",
       "1  Android  \n",
       "2       PC  \n",
       "3  Android  \n",
       "4  Android  "
      ]
     },
     "metadata": {},
     "output_type": "display_data"
    }
   ],
   "source": [
    "import pandas as pd\n",
    "sessions_history=pd.read_csv('https://code.s3.yandex.net/datasets/sessions_project_history.csv')\n",
    "display(sessions_history.head())"
   ]
  },
  {
   "cell_type": "markdown",
   "metadata": {
    "id": "qTDoiODz0eMo"
   },
   "source": [
    "#### 1.2. Знакомство с данными\n",
    "- Для каждого уникального пользователя `user_id` рассчитайте количество уникальных сессий `session_id`.\n",
    "\n",
    "- Выведите на экран все данные из таблицы `sessions_history` для одного пользователя с наибольшим количеством сессий. Если таких пользователей несколько, выберите любого из них.\n",
    "\n",
    "- Изучите таблицу для одного пользователя, чтобы лучше понять логику формирования каждого столбца данных.\n",
    "\n"
   ]
  },
  {
   "cell_type": "code",
   "execution_count": 59,
   "metadata": {
    "id": "PWZO9vTIPbPN"
   },
   "outputs": [
    {
     "data": {
      "text/plain": [
       "user_id\n",
       "10E0DEFC1ABDBBE0    10\n",
       "6A73CB5566BB494D    10\n",
       "8A60431A825D035B     9\n",
       "D11541BAC141FB94     9\n",
       "5BCFE7C4DCC148E9     9\n",
       "                    ..\n",
       "1DF13BB1953B3497     1\n",
       "628502A3CE7E0A3C     1\n",
       "1DEEF40DEFBD0C65     1\n",
       "AC08479B7472C628     1\n",
       "8A0882B6715D9EE5     1\n",
       "Name: session_id, Length: 134039, dtype: int64"
      ]
     },
     "execution_count": 59,
     "metadata": {},
     "output_type": "execute_result"
    }
   ],
   "source": [
    "sessions_history.groupby('user_id')['session_id'].nunique().sort_values(ascending=False)"
   ]
  },
  {
   "cell_type": "code",
   "execution_count": 60,
   "metadata": {},
   "outputs": [
    {
     "data": {
      "text/html": [
       "<div>\n",
       "<style scoped>\n",
       "    .dataframe tbody tr th:only-of-type {\n",
       "        vertical-align: middle;\n",
       "    }\n",
       "\n",
       "    .dataframe tbody tr th {\n",
       "        vertical-align: top;\n",
       "    }\n",
       "\n",
       "    .dataframe thead th {\n",
       "        text-align: right;\n",
       "    }\n",
       "</style>\n",
       "<table border=\"1\" class=\"dataframe\">\n",
       "  <thead>\n",
       "    <tr style=\"text-align: right;\">\n",
       "      <th></th>\n",
       "      <th>user_id</th>\n",
       "      <th>session_id</th>\n",
       "      <th>session_date</th>\n",
       "      <th>session_start_ts</th>\n",
       "      <th>install_date</th>\n",
       "      <th>session_number</th>\n",
       "      <th>registration_flag</th>\n",
       "      <th>page_counter</th>\n",
       "      <th>region</th>\n",
       "      <th>device</th>\n",
       "    </tr>\n",
       "  </thead>\n",
       "  <tbody>\n",
       "    <tr>\n",
       "      <th>115558</th>\n",
       "      <td>10E0DEFC1ABDBBE0</td>\n",
       "      <td>B8F0423BBFFCF5DC</td>\n",
       "      <td>2025-08-14</td>\n",
       "      <td>2025-08-14 13:57:39</td>\n",
       "      <td>2025-08-14</td>\n",
       "      <td>1</td>\n",
       "      <td>0</td>\n",
       "      <td>4</td>\n",
       "      <td>CIS</td>\n",
       "      <td>Android</td>\n",
       "    </tr>\n",
       "    <tr>\n",
       "      <th>191751</th>\n",
       "      <td>10E0DEFC1ABDBBE0</td>\n",
       "      <td>87CA2FA549473837</td>\n",
       "      <td>2025-08-15</td>\n",
       "      <td>2025-08-15 16:42:10</td>\n",
       "      <td>2025-08-14</td>\n",
       "      <td>2</td>\n",
       "      <td>0</td>\n",
       "      <td>3</td>\n",
       "      <td>CIS</td>\n",
       "      <td>Android</td>\n",
       "    </tr>\n",
       "    <tr>\n",
       "      <th>239370</th>\n",
       "      <td>10E0DEFC1ABDBBE0</td>\n",
       "      <td>4ADD8011DCDCE318</td>\n",
       "      <td>2025-08-16</td>\n",
       "      <td>2025-08-16 19:53:21</td>\n",
       "      <td>2025-08-14</td>\n",
       "      <td>3</td>\n",
       "      <td>0</td>\n",
       "      <td>3</td>\n",
       "      <td>CIS</td>\n",
       "      <td>Android</td>\n",
       "    </tr>\n",
       "    <tr>\n",
       "      <th>274629</th>\n",
       "      <td>10E0DEFC1ABDBBE0</td>\n",
       "      <td>DF0FD0E09BF1F3D7</td>\n",
       "      <td>2025-08-17</td>\n",
       "      <td>2025-08-17 15:03:43</td>\n",
       "      <td>2025-08-14</td>\n",
       "      <td>4</td>\n",
       "      <td>0</td>\n",
       "      <td>1</td>\n",
       "      <td>CIS</td>\n",
       "      <td>Android</td>\n",
       "    </tr>\n",
       "    <tr>\n",
       "      <th>302501</th>\n",
       "      <td>10E0DEFC1ABDBBE0</td>\n",
       "      <td>3C221774B4DE6885</td>\n",
       "      <td>2025-08-18</td>\n",
       "      <td>2025-08-18 17:29:14</td>\n",
       "      <td>2025-08-14</td>\n",
       "      <td>5</td>\n",
       "      <td>0</td>\n",
       "      <td>4</td>\n",
       "      <td>CIS</td>\n",
       "      <td>Android</td>\n",
       "    </tr>\n",
       "    <tr>\n",
       "      <th>325557</th>\n",
       "      <td>10E0DEFC1ABDBBE0</td>\n",
       "      <td>031BD7A67048105B</td>\n",
       "      <td>2025-08-19</td>\n",
       "      <td>2025-08-19 13:23:55</td>\n",
       "      <td>2025-08-14</td>\n",
       "      <td>6</td>\n",
       "      <td>0</td>\n",
       "      <td>2</td>\n",
       "      <td>CIS</td>\n",
       "      <td>Android</td>\n",
       "    </tr>\n",
       "    <tr>\n",
       "      <th>345336</th>\n",
       "      <td>10E0DEFC1ABDBBE0</td>\n",
       "      <td>FF4315CF4AD4B100</td>\n",
       "      <td>2025-08-20</td>\n",
       "      <td>2025-08-20 19:31:54</td>\n",
       "      <td>2025-08-14</td>\n",
       "      <td>7</td>\n",
       "      <td>0</td>\n",
       "      <td>2</td>\n",
       "      <td>CIS</td>\n",
       "      <td>Android</td>\n",
       "    </tr>\n",
       "    <tr>\n",
       "      <th>377532</th>\n",
       "      <td>10E0DEFC1ABDBBE0</td>\n",
       "      <td>4045FEA0747203B4</td>\n",
       "      <td>2025-08-22</td>\n",
       "      <td>2025-08-22 17:54:13</td>\n",
       "      <td>2025-08-14</td>\n",
       "      <td>8</td>\n",
       "      <td>0</td>\n",
       "      <td>2</td>\n",
       "      <td>CIS</td>\n",
       "      <td>Android</td>\n",
       "    </tr>\n",
       "    <tr>\n",
       "      <th>403538</th>\n",
       "      <td>10E0DEFC1ABDBBE0</td>\n",
       "      <td>344B086C421C7F37</td>\n",
       "      <td>2025-08-24</td>\n",
       "      <td>2025-08-24 14:46:13</td>\n",
       "      <td>2025-08-14</td>\n",
       "      <td>9</td>\n",
       "      <td>0</td>\n",
       "      <td>2</td>\n",
       "      <td>CIS</td>\n",
       "      <td>Android</td>\n",
       "    </tr>\n",
       "    <tr>\n",
       "      <th>414743</th>\n",
       "      <td>10E0DEFC1ABDBBE0</td>\n",
       "      <td>054F20BA371E4C9D</td>\n",
       "      <td>2025-08-25</td>\n",
       "      <td>2025-08-25 18:36:41</td>\n",
       "      <td>2025-08-14</td>\n",
       "      <td>10</td>\n",
       "      <td>0</td>\n",
       "      <td>3</td>\n",
       "      <td>CIS</td>\n",
       "      <td>Android</td>\n",
       "    </tr>\n",
       "  </tbody>\n",
       "</table>\n",
       "</div>"
      ],
      "text/plain": [
       "                 user_id        session_id session_date     session_start_ts  \\\n",
       "115558  10E0DEFC1ABDBBE0  B8F0423BBFFCF5DC   2025-08-14  2025-08-14 13:57:39   \n",
       "191751  10E0DEFC1ABDBBE0  87CA2FA549473837   2025-08-15  2025-08-15 16:42:10   \n",
       "239370  10E0DEFC1ABDBBE0  4ADD8011DCDCE318   2025-08-16  2025-08-16 19:53:21   \n",
       "274629  10E0DEFC1ABDBBE0  DF0FD0E09BF1F3D7   2025-08-17  2025-08-17 15:03:43   \n",
       "302501  10E0DEFC1ABDBBE0  3C221774B4DE6885   2025-08-18  2025-08-18 17:29:14   \n",
       "325557  10E0DEFC1ABDBBE0  031BD7A67048105B   2025-08-19  2025-08-19 13:23:55   \n",
       "345336  10E0DEFC1ABDBBE0  FF4315CF4AD4B100   2025-08-20  2025-08-20 19:31:54   \n",
       "377532  10E0DEFC1ABDBBE0  4045FEA0747203B4   2025-08-22  2025-08-22 17:54:13   \n",
       "403538  10E0DEFC1ABDBBE0  344B086C421C7F37   2025-08-24  2025-08-24 14:46:13   \n",
       "414743  10E0DEFC1ABDBBE0  054F20BA371E4C9D   2025-08-25  2025-08-25 18:36:41   \n",
       "\n",
       "       install_date  session_number  registration_flag  page_counter region  \\\n",
       "115558   2025-08-14               1                  0             4    CIS   \n",
       "191751   2025-08-14               2                  0             3    CIS   \n",
       "239370   2025-08-14               3                  0             3    CIS   \n",
       "274629   2025-08-14               4                  0             1    CIS   \n",
       "302501   2025-08-14               5                  0             4    CIS   \n",
       "325557   2025-08-14               6                  0             2    CIS   \n",
       "345336   2025-08-14               7                  0             2    CIS   \n",
       "377532   2025-08-14               8                  0             2    CIS   \n",
       "403538   2025-08-14               9                  0             2    CIS   \n",
       "414743   2025-08-14              10                  0             3    CIS   \n",
       "\n",
       "         device  \n",
       "115558  Android  \n",
       "191751  Android  \n",
       "239370  Android  \n",
       "274629  Android  \n",
       "302501  Android  \n",
       "325557  Android  \n",
       "345336  Android  \n",
       "377532  Android  \n",
       "403538  Android  \n",
       "414743  Android  "
      ]
     },
     "metadata": {},
     "output_type": "display_data"
    }
   ],
   "source": [
    "max_index=sessions_history.groupby('user_id')['session_id'].nunique().sort_values(ascending=False).idxmax()\n",
    "display(sessions_history[sessions_history['user_id']==max_index])"
   ]
  },
  {
   "cell_type": "markdown",
   "metadata": {
    "id": "CmcGpJTP0eMq"
   },
   "source": [
    "#### 1.3. Анализ числа регистраций\n",
    "Одна из важнейших метрик продукта — число зарегистрированных пользователей. Используя исторические данные, визуализируйте, как менялось число регистраций в приложении за время его существования.\n",
    "\n",
    "- Агрегируйте исторические данные и рассчитайте число уникальных пользователей и число зарегистрированных пользователей для каждого дня наблюдения. Для простоты считайте, что у пользователя в течение дня бывает одна сессия максимум и статус регистрации в течение одного дня не может измениться.\n",
    "\n",
    "- Постройте линейные графики общего числа пользователей и общего числа зарегистрированных пользователей по дням. Отобразите их на одном графике.\n",
    "\n",
    "- Постройте отдельный линейный график доли зарегистрированных пользователей от всех пользователей по дням.\n",
    "\n",
    "- На обоих графиках должны быть заголовок, подписанные оси X и Y, сетка и легенда."
   ]
  },
  {
   "cell_type": "code",
   "execution_count": 62,
   "metadata": {},
   "outputs": [],
   "source": [
    "import matplotlib.pyplot as plt"
   ]
  },
  {
   "cell_type": "code",
   "execution_count": 63,
   "metadata": {
    "id": "tN_6Ml3EPatS"
   },
   "outputs": [
    {
     "data": {
      "image/png": "[encoded data removed]",
      "text/plain": [
       "<Figure size 640x480 with 1 Axes>"
      ]
     },
     "metadata": {},
     "output_type": "display_data"
    }
   ],
   "source": [
    "df_agg=sessions_history.groupby('session_date').agg({'user_id': 'nunique', 'registration_flag': 'sum'})\\\n",
    "        .rename(columns= {'user_id':'unique_users', 'registration_flag': 'registered_users'})\n",
    "df_agg.plot.line()\n",
    "plt.title('Линейные графики общего числа пользователей и общего числа зарегистрированных пользователей по дням')\n",
    "plt.xlabel('Дата сессии')\n",
    "plt.ylabel('Количество пользователей')\n",
    "plt.legend(loc='upper right')\n",
    "plt.show()"
   ]
  },
  {
   "cell_type": "code",
   "execution_count": 64,
   "metadata": {},
   "outputs": [
    {
     "data": {
      "image/png": "[encoded data removed]",
      "text/plain": [
       "<Figure size 640x480 with 1 Axes>"
      ]
     },
     "metadata": {},
     "output_type": "display_data"
    }
   ],
   "source": [
    "df_agg['share']=df_agg['registered_users']/df_agg['unique_users']\n",
    "df_agg2=df_agg.reset_index()[['session_date', 'share']]\n",
    "df_agg2.plot.line(x='session_date', y='share')\n",
    "plt.title('Доля зарегистрированных пользователей от общего числа уникальных пользователей')\n",
    "plt.xlabel('Дата сессии')\n",
    "plt.ylabel('Доля пользователей')\n",
    "plt.legend(loc='upper left')\n",
    "plt.show()"
   ]
  },
  {
   "cell_type": "markdown",
   "metadata": {
    "id": "UR7D7RhF0eMr"
   },
   "source": [
    "#### 1.4. Анализ числа просмотренных страниц\n",
    "Другая важная метрика продукта — число просмотренных страниц в приложении. Чем больше страниц просмотрено, тем сильнее пользователь увлечён контентом, а значит, выше шансы на то, что он зарегистрируется и оплатит подписку.\n",
    "\n",
    "- Найдите количество сессий для каждого значения количества просмотренных страниц. Например: одну страницу просмотрели в 29160 сессиях, две страницы в 105536 сессиях и так далее.\n",
    "\n",
    "- Постройте столбчатую диаграмму, где по оси X будет число просмотренных страниц, по оси Y — количество сессий.\n",
    "\n",
    "- На диаграмме должны быть заголовок, подписанные оси X и Y."
   ]
  },
  {
   "cell_type": "code",
   "execution_count": 66,
   "metadata": {
    "id": "cb6hPlVzPaSf"
   },
   "outputs": [
    {
     "data": {
      "image/png": "[encoded data removed]",
      "text/plain": [
       "<Figure size 1000x600 with 1 Axes>"
      ]
     },
     "metadata": {},
     "output_type": "display_data"
    }
   ],
   "source": [
    "df_page=sessions_history.groupby('page_counter').agg({'session_id':'count'})\n",
    "df_page.plot(kind='bar', title='Количество просмотренных страниц', \\\n",
    "             legend=False, xlabel='page_counter', ylabel='session_id', rot=0, color='skyblue', figsize=(10,6))\n",
    "for i, v in enumerate(df_page['session_id']):\n",
    "    plt.text(i, v + 0.5, str(v), ha='center')\n",
    "plt.show()"
   ]
  },
  {
   "cell_type": "markdown",
   "metadata": {
    "id": "xDltSpVP0eMr"
   },
   "source": [
    "#### 1.5. Доля пользователей, просмотревших более четырёх страниц\n",
    "Продуктовая команда продукта считает, что сессии, в рамках которых пользователь просмотрел 4 и более страниц, говорят об удовлетворённости контентом и алгоритмами рекомендаций. Этот показатель является важной прокси-метрикой для продукта.\n",
    "\n",
    "- В датафрейме `sessions_history` создайте дополнительный столбец `good_session`. В него войдёт значение `1`, если за одну сессию было просмотрено 4 и более страниц, и значение `0`, если было просмотрено меньше.\n",
    "\n",
    "- Постройте график со средним значением доли успешных сессий ко всем сессиям по дням за весь период наблюдения."
   ]
  },
  {
   "cell_type": "code",
   "execution_count": 68,
   "metadata": {
    "id": "iygaPfixPYMW"
   },
   "outputs": [
    {
     "data": {
      "image/png": "[encoded data removed]",
      "text/plain": [
       "<Figure size 640x480 with 1 Axes>"
      ]
     },
     "metadata": {},
     "output_type": "display_data"
    }
   ],
   "source": [
    "sessions_history['good_session']= sessions_history['page_counter'].apply(lambda x: 1 if x >= 4 else 0)\n",
    "df_sessions=sessions_history.groupby('session_date').agg({'good_session':'mean'}).reset_index()\n",
    "df_sessions.plot.line(x='session_date', y='good_session')\n",
    "plt.title('Доля сессий с просмотром страниц 4 и более')\n",
    "plt.xlabel('Дата сессии')\n",
    "plt.ylabel('Доля сессий с 4 страницами и более')\n",
    "plt.legend(loc='upper left')\n",
    "plt.show()"
   ]
  },
  {
   "cell_type": "markdown",
   "metadata": {
    "id": "21JcG77Y0eMt"
   },
   "source": [
    "### 2. Подготовка к тесту\n",
    "При планировании теста необходимо проделать несколько важных шагов:\n",
    "\n",
    "- Определиться с целевой метрикой.\n",
    "\n",
    "- Рассчитать необходимый размер выборки.\n",
    "\n",
    "- Исходя из текущих значений трафика, рассчитать необходимую длительность проведения теста."
   ]
  },
  {
   "cell_type": "markdown",
   "metadata": {
    "id": "uzaeln270eMt"
   },
   "source": [
    "#### 2.1. Расчёт размера выборки\n",
    "В рамках курса вам уже приходилось рассчитывать размеры выборки, используя онлайн-калькуляторы. В этом задании предлагаем воспользоваться готовым кодом и рассчитать необходимое для вашего дизайна эксперимента количество пользователей.\n",
    "\n",
    "Для этого установите в коде ниже следующие параметры:\n",
    "\n",
    "- Уровень значимости — 0.05.\n",
    "\n",
    "- Вероятность ошибки второго рода — 0.2.\n",
    "\n",
    "- Мощность теста.\n",
    "\n",
    "- Минимальный детектируемый эффект, или MDE, — 3%. Обратите внимание, что здесь нужно указать десятичную дробь, а не процент.\n",
    "\n",
    "При расчёте размера выборки мы будем использовать метод `solve_power()` из класса `power.NormalIndPower` модуля `statsmodels.stats`.\n",
    "\n",
    "Запустите ячейку и изучите полученное значение."
   ]
  },
  {
   "cell_type": "code",
   "execution_count": 71,
   "metadata": {
    "id": "zSxJyPGPNdaI"
   },
   "outputs": [
    {
     "name": "stdout",
     "output_type": "stream",
     "text": [
      "Необходимый размер выборки для каждой группы: 17441\n"
     ]
    }
   ],
   "source": [
    "from statsmodels.stats.power import NormalIndPower\n",
    "\n",
    "# Задаём параметры\n",
    "alpha = 0.05  # Уровень значимости\n",
    "beta = 0.2  # Ошибка второго рода, часто 1 - мощность\n",
    "power = 1 - beta  # Мощность теста\n",
    "mde = 0.03  # Минимальный детектируемый эффект\n",
    "\n",
    "# Инициализируем класс NormalIndPower\n",
    "power_analysis = NormalIndPower()\n",
    "\n",
    "# Рассчитываем размер выборки\n",
    "sample_size = power_analysis.solve_power(\n",
    "    effect_size = mde,\n",
    "    power = power,\n",
    "    alpha = alpha,\n",
    "    ratio = 1 # Равномерное распределение выборок\n",
    ")\n",
    "\n",
    "print(f\"Необходимый размер выборки для каждой группы: {int(sample_size)}\")"
   ]
  },
  {
   "cell_type": "markdown",
   "metadata": {
    "id": "qLEv4RoV0eMu"
   },
   "source": [
    "#### 2.1. Расчёт длительности A/B-теста\n",
    "\n",
    "Используйте данные о количестве пользователей в каждой выборке и среднем количестве пользователей приложения. Рассчитайте длительность теста, разделив одно на другое.\n",
    "\n",
    "- Рассчитайте среднее количество уникальных пользователей приложения в день.\n",
    "\n",
    "- Определите длительность теста, исходя из рассчитанного значения размера выборок и среднего дневного трафика приложения. Количество дней округлите в большую сторону."
   ]
  },
  {
   "cell_type": "code",
   "execution_count": 73,
   "metadata": {
    "id": "KZDRbryDOGHa"
   },
   "outputs": [
    {
     "name": "stdout",
     "output_type": "stream",
     "text": [
      "Рассчитанная длительность A/B-теста при текущем уровене трафика в 9907.363636363636 пользователей в день составит 4 дней\n"
     ]
    }
   ],
   "source": [
    "from math import ceil\n",
    "\n",
    "# Среднее количество пользователей приложения в день по историческим данным\n",
    "df_day=sessions_history.groupby('session_date').agg({'user_id': 'nunique'}).reset_index() \n",
    "avg_daily_users = df_day['user_id'].mean()\n",
    "\n",
    "# Рассчитываем длительность теста в днях как отношение размера выборки к среднему числу пользователей\n",
    "test_duration = ceil(2*sample_size/avg_daily_users)\n",
    "\n",
    "print(f\"Рассчитанная длительность A/B-теста при текущем уровене трафика в {avg_daily_users} пользователей в день составит {test_duration} дней\")"
   ]
  },
  {
   "cell_type": "markdown",
   "metadata": {
    "id": "ZuvtAdha0eMv"
   },
   "source": [
    "### 3. Мониторинг А/В-теста"
   ]
  },
  {
   "cell_type": "markdown",
   "metadata": {
    "id": "jq5sE3Ya0eMv"
   },
   "source": [
    "#### 3.1. Проверка распределения пользователей\n",
    "\n",
    "A/B-тест успешно запущен, и уже доступны данные за первые три дня. На этом этапе нужно убедиться, что всё идёт хорошо: пользователи разделены правильным образом, а интересующие вас метрики корректно считаются.\n",
    "\n",
    "- Считайте и сохраните в датафрейм `sessions_test_part` CSV-файл с историческими данными о сессиях пользователей `sessions_project_test_part.csv`.\n",
    "\n",
    "- Рассчитайте количество уникальных пользователей в каждой из экспериментальных групп для одного дня наблюдения.\n",
    "\n",
    "- Рассчитайте и выведите на экран процентную разницу в количестве пользователей в группах A и B. Постройте любую удобную визуализацию, на которой можно было бы увидеть возможное различие двух групп.\n",
    "\n",
    "Для расчёта процентной разницы воспользуйтесь формулой:\n",
    "$$P = 100 \\cdot  \\frac{|A − B|}{A}$$"
   ]
  },
  {
   "cell_type": "code",
   "execution_count": 88,
   "metadata": {
    "id": "G1bqIzDJOUiz"
   },
   "outputs": [],
   "source": [
    "sessions_test_part=pd.read_csv('https://code.s3.yandex.net/datasets/sessions_project_test_part.csv')"
   ]
  },
  {
   "cell_type": "code",
   "execution_count": 89,
   "metadata": {},
   "outputs": [
    {
     "name": "stdout",
     "output_type": "stream",
     "text": [
      "Процентная разница в количестве пользователей в группах A и B за 2025-10-14 составляет 0.7447528774542993\n"
     ]
    }
   ],
   "source": [
    "df_one=sessions_test_part[sessions_test_part['session_date']=='2025-10-14']\n",
    "df_dif=df_one.groupby('test_group')['user_id'].nunique()\n",
    "percentage_difference=100*abs(df_dif.loc['A']-df_dif.loc['B'])/df_dif.loc['A']\n",
    "print(f\"Процентная разница в количестве пользователей в группах A и B за 2025-10-14 составляет {percentage_difference}\")"
   ]
  },
  {
   "cell_type": "code",
   "execution_count": 90,
   "metadata": {},
   "outputs": [
    {
     "data": {
      "text/html": [
       "<div>\n",
       "<style scoped>\n",
       "    .dataframe tbody tr th:only-of-type {\n",
       "        vertical-align: middle;\n",
       "    }\n",
       "\n",
       "    .dataframe tbody tr th {\n",
       "        vertical-align: top;\n",
       "    }\n",
       "\n",
       "    .dataframe thead th {\n",
       "        text-align: right;\n",
       "    }\n",
       "</style>\n",
       "<table border=\"1\" class=\"dataframe\">\n",
       "  <thead>\n",
       "    <tr style=\"text-align: right;\">\n",
       "      <th></th>\n",
       "      <th>user_id</th>\n",
       "      <th>session_id</th>\n",
       "      <th>session_date</th>\n",
       "      <th>session_start_ts</th>\n",
       "      <th>install_date</th>\n",
       "      <th>session_number</th>\n",
       "      <th>registration_flag</th>\n",
       "      <th>page_counter</th>\n",
       "      <th>region</th>\n",
       "      <th>device</th>\n",
       "      <th>test_group</th>\n",
       "    </tr>\n",
       "  </thead>\n",
       "  <tbody>\n",
       "    <tr>\n",
       "      <th>0</th>\n",
       "      <td>3404844B53442747</td>\n",
       "      <td>B4901323BD537E45</td>\n",
       "      <td>2025-10-14</td>\n",
       "      <td>2025-10-14 19:28:49</td>\n",
       "      <td>2025-10-14</td>\n",
       "      <td>1</td>\n",
       "      <td>0</td>\n",
       "      <td>3</td>\n",
       "      <td>CIS</td>\n",
       "      <td>Android</td>\n",
       "      <td>B</td>\n",
       "    </tr>\n",
       "    <tr>\n",
       "      <th>1</th>\n",
       "      <td>3A2BF4D364E62D89</td>\n",
       "      <td>216FC619308F8788</td>\n",
       "      <td>2025-10-14</td>\n",
       "      <td>2025-10-14 21:11:04</td>\n",
       "      <td>2025-10-14</td>\n",
       "      <td>1</td>\n",
       "      <td>0</td>\n",
       "      <td>3</td>\n",
       "      <td>MENA</td>\n",
       "      <td>iPhone</td>\n",
       "      <td>A</td>\n",
       "    </tr>\n",
       "    <tr>\n",
       "      <th>2</th>\n",
       "      <td>79CDAE11E32B1597</td>\n",
       "      <td>EDFCE4AC1A504074</td>\n",
       "      <td>2025-10-14</td>\n",
       "      <td>2025-10-14 21:44:03</td>\n",
       "      <td>2025-10-14</td>\n",
       "      <td>1</td>\n",
       "      <td>0</td>\n",
       "      <td>3</td>\n",
       "      <td>CIS</td>\n",
       "      <td>iPhone</td>\n",
       "      <td>A</td>\n",
       "    </tr>\n",
       "    <tr>\n",
       "      <th>3</th>\n",
       "      <td>D6AF8D78297A931F</td>\n",
       "      <td>CF0AC0EEDE92C690</td>\n",
       "      <td>2025-10-14</td>\n",
       "      <td>2025-10-14 19:07:55</td>\n",
       "      <td>2025-10-14</td>\n",
       "      <td>1</td>\n",
       "      <td>0</td>\n",
       "      <td>4</td>\n",
       "      <td>CIS</td>\n",
       "      <td>PC</td>\n",
       "      <td>A</td>\n",
       "    </tr>\n",
       "    <tr>\n",
       "      <th>4</th>\n",
       "      <td>37E0CE723AE568E0</td>\n",
       "      <td>2E6ED45E8C86C4E9</td>\n",
       "      <td>2025-10-14</td>\n",
       "      <td>2025-10-14 15:39:44</td>\n",
       "      <td>2025-10-14</td>\n",
       "      <td>1</td>\n",
       "      <td>0</td>\n",
       "      <td>3</td>\n",
       "      <td>CIS</td>\n",
       "      <td>Mac</td>\n",
       "      <td>B</td>\n",
       "    </tr>\n",
       "  </tbody>\n",
       "</table>\n",
       "</div>"
      ],
      "text/plain": [
       "            user_id        session_id session_date     session_start_ts  \\\n",
       "0  3404844B53442747  B4901323BD537E45   2025-10-14  2025-10-14 19:28:49   \n",
       "1  3A2BF4D364E62D89  216FC619308F8788   2025-10-14  2025-10-14 21:11:04   \n",
       "2  79CDAE11E32B1597  EDFCE4AC1A504074   2025-10-14  2025-10-14 21:44:03   \n",
       "3  D6AF8D78297A931F  CF0AC0EEDE92C690   2025-10-14  2025-10-14 19:07:55   \n",
       "4  37E0CE723AE568E0  2E6ED45E8C86C4E9   2025-10-14  2025-10-14 15:39:44   \n",
       "\n",
       "  install_date  session_number  registration_flag  page_counter region  \\\n",
       "0   2025-10-14               1                  0             3    CIS   \n",
       "1   2025-10-14               1                  0             3   MENA   \n",
       "2   2025-10-14               1                  0             3    CIS   \n",
       "3   2025-10-14               1                  0             4    CIS   \n",
       "4   2025-10-14               1                  0             3    CIS   \n",
       "\n",
       "    device test_group  \n",
       "0  Android          B  \n",
       "1   iPhone          A  \n",
       "2   iPhone          A  \n",
       "3       PC          A  \n",
       "4      Mac          B  "
      ]
     },
     "execution_count": 90,
     "metadata": {},
     "output_type": "execute_result"
    }
   ],
   "source": [
    "df_one.head()"
   ]
  },
  {
   "cell_type": "code",
   "execution_count": 91,
   "metadata": {},
   "outputs": [
    {
     "data": {
      "image/png": "[encoded data removed]",
      "text/plain": [
       "<Figure size 800x600 with 1 Axes>"
      ]
     },
     "metadata": {},
     "output_type": "display_data"
    }
   ],
   "source": [
    "# Строим гистограмму\n",
    "plt.figure(figsize=(8, 6))\n",
    "plt.hist([df_one.loc[df_one['test_group'] == 'A', 'page_counter'], df_one.loc[df_one['test_group'] == 'B', 'page_counter']],\n",
    "         label=['Group A', 'Group B'], color=['blue', 'orange'])\n",
    "plt.legend()\n",
    "plt.title('Количество просмотренных страниц по группам')\n",
    "plt.xlabel('Количество страниц')\n",
    "plt.ylabel('Частота')\n",
    "plt.grid(True)\n",
    "plt.show()"
   ]
  },
  {
   "cell_type": "markdown",
   "metadata": {
    "id": "sgpNY5bv0eM0"
   },
   "source": [
    "#### 3.2. Проверка пересечений пользователей\n",
    "Помимо проверки равенства количества пользователей в группах полезно убедиться в том, что группы независимы. Для этого нужно убедиться, что никто из пользователей случайно не попал в обе группы одновременно.\n",
    "\n",
    "- Рассчитайте количество пользователей, которые встречаются одновременно в группах A и B, или убедитесь, что таких нет."
   ]
  },
  {
   "cell_type": "code",
   "execution_count": 93,
   "metadata": {},
   "outputs": [],
   "source": [
    "df_A=df_one[df_one['test_group']=='A']\n",
    "df_B=df_one[df_one['test_group']=='B']"
   ]
  },
  {
   "cell_type": "code",
   "execution_count": 94,
   "metadata": {
    "id": "E72ozN9FOX1u"
   },
   "outputs": [
    {
     "name": "stdout",
     "output_type": "stream",
     "text": [
      "Количество пользователей в пересечении: 0\n"
     ]
    }
   ],
   "source": [
    "# Нахождение пересечения по user_id\n",
    "intersection = pd.merge(df_A, df_B, on='user_id', how='inner')\n",
    "\n",
    "# Вывод результата\n",
    "print(\"Количество пользователей в пересечении:\", len(intersection))"
   ]
  },
  {
   "cell_type": "markdown",
   "metadata": {
    "id": "6RvkNLrg0eM1"
   },
   "source": [
    "#### 3.3. Равномерность разделения пользователей по устройствам\n",
    "Полезно также убедиться в том, что пользователи равномерно распределены по всем доступным категориальным переменным — типам устройства и регионам.\n",
    "\n",
    "Постройте две диаграммы:\n",
    "\n",
    "- доля каждого типа устройства для пользователей из группы A,\n",
    "\n",
    "- доля каждого типа устройства для пользователей из группы B.\n",
    "\n",
    "Постарайтесь добавить на диаграммы все необходимые подписи, пояснения и заголовки, которые позволят сделать вывод о том, совпадает ли распределение устройств в группах A и B.\n"
   ]
  },
  {
   "cell_type": "code",
   "execution_count": 96,
   "metadata": {
    "id": "x_IP6PUNPWHC"
   },
   "outputs": [
    {
     "data": {
      "image/png": "[encoded data removed]",
      "text/plain": [
       "<Figure size 800x600 with 1 Axes>"
      ]
     },
     "metadata": {},
     "output_type": "display_data"
    }
   ],
   "source": [
    "# Подсчет количества каждого типа устройств для группы А\n",
    "device_counts_A = df_A.groupby('device').agg({'user_id':'nunique'}).reset_index()\n",
    "y_A=device_counts_A['user_id']\n",
    "mylabel_A=device_counts_A['device']\n",
    "# Построение круговой диаграммы\n",
    "plt.figure(figsize=(8, 6))\n",
    "plt.pie(y_A, labels=mylabel_A, autopct='%1.1f%%')\n",
    "plt.title('Распределение типов устройств среди пользователей группы А')\n",
    "plt.show()"
   ]
  },
  {
   "cell_type": "code",
   "execution_count": 97,
   "metadata": {},
   "outputs": [
    {
     "data": {
      "image/png": "[encoded data removed]",
      "text/plain": [
       "<Figure size 800x600 with 1 Axes>"
      ]
     },
     "metadata": {},
     "output_type": "display_data"
    }
   ],
   "source": [
    "# Подсчет количества каждого типа устройств для группы А\n",
    "device_counts_B = df_B.groupby('device').agg({'user_id':'nunique'}).reset_index()\n",
    "y_B=device_counts_B['user_id']\n",
    "mylabel_B=device_counts_B['device']\n",
    "\n",
    "# Построение круговой диаграммы\n",
    "plt.figure(figsize=(8, 6))\n",
    "plt.pie(y_B, labels=mylabel_B, autopct='%1.1f%%')\n",
    "plt.title('Распределение типов устройств среди пользователей группы B')\n",
    "plt.show()"
   ]
  },
  {
   "cell_type": "markdown",
   "metadata": {
    "id": "gAgmP6vo0eM1"
   },
   "source": [
    "#### 3.4. Равномерность распределения пользователей по регионам\n",
    "Теперь убедитесь, что пользователи равномерно распределены по регионам.\n",
    "\n",
    "Постройте две диаграммы:\n",
    "\n",
    "- доля каждого региона для пользователей из группы A,\n",
    "\n",
    "- доля каждого региона для пользователей из группы B.\n",
    "\n",
    "Постарайтесь добавить на диаграммы все необходимые подписи, пояснения и заголовки, которые позволят сделать вывод о том, совпадает ли распределение регионов в группах A и B. Постарайтесь использовать другой тип диаграммы, не тот, что в прошлом задании.\n"
   ]
  },
  {
   "cell_type": "code",
   "execution_count": 99,
   "metadata": {},
   "outputs": [
    {
     "data": {
      "image/png": "[encoded data removed]",
      "text/plain": [
       "<Figure size 1000x600 with 1 Axes>"
      ]
     },
     "metadata": {},
     "output_type": "display_data"
    }
   ],
   "source": [
    "# Подсчет количества каждого типа устройств для группы А\n",
    "region_counts_A = df_A.groupby('region').agg({'user_id':'nunique'}).reset_index()\n",
    "yr_A=region_counts_A['user_id']\n",
    "myregion_A=region_counts_A['region']\n",
    "\n",
    "# Построение круговой диаграммы\n",
    "plt.figure(figsize=(10, 6))\n",
    "plt.pie(yr_A, labels=myregion_A, autopct='%1.1f%%')\n",
    "plt.title('Распределение по регионам среди пользователей группы А')\n",
    "plt.show()"
   ]
  },
  {
   "cell_type": "code",
   "execution_count": 100,
   "metadata": {},
   "outputs": [
    {
     "data": {
      "image/png": "[encoded data removed]",
      "text/plain": [
       "<Figure size 800x600 with 1 Axes>"
      ]
     },
     "metadata": {},
     "output_type": "display_data"
    }
   ],
   "source": [
    "# Подсчет количества каждого типа устройств для группы B\n",
    "region_counts_B = df_B.groupby('region').agg({'user_id':'nunique'}).reset_index()\n",
    "yr_B=region_counts_B['user_id']\n",
    "myregion_B=region_counts_B['region']\n",
    "\n",
    "# Построение круговой диаграммы\n",
    "plt.figure(figsize=(8, 6))\n",
    "plt.pie(yr_B, labels=myregion_B, autopct='%1.1f%%')\n",
    "plt.title('Распределение по регионам среди пользователей группы B')\n",
    "plt.show()"
   ]
  },
  {
   "cell_type": "code",
   "execution_count": 101,
   "metadata": {},
   "outputs": [],
   "source": [
    "#датасет для объединенной диаграммы\n",
    "df=df_one.pivot_table(index='region', columns='test_group', values='user_id', aggfunc='nunique').reset_index()"
   ]
  },
  {
   "cell_type": "code",
   "execution_count": 102,
   "metadata": {},
   "outputs": [
    {
     "data": {
      "text/plain": [
       "<Figure size 1600x1200 with 0 Axes>"
      ]
     },
     "metadata": {},
     "output_type": "display_data"
    },
    {
     "data": {
      "image/png": "[encoded data removed]",
      "text/plain": [
       "<Figure size 640x480 with 1 Axes>"
      ]
     },
     "metadata": {},
     "output_type": "display_data"
    }
   ],
   "source": [
    "# Строим столбчатую диаграмму\n",
    "plt.figure(figsize=(16, 12))\n",
    "df.plot(kind='bar', x='region', y=['A', 'B'])\n",
    "\n",
    "# Добавляем подписи к осям и заголовок\n",
    "plt.xlabel('Регион')\n",
    "plt.ylabel('Количество уникальных пользователей')\n",
    "plt.title('Распределение пользователей в тестовой и контрольной группе')\n",
    "\n",
    "# Показываем график\n",
    "\n",
    "plt.xticks(rotation=45)\n",
    "plt.legend(title='test_group')\n",
    "plt.show()"
   ]
  },
  {
   "cell_type": "markdown",
   "metadata": {
    "id": "X2WSZ-sDrSUi"
   },
   "source": [
    "#### 3.5. Вывод после проверки A/B-теста\n",
    "\n",
    "На основе проведённого анализа A/B-теста сформулируйте и запишите свои выводы. В выводе обязательно укажите:\n",
    "\n",
    "- Были ли обнаружено различие в количестве пользователей в двух группах.\n",
    "\n",
    "- Являются ли выборки независимыми. Было ли обнаружено пересечение пользователей из тестовой и контрольной групп.\n",
    "\n",
    "- Сохраняется ли равномерное распределение пользователей тестовой и контрольной групп по категориальным переменным: устройствам и регионам.\n",
    "\n",
    "Сделайте заключение о том, корректно ли проходит A/B-тест или наблюдаются какие-либо нарушения."
   ]
  },
  {
   "cell_type": "markdown",
   "metadata": {},
   "source": [
    "***Промежуточные выводы***:\n",
    "- Было обнаружно различие в количестве пользователей в 0,74%\n",
    "- Выборки являются независимыми, так как пересечения не обнаружено\n",
    "- По пай-чартам можно сказать, что по устройствам и регионам группы достаточно похожи\n",
    "- Говоря о том, что различия в количестве пользователей незначительны, выборки независимы можно удтверждать, что А/В тест проходит корректно "
   ]
  },
  {
   "cell_type": "markdown",
   "metadata": {
    "id": "nudRr_BQ0eM2"
   },
   "source": [
    "### 4. Проверка результатов A/B-теста\n",
    "\n",
    "A/B-тест завершён, и у вас есть результаты за все дни проведения эксперимента. Необходимо убедиться в корректности теста и верно интерпретировать результаты."
   ]
  },
  {
   "cell_type": "markdown",
   "metadata": {
    "id": "JVve-YBB0eM2"
   },
   "source": [
    "#### 4.1. Получение результатов теста и подсчёт основной метрики\n",
    "\n",
    "- Считайте и сохраните в датафрейм `sessions_test` CSV-файл с историческими данными о сессиях пользователей `sessions_project_test.csv`.\n",
    "\n",
    "- В датафрейме `sessions_test` создайте дополнительный столбец `good_session`. В него войдёт значение `1`, если за одну сессию было просмотрено 4 и более страниц, и значение `0`, если просмотрено меньше."
   ]
  },
  {
   "cell_type": "code",
   "execution_count": 110,
   "metadata": {
    "id": "EqRlwMtKPTir"
   },
   "outputs": [],
   "source": [
    "sessions_test=pd.read_csv('https://code.s3.yandex.net/datasets/sessions_project_test.csv')\n",
    "sessions_test['good_session']= sessions_test['page_counter'].apply(lambda x: 1 if x >= 4 else 0)"
   ]
  },
  {
   "cell_type": "markdown",
   "metadata": {
    "id": "aeYhrMYy0eM2"
   },
   "source": [
    "#### 4.2. Проверка корректности результатов теста\n",
    "\n",
    "Прежде чем приступать к анализу ключевых продуктовых метрик, необходимо убедиться, что тест проведён корректно и вы будете сравнивать две сопоставимые группы.\n",
    "\n",
    "- Рассчитайте количество уникальных сессий для каждого дня и обеих тестовых групп, используя группировку.\n",
    "\n",
    "- Проверьте, что количество уникальных дневных сессий в двух выборках не различается или различия не статистически значимы. Используйте статистический тест, который позволит сделать вывод о равенстве средних двух выборок.\n",
    "\n",
    "- В качестве ответа выведите на экран полученное значение p-value и интерпретируйте его."
   ]
  },
  {
   "cell_type": "code",
   "execution_count": 113,
   "metadata": {
    "id": "5NUlcltkTTSU"
   },
   "outputs": [],
   "source": [
    "# Группируем данные по date и group, считаем уникальные session_id\n",
    "df_exp = sessions_test.groupby(['session_date', 'test_group'])['session_id'].nunique().reset_index(name='unique_sessions')"
   ]
  },
  {
   "cell_type": "code",
   "execution_count": 114,
   "metadata": {},
   "outputs": [],
   "source": [
    "from scipy.stats import ttest_ind"
   ]
  },
  {
   "cell_type": "markdown",
   "metadata": {},
   "source": [
    "***Гипотеза***<br>\n",
    "H₀ (нулевая гипотеза) — количество уникальных дневных сессий не различается между тестовой и контрольной группами. <br>\n",
    "H₁ (альтернативная гипотеза) — количество уникальных дневных сессий различается между тестовой и контрольной группами."
   ]
  },
  {
   "cell_type": "code",
   "execution_count": 116,
   "metadata": {},
   "outputs": [
    {
     "data": {
      "image/png": "[encoded data removed]",
      "text/plain": [
       "<Figure size 1200x600 with 1 Axes>"
      ]
     },
     "metadata": {},
     "output_type": "display_data"
    }
   ],
   "source": [
    "aggregated_data_a=df_exp[df_exp['test_group']=='A']\n",
    "aggregated_data_b=df_exp[df_exp['test_group']=='B']\n",
    "# Построение линейной диаграммы\n",
    "plt.figure(figsize=(12, 6))\n",
    "\n",
    "# Линия для группы A\n",
    "plt.plot(aggregated_data_a['session_date'], aggregated_data_a['unique_sessions'], label='Группа A', marker='o')\n",
    "\n",
    "# Линия для группы B\n",
    "plt.plot(aggregated_data_b['session_date'], aggregated_data_b['unique_sessions'], label='Группа B', marker='o')\n",
    "\n",
    "# Настройки графика\n",
    "plt.title('Количество уникальных сессий по дням', fontsize=14)\n",
    "plt.xlabel('Дата', fontsize=12)\n",
    "plt.ylabel('Количество уникальных сессий', fontsize=12)\n",
    "plt.legend(title='Группы', fontsize=10)\n",
    "plt.grid(axis='y', linestyle='--', alpha=0.7)\n",
    "plt.xticks(rotation=45)\n",
    "plt.tight_layout()\n",
    "\n",
    "# Показ графика\n",
    "plt.show()"
   ]
  },
  {
   "cell_type": "code",
   "execution_count": 117,
   "metadata": {},
   "outputs": [
    {
     "name": "stdout",
     "output_type": "stream",
     "text": [
      "p-value теста Стьюдента = 0.94\n",
      "Нулевая гипотеза находит подтверждение! Выборочные средние в группах A и B равны\n",
      "Интерпретация: новый алгоритм рекомендаций не увеличил количество уникальных сессий\n"
     ]
    }
   ],
   "source": [
    "metric_a = df_exp[df_exp.test_group=='A']['unique_sessions'] ## выборка целевой метрики для группы A\n",
    "metric_b = df_exp[df_exp.test_group=='B']['unique_sessions'] ## выборка целевой метрики для группы B\n",
    "\n",
    "alpha = 0.05 ## на каком уровне значимости проверяем гипотезу о равенстве выборочных средних\n",
    "stat_ttest, p_value_ttest = ttest_ind(\n",
    "    metric_a, \n",
    "    metric_b, \n",
    "    alternative='two-sided' ## поскольку альтернативная гипотеза о том, что выборочное среднее первой выборки(metric_a) не равно второй выборки\n",
    ") ## применяем тест Стьюдента (классический T-test)\n",
    "\n",
    "if p_value_ttest>alpha:\n",
    "    print(f'p-value теста Стьюдента = {round(p_value_ttest, 2)}')\n",
    "    print('Нулевая гипотеза находит подтверждение! Выборочные средние в группах A и B равны')\n",
    "    print('Интерпретация: новый алгоритм рекомендаций не увеличил количество уникальных сессий')\n",
    "else:\n",
    "    print(f'p-value теста Стьюдента ={round(p_value_ttest, 2)}')\n",
    "    print('Нулевая гипотеза не находит подтверждения! Выборочные средние в группах A и B не равны, и в группе B больше')\n",
    "    print('Интерпретация: новый алгоритм рекомендаций увеличил количество уникальных сессий')"
   ]
  },
  {
   "cell_type": "markdown",
   "metadata": {
    "id": "7kwRxzg70eM3"
   },
   "source": [
    "#### 4.3. Сравнение доли успешных сессий\n",
    "\n",
    "Когда вы убедились, что количество сессий в обеих выборках не различалось, можно переходить к анализу ключевой метрики — доли успешных сессий.\n",
    "\n",
    "Используйте созданный на первом шаге задания столбец `good_session` и рассчитайте долю успешных сессий для выборок A и B, а также разницу в этом показателе. Полученный вывод отобразите на экране."
   ]
  },
  {
   "cell_type": "code",
   "execution_count": 119,
   "metadata": {
    "id": "Uku-V1CpPRCz"
   },
   "outputs": [],
   "source": [
    "n_a = sessions_test[ # посчитайте размер группы A\n",
    "   sessions_test.test_group=='A'\n",
    "].shape[0] \n",
    "\n",
    "n_b = sessions_test[ # посчитайте размер группы B\n",
    "    sessions_test.test_group=='B'\n",
    "].shape[0]\n",
    "\n",
    "m_a = sessions_test[ # посчитайте кол-во успехов в группе A\n",
    "    (sessions_test.test_group=='A')&(sessions_test.good_session==1)\n",
    "].shape[0] \n",
    "\n",
    "m_b = sessions_test[ # посчитайте количество успехов в группе B\n",
    "     (sessions_test.test_group=='B')&(sessions_test.good_session==1)\n",
    "].shape[0]\n",
    "\n",
    "p_a, p_b = m_a/n_a, m_b/n_b # посчитайте доли успехов для каждой группы: A и B\n",
    "dif=p_b-p_a"
   ]
  },
  {
   "cell_type": "code",
   "execution_count": 120,
   "metadata": {},
   "outputs": [
    {
     "name": "stdout",
     "output_type": "stream",
     "text": [
      "Доля успешных сессий в группе A = 0.308\n",
      "Доля успешных сессий в группе B = 0.318\n",
      "Разница составляет 0.011\n"
     ]
    }
   ],
   "source": [
    "#Сравненние доли успешых сессий\n",
    "print(f'Доля успешных сессий в группе A = {round(p_a,3)}')\n",
    "print(f'Доля успешных сессий в группе B = {round(p_b,3)}')\n",
    "print(f'Разница составляет {round(dif,3)}')\n"
   ]
  },
  {
   "cell_type": "markdown",
   "metadata": {
    "id": "9fMFuja10eM4"
   },
   "source": [
    "#### 4.4. Насколько статистически значимо изменение ключевой метрики\n",
    "\n",
    "На предыдущем шаге вы убедились, что количество успешных сессий в тестовой выборке примерно на 1.1% выше, чем в контрольной, но делать выводы только на основе этого значения будет некорректно. Для принятия решения всегда необходимо отвечать на вопрос: является ли это изменение статистически значимым.\n",
    "\n",
    "- Используя статистический тест, рассчитайте, является ли изменение в метрике доли успешных сессий статистически значимым.\n",
    "\n",
    "- Выведите на экран полученное значение p-value и свои выводы о статистической значимости. Напомним, что уровень значимости в эксперименте был выбран на уровне 0.05."
   ]
  },
  {
   "cell_type": "code",
   "execution_count": 122,
   "metadata": {},
   "outputs": [],
   "source": [
    "from statsmodels.stats.proportion import proportions_ztest"
   ]
  },
  {
   "cell_type": "markdown",
   "metadata": {
    "id": "GnJrkY9Q63zS"
   },
   "source": [
    "#### 4.5. Вывод по результатам A/B-эксперимента\n",
    "\n",
    "На основе проведённого анализа результатов теста сформулируйте и запишите свои выводы для команды разработки приложения. В выводе обязательно укажите:\n",
    "\n",
    "- Характеристики проведённого эксперимента, количество задействованных пользователей и длительность эксперимента.\n",
    "\n",
    "- Повлияло ли внедрение нового алгоритма рекомендаций на рост ключевой метрики и как.\n",
    "\n",
    "- Каким получилось значение p-value для оценки статистической значимости выявленного эффекта.\n",
    "\n",
    "- Стоит ли внедрять новоовведение в приложение."
   ]
  },
  {
   "cell_type": "markdown",
   "metadata": {},
   "source": [
    "***Гипотеза***<br>\n",
    "H₀ (нулевая гипотеза) — вероятности успеха в тестовой и контрольной группе одинаковы <br>\n",
    "H₁ (альтернативная гипотеза) — вероятность успеха в тестовой группе выше, чем в контрольной группе."
   ]
  },
  {
   "cell_type": "code",
   "execution_count": 125,
   "metadata": {
    "id": "gFvhRGwlPLS0"
   },
   "outputs": [
    {
     "name": "stdout",
     "output_type": "stream",
     "text": [
      "pvalue=0.0001574739988036123\n",
      "Нулевая гипотеза не находит подтверждения!\n",
      "Интерпретация: новый алгоритм рекомендаций увеличил ключевую метрику — долю успешных сессий\n"
     ]
    }
   ],
   "source": [
    "alpha = 0.05  ## установите уровень значимости\n",
    "\n",
    "stat_ztest, p_value_ztest = proportions_ztest( # проведите Z-тест пропорций\n",
    "    [m_a, m_b],\n",
    "    [n_a, n_b],\n",
    "    alternative='smaller'\n",
    ")\n",
    "\n",
    "print(f'pvalue={p_value_ztest}') # выведите полученное p-value \n",
    "\n",
    "if p_value_ztest > alpha:\n",
    "    print('Нулевая гипотеза находит подтверждение!')\n",
    "    print('Интерпретация: новый алгоритм рекомендаций не увеличил ключевую метрику — долю успешных сессий')\n",
    "else:\n",
    "    print('Нулевая гипотеза не находит подтверждения!')\n",
    "    print('Интерпретация: новый алгоритм рекомендаций увеличил ключевую метрику — долю успешных сессий')"
   ]
  },
  {
   "cell_type": "markdown",
   "metadata": {},
   "source": [
    "***Выводы***:\n",
    "- В эксперименте было задействовано 100 005 пользователей, эксперимент продолжался 20 дней\n",
    "- Внедрение нового алгоритма привело к росту ключевой метрики. Изменение в метрике доли успешных сессий статистически значимо, то есть тестируемое изменение оказывает влияние.\n",
    "- p-value получилось равным 0.00015\n",
    "- Нововведение можно внедрять, так как оно оказало статистически значимый эффект на ключевую метрику"
   ]
  },
  {
   "cell_type": "code",
   "execution_count": null,
   "metadata": {},
   "outputs": [],
   "source": []
  }
 ],
 "metadata": {
  "ExecuteTimeLog": [
   {
    "duration": 615,
    "start_time": "2025-03-27T11:38:49.996Z"
   },
   {
    "duration": 1071,
    "start_time": "2025-03-27T11:39:22.987Z"
   },
   {
    "duration": 595,
    "start_time": "2025-03-27T11:49:27.417Z"
   },
   {
    "duration": 627,
    "start_time": "2025-03-27T11:50:10.808Z"
   },
   {
    "duration": 539,
    "start_time": "2025-03-27T11:50:22.947Z"
   },
   {
    "duration": 1141,
    "start_time": "2025-03-27T11:54:33.162Z"
   },
   {
    "duration": 1247,
    "start_time": "2025-03-27T11:55:10.632Z"
   },
   {
    "duration": 1084,
    "start_time": "2025-03-27T11:56:02.930Z"
   },
   {
    "duration": 41,
    "start_time": "2025-03-27T11:57:27.227Z"
   },
   {
    "duration": 612,
    "start_time": "2025-03-27T11:58:11.690Z"
   },
   {
    "duration": 580,
    "start_time": "2025-03-27T11:58:18.339Z"
   },
   {
    "duration": 8,
    "start_time": "2025-03-27T12:09:10.415Z"
   },
   {
    "duration": 145,
    "start_time": "2025-03-27T12:09:47.271Z"
   },
   {
    "duration": 717,
    "start_time": "2025-03-27T12:17:36.684Z"
   },
   {
    "duration": 3,
    "start_time": "2025-03-27T12:18:35.573Z"
   },
   {
    "duration": 319,
    "start_time": "2025-03-27T12:18:38.290Z"
   },
   {
    "duration": 2,
    "start_time": "2025-03-27T12:20:16.364Z"
   },
   {
    "duration": 353,
    "start_time": "2025-03-27T12:20:17.308Z"
   },
   {
    "duration": 345,
    "start_time": "2025-03-27T12:20:40.693Z"
   },
   {
    "duration": 98,
    "start_time": "2025-03-27T12:25:15.567Z"
   },
   {
    "duration": 452,
    "start_time": "2025-03-27T12:26:06.711Z"
   },
   {
    "duration": 307,
    "start_time": "2025-03-27T12:26:27.679Z"
   },
   {
    "duration": 326,
    "start_time": "2025-03-27T12:29:17.537Z"
   },
   {
    "duration": 8,
    "start_time": "2025-03-27T12:33:52.826Z"
   },
   {
    "duration": 16,
    "start_time": "2025-03-27T12:34:10.898Z"
   },
   {
    "duration": 2253,
    "start_time": "2025-03-27T12:34:23.434Z"
   },
   {
    "duration": 12,
    "start_time": "2025-03-27T12:35:20.130Z"
   },
   {
    "duration": 1617,
    "start_time": "2025-03-27T12:37:09.253Z"
   },
   {
    "duration": 1487,
    "start_time": "2025-03-27T12:37:52.451Z"
   },
   {
    "duration": 1342,
    "start_time": "2025-03-27T12:38:52.907Z"
   },
   {
    "duration": 147,
    "start_time": "2025-03-27T12:40:19.749Z"
   },
   {
    "duration": 147,
    "start_time": "2025-03-27T12:42:01.118Z"
   },
   {
    "duration": 176,
    "start_time": "2025-03-27T12:42:21.206Z"
   },
   {
    "duration": 193,
    "start_time": "2025-03-27T12:53:10.771Z"
   },
   {
    "duration": 239,
    "start_time": "2025-03-27T12:57:37.725Z"
   },
   {
    "duration": 167,
    "start_time": "2025-03-27T12:57:49.756Z"
   },
   {
    "duration": 174,
    "start_time": "2025-03-27T12:57:59.684Z"
   },
   {
    "duration": 194,
    "start_time": "2025-03-27T13:01:05.814Z"
   },
   {
    "duration": 9,
    "start_time": "2025-03-27T13:14:21.531Z"
   },
   {
    "duration": 1591,
    "start_time": "2025-03-27T13:14:52.259Z"
   },
   {
    "duration": 328,
    "start_time": "2025-03-27T13:16:08.644Z"
   },
   {
    "duration": 1399,
    "start_time": "2025-03-28T06:57:46.218Z"
   },
   {
    "duration": 560,
    "start_time": "2025-03-28T06:57:47.620Z"
   },
   {
    "duration": 562,
    "start_time": "2025-03-28T06:57:48.182Z"
   },
   {
    "duration": 439,
    "start_time": "2025-03-28T06:57:48.746Z"
   },
   {
    "duration": 370,
    "start_time": "2025-03-28T06:57:49.187Z"
   },
   {
    "duration": 159,
    "start_time": "2025-03-28T06:57:49.559Z"
   },
   {
    "duration": 203,
    "start_time": "2025-03-28T06:57:49.720Z"
   },
   {
    "duration": 348,
    "start_time": "2025-03-28T06:57:49.924Z"
   },
   {
    "duration": 454,
    "start_time": "2025-03-28T06:59:18.666Z"
   },
   {
    "duration": 96,
    "start_time": "2025-03-28T07:13:06.646Z"
   },
   {
    "duration": 174,
    "start_time": "2025-03-28T07:15:56.347Z"
   },
   {
    "duration": 39,
    "start_time": "2025-03-28T07:21:29.674Z"
   },
   {
    "duration": 21,
    "start_time": "2025-03-28T07:21:59.391Z"
   },
   {
    "duration": 11,
    "start_time": "2025-03-28T07:23:12.389Z"
   },
   {
    "duration": 6,
    "start_time": "2025-03-28T07:26:02.662Z"
   },
   {
    "duration": 5,
    "start_time": "2025-03-28T07:26:24.282Z"
   },
   {
    "duration": 10,
    "start_time": "2025-03-28T07:29:36.088Z"
   },
   {
    "duration": 10,
    "start_time": "2025-03-28T07:30:42.703Z"
   },
   {
    "duration": 18,
    "start_time": "2025-03-28T07:31:28.953Z"
   },
   {
    "duration": 8,
    "start_time": "2025-03-28T07:32:16.840Z"
   },
   {
    "duration": 14,
    "start_time": "2025-03-28T07:38:43.629Z"
   },
   {
    "duration": 8,
    "start_time": "2025-03-28T07:41:28.030Z"
   },
   {
    "duration": 4,
    "start_time": "2025-03-28T07:42:42.982Z"
   },
   {
    "duration": 11,
    "start_time": "2025-03-28T07:45:02.432Z"
   },
   {
    "duration": 17,
    "start_time": "2025-03-28T07:45:08.918Z"
   },
   {
    "duration": 7,
    "start_time": "2025-03-28T07:47:21.919Z"
   },
   {
    "duration": 11,
    "start_time": "2025-03-28T07:52:02.451Z"
   },
   {
    "duration": 8,
    "start_time": "2025-03-28T07:53:53.963Z"
   },
   {
    "duration": 6,
    "start_time": "2025-03-28T07:55:44.180Z"
   },
   {
    "duration": 10,
    "start_time": "2025-03-28T08:04:28.222Z"
   },
   {
    "duration": 105,
    "start_time": "2025-03-28T08:04:35.974Z"
   },
   {
    "duration": 4,
    "start_time": "2025-03-28T08:05:36.713Z"
   },
   {
    "duration": 99,
    "start_time": "2025-03-28T08:06:15.784Z"
   },
   {
    "duration": 1704,
    "start_time": "2025-03-28T08:10:18.753Z"
   },
   {
    "duration": 95,
    "start_time": "2025-03-28T08:10:39.209Z"
   },
   {
    "duration": 9,
    "start_time": "2025-03-28T08:11:25.913Z"
   },
   {
    "duration": 92,
    "start_time": "2025-03-28T08:12:01.946Z"
   },
   {
    "duration": 9,
    "start_time": "2025-03-28T08:12:02.963Z"
   },
   {
    "duration": 8,
    "start_time": "2025-03-28T08:12:38.122Z"
   },
   {
    "duration": 6,
    "start_time": "2025-03-28T08:13:10.442Z"
   },
   {
    "duration": 155,
    "start_time": "2025-03-28T08:13:12.875Z"
   },
   {
    "duration": 8,
    "start_time": "2025-03-28T08:13:13.771Z"
   },
   {
    "duration": 981,
    "start_time": "2025-03-28T08:19:41.542Z"
   },
   {
    "duration": 522,
    "start_time": "2025-03-28T08:19:42.525Z"
   },
   {
    "duration": 506,
    "start_time": "2025-03-28T08:19:43.049Z"
   },
   {
    "duration": 10,
    "start_time": "2025-03-28T08:19:43.557Z"
   },
   {
    "duration": 307,
    "start_time": "2025-03-28T08:19:43.569Z"
   },
   {
    "duration": 158,
    "start_time": "2025-03-28T08:19:43.877Z"
   },
   {
    "duration": 196,
    "start_time": "2025-03-28T08:19:44.037Z"
   },
   {
    "duration": 287,
    "start_time": "2025-03-28T08:19:44.235Z"
   },
   {
    "duration": 16,
    "start_time": "2025-03-28T08:19:44.523Z"
   },
   {
    "duration": 161,
    "start_time": "2025-03-28T08:19:44.541Z"
   },
   {
    "duration": 19,
    "start_time": "2025-03-28T08:19:44.704Z"
   },
   {
    "duration": 11,
    "start_time": "2025-03-28T08:19:44.724Z"
   },
   {
    "duration": 11,
    "start_time": "2025-03-28T08:19:44.737Z"
   },
   {
    "duration": 27,
    "start_time": "2025-03-28T08:19:44.749Z"
   },
   {
    "duration": 6,
    "start_time": "2025-03-28T08:19:44.778Z"
   },
   {
    "duration": 5,
    "start_time": "2025-03-28T08:19:44.785Z"
   },
   {
    "duration": 108,
    "start_time": "2025-03-28T08:19:44.792Z"
   },
   {
    "duration": 9,
    "start_time": "2025-03-28T08:19:44.901Z"
   },
   {
    "duration": 8,
    "start_time": "2025-03-28T08:25:25.295Z"
   },
   {
    "duration": 8,
    "start_time": "2025-03-28T08:25:46.056Z"
   },
   {
    "duration": 10,
    "start_time": "2025-03-28T08:27:57.033Z"
   },
   {
    "duration": 84,
    "start_time": "2025-03-28T08:28:51.977Z"
   },
   {
    "duration": 97,
    "start_time": "2025-03-28T08:29:21.449Z"
   },
   {
    "duration": 84,
    "start_time": "2025-03-28T08:29:25.122Z"
   },
   {
    "duration": 9,
    "start_time": "2025-03-28T08:30:46.426Z"
   },
   {
    "duration": 11,
    "start_time": "2025-03-28T08:31:28.515Z"
   },
   {
    "duration": 5,
    "start_time": "2025-03-28T08:31:48.005Z"
   },
   {
    "duration": 91,
    "start_time": "2025-03-28T08:31:48.666Z"
   },
   {
    "duration": 84,
    "start_time": "2025-03-28T08:31:49.436Z"
   },
   {
    "duration": 152,
    "start_time": "2025-03-28T08:31:50.115Z"
   },
   {
    "duration": 10,
    "start_time": "2025-03-28T08:31:50.876Z"
   },
   {
    "duration": 80,
    "start_time": "2025-03-28T08:32:27.652Z"
   },
   {
    "duration": 93,
    "start_time": "2025-03-28T08:33:24.691Z"
   },
   {
    "duration": 84,
    "start_time": "2025-03-28T08:46:48.651Z"
   },
   {
    "duration": 84,
    "start_time": "2025-03-28T08:46:49.401Z"
   },
   {
    "duration": 9,
    "start_time": "2025-03-28T08:48:45.274Z"
   },
   {
    "duration": 9,
    "start_time": "2025-03-28T08:54:52.252Z"
   },
   {
    "duration": 9,
    "start_time": "2025-03-28T08:55:06.837Z"
   },
   {
    "duration": 7,
    "start_time": "2025-03-28T09:00:42.046Z"
   },
   {
    "duration": 15,
    "start_time": "2025-03-28T09:25:29.397Z"
   },
   {
    "duration": 11,
    "start_time": "2025-03-28T09:28:28.557Z"
   },
   {
    "duration": 9,
    "start_time": "2025-03-28T09:29:03.445Z"
   },
   {
    "duration": 17,
    "start_time": "2025-03-28T09:38:03.209Z"
   },
   {
    "duration": 1986,
    "start_time": "2025-03-28T09:41:45.676Z"
   },
   {
    "duration": 12,
    "start_time": "2025-03-28T09:42:26.539Z"
   },
   {
    "duration": 181,
    "start_time": "2025-03-28T09:42:48.123Z"
   },
   {
    "duration": 64,
    "start_time": "2025-03-28T09:51:58.848Z"
   },
   {
    "duration": 249,
    "start_time": "2025-03-28T09:52:29.936Z"
   },
   {
    "duration": 10,
    "start_time": "2025-03-28T09:56:51.898Z"
   },
   {
    "duration": 13,
    "start_time": "2025-03-28T09:56:58.408Z"
   },
   {
    "duration": 41,
    "start_time": "2025-03-28T09:57:22.441Z"
   },
   {
    "duration": 40,
    "start_time": "2025-03-28T09:58:03.610Z"
   },
   {
    "duration": 39,
    "start_time": "2025-03-28T10:01:50.908Z"
   },
   {
    "duration": 6,
    "start_time": "2025-03-28T10:02:13.420Z"
   },
   {
    "duration": 17,
    "start_time": "2025-03-28T10:06:38.623Z"
   },
   {
    "duration": 8,
    "start_time": "2025-03-28T10:07:07.046Z"
   },
   {
    "duration": 7,
    "start_time": "2025-03-28T10:09:57.840Z"
   },
   {
    "duration": 7,
    "start_time": "2025-03-28T10:12:00.736Z"
   },
   {
    "duration": 8,
    "start_time": "2025-03-28T10:13:11.632Z"
   },
   {
    "duration": 3,
    "start_time": "2025-03-28T10:13:50.856Z"
   },
   {
    "duration": 7,
    "start_time": "2025-03-28T10:13:51.427Z"
   },
   {
    "duration": 11,
    "start_time": "2025-03-28T10:21:00.883Z"
   },
   {
    "duration": 48,
    "start_time": "2025-03-28T10:23:18.020Z"
   },
   {
    "duration": 9,
    "start_time": "2025-03-28T10:23:51.044Z"
   },
   {
    "duration": 7,
    "start_time": "2025-03-28T10:24:11.403Z"
   },
   {
    "duration": 6,
    "start_time": "2025-03-28T10:24:11.995Z"
   },
   {
    "duration": 4,
    "start_time": "2025-03-28T10:25:43.868Z"
   },
   {
    "duration": 14,
    "start_time": "2025-03-28T10:27:37.356Z"
   },
   {
    "duration": 10,
    "start_time": "2025-03-28T10:27:51.941Z"
   },
   {
    "duration": 5,
    "start_time": "2025-03-28T10:28:18.109Z"
   },
   {
    "duration": 4,
    "start_time": "2025-03-28T10:32:19.494Z"
   },
   {
    "duration": 11,
    "start_time": "2025-03-28T10:34:43.518Z"
   },
   {
    "duration": 14,
    "start_time": "2025-03-28T10:35:40.185Z"
   },
   {
    "duration": 6,
    "start_time": "2025-03-28T10:35:45.528Z"
   },
   {
    "duration": 5,
    "start_time": "2025-03-28T10:46:05.611Z"
   },
   {
    "duration": 9,
    "start_time": "2025-03-28T10:54:20.020Z"
   },
   {
    "duration": 15,
    "start_time": "2025-03-28T10:55:32.197Z"
   },
   {
    "duration": 9,
    "start_time": "2025-03-28T10:57:25.950Z"
   },
   {
    "duration": 9,
    "start_time": "2025-03-28T10:57:52.653Z"
   },
   {
    "duration": 5,
    "start_time": "2025-03-28T11:15:22.051Z"
   },
   {
    "duration": 108,
    "start_time": "2025-03-28T11:20:56.492Z"
   },
   {
    "duration": 106,
    "start_time": "2025-03-28T11:21:21.900Z"
   },
   {
    "duration": 1268,
    "start_time": "2025-03-28T11:23:50.036Z"
   },
   {
    "duration": 1406,
    "start_time": "2025-03-28T11:24:11.852Z"
   },
   {
    "duration": 1736,
    "start_time": "2025-03-28T11:24:47.939Z"
   },
   {
    "duration": 1686,
    "start_time": "2025-03-28T11:27:25.468Z"
   },
   {
    "duration": 397,
    "start_time": "2025-03-28T11:28:15.740Z"
   },
   {
    "duration": 90,
    "start_time": "2025-03-28T11:31:32.245Z"
   },
   {
    "duration": 91,
    "start_time": "2025-03-28T11:31:47.122Z"
   },
   {
    "duration": 28,
    "start_time": "2025-03-28T11:36:44.214Z"
   },
   {
    "duration": 12,
    "start_time": "2025-03-28T11:37:11.959Z"
   },
   {
    "duration": 34,
    "start_time": "2025-03-28T11:42:38.591Z"
   },
   {
    "duration": 33,
    "start_time": "2025-03-28T11:43:27.912Z"
   },
   {
    "duration": 8,
    "start_time": "2025-03-28T11:43:40.048Z"
   },
   {
    "duration": 132,
    "start_time": "2025-03-28T11:48:49.114Z"
   },
   {
    "duration": 97,
    "start_time": "2025-03-28T11:49:23.905Z"
   },
   {
    "duration": 37,
    "start_time": "2025-03-28T11:49:41.513Z"
   },
   {
    "duration": 6,
    "start_time": "2025-03-28T11:49:44.554Z"
   },
   {
    "duration": 5,
    "start_time": "2025-03-28T11:56:44.283Z"
   },
   {
    "duration": 5,
    "start_time": "2025-03-28T11:59:54.028Z"
   },
   {
    "duration": 1005,
    "start_time": "2025-03-28T12:02:33.023Z"
   },
   {
    "duration": 547,
    "start_time": "2025-03-28T12:02:34.030Z"
   },
   {
    "duration": 570,
    "start_time": "2025-03-28T12:02:34.578Z"
   },
   {
    "duration": 3,
    "start_time": "2025-03-28T12:02:35.149Z"
   },
   {
    "duration": 345,
    "start_time": "2025-03-28T12:02:35.153Z"
   },
   {
    "duration": 174,
    "start_time": "2025-03-28T12:02:35.499Z"
   },
   {
    "duration": 199,
    "start_time": "2025-03-28T12:02:35.674Z"
   },
   {
    "duration": 377,
    "start_time": "2025-03-28T12:02:35.874Z"
   },
   {
    "duration": 22,
    "start_time": "2025-03-28T12:02:36.253Z"
   },
   {
    "duration": 159,
    "start_time": "2025-03-28T12:02:36.277Z"
   },
   {
    "duration": 21,
    "start_time": "2025-03-28T12:02:36.438Z"
   },
   {
    "duration": 64,
    "start_time": "2025-03-28T12:02:36.460Z"
   },
   {
    "duration": 14,
    "start_time": "2025-03-28T12:02:36.526Z"
   },
   {
    "duration": 183,
    "start_time": "2025-03-28T12:02:36.541Z"
   },
   {
    "duration": 5,
    "start_time": "2025-03-28T12:02:36.726Z"
   },
   {
    "duration": 52,
    "start_time": "2025-03-28T12:02:36.733Z"
   },
   {
    "duration": 147,
    "start_time": "2025-03-28T12:02:36.786Z"
   },
   {
    "duration": 93,
    "start_time": "2025-03-28T12:02:36.935Z"
   },
   {
    "duration": 85,
    "start_time": "2025-03-28T12:02:37.030Z"
   },
   {
    "duration": 88,
    "start_time": "2025-03-28T12:02:37.117Z"
   },
   {
    "duration": 256,
    "start_time": "2025-03-28T12:02:37.207Z"
   },
   {
    "duration": 40,
    "start_time": "2025-03-28T12:02:37.464Z"
   },
   {
    "duration": 2,
    "start_time": "2025-03-28T12:02:37.506Z"
   },
   {
    "duration": 379,
    "start_time": "2025-03-28T12:02:37.510Z"
   },
   {
    "duration": 9,
    "start_time": "2025-03-28T12:02:37.891Z"
   },
   {
    "duration": 66,
    "start_time": "2025-03-28T12:02:37.902Z"
   },
   {
    "duration": 3,
    "start_time": "2025-03-28T12:02:37.970Z"
   },
   {
    "duration": 5,
    "start_time": "2025-03-28T12:02:37.977Z"
   },
   {
    "duration": 1797,
    "start_time": "2025-03-29T09:26:35.930Z"
   },
   {
    "duration": 584,
    "start_time": "2025-03-29T09:26:37.728Z"
   },
   {
    "duration": 614,
    "start_time": "2025-03-29T09:26:38.313Z"
   },
   {
    "duration": 409,
    "start_time": "2025-03-29T09:26:38.929Z"
   },
   {
    "duration": 742,
    "start_time": "2025-03-29T09:26:39.340Z"
   },
   {
    "duration": 305,
    "start_time": "2025-03-29T09:26:40.084Z"
   },
   {
    "duration": 369,
    "start_time": "2025-03-29T09:26:40.390Z"
   },
   {
    "duration": 351,
    "start_time": "2025-03-29T09:26:40.761Z"
   },
   {
    "duration": 405,
    "start_time": "2025-03-29T09:26:41.113Z"
   },
   {
    "duration": 163,
    "start_time": "2025-03-29T09:26:41.520Z"
   },
   {
    "duration": 21,
    "start_time": "2025-03-29T09:26:41.684Z"
   },
   {
    "duration": 7,
    "start_time": "2025-03-29T09:26:41.706Z"
   },
   {
    "duration": 10,
    "start_time": "2025-03-29T09:26:41.714Z"
   },
   {
    "duration": 194,
    "start_time": "2025-03-29T09:26:41.727Z"
   },
   {
    "duration": 6,
    "start_time": "2025-03-29T09:26:41.923Z"
   },
   {
    "duration": 18,
    "start_time": "2025-03-29T09:26:41.930Z"
   },
   {
    "duration": 103,
    "start_time": "2025-03-29T09:26:41.958Z"
   },
   {
    "duration": 104,
    "start_time": "2025-03-29T09:26:42.063Z"
   },
   {
    "duration": 95,
    "start_time": "2025-03-29T09:26:42.169Z"
   },
   {
    "duration": 158,
    "start_time": "2025-03-29T09:26:42.266Z"
   },
   {
    "duration": 284,
    "start_time": "2025-03-29T09:26:42.426Z"
   },
   {
    "duration": 45,
    "start_time": "2025-03-29T09:26:42.712Z"
   },
   {
    "duration": 3,
    "start_time": "2025-03-29T09:26:42.758Z"
   },
   {
    "duration": 458,
    "start_time": "2025-03-29T09:26:42.763Z"
   },
   {
    "duration": 9,
    "start_time": "2025-03-29T09:26:43.223Z"
   },
   {
    "duration": 75,
    "start_time": "2025-03-29T09:26:43.234Z"
   },
   {
    "duration": 6,
    "start_time": "2025-03-29T09:26:43.311Z"
   },
   {
    "duration": 5,
    "start_time": "2025-03-29T09:26:43.318Z"
   },
   {
    "duration": 5,
    "start_time": "2025-03-29T09:34:00.466Z"
   },
   {
    "duration": 72,
    "start_time": "2025-03-29T09:34:08.679Z"
   },
   {
    "duration": 4,
    "start_time": "2025-03-29T09:34:17.400Z"
   },
   {
    "duration": 61,
    "start_time": "2025-03-29T09:36:01.349Z"
   },
   {
    "duration": 1403,
    "start_time": "2025-03-29T10:36:08.111Z"
   },
   {
    "duration": 568,
    "start_time": "2025-03-29T10:36:09.515Z"
   },
   {
    "duration": 568,
    "start_time": "2025-03-29T10:36:10.084Z"
   },
   {
    "duration": 402,
    "start_time": "2025-03-29T10:36:10.657Z"
   },
   {
    "duration": 376,
    "start_time": "2025-03-29T10:36:11.061Z"
   },
   {
    "duration": 192,
    "start_time": "2025-03-29T10:36:11.438Z"
   },
   {
    "duration": 213,
    "start_time": "2025-03-29T10:36:11.632Z"
   },
   {
    "duration": 382,
    "start_time": "2025-03-29T10:36:11.847Z"
   },
   {
    "duration": 471,
    "start_time": "2025-03-29T10:36:12.231Z"
   },
   {
    "duration": 176,
    "start_time": "2025-03-29T10:36:12.706Z"
   },
   {
    "duration": 22,
    "start_time": "2025-03-29T10:36:12.884Z"
   },
   {
    "duration": 7,
    "start_time": "2025-03-29T10:36:12.908Z"
   },
   {
    "duration": 12,
    "start_time": "2025-03-29T10:36:12.916Z"
   },
   {
    "duration": 218,
    "start_time": "2025-03-29T10:36:12.929Z"
   },
   {
    "duration": 11,
    "start_time": "2025-03-29T10:36:13.149Z"
   },
   {
    "duration": 8,
    "start_time": "2025-03-29T10:36:13.162Z"
   },
   {
    "duration": 217,
    "start_time": "2025-03-29T10:36:13.171Z"
   },
   {
    "duration": 0,
    "start_time": "2025-03-29T10:36:13.389Z"
   },
   {
    "duration": 0,
    "start_time": "2025-03-29T10:36:13.391Z"
   },
   {
    "duration": 0,
    "start_time": "2025-03-29T10:36:13.392Z"
   },
   {
    "duration": 0,
    "start_time": "2025-03-29T10:36:13.393Z"
   },
   {
    "duration": 0,
    "start_time": "2025-03-29T10:36:13.394Z"
   },
   {
    "duration": 0,
    "start_time": "2025-03-29T10:36:13.395Z"
   },
   {
    "duration": 0,
    "start_time": "2025-03-29T10:36:13.396Z"
   },
   {
    "duration": 0,
    "start_time": "2025-03-29T10:36:13.397Z"
   },
   {
    "duration": 0,
    "start_time": "2025-03-29T10:36:13.398Z"
   },
   {
    "duration": 0,
    "start_time": "2025-03-29T10:36:13.399Z"
   },
   {
    "duration": 0,
    "start_time": "2025-03-29T10:36:13.400Z"
   },
   {
    "duration": 133,
    "start_time": "2025-03-29T10:37:35.075Z"
   },
   {
    "duration": 117,
    "start_time": "2025-03-29T10:38:29.556Z"
   },
   {
    "duration": 16,
    "start_time": "2025-03-29T10:41:57.038Z"
   },
   {
    "duration": 190,
    "start_time": "2025-03-29T10:42:59.607Z"
   },
   {
    "duration": 127,
    "start_time": "2025-03-29T10:44:36.384Z"
   },
   {
    "duration": 101,
    "start_time": "2025-03-29T10:49:18.419Z"
   },
   {
    "duration": 110,
    "start_time": "2025-03-29T10:51:01.564Z"
   },
   {
    "duration": 115,
    "start_time": "2025-03-29T10:51:09.989Z"
   },
   {
    "duration": 101,
    "start_time": "2025-03-29T10:51:41.605Z"
   },
   {
    "duration": 9,
    "start_time": "2025-03-29T11:14:11.327Z"
   },
   {
    "duration": 15,
    "start_time": "2025-03-29T11:14:28.320Z"
   },
   {
    "duration": 5,
    "start_time": "2025-03-29T11:14:40.351Z"
   },
   {
    "duration": 14,
    "start_time": "2025-03-29T11:16:48.633Z"
   },
   {
    "duration": 5,
    "start_time": "2025-03-29T11:16:49.176Z"
   },
   {
    "duration": 152,
    "start_time": "2025-03-29T11:17:30.089Z"
   },
   {
    "duration": 293,
    "start_time": "2025-03-29T11:19:56.458Z"
   },
   {
    "duration": 153,
    "start_time": "2025-03-29T11:20:10.218Z"
   },
   {
    "duration": 160,
    "start_time": "2025-03-29T11:20:27.346Z"
   },
   {
    "duration": 8,
    "start_time": "2025-03-29T11:43:19.430Z"
   },
   {
    "duration": 13,
    "start_time": "2025-03-29T11:46:23.528Z"
   },
   {
    "duration": 119,
    "start_time": "2025-03-29T11:46:52.654Z"
   },
   {
    "duration": 92,
    "start_time": "2025-03-29T11:48:24.486Z"
   },
   {
    "duration": 162,
    "start_time": "2025-03-29T11:50:55.563Z"
   },
   {
    "duration": 14,
    "start_time": "2025-03-29T11:50:56.023Z"
   },
   {
    "duration": 1076,
    "start_time": "2025-03-29T11:52:04.919Z"
   },
   {
    "duration": 557,
    "start_time": "2025-03-29T11:52:05.996Z"
   },
   {
    "duration": 550,
    "start_time": "2025-03-29T11:52:06.557Z"
   },
   {
    "duration": 2,
    "start_time": "2025-03-29T11:52:07.109Z"
   },
   {
    "duration": 322,
    "start_time": "2025-03-29T11:52:07.114Z"
   },
   {
    "duration": 170,
    "start_time": "2025-03-29T11:52:07.438Z"
   },
   {
    "duration": 199,
    "start_time": "2025-03-29T11:52:07.609Z"
   },
   {
    "duration": 299,
    "start_time": "2025-03-29T11:52:07.810Z"
   },
   {
    "duration": 15,
    "start_time": "2025-03-29T11:52:08.110Z"
   },
   {
    "duration": 161,
    "start_time": "2025-03-29T11:52:08.126Z"
   },
   {
    "duration": 21,
    "start_time": "2025-03-29T11:52:08.289Z"
   },
   {
    "duration": 6,
    "start_time": "2025-03-29T11:52:08.312Z"
   },
   {
    "duration": 12,
    "start_time": "2025-03-29T11:52:08.320Z"
   },
   {
    "duration": 198,
    "start_time": "2025-03-29T11:52:08.334Z"
   },
   {
    "duration": 5,
    "start_time": "2025-03-29T11:52:08.534Z"
   },
   {
    "duration": 22,
    "start_time": "2025-03-29T11:52:08.541Z"
   },
   {
    "duration": 104,
    "start_time": "2025-03-29T11:52:08.565Z"
   },
   {
    "duration": 117,
    "start_time": "2025-03-29T11:52:08.670Z"
   },
   {
    "duration": 95,
    "start_time": "2025-03-29T11:52:08.789Z"
   },
   {
    "duration": 97,
    "start_time": "2025-03-29T11:52:08.886Z"
   },
   {
    "duration": 14,
    "start_time": "2025-03-29T11:52:08.984Z"
   },
   {
    "duration": 220,
    "start_time": "2025-03-29T11:52:08.999Z"
   },
   {
    "duration": 270,
    "start_time": "2025-03-29T11:52:09.220Z"
   },
   {
    "duration": 40,
    "start_time": "2025-03-29T11:52:09.491Z"
   },
   {
    "duration": 41,
    "start_time": "2025-03-29T11:52:09.532Z"
   },
   {
    "duration": 545,
    "start_time": "2025-03-29T11:52:09.575Z"
   },
   {
    "duration": 8,
    "start_time": "2025-03-29T11:52:10.121Z"
   },
   {
    "duration": 59,
    "start_time": "2025-03-29T11:52:10.130Z"
   },
   {
    "duration": 107,
    "start_time": "2025-03-29T11:52:10.190Z"
   },
   {
    "duration": 9,
    "start_time": "2025-03-29T11:52:10.298Z"
   },
   {
    "duration": 5,
    "start_time": "2025-03-29T11:52:10.309Z"
   },
   {
    "duration": 3,
    "start_time": "2025-03-29T11:52:33.652Z"
   },
   {
    "duration": 48,
    "start_time": "2025-03-29T11:54:04.349Z"
   },
   {
    "duration": 52,
    "start_time": "2025-03-29T11:54:12.769Z"
   },
   {
    "duration": 3,
    "start_time": "2025-03-29T11:54:15.220Z"
   },
   {
    "duration": 1004,
    "start_time": "2025-03-29T11:54:34.058Z"
   },
   {
    "duration": 575,
    "start_time": "2025-03-29T11:54:35.063Z"
   },
   {
    "duration": 549,
    "start_time": "2025-03-29T11:54:35.640Z"
   },
   {
    "duration": 2,
    "start_time": "2025-03-29T11:54:36.191Z"
   },
   {
    "duration": 437,
    "start_time": "2025-03-29T11:54:36.195Z"
   },
   {
    "duration": 172,
    "start_time": "2025-03-29T11:54:36.634Z"
   },
   {
    "duration": 212,
    "start_time": "2025-03-29T11:54:36.808Z"
   },
   {
    "duration": 306,
    "start_time": "2025-03-29T11:54:37.021Z"
   },
   {
    "duration": 29,
    "start_time": "2025-03-29T11:54:37.329Z"
   },
   {
    "duration": 166,
    "start_time": "2025-03-29T11:54:37.361Z"
   },
   {
    "duration": 22,
    "start_time": "2025-03-29T11:54:37.528Z"
   },
   {
    "duration": 27,
    "start_time": "2025-03-29T11:54:37.552Z"
   },
   {
    "duration": 13,
    "start_time": "2025-03-29T11:54:37.581Z"
   },
   {
    "duration": 196,
    "start_time": "2025-03-29T11:54:37.596Z"
   },
   {
    "duration": 6,
    "start_time": "2025-03-29T11:54:37.793Z"
   },
   {
    "duration": 20,
    "start_time": "2025-03-29T11:54:37.800Z"
   },
   {
    "duration": 106,
    "start_time": "2025-03-29T11:54:37.822Z"
   },
   {
    "duration": 108,
    "start_time": "2025-03-29T11:54:37.929Z"
   },
   {
    "duration": 91,
    "start_time": "2025-03-29T11:54:38.039Z"
   },
   {
    "duration": 96,
    "start_time": "2025-03-29T11:54:38.132Z"
   },
   {
    "duration": 13,
    "start_time": "2025-03-29T11:54:38.229Z"
   },
   {
    "duration": 216,
    "start_time": "2025-03-29T11:54:38.244Z"
   },
   {
    "duration": 274,
    "start_time": "2025-03-29T11:54:38.461Z"
   },
   {
    "duration": 47,
    "start_time": "2025-03-29T11:54:38.737Z"
   },
   {
    "duration": 3,
    "start_time": "2025-03-29T11:54:38.785Z"
   },
   {
    "duration": 499,
    "start_time": "2025-03-29T11:54:38.790Z"
   },
   {
    "duration": 8,
    "start_time": "2025-03-29T11:54:39.291Z"
   },
   {
    "duration": 69,
    "start_time": "2025-03-29T11:54:39.303Z"
   },
   {
    "duration": 4,
    "start_time": "2025-03-29T11:54:39.373Z"
   },
   {
    "duration": 8,
    "start_time": "2025-03-29T11:54:39.379Z"
   },
   {
    "duration": 6,
    "start_time": "2025-03-29T11:54:39.389Z"
   },
   {
    "duration": 5,
    "start_time": "2025-03-29T11:56:21.341Z"
   },
   {
    "duration": 15,
    "start_time": "2025-03-29T12:14:01.837Z"
   },
   {
    "duration": 13,
    "start_time": "2025-03-29T12:14:08.696Z"
   },
   {
    "duration": 51,
    "start_time": "2025-03-29T12:29:10.932Z"
   },
   {
    "duration": 4,
    "start_time": "2025-03-29T12:29:11.445Z"
   },
   {
    "duration": 4,
    "start_time": "2025-03-29T12:30:06.962Z"
   },
   {
    "duration": 4,
    "start_time": "2025-03-29T12:30:40.371Z"
   },
   {
    "duration": 406,
    "start_time": "2025-03-29T12:32:13.780Z"
   },
   {
    "duration": 6,
    "start_time": "2025-03-29T12:38:34.146Z"
   },
   {
    "duration": 1008,
    "start_time": "2025-03-29T12:46:12.774Z"
   },
   {
    "duration": 595,
    "start_time": "2025-03-29T12:46:13.784Z"
   },
   {
    "duration": 579,
    "start_time": "2025-03-29T12:46:14.380Z"
   },
   {
    "duration": 2,
    "start_time": "2025-03-29T12:46:14.961Z"
   },
   {
    "duration": 359,
    "start_time": "2025-03-29T12:46:14.965Z"
   },
   {
    "duration": 173,
    "start_time": "2025-03-29T12:46:15.326Z"
   },
   {
    "duration": 199,
    "start_time": "2025-03-29T12:46:15.501Z"
   },
   {
    "duration": 308,
    "start_time": "2025-03-29T12:46:15.702Z"
   },
   {
    "duration": 17,
    "start_time": "2025-03-29T12:46:16.012Z"
   },
   {
    "duration": 190,
    "start_time": "2025-03-29T12:46:16.032Z"
   },
   {
    "duration": 23,
    "start_time": "2025-03-29T12:46:16.223Z"
   },
   {
    "duration": 8,
    "start_time": "2025-03-29T12:46:16.248Z"
   },
   {
    "duration": 13,
    "start_time": "2025-03-29T12:46:16.258Z"
   },
   {
    "duration": 208,
    "start_time": "2025-03-29T12:46:16.273Z"
   },
   {
    "duration": 5,
    "start_time": "2025-03-29T12:46:16.483Z"
   },
   {
    "duration": 10,
    "start_time": "2025-03-29T12:46:16.490Z"
   },
   {
    "duration": 113,
    "start_time": "2025-03-29T12:46:16.501Z"
   },
   {
    "duration": 114,
    "start_time": "2025-03-29T12:46:16.616Z"
   },
   {
    "duration": 95,
    "start_time": "2025-03-29T12:46:16.731Z"
   },
   {
    "duration": 100,
    "start_time": "2025-03-29T12:46:16.828Z"
   },
   {
    "duration": 13,
    "start_time": "2025-03-29T12:46:16.930Z"
   },
   {
    "duration": 262,
    "start_time": "2025-03-29T12:46:16.944Z"
   },
   {
    "duration": 262,
    "start_time": "2025-03-29T12:46:17.208Z"
   },
   {
    "duration": 39,
    "start_time": "2025-03-29T12:46:17.472Z"
   },
   {
    "duration": 3,
    "start_time": "2025-03-29T12:46:17.512Z"
   },
   {
    "duration": 383,
    "start_time": "2025-03-29T12:46:17.516Z"
   },
   {
    "duration": 9,
    "start_time": "2025-03-29T12:46:17.901Z"
   },
   {
    "duration": 70,
    "start_time": "2025-03-29T12:46:17.913Z"
   },
   {
    "duration": 4,
    "start_time": "2025-03-29T12:46:17.985Z"
   },
   {
    "duration": 3,
    "start_time": "2025-03-29T12:46:17.990Z"
   },
   {
    "duration": 7,
    "start_time": "2025-03-29T12:46:17.994Z"
   },
   {
    "duration": 1537,
    "start_time": "2025-03-29T17:45:02.564Z"
   },
   {
    "duration": 610,
    "start_time": "2025-03-29T17:45:04.103Z"
   },
   {
    "duration": 603,
    "start_time": "2025-03-29T17:45:04.715Z"
   },
   {
    "duration": 441,
    "start_time": "2025-03-29T17:45:05.320Z"
   },
   {
    "duration": 369,
    "start_time": "2025-03-29T17:45:05.763Z"
   },
   {
    "duration": 166,
    "start_time": "2025-03-29T17:45:06.134Z"
   },
   {
    "duration": 259,
    "start_time": "2025-03-29T17:45:06.302Z"
   },
   {
    "duration": 715,
    "start_time": "2025-03-29T17:45:06.563Z"
   },
   {
    "duration": 686,
    "start_time": "2025-03-29T17:45:07.280Z"
   },
   {
    "duration": 227,
    "start_time": "2025-03-29T17:45:07.970Z"
   },
   {
    "duration": 23,
    "start_time": "2025-03-29T17:45:08.199Z"
   },
   {
    "duration": 8,
    "start_time": "2025-03-29T17:45:08.224Z"
   },
   {
    "duration": 11,
    "start_time": "2025-03-29T17:45:08.233Z"
   },
   {
    "duration": 193,
    "start_time": "2025-03-29T17:45:08.258Z"
   },
   {
    "duration": 6,
    "start_time": "2025-03-29T17:45:08.453Z"
   },
   {
    "duration": 11,
    "start_time": "2025-03-29T17:45:08.460Z"
   },
   {
    "duration": 108,
    "start_time": "2025-03-29T17:45:08.473Z"
   },
   {
    "duration": 105,
    "start_time": "2025-03-29T17:45:08.582Z"
   },
   {
    "duration": 98,
    "start_time": "2025-03-29T17:45:08.688Z"
   },
   {
    "duration": 163,
    "start_time": "2025-03-29T17:45:08.788Z"
   },
   {
    "duration": 18,
    "start_time": "2025-03-29T17:45:08.953Z"
   },
   {
    "duration": 186,
    "start_time": "2025-03-29T17:45:08.975Z"
   },
   {
    "duration": 301,
    "start_time": "2025-03-29T17:45:09.163Z"
   },
   {
    "duration": 43,
    "start_time": "2025-03-29T17:45:09.466Z"
   },
   {
    "duration": 3,
    "start_time": "2025-03-29T17:45:09.511Z"
   },
   {
    "duration": 459,
    "start_time": "2025-03-29T17:45:09.516Z"
   },
   {
    "duration": 7,
    "start_time": "2025-03-29T17:45:09.977Z"
   },
   {
    "duration": 71,
    "start_time": "2025-03-29T17:45:09.987Z"
   },
   {
    "duration": 5,
    "start_time": "2025-03-29T17:45:10.060Z"
   },
   {
    "duration": 17,
    "start_time": "2025-03-29T17:45:10.067Z"
   },
   {
    "duration": 7,
    "start_time": "2025-03-29T17:45:10.085Z"
   }
  ],
  "colab": {
   "provenance": []
  },
  "kernelspec": {
   "display_name": "Python 3 (ipykernel)",
   "language": "python",
   "name": "python3"
  },
  "language_info": {
   "codemirror_mode": {
    "name": "ipython",
    "version": 3
   },
   "file_extension": ".py",
   "mimetype": "text/x-python",
   "name": "python",
   "nbconvert_exporter": "python",
   "pygments_lexer": "ipython3",
   "version": "3.12.7"
  },
  "toc": {
   "base_numbering": 1,
   "nav_menu": {},
   "number_sections": true,
   "sideBar": true,
   "skip_h1_title": true,
   "title_cell": "Table of Contents",
   "title_sidebar": "Contents",
   "toc_cell": false,
   "toc_position": {
    "height": "calc(100% - 180px)",
    "left": "10px",
    "top": "150px",
    "width": "305.404388px"
   },
   "toc_section_display": true,
   "toc_window_display": true
  }
 },
 "nbformat": 4,
 "nbformat_minor": 4
}

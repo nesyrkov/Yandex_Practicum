{
 "cells": [
  {
   "cell_type": "markdown",
   "id": "_E41Wr5fqnFT",
   "metadata": {
    "id": "_E41Wr5fqnFT"
   },
   "source": [
    "# Часть 1. Проверка гипотезы в Python и составление аналитической записки"
   ]
  },
  {
   "cell_type": "markdown",
   "id": "Z5_6nf-FrY7o",
   "metadata": {
    "id": "Z5_6nf-FrY7o"
   },
   "source": [
    "Вы предобработали данные в SQL, и теперь они готовы для проверки гипотезы в Python. Загрузите данные пользователей из Москвы и Санкт-Петербурга c суммой часов их активности из файла yandex_knigi_data.csv. Если работаете локально, скачать файл можно по ссылке.\n",
    "\n",
    "Проверьте наличие дубликатов в идентификаторах пользователей. Сравните размеры групп, их статистики и распределение.\n",
    "\n",
    "Напомним, как выглядит гипотеза: пользователи из Москвы проводят в среднем больше времени за чтением и прослушиванием книг в приложении, чем пользователи из Москвы. Попробуйте статистически это доказать, используя одностороннюю проверку гипотезы с двумя выборками:\n",
    "\n",
    "Нулевая гипотеза $H_0: \\mu_{\\text{СПб}} \\leq \\mu_{\\text{Москва}}$ <br> Среднее время активности пользователей в Санкт-Петербурге не больше, чем в Москве.\n",
    "\n",
    "Альтернативная гипотеза $H_1: \\mu_{\\text{СПб}} > \\mu_{\\text{Москва}}$ <br> Среднее время активности пользователей в Санкт-Петербурге больше, и это различие статистически значимо.\n",
    "\n",
    "По результатам анализа данных подготовьте аналитическую записку, в которой опишите:\n",
    "\n",
    "Выбранный тип t-теста и уровень статистической значимости.\n",
    "\n",
    "Результат теста, или p-value.\n",
    "\n",
    "Вывод на основе полученного p-value, то есть интерпретацию результатов.\n",
    "\n",
    "Одну или две возможные причины, объясняющие полученные результаты."
   ]
  },
  {
   "cell_type": "markdown",
   "id": "e06910dd",
   "metadata": {
    "id": "e06910dd"
   },
   "source": [
    "## Напишите заголовок первой части проекта здесь\n",
    "\n",
    "- Автор: Коваленко Николай Евгеньевич\n",
    "- Дата: 07.04.2025"
   ]
  },
  {
   "cell_type": "markdown",
   "id": "4149134c",
   "metadata": {
    "id": "4149134c"
   },
   "source": [
    "## Цели и задачи проекта\n",
    "\n",
    "- Проверьте наличие дубликатов в идентификаторах пользователей. Сравните размеры групп и их статистики.\n",
    "- Статистически это доказать, используя одностороннюю проверку гипотезы с двумя выборками:"
   ]
  },
  {
   "cell_type": "markdown",
   "id": "728986ea",
   "metadata": {
    "id": "728986ea"
   },
   "source": [
    "## Описание данных\n",
    "\n",
    "***Датасет yandex_knigi_data***: \n",
    "- number - номер\n",
    "- city - город, \n",
    "- puid - id \n",
    "- hours - количество часов.\n",
    "\n",
    "***Таблица участников теста ab_test_participants.csv***:\n",
    "\n",
    "- user_id — идентификатор пользователя;\n",
    "- group — группа пользователя;\n",
    "- ab_test — название теста;\n",
    "- device — устройство, с которого происходила регистрация.\n",
    "\n",
    "***Таблица ab_test_events.zip — архив с одним csv-файлом, в котором собраны события 2020 года***:\n",
    "\n",
    "- user_id — идентификатор пользователя;\n",
    "- event_dt — дата и время события;\n",
    "- event_name — тип события;\n",
    "- details — дополнительные данные о событии.\n",
    "\n",
    "***Дополнительная информация по столбцу `details`***:\n",
    "\n",
    "- registration (регистрация) — стоимость привлечения клиента;\n",
    "- purchase (покупка) — стоимость покупки."
   ]
  },
  {
   "cell_type": "markdown",
   "id": "4fecaf95",
   "metadata": {
    "id": "4fecaf95"
   },
   "source": [
    "## Содержимое проекта\n",
    "\n",
    "<font color='#777778'>Перечислите основные шаги проекта или напишите оглавление. Используйте описание проекта, чтобы зафиксировать основные шаги.</font>\n",
    "\n",
    "- Загрузка данных\n",
    "- Проверка гипотезы в Python\n",
    "- Аналитическая записка\n",
    "- Анализ результатов А/Б тестирования\n",
    "- Проведение оценки результатов А/Б тестирования"
   ]
  },
  {
   "cell_type": "markdown",
   "id": "6f7d21d6",
   "metadata": {
    "id": "6f7d21d6"
   },
   "source": [
    "## 1. Загрузка данных и знакомство с ними\n",
    "\n",
    "Загрузите данные пользователей из Москвы и Санкт-Петербурга c их активностью (суммой часов чтения и прослушивания) из файла `/datasets/yandex_knigi_data.csv`."
   ]
  },
  {
   "cell_type": "code",
   "execution_count": 149,
   "id": "51ca2da2",
   "metadata": {},
   "outputs": [],
   "source": [
    "import pandas as pd\n",
    "import numpy as np\n",
    "import matplotlib.pyplot as plt\n",
    "import seaborn as sns\n",
    "from scipy import stats as st\n",
    "from statsmodels.stats.power import NormalIndPower\n",
    "from statsmodels.stats.proportion import proportions_ztest\n",
    "from statsmodels.stats.proportion import proportion_effectsize\n",
    "plt.rcParams[\"figure.figsize\"] = (12,8) "
   ]
  },
  {
   "cell_type": "code",
   "execution_count": 150,
   "id": "f68a7419",
   "metadata": {
    "id": "f68a7419"
   },
   "outputs": [],
   "source": [
    "df_knigi=pd.read_csv('https://code.s3.yandex.net/datasets/yandex_knigi_data.csv')"
   ]
  },
  {
   "cell_type": "code",
   "execution_count": 151,
   "id": "b5d646b8",
   "metadata": {},
   "outputs": [
    {
     "name": "stdout",
     "output_type": "stream",
     "text": [
      "Количество строк в DataFrame: 8784\n",
      "Количество дублированных строк в DataFrame: 0\n",
      "Количество уникальных пользователей: 8540\n"
     ]
    }
   ],
   "source": [
    "#Проверка явных дубликатов\n",
    "unique_users = df_knigi['puid'].nunique()\n",
    "row_count_1 = df_knigi.duplicated().sum() \n",
    "row_count_2 = len(df_knigi) \n",
    "print(f\"Количество строк в DataFrame: {row_count_2}\")\n",
    "print(f\"Количество дублированных строк в DataFrame: {row_count_1}\")\n",
    "print(f\"Количество уникальных пользователей: {unique_users}\")"
   ]
  },
  {
   "cell_type": "code",
   "execution_count": 152,
   "id": "533f6030",
   "metadata": {},
   "outputs": [
    {
     "name": "stdout",
     "output_type": "stream",
     "text": [
      "Есть дубликаты в столбце 'puid'? - True\n",
      "Строки с дубликатами:\n",
      "       Unnamed: 0             city              puid      hours\n",
      "35            35           Москва           2637041  10.317371\n",
      "134          134           Москва           9979490  32.415573\n",
      "145          145           Москва          10597984  42.931506\n",
      "150          150           Москва          10815097   9.086655\n",
      "187          187           Москва          13626259  21.104167\n",
      "...          ...              ...               ...        ...\n",
      "8771        8771  Санкт-Петербург  1130000018516717   0.517778\n",
      "8772        8772  Санкт-Петербург  1130000018954257  33.583294\n",
      "8773        8773  Санкт-Петербург  1130000020425037   2.386944\n",
      "8775        8775  Санкт-Петербург  1130000023864516  14.384722\n",
      "8779        8779  Санкт-Петербург  1130000028554332   4.107774\n",
      "\n",
      "[488 rows x 4 columns]\n"
     ]
    }
   ],
   "source": [
    "# 1. Проверить, есть ли дубликаты (True/False)\n",
    "are_there_duplicates = df_knigi['puid'].duplicated().any()\n",
    "print(\"Есть дубликаты в столбце 'puid'? -\", are_there_duplicates)\n",
    "\n",
    "# 2. Показать конкретные строки, которые являются дубликатами\n",
    "duplicate_rows = df_knigi[df_knigi['puid'].duplicated(keep=False)]\n",
    "print(\"Строки с дубликатами:\\n\", duplicate_rows)"
   ]
  },
  {
   "cell_type": "code",
   "execution_count": 153,
   "id": "917b6073",
   "metadata": {},
   "outputs": [],
   "source": [
    "#Удаляем повторящиеся idшники\n",
    "df = df_knigi[~df_knigi['puid'].duplicated(keep=False)]"
   ]
  },
  {
   "cell_type": "code",
   "execution_count": 154,
   "id": "0af9126b",
   "metadata": {},
   "outputs": [
    {
     "data": {
      "text/html": [
       "<div>\n",
       "<style scoped>\n",
       "    .dataframe tbody tr th:only-of-type {\n",
       "        vertical-align: middle;\n",
       "    }\n",
       "\n",
       "    .dataframe tbody tr th {\n",
       "        vertical-align: top;\n",
       "    }\n",
       "\n",
       "    .dataframe thead th {\n",
       "        text-align: right;\n",
       "    }\n",
       "</style>\n",
       "<table border=\"1\" class=\"dataframe\">\n",
       "  <thead>\n",
       "    <tr style=\"text-align: right;\">\n",
       "      <th></th>\n",
       "      <th>Unnamed: 0</th>\n",
       "      <th>puid</th>\n",
       "      <th>hours</th>\n",
       "    </tr>\n",
       "  </thead>\n",
       "  <tbody>\n",
       "    <tr>\n",
       "      <th>count</th>\n",
       "      <td>8296.000000</td>\n",
       "      <td>8.296000e+03</td>\n",
       "      <td>8296.000000</td>\n",
       "    </tr>\n",
       "    <tr>\n",
       "      <th>mean</th>\n",
       "      <td>4346.692261</td>\n",
       "      <td>8.990784e+12</td>\n",
       "      <td>10.963892</td>\n",
       "    </tr>\n",
       "    <tr>\n",
       "      <th>std</th>\n",
       "      <td>2525.732392</td>\n",
       "      <td>1.003939e+14</td>\n",
       "      <td>37.753906</td>\n",
       "    </tr>\n",
       "    <tr>\n",
       "      <th>min</th>\n",
       "      <td>0.000000</td>\n",
       "      <td>9.668000e+03</td>\n",
       "      <td>0.000022</td>\n",
       "    </tr>\n",
       "    <tr>\n",
       "      <th>25%</th>\n",
       "      <td>2170.750000</td>\n",
       "      <td>3.251976e+08</td>\n",
       "      <td>0.057493</td>\n",
       "    </tr>\n",
       "    <tr>\n",
       "      <th>50%</th>\n",
       "      <td>4336.500000</td>\n",
       "      <td>8.894445e+08</td>\n",
       "      <td>0.884214</td>\n",
       "    </tr>\n",
       "    <tr>\n",
       "      <th>75%</th>\n",
       "      <td>6492.250000</td>\n",
       "      <td>1.523879e+09</td>\n",
       "      <td>5.944675</td>\n",
       "    </tr>\n",
       "    <tr>\n",
       "      <th>max</th>\n",
       "      <td>8783.000000</td>\n",
       "      <td>1.130000e+15</td>\n",
       "      <td>978.764775</td>\n",
       "    </tr>\n",
       "  </tbody>\n",
       "</table>\n",
       "</div>"
      ],
      "text/plain": [
       "        Unnamed: 0          puid        hours\n",
       "count  8296.000000  8.296000e+03  8296.000000\n",
       "mean   4346.692261  8.990784e+12    10.963892\n",
       "std    2525.732392  1.003939e+14    37.753906\n",
       "min       0.000000  9.668000e+03     0.000022\n",
       "25%    2170.750000  3.251976e+08     0.057493\n",
       "50%    4336.500000  8.894445e+08     0.884214\n",
       "75%    6492.250000  1.523879e+09     5.944675\n",
       "max    8783.000000  1.130000e+15   978.764775"
      ]
     },
     "execution_count": 154,
     "metadata": {},
     "output_type": "execute_result"
    }
   ],
   "source": [
    "df.describe()"
   ]
  },
  {
   "cell_type": "markdown",
   "id": "5ba664fd",
   "metadata": {},
   "source": [
    "**Вывод**: После удаления явных и неявных дубликатов датафрейм сократился с 8784 осталось 8296 элементов со средним 10,96 часосв, <br>\n",
    "стандартным отклонением 37,75."
   ]
  },
  {
   "cell_type": "markdown",
   "id": "956e82e2",
   "metadata": {
    "id": "956e82e2"
   },
   "source": [
    "## 2. Проверка гипотезы в Python\n",
    "\n",
    "Гипотеза звучит так: пользователи из Санкт-Петербурга проводят в среднем больше времени за чтением и прослушиванием книг в приложении, чем пользователи из Москвы. Попробуйте статистически это доказать, используя одностороннюю проверку гипотезы с двумя выборками:\n",
    "\n",
    "- Нулевая гипотеза H₀: Средняя активность пользователей в часах в двух группах (Москва и Санкт-Петербург) не больше.\n",
    "\n",
    "- Альтернативная гипотеза H₁: Средняя активность пользователей в Санкт-Петербурге больше, и это различие статистически значимо."
   ]
  },
  {
   "cell_type": "code",
   "execution_count": 157,
   "id": "3ddb8b6b",
   "metadata": {},
   "outputs": [],
   "source": [
    "# Сформируем датасеты\n",
    "group_msk_data = df[df['city']=='Москва'].hours\n",
    "\n",
    "group_spb_data = df[df['city']=='Санкт-Петербург'].hours"
   ]
  },
  {
   "cell_type": "markdown",
   "id": "b8b136d6",
   "metadata": {},
   "source": [
    "**Вывод**: Выборка по Москве 5990 против 2306 в СПБ, среднее у них примерно одинакове 10,84 против 11,26, стандартное отклонение в Питере выше 39,83 против 36,92 в Москве."
   ]
  },
  {
   "cell_type": "code",
   "execution_count": 159,
   "id": "03078556",
   "metadata": {
    "scrolled": true
   },
   "outputs": [
    {
     "name": "stdout",
     "output_type": "stream",
     "text": [
      "Москва - среднее 10.84819150713916, стандартное отклонение 36.925621960682996\n",
      "CПб - среднее 11.264433367029522, стандартное отклонение 39.83175458739666\n"
     ]
    }
   ],
   "source": [
    "print(f'Москва - среднее {group_msk_data.mean()}, стандартное отклонение {group_msk_data.std()}')\n",
    "print(f'CПб - среднее {group_spb_data.mean()}, стандартное отклонение {group_spb_data.std()}')"
   ]
  },
  {
   "cell_type": "code",
   "execution_count": 160,
   "id": "ac48023b",
   "metadata": {},
   "outputs": [
    {
     "data": {
      "text/plain": [
       "count    5990.000000\n",
       "mean       10.848192\n",
       "std        36.925622\n",
       "min         0.000022\n",
       "25%         0.057042\n",
       "50%         0.888232\n",
       "75%         5.933439\n",
       "max       857.209373\n",
       "Name: hours, dtype: float64"
      ]
     },
     "execution_count": 160,
     "metadata": {},
     "output_type": "execute_result"
    }
   ],
   "source": [
    "group_msk_data.describe()"
   ]
  },
  {
   "cell_type": "code",
   "execution_count": 161,
   "id": "0d39fccb",
   "metadata": {},
   "outputs": [
    {
     "data": {
      "text/plain": [
       "count    2306.000000\n",
       "mean       11.264433\n",
       "std        39.831755\n",
       "min         0.000025\n",
       "25%         0.060173\n",
       "50%         0.875355\n",
       "75%         6.138424\n",
       "max       978.764775\n",
       "Name: hours, dtype: float64"
      ]
     },
     "execution_count": 161,
     "metadata": {},
     "output_type": "execute_result"
    }
   ],
   "source": [
    "group_spb_data.describe()"
   ]
  },
  {
   "cell_type": "code",
   "execution_count": 162,
   "id": "0980bdca",
   "metadata": {},
   "outputs": [],
   "source": [
    "# Creating a dictionary by passing Series objects as values\n",
    "frame = {'index': group_msk_data.index,\n",
    "         'hours': group_msk_data}\n",
    " \n",
    "# Creating DataFrame by passing Dictionary\n",
    "group_msk_data_1 = pd.DataFrame(frame)"
   ]
  },
  {
   "cell_type": "code",
   "execution_count": 163,
   "id": "e873fc7b",
   "metadata": {},
   "outputs": [],
   "source": [
    "# Creating a dictionary by passing Series objects as values\n",
    "frame_1 = {'index': group_spb_data.index,\n",
    "         'hours': group_spb_data}\n",
    " \n",
    "# Creating DataFrame by passing Dictionary\n",
    "group_spb_data_1 = pd.DataFrame(frame_1)"
   ]
  },
  {
   "cell_type": "code",
   "execution_count": 164,
   "id": "f076b322",
   "metadata": {},
   "outputs": [
    {
     "name": "stderr",
     "output_type": "stream",
     "text": [
      "C:\\Users\\Lenovo\\AppData\\Local\\Temp\\ipykernel_13332\\875827916.py:2: MatplotlibDeprecationWarning: The 'labels' parameter of boxplot() has been renamed 'tick_labels' since Matplotlib 3.9; support for the old name will be dropped in 3.11.\n",
      "  box = plt.boxplot([group_msk_data_1['hours'], group_spb_data_1['hours']],\n"
     ]
    },
    {
     "data": {
      "image/png": "[encoded data removed]",
      "text/plain": [
       "<Figure size 1200x800 with 1 Axes>"
      ]
     },
     "metadata": {},
     "output_type": "display_data"
    }
   ],
   "source": [
    "# Строим boxplot сразу для двух наборов данных\n",
    "box = plt.boxplot([group_msk_data_1['hours'], group_spb_data_1['hours']], \n",
    "                  labels=['Dataset MSK', 'Dataset SPB'])\n",
    "\n",
    "# Добавим заголовок и подписи осей\n",
    "plt.title(\"Two Boxplots from two cities\")\n",
    "plt.xlabel(\"Dataset\")\n",
    "plt.ylabel(\"Hours\")\n",
    "\n",
    "# Необязательная легенда (для boxplot легенду обычно вручную):\n",
    "plt.legend([box[\"boxes\"][0], box[\"boxes\"][1]],\n",
    "           ['Hours MSK', 'Hours SPB'])\n",
    "\n",
    "plt.show()"
   ]
  },
  {
   "cell_type": "markdown",
   "id": "77a0046c",
   "metadata": {},
   "source": [
    "***T-тест (или критерий Стьюдента)*** <br> \n",
    "один из самых распространённых статистических критериев для проверки гипотез. <br>\n",
    "Для проведения двухвыборочного t-теста должны выполняться следующие условия:\n",
    "- нормальность выборочного среднего;\n",
    "- независимость наблюдений;\n",
    "- равенство выборочных дисперсий.\n",
    "- отсутствие выбросов"
   ]
  },
  {
   "cell_type": "code",
   "execution_count": 166,
   "id": "1a9dd8c8",
   "metadata": {},
   "outputs": [
    {
     "data": {
      "image/png": "[encoded data removed]",
      "text/plain": [
       "<Figure size 1200x800 with 1 Axes>"
      ]
     },
     "metadata": {},
     "output_type": "display_data"
    }
   ],
   "source": [
    "# Построим гистограмму для df1\n",
    "sns.histplot(\n",
    "    data=group_msk_data_1,\n",
    "    x='hours',\n",
    "    stat='density',    # плотность, аналог 'density=True' в Matplotlib\n",
    "    common_norm=False, # не делать нормировку совместной (каждый набор нормируется отдельно)\n",
    "    bins=20,\n",
    "    alpha=0.5,\n",
    "    color='red',# полупрозрачность, чтобы оба распределения лучше различать\n",
    "    label='Dataset MSK'\n",
    ")\n",
    "\n",
    "# Построим гистограмму для df2\n",
    "sns.histplot(\n",
    "    data=group_spb_data_1,\n",
    "    x='hours',\n",
    "    stat='density',\n",
    "    common_norm=False,\n",
    "    bins=20,\n",
    "    alpha=0.3,\n",
    "    label='Dataset SPB'\n",
    ")\n",
    "\n",
    "plt.title(\"Две плотности гистограммы\")\n",
    "plt.xlabel(\"hours\")\n",
    "plt.ylabel(\"Density\")\n",
    "plt.legend()\n",
    "\n",
    "plt.show()"
   ]
  },
  {
   "cell_type": "markdown",
   "id": "f0c62889",
   "metadata": {},
   "source": [
    "***Вывод***: Можно говорить о том что даспределения по обоим городам достаточно похожи, так как на верхнем графике при отмечании разными цветами они достаточно однотипно прокрашиваются, также этот факт подтвержает boxplot."
   ]
  },
  {
   "cell_type": "markdown",
   "id": "2c080d26",
   "metadata": {},
   "source": [
    "Нулевая гипотеза H₀: Группы (Москва/Санкт-Петербург) брались из нормального распределения.\n",
    "\n",
    "Альтернативная гипотеза H₁: Группы (Москва/Санкт-Петербург) брались из не нормального распределения."
   ]
  },
  {
   "cell_type": "code",
   "execution_count": 169,
   "id": "629cf6d4",
   "metadata": {
    "scrolled": true
   },
   "outputs": [
    {
     "name": "stdout",
     "output_type": "stream",
     "text": [
      "13272.932943976733 - статистика, 0.0 p-value\n"
     ]
    }
   ],
   "source": [
    "x = np.concatenate((group_msk_data,group_spb_data))\n",
    "res = st.normaltest(x)\n",
    "\n",
    "print(f'{res.statistic} - статистика, {res.pvalue} p-value')"
   ]
  },
  {
   "cell_type": "code",
   "execution_count": 170,
   "id": "4795a736",
   "metadata": {},
   "outputs": [
    {
     "name": "stdout",
     "output_type": "stream",
     "text": [
      "9317.515953533974 - статистика, 0.0 p-value\n"
     ]
    }
   ],
   "source": [
    "res_msk = st.normaltest(group_msk_data)\n",
    "\n",
    "print(f'{res_msk.statistic} - статистика, {res_msk.pvalue} p-value')"
   ]
  },
  {
   "cell_type": "code",
   "execution_count": 171,
   "id": "4597df9e",
   "metadata": {},
   "outputs": [
    {
     "name": "stdout",
     "output_type": "stream",
     "text": [
      "3938.761150755944 - статистика, 0.0 p-value\n"
     ]
    }
   ],
   "source": [
    "res_spb = st.normaltest(group_spb_data)\n",
    "\n",
    "print(f'{res_spb.statistic} - статистика, {res_spb.pvalue} p-value')"
   ]
  },
  {
   "cell_type": "code",
   "execution_count": 172,
   "id": "ea185d90",
   "metadata": {},
   "outputs": [],
   "source": [
    "#Уровень значимости\n",
    "alpha=0.05"
   ]
  },
  {
   "cell_type": "markdown",
   "id": "4bdb633e",
   "metadata": {},
   "source": [
    "**Вывод**: Проверим данные на наличие выбросов, в случаи их нахождения это будет основанием для применим тест Манна-Уитни."
   ]
  },
  {
   "cell_type": "markdown",
   "id": "569ebf52",
   "metadata": {},
   "source": [
    "Подтвердим наличие выбросов в обеих группах"
   ]
  },
  {
   "cell_type": "code",
   "execution_count": 175,
   "id": "f8503571",
   "metadata": {},
   "outputs": [
    {
     "name": "stdout",
     "output_type": "stream",
     "text": [
      "105\n"
     ]
    }
   ],
   "source": [
    "# Вычисляем Z-оценки\n",
    "z_scores_msk = st.zscore(group_msk_data_1['hours'])\n",
    "\n",
    "# Определяем выбросы (обычно Z-оценка > 3 или < -3)\n",
    "outliers_msk=group_msk_data_1[(z_scores_msk > 3) | (z_scores_msk < -3)]\n",
    "\n",
    "print(outliers_msk.shape[0])"
   ]
  },
  {
   "cell_type": "code",
   "execution_count": 176,
   "id": "03ecebb4",
   "metadata": {},
   "outputs": [
    {
     "name": "stdout",
     "output_type": "stream",
     "text": [
      "29\n"
     ]
    }
   ],
   "source": [
    "# Вычисляем Z-оценки\n",
    "z_scores_spb = st.zscore(group_spb_data_1['hours'])\n",
    "\n",
    "# Определяем выбросы (обычно Z-оценка > 3 или < -3)\n",
    "outliers_spb=group_spb_data_1[(z_scores_spb > 3) | (z_scores_spb < -3)]\n",
    "\n",
    "print(outliers_spb.shape[0])"
   ]
  },
  {
   "cell_type": "markdown",
   "id": "5d0f15fe",
   "metadata": {},
   "source": [
    "Основная предпосылки теста Манна-Уитни: \n",
    "- у нас есть две независимые выборки данных, каждая — набор наблюдений (как правило, непрерывных или ранговых).\n",
    "  Не требуется предположения о нормальности распределений (поэтому тест Манна–Уитни часто используют, когда нельзя применить t-   критерий Стьюдента). Ранее было показано, что данные не являются данными из нормального распределения.\n",
    "- Тест чувствителен именно к «сдвигу» (например, различию медиан) в случае, если формы распределений похожи. Если формы распределений кардинально отличаются, результат говорит о разнице в распределениях, но интерпретация «разницы средних» или «разницы медиан» становится менее очевидной."
   ]
  },
  {
   "cell_type": "code",
   "execution_count": 178,
   "id": "64b0e2ae",
   "metadata": {},
   "outputs": [],
   "source": [
    "mw_test = st.mannwhitneyu(\n",
    "    group_spb_data,\n",
    "    group_msk_data, # Выборка значений метрики для группы А\n",
    "    # Выборка значений метрики для группы B\n",
    "    alternative='greater' # Выбираем двустороннюю гипотезу \n",
    "                            # alternative='less' соответствует альтернативной гипотезе: Dist(a)<Dist(b)\n",
    "                            # alternative='greater' соответствует альтернативной гипотезе: Dist(a)>Dist(b)\n",
    ")"
   ]
  },
  {
   "cell_type": "code",
   "execution_count": 179,
   "id": "4fc0628c",
   "metadata": {},
   "outputs": [
    {
     "name": "stdout",
     "output_type": "stream",
     "text": [
      "pvalue=0.4532273739367588 > 0.05\n",
      "Нулевая гипотеза находит подтверждение! Распределения метрики в группах МСК и СПБ равны\n"
     ]
    }
   ],
   "source": [
    "if mw_test.pvalue > alpha:\n",
    "    print(f'pvalue={mw_test.pvalue} > {alpha}')\n",
    "    print('Нулевая гипотеза находит подтверждение! Распределения метрики в группах МСК и СПБ равны')\n",
    "else:\n",
    "    print(f'pvalue={mw_test.pvalue} < {alpha}')\n",
    "    print('Нулевая гипотеза не находит подтверждения! Распределения метрики в группах МСК и СПБ различаются')"
   ]
  },
  {
   "cell_type": "markdown",
   "id": "6953e84c",
   "metadata": {
    "id": "6953e84c"
   },
   "source": [
    "## 3. Аналитическая записка\n",
    "По результатам анализа данных подготовьте аналитическую записку, в которой опишете:\n",
    "\n",
    "- Выбранный тип t-теста и уровень статистической значимости.\n",
    "\n",
    "- Результат теста, или p-value.\n",
    "\n",
    "- Вывод на основе полученного p-value, то есть интерпретацию результатов.\n",
    "\n",
    "- Одну или две возможные причины, объясняющие полученные результаты.\n",
    "\n"
   ]
  },
  {
   "cell_type": "markdown",
   "id": "d0aa487a",
   "metadata": {},
   "source": [
    "- Был выбран тест Манна-Уитни, в качестве уровня знаимости было выбрано 5%\n",
    "- pvalue=0.4532273739367588\n",
    "- Мы не можем отвергнуть гипотезу о равенстве метрик в Москве и СПб\n",
    "- Обе выборки являются данным похожей структуры, что видно визуально из boxplot|гистограммы и статистически на основе собранных описательных статистик, можно говорить что привычки к чтению у жителей Москвы и Санкт-Петербурга похожи. Более полная картина у нас была бы если бы имели данные о пользовательской информации пол, возраст, привычки."
   ]
  },
  {
   "cell_type": "markdown",
   "id": "hc1d6jVISegz",
   "metadata": {
    "id": "hc1d6jVISegz"
   },
   "source": [
    "----"
   ]
  },
  {
   "cell_type": "markdown",
   "id": "NqOUIYhbrIfC",
   "metadata": {
    "id": "NqOUIYhbrIfC"
   },
   "source": [
    "# Часть 2. Анализ результатов A/B-тестирования"
   ]
  },
  {
   "cell_type": "markdown",
   "id": "tDwMKFNGsClr",
   "metadata": {
    "id": "tDwMKFNGsClr"
   },
   "source": [
    "Теперь вам нужно проанализировать другие данные. Представьте, что к вам обратились представители интернет-магазина BitMotion Kit, в котором продаются геймифицированные товары для тех, кто ведёт здоровый образ жизни. У него есть своя целевая аудитория, даже появились хиты продаж: эспандер со счётчиком и напоминанием, так и подстольный велотренажёр с Bluetooth.\n",
    "\n",
    "В будущем компания хочет расширить ассортимент товаров. Но перед этим нужно решить одну проблему. Интерфейс онлайн-магазина слишком сложен для пользователей — об этом говорят отзывы.\n",
    "\n",
    "Чтобы привлечь новых клиентов и увеличить число продаж, владельцы магазина разработали новую версию сайта и протестировали его на части пользователей. По задумке, это решение доказуемо повысит количество пользователей, которые совершат покупку.\n",
    "\n",
    "Ваша задача — провести оценку результатов A/B-теста. В вашем распоряжении:\n",
    "\n",
    "* данные о действиях пользователей и распределении их на группы,\n",
    "\n",
    "* техническое задание.\n",
    "\n",
    "Оцените корректность проведения теста и проанализируйте его результаты."
   ]
  },
  {
   "cell_type": "markdown",
   "id": "UNXAAyF5r9Rk",
   "metadata": {
    "id": "UNXAAyF5r9Rk"
   },
   "source": [
    "## 1. Опишите цели исследования.\n",
    "\n"
   ]
  },
  {
   "cell_type": "markdown",
   "id": "kHx-51yES8bd",
   "metadata": {
    "id": "kHx-51yES8bd"
   },
   "source": [
    "Интерфейс онлайн-магазина слишком сложен для пользователей — об этом говорят отзывы.\n",
    "Чтобы привлечь новых клиентов и увеличить число продаж, владельцы магазина разработали новую версию сайта и протестировали его на части пользователей. По задумке, это решение доказуемо повысит количество пользователей, которые совершат покупку."
   ]
  },
  {
   "cell_type": "markdown",
   "id": "_CZryx2OsH-s",
   "metadata": {
    "id": "_CZryx2OsH-s"
   },
   "source": [
    "## 2. Загрузите данные, оцените их целостность.\n"
   ]
  },
  {
   "cell_type": "code",
   "execution_count": 188,
   "id": "DjFcJbeGsTIg",
   "metadata": {
    "id": "DjFcJbeGsTIg"
   },
   "outputs": [],
   "source": [
    "participants = pd.read_csv('https://code.s3.yandex.net/datasets/ab_test_participants.csv')\n",
    "events = pd.read_csv('https://code.s3.yandex.net/datasets/ab_test_events.zip',\n",
    "                     parse_dates=['event_dt'], low_memory=False)"
   ]
  },
  {
   "cell_type": "markdown",
   "id": "d0466428",
   "metadata": {},
   "source": [
    "Первые строки"
   ]
  },
  {
   "cell_type": "code",
   "execution_count": 190,
   "id": "b9215a39",
   "metadata": {
    "scrolled": true
   },
   "outputs": [
    {
     "data": {
      "text/html": [
       "<div>\n",
       "<style scoped>\n",
       "    .dataframe tbody tr th:only-of-type {\n",
       "        vertical-align: middle;\n",
       "    }\n",
       "\n",
       "    .dataframe tbody tr th {\n",
       "        vertical-align: top;\n",
       "    }\n",
       "\n",
       "    .dataframe thead th {\n",
       "        text-align: right;\n",
       "    }\n",
       "</style>\n",
       "<table border=\"1\" class=\"dataframe\">\n",
       "  <thead>\n",
       "    <tr style=\"text-align: right;\">\n",
       "      <th></th>\n",
       "      <th>user_id</th>\n",
       "      <th>group</th>\n",
       "      <th>ab_test</th>\n",
       "      <th>device</th>\n",
       "    </tr>\n",
       "  </thead>\n",
       "  <tbody>\n",
       "    <tr>\n",
       "      <th>0</th>\n",
       "      <td>0002CE61FF2C4011</td>\n",
       "      <td>B</td>\n",
       "      <td>interface_eu_test</td>\n",
       "      <td>Mac</td>\n",
       "    </tr>\n",
       "    <tr>\n",
       "      <th>1</th>\n",
       "      <td>001064FEAAB631A1</td>\n",
       "      <td>B</td>\n",
       "      <td>recommender_system_test</td>\n",
       "      <td>Android</td>\n",
       "    </tr>\n",
       "    <tr>\n",
       "      <th>2</th>\n",
       "      <td>001064FEAAB631A1</td>\n",
       "      <td>A</td>\n",
       "      <td>interface_eu_test</td>\n",
       "      <td>Android</td>\n",
       "    </tr>\n",
       "    <tr>\n",
       "      <th>3</th>\n",
       "      <td>0010A1C096941592</td>\n",
       "      <td>A</td>\n",
       "      <td>recommender_system_test</td>\n",
       "      <td>Android</td>\n",
       "    </tr>\n",
       "    <tr>\n",
       "      <th>4</th>\n",
       "      <td>001E72F50D1C48FA</td>\n",
       "      <td>A</td>\n",
       "      <td>interface_eu_test</td>\n",
       "      <td>Mac</td>\n",
       "    </tr>\n",
       "  </tbody>\n",
       "</table>\n",
       "</div>"
      ],
      "text/plain": [
       "            user_id group                  ab_test   device\n",
       "0  0002CE61FF2C4011     B        interface_eu_test      Mac\n",
       "1  001064FEAAB631A1     B  recommender_system_test  Android\n",
       "2  001064FEAAB631A1     A        interface_eu_test  Android\n",
       "3  0010A1C096941592     A  recommender_system_test  Android\n",
       "4  001E72F50D1C48FA     A        interface_eu_test      Mac"
      ]
     },
     "execution_count": 190,
     "metadata": {},
     "output_type": "execute_result"
    }
   ],
   "source": [
    "participants.head()"
   ]
  },
  {
   "cell_type": "code",
   "execution_count": 191,
   "id": "5725a47f",
   "metadata": {},
   "outputs": [
    {
     "data": {
      "text/html": [
       "<div>\n",
       "<style scoped>\n",
       "    .dataframe tbody tr th:only-of-type {\n",
       "        vertical-align: middle;\n",
       "    }\n",
       "\n",
       "    .dataframe tbody tr th {\n",
       "        vertical-align: top;\n",
       "    }\n",
       "\n",
       "    .dataframe thead th {\n",
       "        text-align: right;\n",
       "    }\n",
       "</style>\n",
       "<table border=\"1\" class=\"dataframe\">\n",
       "  <thead>\n",
       "    <tr style=\"text-align: right;\">\n",
       "      <th></th>\n",
       "      <th>user_id</th>\n",
       "      <th>event_dt</th>\n",
       "      <th>event_name</th>\n",
       "      <th>details</th>\n",
       "    </tr>\n",
       "  </thead>\n",
       "  <tbody>\n",
       "    <tr>\n",
       "      <th>0</th>\n",
       "      <td>GLOBAL</td>\n",
       "      <td>2020-12-01 00:00:00</td>\n",
       "      <td>End of Black Friday Ads Campaign</td>\n",
       "      <td>ZONE_CODE15</td>\n",
       "    </tr>\n",
       "    <tr>\n",
       "      <th>1</th>\n",
       "      <td>CCBE9E7E99F94A08</td>\n",
       "      <td>2020-12-01 00:00:11</td>\n",
       "      <td>registration</td>\n",
       "      <td>0.0</td>\n",
       "    </tr>\n",
       "    <tr>\n",
       "      <th>2</th>\n",
       "      <td>GLOBAL</td>\n",
       "      <td>2020-12-01 00:00:25</td>\n",
       "      <td>product_page</td>\n",
       "      <td>NaN</td>\n",
       "    </tr>\n",
       "    <tr>\n",
       "      <th>3</th>\n",
       "      <td>CCBE9E7E99F94A08</td>\n",
       "      <td>2020-12-01 00:00:33</td>\n",
       "      <td>login</td>\n",
       "      <td>NaN</td>\n",
       "    </tr>\n",
       "    <tr>\n",
       "      <th>4</th>\n",
       "      <td>CCBE9E7E99F94A08</td>\n",
       "      <td>2020-12-01 00:00:52</td>\n",
       "      <td>product_page</td>\n",
       "      <td>NaN</td>\n",
       "    </tr>\n",
       "  </tbody>\n",
       "</table>\n",
       "</div>"
      ],
      "text/plain": [
       "            user_id            event_dt                        event_name  \\\n",
       "0            GLOBAL 2020-12-01 00:00:00  End of Black Friday Ads Campaign   \n",
       "1  CCBE9E7E99F94A08 2020-12-01 00:00:11                      registration   \n",
       "2            GLOBAL 2020-12-01 00:00:25                      product_page   \n",
       "3  CCBE9E7E99F94A08 2020-12-01 00:00:33                             login   \n",
       "4  CCBE9E7E99F94A08 2020-12-01 00:00:52                      product_page   \n",
       "\n",
       "       details  \n",
       "0  ZONE_CODE15  \n",
       "1          0.0  \n",
       "2          NaN  \n",
       "3          NaN  \n",
       "4          NaN  "
      ]
     },
     "execution_count": 191,
     "metadata": {},
     "output_type": "execute_result"
    }
   ],
   "source": [
    "events.head()"
   ]
  },
  {
   "cell_type": "markdown",
   "id": "ed0c60e2",
   "metadata": {},
   "source": [
    "Типы данных"
   ]
  },
  {
   "cell_type": "code",
   "execution_count": 193,
   "id": "6410dfb2",
   "metadata": {},
   "outputs": [
    {
     "data": {
      "text/plain": [
       "user_id    object\n",
       "group      object\n",
       "ab_test    object\n",
       "device     object\n",
       "dtype: object"
      ]
     },
     "execution_count": 193,
     "metadata": {},
     "output_type": "execute_result"
    }
   ],
   "source": [
    "participants.dtypes"
   ]
  },
  {
   "cell_type": "code",
   "execution_count": 194,
   "id": "52f46697",
   "metadata": {},
   "outputs": [
    {
     "data": {
      "text/plain": [
       "user_id               object\n",
       "event_dt      datetime64[ns]\n",
       "event_name            object\n",
       "details               object\n",
       "dtype: object"
      ]
     },
     "execution_count": 194,
     "metadata": {},
     "output_type": "execute_result"
    }
   ],
   "source": [
    "events.dtypes"
   ]
  },
  {
   "cell_type": "markdown",
   "id": "e41edeb8",
   "metadata": {},
   "source": [
    "Пропуски"
   ]
  },
  {
   "cell_type": "code",
   "execution_count": 196,
   "id": "48706f82",
   "metadata": {},
   "outputs": [
    {
     "name": "stdout",
     "output_type": "stream",
     "text": [
      "user_id    0\n",
      "group      0\n",
      "ab_test    0\n",
      "device     0\n",
      "dtype: int64\n"
     ]
    }
   ],
   "source": [
    "print(participants.isna().sum())"
   ]
  },
  {
   "cell_type": "code",
   "execution_count": 197,
   "id": "c3e2cd50",
   "metadata": {},
   "outputs": [
    {
     "name": "stdout",
     "output_type": "stream",
     "text": [
      "user_id            0\n",
      "event_dt           0\n",
      "event_name         0\n",
      "details       538264\n",
      "dtype: int64\n"
     ]
    }
   ],
   "source": [
    "print(events.isna().sum())"
   ]
  },
  {
   "cell_type": "markdown",
   "id": "79020f9c",
   "metadata": {},
   "source": [
    "Дубликаты"
   ]
  },
  {
   "cell_type": "code",
   "execution_count": 199,
   "id": "6742e1eb",
   "metadata": {},
   "outputs": [
    {
     "name": "stdout",
     "output_type": "stream",
     "text": [
      "Количество строк в DataFrame: 787286\n",
      "Количество дублированных строк в DataFrame: 36318\n",
      "Количество уникальных пользователей: 144184\n"
     ]
    }
   ],
   "source": [
    "#Проверка явных дубликатов\n",
    "unique_users_ev = events['user_id'].nunique()\n",
    "row_count_ev_1 = events.duplicated().sum() \n",
    "row_count_ev_2 = len(events) \n",
    "print(f\"Количество строк в DataFrame: {row_count_ev_2}\")\n",
    "print(f\"Количество дублированных строк в DataFrame: {row_count_ev_1}\")\n",
    "print(f\"Количество уникальных пользователей: {unique_users_ev}\")"
   ]
  },
  {
   "cell_type": "code",
   "execution_count": 200,
   "id": "86e9a546",
   "metadata": {},
   "outputs": [],
   "source": [
    "#Удаляем дубликаты\n",
    "events=events.drop_duplicates(keep='last')"
   ]
  },
  {
   "cell_type": "code",
   "execution_count": 201,
   "id": "9a89ec99",
   "metadata": {},
   "outputs": [
    {
     "name": "stdout",
     "output_type": "stream",
     "text": [
      "Количество строк в DataFrame: 14525\n",
      "Количество дублированных строк в DataFrame: 0\n",
      "Количество уникальных пользователей: 13638\n"
     ]
    }
   ],
   "source": [
    "#Проверка явных дубликатов\n",
    "unique_users_pa = participants['user_id'].nunique()\n",
    "row_count_pa_1 = participants.duplicated().sum() \n",
    "row_count_pa_2 = len(participants) \n",
    "print(f\"Количество строк в DataFrame: {row_count_pa_2}\")\n",
    "print(f\"Количество дублированных строк в DataFrame: {row_count_pa_1}\")\n",
    "print(f\"Количество уникальных пользователей: {unique_users_pa}\")"
   ]
  },
  {
   "cell_type": "markdown",
   "id": "CnzA-efasUrk",
   "metadata": {
    "id": "CnzA-efasUrk"
   },
   "source": [
    "## 3. По таблице `ab_test_participants` оцените корректность проведения теста:\n",
    "\n",
    "   3\\.1 Выделите пользователей, участвующих в тесте, и проверьте:\n",
    "\n",
    "   - соответствие требованиям технического задания,\n",
    "\n",
    "   - равномерность распределения пользователей по группам теста,\n",
    "\n",
    "   - отсутствие пересечений с конкурирующим тестом (нет пользователей, участвующих одновременно в двух тестовых группах)."
   ]
  },
  {
   "cell_type": "code",
   "execution_count": 203,
   "id": "c590bff8",
   "metadata": {},
   "outputs": [],
   "source": [
    "#Разбиваем участников на тесты\n",
    "df_eu=participants[participants['ab_test']=='interface_eu_test'].copy()\n",
    "df_sys=participants[participants['ab_test']=='recommender_system_test'].copy()"
   ]
  },
  {
   "cell_type": "code",
   "execution_count": 204,
   "id": "68e008f0",
   "metadata": {},
   "outputs": [
    {
     "name": "stdout",
     "output_type": "stream",
     "text": [
      "10850\n",
      "3675\n"
     ]
    }
   ],
   "source": [
    "print(len(df_eu))\n",
    "print(len(df_sys))"
   ]
  },
  {
   "cell_type": "code",
   "execution_count": 205,
   "id": "f7940a90",
   "metadata": {},
   "outputs": [],
   "source": [
    "#датасет для объединенной диаграммы\n",
    "df_part=df_eu.pivot_table(index='device', columns='group', values='user_id', aggfunc='nunique').reset_index()"
   ]
  },
  {
   "cell_type": "code",
   "execution_count": 206,
   "id": "c0240742",
   "metadata": {},
   "outputs": [
    {
     "data": {
      "image/png": "[encoded data removed]",
      "text/plain": [
       "<Figure size 1200x800 with 1 Axes>"
      ]
     },
     "metadata": {},
     "output_type": "display_data"
    }
   ],
   "source": [
    "# Строим столбчатую диаграмму\n",
    "df_part.plot(kind='bar', x='device', y=['A', 'B'])\n",
    "\n",
    "# Добавляем подписи к осям и заголовок\n",
    "plt.xlabel('Устройство')\n",
    "plt.ylabel('Количество уникальных пользователей')\n",
    "plt.title('Распределение пользователей в тестовой и контрольной группе')\n",
    "\n",
    "# Показываем график\n",
    "\n",
    "plt.xticks(rotation=45)\n",
    "plt.legend(title='test_group')\n",
    "plt.show()"
   ]
  },
  {
   "cell_type": "code",
   "execution_count": 207,
   "id": "40b98899",
   "metadata": {},
   "outputs": [
    {
     "name": "stdout",
     "output_type": "stream",
     "text": [
      "Количество пользователей в пересечении: 0\n"
     ]
    }
   ],
   "source": [
    "# Нахождение пересечения по user_id\n",
    "intersection = pd.merge(df_eu[df_eu['group']=='A'], df_eu[df_eu['group']=='B'], on='user_id', how='inner')\n",
    "\n",
    "# Вывод результата\n",
    "print(\"Количество пользователей в пересечении:\", len(intersection))"
   ]
  },
  {
   "cell_type": "code",
   "execution_count": 208,
   "id": "6fba8be1",
   "metadata": {},
   "outputs": [
    {
     "name": "stdout",
     "output_type": "stream",
     "text": [
      "Количество пользователей в пересечении: 116\n"
     ]
    }
   ],
   "source": [
    "# Нахождение пересечения по user_id\n",
    "intersection_2 = pd.merge(df_eu[df_eu['group']=='B'], df_sys[df_sys['group']=='B'], on='user_id', how='inner')\n",
    "\n",
    "# Вывод результата\n",
    "print(\"Количество пользователей в пересечении:\", len(intersection_2))"
   ]
  },
  {
   "cell_type": "code",
   "execution_count": 209,
   "id": "2d25c278",
   "metadata": {},
   "outputs": [],
   "source": [
    "# Удаляем строки, где user_id из пересечения_2\n",
    "df_eu_2 = df_eu[~df_eu['user_id'].isin(intersection_2)]"
   ]
  },
  {
   "cell_type": "markdown",
   "id": "GjulgSrlsqUU",
   "metadata": {
    "id": "GjulgSrlsqUU"
   },
   "source": [
    "3\\.2 Проанализируйте данные о пользовательской активности по таблице `ab_test_events`:\n",
    "\n",
    "- оставьте только события, связанные с участвующими в изучаемом тесте пользователями;"
   ]
  },
  {
   "cell_type": "code",
   "execution_count": 211,
   "id": "QMt0Ybo_swDK",
   "metadata": {
    "id": "QMt0Ybo_swDK"
   },
   "outputs": [],
   "source": [
    "fil_df = events[events[\"user_id\"].isin(df_eu_2[\"user_id\"])]"
   ]
  },
  {
   "cell_type": "markdown",
   "id": "fBZ4DC2xswZJ",
   "metadata": {
    "id": "fBZ4DC2xswZJ"
   },
   "source": [
    "- определите горизонт анализа: рассчитайте время (лайфтайм) совершения события пользователем после регистрации и оставьте только те события, которые были выполнены в течение первых семи дней с момента регистрации;"
   ]
  },
  {
   "cell_type": "code",
   "execution_count": 213,
   "id": "0742cc7b",
   "metadata": {},
   "outputs": [
    {
     "name": "stdout",
     "output_type": "stream",
     "text": [
      "            user_id     registration_dt\n",
      "0  0002CE61FF2C4011 2020-12-07 04:37:31\n",
      "1  001064FEAAB631A1 2020-12-20 14:12:45\n",
      "2  001E72F50D1C48FA 2020-12-17 15:44:05\n",
      "3  002412F1EB3F6E38 2020-12-09 09:36:50\n",
      "4  002540BE89C930FB 2020-12-08 18:06:07\n"
     ]
    }
   ],
   "source": [
    "# Фильтрация событий регистрации\n",
    "registration_dates = fil_df[fil_df['event_name'] == 'registration'][['user_id', 'event_dt']]\n",
    "\n",
    "# Переименование столбца для удобства\n",
    "\n",
    "registration_dates = (\n",
    "    registration_dates.groupby('user_id', as_index=False)['event_dt']\n",
    "      .min()                      # минимальная дата в группе\n",
    "      .rename(columns={'event_dt': 'registration_dt'})\n",
    ")\n",
    "print(registration_dates.head())"
   ]
  },
  {
   "cell_type": "code",
   "execution_count": 214,
   "id": "7ad0281d",
   "metadata": {},
   "outputs": [],
   "source": [
    "# Объединение по user_id\n",
    "df_all = pd.merge(fil_df, registration_dates, on='user_id', how='inner')"
   ]
  },
  {
   "cell_type": "code",
   "execution_count": 215,
   "id": "sES4-dKts0Yb",
   "metadata": {
    "id": "sES4-dKts0Yb"
   },
   "outputs": [
    {
     "name": "stdout",
     "output_type": "stream",
     "text": [
      "            user_id            event_dt    event_name details  \\\n",
      "0  5F506CEBEDC05D30 2020-12-06 14:10:01  registration     0.0   \n",
      "1  51278A006E918D97 2020-12-06 14:37:25  registration    -3.8   \n",
      "2  A0C1E8EFAD874D8B 2020-12-06 17:20:22  registration   -3.32   \n",
      "3  275A8D6254ACF530 2020-12-06 19:36:54  registration   -0.48   \n",
      "4  0B704EB2DC7FCA4B 2020-12-06 19:42:20  registration     0.0   \n",
      "\n",
      "      registration_dt  lifetime  \n",
      "0 2020-12-06 14:10:01         0  \n",
      "1 2020-12-06 14:37:25         0  \n",
      "2 2020-12-06 17:20:22         0  \n",
      "3 2020-12-06 19:36:54         0  \n",
      "4 2020-12-06 19:42:20         0  \n"
     ]
    },
    {
     "name": "stderr",
     "output_type": "stream",
     "text": [
      "C:\\Users\\Lenovo\\AppData\\Local\\Temp\\ipykernel_13332\\1839101381.py:2: FutureWarning: errors='ignore' is deprecated and will raise in a future version. Use to_datetime without passing `errors` and catch exceptions explicitly instead\n",
      "  df_all['event_dt'] = pd.to_datetime(df_all['event_dt'], errors='ignore')\n",
      "C:\\Users\\Lenovo\\AppData\\Local\\Temp\\ipykernel_13332\\1839101381.py:3: FutureWarning: errors='ignore' is deprecated and will raise in a future version. Use to_datetime without passing `errors` and catch exceptions explicitly instead\n",
      "  df_all['registration_dt'] = pd.to_datetime(df_all['registration_dt'], errors='ignore')\n"
     ]
    }
   ],
   "source": [
    "# Убедитесь, что столбцы в формате datetime\n",
    "df_all['event_dt'] = pd.to_datetime(df_all['event_dt'], errors='ignore')\n",
    "df_all['registration_dt'] = pd.to_datetime(df_all['registration_dt'], errors='ignore')\n",
    "\n",
    "# Расчёт лайфтайма\n",
    "df_all['lifetime'] = (df_all['event_dt'] - df_all['registration_dt']).dt.days\n",
    "\n",
    "# Фильтрация событий, произошедших в первые 7 дней\n",
    "df_filtered = df_all[df_all['lifetime'] <= 7]\n",
    "\n",
    "print(df_filtered.head())"
   ]
  },
  {
   "cell_type": "markdown",
   "id": "7cf1df48",
   "metadata": {},
   "source": [
    "Оцените достаточность выборки для получения статистически значимых результатов A/B-теста. Заданные параметры:\n",
    "\n",
    "- базовый показатель конверсии — 30%,\n",
    "\n",
    "- мощность теста — 80%,\n",
    "\n",
    "- достоверность теста — 95%."
   ]
  },
  {
   "cell_type": "code",
   "execution_count": 217,
   "id": "af69245c",
   "metadata": {},
   "outputs": [
    {
     "name": "stdout",
     "output_type": "stream",
     "text": [
      "Необходимый размер выборки для каждой группы: 3761\n"
     ]
    }
   ],
   "source": [
    "# Задаём параметры\n",
    "alpha = 0.05  # Уровень значимости\n",
    "beta = 0.2  # Ошибка второго рода, часто 1 - мощность\n",
    "power = 1 - beta  # Мощность теста\n",
    "base_conversion = 0.30  # Базовая конверсия\n",
    "expected_increase = 0.03  # Ожидаемый прирост (3 п.п.)\n",
    "\n",
    "# Рассчитываем размер эффекта для пропорций\n",
    "effect_size = proportion_effectsize(base_conversion, base_conversion + expected_increase)  # Минимальный детектируемый эффект посчитанный согласно формуле\n",
    "\n",
    "# Инициализируем класс NormalIndPower\n",
    "power_analysis = NormalIndPower()\n",
    "\n",
    "# Рассчитываем размер выборки\n",
    "sample_size = power_analysis.solve_power(\n",
    "    effect_size = effect_size,\n",
    "    power = power,\n",
    "    alpha = alpha,\n",
    "    ratio = 1 # Равномерное распределение выборок\n",
    ")\n",
    "\n",
    "print(f\"Необходимый размер выборки для каждой группы: {int(sample_size)}\")"
   ]
  },
  {
   "cell_type": "markdown",
   "id": "00bcd7be",
   "metadata": {},
   "source": [
    "**Вывод**:\n",
    "Есть достаточный объем выборки для проведения АБ-тестирования."
   ]
  },
  {
   "cell_type": "markdown",
   "id": "SadyUDgZs0t3",
   "metadata": {
    "id": "SadyUDgZs0t3"
   },
   "source": [
    "- рассчитайте для каждой группы количество посетителей, сделавших покупку, и общее количество посетителей."
   ]
  },
  {
   "cell_type": "code",
   "execution_count": 220,
   "id": "c1597eb8",
   "metadata": {},
   "outputs": [],
   "source": [
    "df_final=pd.merge(df_eu, df_filtered, on='user_id', how='inner')"
   ]
  },
  {
   "cell_type": "code",
   "execution_count": 221,
   "id": "e536fd03",
   "metadata": {},
   "outputs": [
    {
     "data": {
      "text/html": [
       "<div>\n",
       "<style scoped>\n",
       "    .dataframe tbody tr th:only-of-type {\n",
       "        vertical-align: middle;\n",
       "    }\n",
       "\n",
       "    .dataframe tbody tr th {\n",
       "        vertical-align: top;\n",
       "    }\n",
       "\n",
       "    .dataframe thead th {\n",
       "        text-align: right;\n",
       "    }\n",
       "</style>\n",
       "<table border=\"1\" class=\"dataframe\">\n",
       "  <thead>\n",
       "    <tr style=\"text-align: right;\">\n",
       "      <th></th>\n",
       "      <th>total_users</th>\n",
       "      <th>purchased_users</th>\n",
       "    </tr>\n",
       "    <tr>\n",
       "      <th>group</th>\n",
       "      <th></th>\n",
       "      <th></th>\n",
       "    </tr>\n",
       "  </thead>\n",
       "  <tbody>\n",
       "    <tr>\n",
       "      <th>A</th>\n",
       "      <td>5383</td>\n",
       "      <td>1542</td>\n",
       "    </tr>\n",
       "    <tr>\n",
       "      <th>B</th>\n",
       "      <td>5467</td>\n",
       "      <td>1687</td>\n",
       "    </tr>\n",
       "  </tbody>\n",
       "</table>\n",
       "</div>"
      ],
      "text/plain": [
       "       total_users  purchased_users\n",
       "group                              \n",
       "A             5383             1542\n",
       "B             5467             1687"
      ]
     },
     "execution_count": 221,
     "metadata": {},
     "output_type": "execute_result"
    }
   ],
   "source": [
    "# 1. Считаем общее кол-во уникальных пользователей в каждой группе\n",
    "total_users_by_group = df_final.groupby('group')['user_id'].nunique()\n",
    "\n",
    "# 2. Считаем, сколько уникальных пользователей совершили purchase\n",
    "purchase_df = df_final[df_final['event_name'] == 'purchase']\n",
    "purchased_users_by_group = purchase_df.groupby('group')['user_id'].nunique()\n",
    "\n",
    "# Формируем итоговую таблицу\n",
    "summary_df = pd.DataFrame({\n",
    "    'total_users': total_users_by_group,\n",
    "    'purchased_users': purchased_users_by_group\n",
    "})\n",
    "\n",
    "summary_df"
   ]
  },
  {
   "cell_type": "markdown",
   "id": "sh1JpGvAs5E3",
   "metadata": {
    "id": "sh1JpGvAs5E3"
   },
   "source": [
    "- сделайте предварительный общий вывод об изменении пользовательской активности в тестовой группе по сравнению с контрольной."
   ]
  },
  {
   "cell_type": "code",
   "execution_count": 223,
   "id": "hHTHPkJYs8mE",
   "metadata": {
    "id": "hHTHPkJYs8mE"
   },
   "outputs": [
    {
     "name": "stdout",
     "output_type": "stream",
     "text": [
      "Пользователи в тестовой выборке стали чаще покупать 28.65 в контрольной против 30.86 в тестовой\n"
     ]
    }
   ],
   "source": [
    "print(f'Пользователи в тестовой выборке стали чаще покупать \\\n",
    "{round(100*summary_df.loc[\"A\", \"purchased_users\"]/summary_df.loc[\"A\", \"total_users\"],2)} \\\n",
    "в контрольной против {round(100*summary_df.loc[\"B\", \"purchased_users\"]/summary_df.loc[\"B\", \"total_users\"],2)} в тестовой')"
   ]
  },
  {
   "cell_type": "markdown",
   "id": "IKZ1Oo3Ws919",
   "metadata": {
    "id": "IKZ1Oo3Ws919"
   },
   "source": [
    "## 4. Проведите оценку результатов A/B-тестирования:"
   ]
  },
  {
   "cell_type": "markdown",
   "id": "dcUdBSmvtC-E",
   "metadata": {
    "id": "dcUdBSmvtC-E"
   },
   "source": [
    "- Проверьте изменение конверсии подходящим статистическим тестом, учитывая все этапы проверки гипотез."
   ]
  },
  {
   "cell_type": "markdown",
   "id": "586e94a1",
   "metadata": {},
   "source": [
    "Гипотеза\n",
    "H₀ (нулевая гипотеза) — конверсия продаж в тестовой группе не больше, чем в контрольной. <br>\n",
    "H₁ (альтернативная гипотеза) — конверсия продаж в тестовой группе больше, чем в контрольной группе"
   ]
  },
  {
   "cell_type": "code",
   "execution_count": 227,
   "id": "l_KOziBQtL3t",
   "metadata": {
    "id": "l_KOziBQtL3t"
   },
   "outputs": [],
   "source": [
    "n_a = summary_df.loc[\"A\", \"total_users\"]  \n",
    "n_b = summary_df.loc[\"B\", \"total_users\"] \n",
    "\n",
    "m_a = summary_df.loc[\"A\", \"purchased_users\"] \n",
    "\n",
    "m_b = summary_df.loc[\"B\", \"purchased_users\"] \n",
    "\n",
    "p_a, p_b = m_a/n_a, m_b/n_b # посчитайте доли успехов для каждой группы: A и B\n",
    "dif=p_b-p_a"
   ]
  },
  {
   "cell_type": "code",
   "execution_count": 228,
   "id": "e49768df",
   "metadata": {},
   "outputs": [],
   "source": [
    "alpha = 0.05  ## установите уровень значимости\n",
    "\n",
    "stat_ztest, p_value_ztest = proportions_ztest( # проведите Z-тест пропорций\n",
    "    [m_b, m_a],\n",
    "    [n_b, n_a],\n",
    "    alternative='larger'\n",
    ")"
   ]
  },
  {
   "cell_type": "code",
   "execution_count": 229,
   "id": "4a744cdc",
   "metadata": {},
   "outputs": [
    {
     "name": "stdout",
     "output_type": "stream",
     "text": [
      "pvalue=0.005870328999063137\n",
      "Нулевая гипотеза не находит подтверждения!\n",
      "Интерпретация: новый интерфейс увеличил ключевую метрику — долю продаж\n"
     ]
    }
   ],
   "source": [
    "print(f'pvalue={p_value_ztest}') # выведите полученное p-value \n",
    "\n",
    "if p_value_ztest > alpha:\n",
    "    print('Нулевая гипотеза находит подтверждение!')\n",
    "    print('Интерпретация: новый интрефейс не увеличил ключевую метрику — долю продаж')\n",
    "else:\n",
    "    print('Нулевая гипотеза не находит подтверждения!')\n",
    "    print('Интерпретация: новый интерфейс увеличил ключевую метрику — долю продаж')"
   ]
  },
  {
   "cell_type": "markdown",
   "id": "9jkyKOjgtGoc",
   "metadata": {
    "id": "9jkyKOjgtGoc"
   },
   "source": [
    "- Опишите выводы по проведённой оценке результатов A/B-тестирования. Что можно сказать про результаты A/B-тестирования? Был ли достигнут ожидаемый эффект в изменении конверсии?"
   ]
  },
  {
   "cell_type": "markdown",
   "id": "npoPPSKytKvR",
   "metadata": {
    "id": "npoPPSKytKvR"
   },
   "source": [
    "***Вывод***:\n",
    "В рамках исследования мы можем говорить, что новый интерфейс сайта статистически значимо повышает ковнерсию продаж. Z-тест смог отвергнуть нулевую гипотезу, был отмечен рост в 2.2 п.п. Целевая метрика в 3 п.п. не была достигнута."
   ]
  }
 ],
 "metadata": {
  "ExecuteTimeLog": [
   {
    "duration": 47,
    "start_time": "2025-04-07T12:54:20.832Z"
   },
   {
    "duration": 784,
    "start_time": "2025-04-07T12:54:59.884Z"
   },
   {
    "duration": 54,
    "start_time": "2025-04-07T12:55:00.670Z"
   },
   {
    "duration": 13,
    "start_time": "2025-04-07T12:55:23.091Z"
   },
   {
    "duration": 495,
    "start_time": "2025-04-07T13:05:44.151Z"
   },
   {
    "duration": 80,
    "start_time": "2025-04-07T13:07:27.568Z"
   },
   {
    "duration": 27,
    "start_time": "2025-04-07T13:07:37.241Z"
   },
   {
    "duration": 116,
    "start_time": "2025-04-07T13:09:46.568Z"
   },
   {
    "duration": 26,
    "start_time": "2025-04-07T13:09:52.813Z"
   },
   {
    "duration": 25,
    "start_time": "2025-04-07T13:10:50.339Z"
   },
   {
    "duration": 17,
    "start_time": "2025-04-07T13:11:41.059Z"
   },
   {
    "duration": 11,
    "start_time": "2025-04-07T13:12:11.785Z"
   },
   {
    "duration": 9,
    "start_time": "2025-04-07T13:19:15.492Z"
   },
   {
    "duration": 6,
    "start_time": "2025-04-07T13:19:40.933Z"
   },
   {
    "duration": 4,
    "start_time": "2025-04-07T13:22:01.766Z"
   },
   {
    "duration": 4,
    "start_time": "2025-04-07T13:22:34.581Z"
   },
   {
    "duration": 5,
    "start_time": "2025-04-07T13:24:01.703Z"
   },
   {
    "duration": 9,
    "start_time": "2025-04-07T13:24:10.165Z"
   },
   {
    "duration": 9,
    "start_time": "2025-04-07T13:24:21.806Z"
   },
   {
    "duration": 5,
    "start_time": "2025-04-07T13:24:28.174Z"
   },
   {
    "duration": 137,
    "start_time": "2025-04-07T13:35:17.289Z"
   },
   {
    "duration": 55,
    "start_time": "2025-04-07T13:36:34.425Z"
   },
   {
    "duration": 3948,
    "start_time": "2025-04-07T13:37:21.419Z"
   },
   {
    "duration": 124,
    "start_time": "2025-04-07T13:39:31.163Z"
   },
   {
    "duration": 13,
    "start_time": "2025-04-07T13:40:11.098Z"
   },
   {
    "duration": 7,
    "start_time": "2025-04-07T13:40:16.058Z"
   },
   {
    "duration": 6,
    "start_time": "2025-04-07T13:40:16.426Z"
   },
   {
    "duration": 158,
    "start_time": "2025-04-07T13:40:36.451Z"
   },
   {
    "duration": 5,
    "start_time": "2025-04-07T13:40:47.379Z"
   },
   {
    "duration": 146,
    "start_time": "2025-04-07T13:49:34.341Z"
   },
   {
    "duration": 7,
    "start_time": "2025-04-07T14:02:33.785Z"
   },
   {
    "duration": 10,
    "start_time": "2025-04-07T14:08:42.607Z"
   },
   {
    "duration": 12,
    "start_time": "2025-04-07T14:08:57.106Z"
   },
   {
    "duration": 12,
    "start_time": "2025-04-07T14:17:34.414Z"
   },
   {
    "duration": 1402,
    "start_time": "2025-04-08T06:39:05.916Z"
   },
   {
    "duration": 96,
    "start_time": "2025-04-08T06:39:07.320Z"
   },
   {
    "duration": 7,
    "start_time": "2025-04-08T06:39:07.417Z"
   },
   {
    "duration": 22,
    "start_time": "2025-04-08T06:39:07.425Z"
   },
   {
    "duration": 69,
    "start_time": "2025-04-08T06:39:07.449Z"
   },
   {
    "duration": 38,
    "start_time": "2025-04-08T06:39:07.520Z"
   },
   {
    "duration": 180,
    "start_time": "2025-04-08T06:39:07.560Z"
   },
   {
    "duration": 8,
    "start_time": "2025-04-08T06:39:07.741Z"
   },
   {
    "duration": 120,
    "start_time": "2025-04-08T06:39:07.750Z"
   },
   {
    "duration": 2,
    "start_time": "2025-04-08T06:40:28.340Z"
   },
   {
    "duration": 12,
    "start_time": "2025-04-08T06:40:30.724Z"
   },
   {
    "duration": 7,
    "start_time": "2025-04-08T06:41:26.819Z"
   },
   {
    "duration": 3,
    "start_time": "2025-04-08T06:46:24.455Z"
   },
   {
    "duration": 42,
    "start_time": "2025-04-08T06:46:24.474Z"
   },
   {
    "duration": 7,
    "start_time": "2025-04-08T06:46:24.518Z"
   },
   {
    "duration": 7,
    "start_time": "2025-04-08T06:46:24.526Z"
   },
   {
    "duration": 9,
    "start_time": "2025-04-08T06:46:24.535Z"
   },
   {
    "duration": 5,
    "start_time": "2025-04-08T06:46:24.546Z"
   },
   {
    "duration": 156,
    "start_time": "2025-04-08T06:46:24.553Z"
   },
   {
    "duration": 6,
    "start_time": "2025-04-08T06:46:24.710Z"
   },
   {
    "duration": 2,
    "start_time": "2025-04-08T06:46:24.718Z"
   },
   {
    "duration": 16,
    "start_time": "2025-04-08T06:46:24.722Z"
   },
   {
    "duration": 8,
    "start_time": "2025-04-08T07:02:48.250Z"
   },
   {
    "duration": 1563,
    "start_time": "2025-04-08T07:03:01.082Z"
   },
   {
    "duration": 10,
    "start_time": "2025-04-08T07:03:05.164Z"
   },
   {
    "duration": 19,
    "start_time": "2025-04-08T07:06:05.298Z"
   },
   {
    "duration": 1691,
    "start_time": "2025-04-08T07:06:06.266Z"
   },
   {
    "duration": 169,
    "start_time": "2025-04-08T07:06:21.436Z"
   },
   {
    "duration": 173,
    "start_time": "2025-04-08T07:07:03.227Z"
   },
   {
    "duration": 5,
    "start_time": "2025-04-08T07:10:27.581Z"
   },
   {
    "duration": 108,
    "start_time": "2025-04-08T07:13:59.718Z"
   },
   {
    "duration": 6,
    "start_time": "2025-04-08T07:14:16.471Z"
   },
   {
    "duration": 11,
    "start_time": "2025-04-08T07:14:17.727Z"
   },
   {
    "duration": 13,
    "start_time": "2025-04-08T07:27:04.788Z"
   },
   {
    "duration": 10,
    "start_time": "2025-04-08T07:27:24.803Z"
   },
   {
    "duration": 1403,
    "start_time": "2025-04-08T11:19:29.388Z"
   },
   {
    "duration": 124,
    "start_time": "2025-04-08T11:19:30.793Z"
   },
   {
    "duration": 7,
    "start_time": "2025-04-08T11:19:30.918Z"
   },
   {
    "duration": 21,
    "start_time": "2025-04-08T11:19:30.927Z"
   },
   {
    "duration": 15,
    "start_time": "2025-04-08T11:19:30.950Z"
   },
   {
    "duration": 8,
    "start_time": "2025-04-08T11:19:30.966Z"
   },
   {
    "duration": 183,
    "start_time": "2025-04-08T11:19:30.975Z"
   },
   {
    "duration": 10,
    "start_time": "2025-04-08T11:19:31.160Z"
   },
   {
    "duration": 34,
    "start_time": "2025-04-08T11:19:31.172Z"
   },
   {
    "duration": 22,
    "start_time": "2025-04-08T11:19:31.208Z"
   },
   {
    "duration": 1584,
    "start_time": "2025-04-08T11:19:31.232Z"
   },
   {
    "duration": 20,
    "start_time": "2025-04-08T11:19:32.818Z"
   },
   {
    "duration": 197,
    "start_time": "2025-04-08T11:19:32.840Z"
   },
   {
    "duration": 7,
    "start_time": "2025-04-08T11:19:33.039Z"
   },
   {
    "duration": 23,
    "start_time": "2025-04-08T11:19:33.047Z"
   },
   {
    "duration": 66,
    "start_time": "2025-04-08T11:19:33.072Z"
   },
   {
    "duration": 80,
    "start_time": "2025-04-08T11:40:31.460Z"
   },
   {
    "duration": 1426,
    "start_time": "2025-04-08T11:41:36.749Z"
   },
   {
    "duration": 1498,
    "start_time": "2025-04-08T11:45:09.954Z"
   },
   {
    "duration": 1644,
    "start_time": "2025-04-08T11:45:27.454Z"
   },
   {
    "duration": 1649,
    "start_time": "2025-04-08T11:46:01.682Z"
   },
   {
    "duration": 1561,
    "start_time": "2025-04-08T11:49:01.144Z"
   },
   {
    "duration": 1644,
    "start_time": "2025-04-08T11:55:51.827Z"
   },
   {
    "duration": 44,
    "start_time": "2025-04-08T11:58:40.604Z"
   },
   {
    "duration": 9,
    "start_time": "2025-04-08T11:59:03.781Z"
   },
   {
    "duration": 290,
    "start_time": "2025-04-08T12:00:49.694Z"
   },
   {
    "duration": 9,
    "start_time": "2025-04-08T12:00:53.395Z"
   },
   {
    "duration": 201,
    "start_time": "2025-04-08T12:01:06.222Z"
   },
   {
    "duration": 67,
    "start_time": "2025-04-08T12:11:07.993Z"
   },
   {
    "duration": 8,
    "start_time": "2025-04-08T12:11:24.785Z"
   },
   {
    "duration": 15,
    "start_time": "2025-04-08T12:12:07.530Z"
   },
   {
    "duration": 28,
    "start_time": "2025-04-08T12:12:30.850Z"
   },
   {
    "duration": 8,
    "start_time": "2025-04-08T12:12:32.777Z"
   },
   {
    "duration": 92,
    "start_time": "2025-04-08T12:12:41.642Z"
   },
   {
    "duration": 11,
    "start_time": "2025-04-08T12:17:12.010Z"
   },
   {
    "duration": 7,
    "start_time": "2025-04-08T12:20:05.542Z"
   },
   {
    "duration": 14,
    "start_time": "2025-04-08T12:20:58.379Z"
   },
   {
    "duration": 16,
    "start_time": "2025-04-08T12:30:13.048Z"
   },
   {
    "duration": 25,
    "start_time": "2025-04-08T12:37:59.356Z"
   },
   {
    "duration": 11,
    "start_time": "2025-04-08T12:38:16.532Z"
   },
   {
    "duration": 9,
    "start_time": "2025-04-08T12:40:04.870Z"
   },
   {
    "duration": 32,
    "start_time": "2025-04-08T12:41:00.261Z"
   },
   {
    "duration": 12,
    "start_time": "2025-04-08T12:41:12.869Z"
   },
   {
    "duration": 29,
    "start_time": "2025-04-08T12:46:45.400Z"
   },
   {
    "duration": 92,
    "start_time": "2025-04-08T13:03:20.919Z"
   },
   {
    "duration": 87,
    "start_time": "2025-04-08T13:03:40.720Z"
   },
   {
    "duration": 3,
    "start_time": "2025-04-08T13:04:07.081Z"
   },
   {
    "duration": 86,
    "start_time": "2025-04-08T13:05:30.911Z"
   },
   {
    "duration": 114,
    "start_time": "2025-04-08T13:06:17.936Z"
   },
   {
    "duration": 108,
    "start_time": "2025-04-08T13:06:37.545Z"
   },
   {
    "duration": 3,
    "start_time": "2025-04-08T13:08:50.826Z"
   },
   {
    "duration": 35,
    "start_time": "2025-04-08T13:13:44.292Z"
   },
   {
    "duration": 17,
    "start_time": "2025-04-08T13:14:38.339Z"
   },
   {
    "duration": 5,
    "start_time": "2025-04-08T13:15:30.395Z"
   },
   {
    "duration": 3,
    "start_time": "2025-04-08T13:16:21.339Z"
   },
   {
    "duration": 1332,
    "start_time": "2025-04-08T13:21:59.983Z"
   },
   {
    "duration": 13,
    "start_time": "2025-04-08T13:22:40.359Z"
   },
   {
    "duration": 8,
    "start_time": "2025-04-08T13:23:14.575Z"
   },
   {
    "duration": 8,
    "start_time": "2025-04-08T13:26:15.848Z"
   },
   {
    "duration": 7,
    "start_time": "2025-04-08T13:27:20.025Z"
   },
   {
    "duration": 4,
    "start_time": "2025-04-08T13:28:05.634Z"
   },
   {
    "duration": 8,
    "start_time": "2025-04-08T13:28:06.712Z"
   },
   {
    "duration": 8,
    "start_time": "2025-04-08T13:30:16.009Z"
   },
   {
    "duration": 3,
    "start_time": "2025-04-08T13:35:51.814Z"
   },
   {
    "duration": 181,
    "start_time": "2025-04-08T13:35:51.819Z"
   },
   {
    "duration": 6,
    "start_time": "2025-04-08T13:35:52.002Z"
   },
   {
    "duration": 41,
    "start_time": "2025-04-08T13:35:52.009Z"
   },
   {
    "duration": 51,
    "start_time": "2025-04-08T13:35:52.053Z"
   },
   {
    "duration": 144,
    "start_time": "2025-04-08T13:35:52.106Z"
   },
   {
    "duration": 150,
    "start_time": "2025-04-08T13:35:52.252Z"
   },
   {
    "duration": 6,
    "start_time": "2025-04-08T13:35:52.404Z"
   },
   {
    "duration": 16,
    "start_time": "2025-04-08T13:35:52.411Z"
   },
   {
    "duration": 29,
    "start_time": "2025-04-08T13:35:52.429Z"
   },
   {
    "duration": 1943,
    "start_time": "2025-04-08T13:35:52.460Z"
   },
   {
    "duration": 17,
    "start_time": "2025-04-08T13:35:54.405Z"
   },
   {
    "duration": 182,
    "start_time": "2025-04-08T13:35:54.424Z"
   },
   {
    "duration": 6,
    "start_time": "2025-04-08T13:35:54.609Z"
   },
   {
    "duration": 15,
    "start_time": "2025-04-08T13:35:54.617Z"
   },
   {
    "duration": 80,
    "start_time": "2025-04-08T13:35:54.634Z"
   },
   {
    "duration": 16,
    "start_time": "2025-04-08T13:35:54.715Z"
   },
   {
    "duration": 43,
    "start_time": "2025-04-08T13:35:54.732Z"
   },
   {
    "duration": 36,
    "start_time": "2025-04-08T13:35:54.777Z"
   },
   {
    "duration": 74,
    "start_time": "2025-04-08T13:35:54.815Z"
   },
   {
    "duration": 23,
    "start_time": "2025-04-08T13:35:54.891Z"
   },
   {
    "duration": 32,
    "start_time": "2025-04-08T13:35:54.916Z"
   },
   {
    "duration": 3,
    "start_time": "2025-04-08T13:35:54.950Z"
   },
   {
    "duration": 4,
    "start_time": "2025-04-08T13:35:59.939Z"
   },
   {
    "duration": 911,
    "start_time": "2025-04-08T13:36:21.971Z"
   },
   {
    "duration": 14,
    "start_time": "2025-04-08T13:36:40.621Z"
   },
   {
    "duration": 3,
    "start_time": "2025-04-08T13:36:50.183Z"
   },
   {
    "duration": 118,
    "start_time": "2025-04-08T13:36:50.188Z"
   },
   {
    "duration": 6,
    "start_time": "2025-04-08T13:36:50.308Z"
   },
   {
    "duration": 19,
    "start_time": "2025-04-08T13:36:50.315Z"
   },
   {
    "duration": 27,
    "start_time": "2025-04-08T13:36:50.336Z"
   },
   {
    "duration": 28,
    "start_time": "2025-04-08T13:36:50.364Z"
   },
   {
    "duration": 164,
    "start_time": "2025-04-08T13:36:50.393Z"
   },
   {
    "duration": 6,
    "start_time": "2025-04-08T13:36:50.559Z"
   },
   {
    "duration": 20,
    "start_time": "2025-04-08T13:36:50.566Z"
   },
   {
    "duration": 25,
    "start_time": "2025-04-08T13:36:50.587Z"
   },
   {
    "duration": 1503,
    "start_time": "2025-04-08T13:36:50.614Z"
   },
   {
    "duration": 19,
    "start_time": "2025-04-08T13:36:52.119Z"
   },
   {
    "duration": 217,
    "start_time": "2025-04-08T13:36:52.140Z"
   },
   {
    "duration": 9,
    "start_time": "2025-04-08T13:36:52.360Z"
   },
   {
    "duration": 31,
    "start_time": "2025-04-08T13:36:52.370Z"
   },
   {
    "duration": 98,
    "start_time": "2025-04-08T13:36:52.403Z"
   },
   {
    "duration": 21,
    "start_time": "2025-04-08T13:36:52.503Z"
   },
   {
    "duration": 30,
    "start_time": "2025-04-08T13:36:52.526Z"
   },
   {
    "duration": 49,
    "start_time": "2025-04-08T13:36:52.558Z"
   },
   {
    "duration": 39,
    "start_time": "2025-04-08T13:36:52.609Z"
   },
   {
    "duration": 28,
    "start_time": "2025-04-08T13:36:52.650Z"
   },
   {
    "duration": 33,
    "start_time": "2025-04-08T13:36:52.680Z"
   },
   {
    "duration": 3,
    "start_time": "2025-04-08T13:36:52.715Z"
   },
   {
    "duration": 2,
    "start_time": "2025-04-08T13:36:58.701Z"
   },
   {
    "duration": 4,
    "start_time": "2025-04-08T13:38:08.844Z"
   },
   {
    "duration": 6,
    "start_time": "2025-04-08T13:38:17.836Z"
   },
   {
    "duration": 3,
    "start_time": "2025-04-08T13:38:29.286Z"
   },
   {
    "duration": 6,
    "start_time": "2025-04-08T13:44:20.703Z"
   },
   {
    "duration": 4,
    "start_time": "2025-04-08T14:00:48.310Z"
   },
   {
    "duration": 5,
    "start_time": "2025-04-08T14:00:48.877Z"
   },
   {
    "duration": 3,
    "start_time": "2025-04-08T14:27:31.468Z"
   },
   {
    "duration": 92,
    "start_time": "2025-04-08T14:27:31.473Z"
   },
   {
    "duration": 6,
    "start_time": "2025-04-08T14:27:31.567Z"
   },
   {
    "duration": 19,
    "start_time": "2025-04-08T14:27:31.575Z"
   },
   {
    "duration": 20,
    "start_time": "2025-04-08T14:27:31.596Z"
   },
   {
    "duration": 16,
    "start_time": "2025-04-08T14:27:31.618Z"
   },
   {
    "duration": 166,
    "start_time": "2025-04-08T14:27:31.637Z"
   },
   {
    "duration": 7,
    "start_time": "2025-04-08T14:27:31.806Z"
   },
   {
    "duration": 12,
    "start_time": "2025-04-08T14:27:31.815Z"
   },
   {
    "duration": 15,
    "start_time": "2025-04-08T14:27:31.829Z"
   },
   {
    "duration": 1554,
    "start_time": "2025-04-08T14:27:31.846Z"
   },
   {
    "duration": 18,
    "start_time": "2025-04-08T14:27:33.402Z"
   },
   {
    "duration": 242,
    "start_time": "2025-04-08T14:27:33.422Z"
   },
   {
    "duration": 6,
    "start_time": "2025-04-08T14:27:33.667Z"
   },
   {
    "duration": 38,
    "start_time": "2025-04-08T14:27:33.675Z"
   },
   {
    "duration": 95,
    "start_time": "2025-04-08T14:27:33.715Z"
   },
   {
    "duration": 13,
    "start_time": "2025-04-08T14:27:33.812Z"
   },
   {
    "duration": 35,
    "start_time": "2025-04-08T14:27:33.827Z"
   },
   {
    "duration": 36,
    "start_time": "2025-04-08T14:27:33.864Z"
   },
   {
    "duration": 14,
    "start_time": "2025-04-08T14:27:33.902Z"
   },
   {
    "duration": 112,
    "start_time": "2025-04-08T14:27:33.917Z"
   },
   {
    "duration": 32,
    "start_time": "2025-04-08T14:27:34.031Z"
   },
   {
    "duration": 2,
    "start_time": "2025-04-08T14:27:34.065Z"
   },
   {
    "duration": 111,
    "start_time": "2025-04-08T14:27:34.069Z"
   },
   {
    "duration": 33,
    "start_time": "2025-04-08T14:27:34.182Z"
   },
   {
    "duration": 17,
    "start_time": "2025-04-08T14:53:18.050Z"
   },
   {
    "duration": 4,
    "start_time": "2025-04-08T14:59:29.999Z"
   },
   {
    "duration": 3,
    "start_time": "2025-04-08T14:59:48.246Z"
   },
   {
    "duration": 4,
    "start_time": "2025-04-08T15:00:11.005Z"
   },
   {
    "duration": 3,
    "start_time": "2025-04-08T15:00:16.742Z"
   },
   {
    "duration": 4,
    "start_time": "2025-04-08T15:00:38.574Z"
   },
   {
    "duration": 3,
    "start_time": "2025-04-08T15:01:02.336Z"
   },
   {
    "duration": 4,
    "start_time": "2025-04-08T15:01:47.862Z"
   },
   {
    "duration": 3,
    "start_time": "2025-04-08T15:08:01.258Z"
   },
   {
    "duration": 3,
    "start_time": "2025-04-08T15:08:56.566Z"
   },
   {
    "duration": 158,
    "start_time": "2025-04-08T15:08:56.571Z"
   },
   {
    "duration": 6,
    "start_time": "2025-04-08T15:08:56.731Z"
   },
   {
    "duration": 28,
    "start_time": "2025-04-08T15:08:56.739Z"
   },
   {
    "duration": 18,
    "start_time": "2025-04-08T15:08:56.770Z"
   },
   {
    "duration": 43,
    "start_time": "2025-04-08T15:08:56.790Z"
   },
   {
    "duration": 180,
    "start_time": "2025-04-08T15:08:56.835Z"
   },
   {
    "duration": 7,
    "start_time": "2025-04-08T15:08:57.016Z"
   },
   {
    "duration": 6,
    "start_time": "2025-04-08T15:08:57.025Z"
   },
   {
    "duration": 11,
    "start_time": "2025-04-08T15:08:57.033Z"
   },
   {
    "duration": 1597,
    "start_time": "2025-04-08T15:08:57.045Z"
   },
   {
    "duration": 30,
    "start_time": "2025-04-08T15:08:58.644Z"
   },
   {
    "duration": 176,
    "start_time": "2025-04-08T15:08:58.676Z"
   },
   {
    "duration": 11,
    "start_time": "2025-04-08T15:08:58.855Z"
   },
   {
    "duration": 11,
    "start_time": "2025-04-08T15:08:58.868Z"
   },
   {
    "duration": 90,
    "start_time": "2025-04-08T15:08:58.880Z"
   },
   {
    "duration": 14,
    "start_time": "2025-04-08T15:08:58.971Z"
   },
   {
    "duration": 26,
    "start_time": "2025-04-08T15:08:58.987Z"
   },
   {
    "duration": 57,
    "start_time": "2025-04-08T15:08:59.015Z"
   },
   {
    "duration": 15,
    "start_time": "2025-04-08T15:08:59.073Z"
   },
   {
    "duration": 24,
    "start_time": "2025-04-08T15:08:59.090Z"
   },
   {
    "duration": 51,
    "start_time": "2025-04-08T15:08:59.115Z"
   },
   {
    "duration": 4,
    "start_time": "2025-04-08T15:08:59.167Z"
   },
   {
    "duration": 4,
    "start_time": "2025-04-08T15:08:59.173Z"
   },
   {
    "duration": 16,
    "start_time": "2025-04-08T15:08:59.178Z"
   },
   {
    "duration": 1634,
    "start_time": "2025-04-09T13:26:50.727Z"
   },
   {
    "duration": 88,
    "start_time": "2025-04-09T13:26:52.364Z"
   },
   {
    "duration": 6,
    "start_time": "2025-04-09T13:26:52.454Z"
   },
   {
    "duration": 23,
    "start_time": "2025-04-09T13:26:52.462Z"
   },
   {
    "duration": 17,
    "start_time": "2025-04-09T13:26:52.487Z"
   },
   {
    "duration": 4,
    "start_time": "2025-04-09T13:26:52.506Z"
   },
   {
    "duration": 363,
    "start_time": "2025-04-09T13:26:52.511Z"
   },
   {
    "duration": 8,
    "start_time": "2025-04-09T13:26:52.876Z"
   },
   {
    "duration": 10,
    "start_time": "2025-04-09T13:26:52.885Z"
   },
   {
    "duration": 9,
    "start_time": "2025-04-09T13:26:52.897Z"
   },
   {
    "duration": 1807,
    "start_time": "2025-04-09T13:26:52.908Z"
   },
   {
    "duration": 29,
    "start_time": "2025-04-09T13:26:54.717Z"
   },
   {
    "duration": 314,
    "start_time": "2025-04-09T13:26:54.748Z"
   },
   {
    "duration": 8,
    "start_time": "2025-04-09T13:26:55.063Z"
   },
   {
    "duration": 13,
    "start_time": "2025-04-09T13:26:55.072Z"
   },
   {
    "duration": 108,
    "start_time": "2025-04-09T13:26:55.086Z"
   },
   {
    "duration": 20,
    "start_time": "2025-04-09T13:26:55.196Z"
   },
   {
    "duration": 34,
    "start_time": "2025-04-09T13:26:55.217Z"
   },
   {
    "duration": 32,
    "start_time": "2025-04-09T13:26:55.253Z"
   },
   {
    "duration": 38,
    "start_time": "2025-04-09T13:26:55.287Z"
   },
   {
    "duration": 35,
    "start_time": "2025-04-09T13:26:55.327Z"
   },
   {
    "duration": 26,
    "start_time": "2025-04-09T13:26:55.363Z"
   },
   {
    "duration": 3,
    "start_time": "2025-04-09T13:26:55.391Z"
   },
   {
    "duration": 6,
    "start_time": "2025-04-09T13:26:55.395Z"
   },
   {
    "duration": 67,
    "start_time": "2025-04-09T13:26:55.402Z"
   },
   {
    "duration": 1638,
    "start_time": "2025-04-09T14:30:53.266Z"
   },
   {
    "duration": 50,
    "start_time": "2025-04-09T14:30:54.906Z"
   },
   {
    "duration": 6,
    "start_time": "2025-04-09T14:30:54.958Z"
   },
   {
    "duration": 8,
    "start_time": "2025-04-09T14:30:54.965Z"
   },
   {
    "duration": 6,
    "start_time": "2025-04-09T14:30:54.975Z"
   },
   {
    "duration": 4,
    "start_time": "2025-04-09T14:30:54.983Z"
   },
   {
    "duration": 419,
    "start_time": "2025-04-09T14:30:54.988Z"
   },
   {
    "duration": 9,
    "start_time": "2025-04-09T14:30:55.409Z"
   },
   {
    "duration": 3,
    "start_time": "2025-04-09T14:30:55.420Z"
   },
   {
    "duration": 11,
    "start_time": "2025-04-09T14:30:55.424Z"
   },
   {
    "duration": 1704,
    "start_time": "2025-04-09T14:30:55.438Z"
   },
   {
    "duration": 23,
    "start_time": "2025-04-09T14:30:57.144Z"
   },
   {
    "duration": 382,
    "start_time": "2025-04-09T14:30:57.168Z"
   },
   {
    "duration": 8,
    "start_time": "2025-04-09T14:30:57.554Z"
   },
   {
    "duration": 9,
    "start_time": "2025-04-09T14:30:57.564Z"
   },
   {
    "duration": 103,
    "start_time": "2025-04-09T14:30:57.574Z"
   },
   {
    "duration": 34,
    "start_time": "2025-04-09T14:30:57.679Z"
   },
   {
    "duration": 20,
    "start_time": "2025-04-09T14:30:57.714Z"
   },
   {
    "duration": 41,
    "start_time": "2025-04-09T14:30:57.737Z"
   },
   {
    "duration": 91,
    "start_time": "2025-04-09T14:30:57.780Z"
   },
   {
    "duration": 44,
    "start_time": "2025-04-09T14:30:57.873Z"
   },
   {
    "duration": 75,
    "start_time": "2025-04-09T14:30:57.919Z"
   },
   {
    "duration": 4,
    "start_time": "2025-04-09T14:30:57.995Z"
   },
   {
    "duration": 14,
    "start_time": "2025-04-09T14:30:58.001Z"
   },
   {
    "duration": 5,
    "start_time": "2025-04-09T14:30:58.017Z"
   },
   {
    "duration": 13,
    "start_time": "2025-04-09T15:08:21.952Z"
   },
   {
    "duration": 1293,
    "start_time": "2025-04-10T06:11:20.747Z"
   },
   {
    "duration": 78,
    "start_time": "2025-04-10T06:11:22.299Z"
   },
   {
    "duration": 107,
    "start_time": "2025-04-10T06:14:10.638Z"
   },
   {
    "duration": 11,
    "start_time": "2025-04-10T06:14:24.676Z"
   },
   {
    "duration": 14,
    "start_time": "2025-04-10T06:16:48.519Z"
   },
   {
    "duration": 9,
    "start_time": "2025-04-10T06:17:02.278Z"
   },
   {
    "duration": 4,
    "start_time": "2025-04-10T06:17:50.747Z"
   },
   {
    "duration": 51,
    "start_time": "2025-04-10T06:17:50.753Z"
   },
   {
    "duration": 12,
    "start_time": "2025-04-10T06:17:50.806Z"
   },
   {
    "duration": 10,
    "start_time": "2025-04-10T06:19:40.958Z"
   },
   {
    "duration": 9,
    "start_time": "2025-04-10T06:20:49.021Z"
   },
   {
    "duration": 11,
    "start_time": "2025-04-10T06:21:07.224Z"
   },
   {
    "duration": 20,
    "start_time": "2025-04-10T06:21:17.111Z"
   },
   {
    "duration": 10,
    "start_time": "2025-04-10T06:25:41.473Z"
   },
   {
    "duration": 9,
    "start_time": "2025-04-10T06:28:38.083Z"
   },
   {
    "duration": 4,
    "start_time": "2025-04-10T06:39:36.032Z"
   },
   {
    "duration": 20,
    "start_time": "2025-04-10T06:39:59.887Z"
   },
   {
    "duration": 4,
    "start_time": "2025-04-10T06:41:47.064Z"
   },
   {
    "duration": 24,
    "start_time": "2025-04-10T06:41:47.568Z"
   },
   {
    "duration": 6,
    "start_time": "2025-04-10T06:41:50.199Z"
   },
   {
    "duration": 6,
    "start_time": "2025-04-10T06:41:51.399Z"
   },
   {
    "duration": 11,
    "start_time": "2025-04-10T06:43:21.082Z"
   },
   {
    "duration": 85,
    "start_time": "2025-04-10T06:50:04.206Z"
   },
   {
    "duration": 9,
    "start_time": "2025-04-10T06:56:13.486Z"
   },
   {
    "duration": 8,
    "start_time": "2025-04-10T06:56:51.647Z"
   },
   {
    "duration": 76,
    "start_time": "2025-04-10T06:59:05.313Z"
   },
   {
    "duration": 9,
    "start_time": "2025-04-10T06:59:13.262Z"
   },
   {
    "duration": 5,
    "start_time": "2025-04-10T06:59:13.832Z"
   },
   {
    "duration": 9,
    "start_time": "2025-04-10T06:59:14.528Z"
   },
   {
    "duration": 10,
    "start_time": "2025-04-10T06:59:15.120Z"
   },
   {
    "duration": 24,
    "start_time": "2025-04-10T07:04:14.500Z"
   },
   {
    "duration": 906,
    "start_time": "2025-04-10T07:13:39.163Z"
   },
   {
    "duration": 880,
    "start_time": "2025-04-10T07:14:20.243Z"
   },
   {
    "duration": 19,
    "start_time": "2025-04-10T07:15:36.621Z"
   },
   {
    "duration": 13,
    "start_time": "2025-04-10T07:16:57.236Z"
   },
   {
    "duration": 889,
    "start_time": "2025-04-10T07:17:42.932Z"
   },
   {
    "duration": 1211,
    "start_time": "2025-04-10T07:18:08.837Z"
   },
   {
    "duration": 7,
    "start_time": "2025-04-10T07:18:26.518Z"
   },
   {
    "duration": 4,
    "start_time": "2025-04-10T07:22:40.098Z"
   },
   {
    "duration": 4,
    "start_time": "2025-04-10T07:22:59.575Z"
   },
   {
    "duration": 132,
    "start_time": "2025-04-10T07:23:12.680Z"
   },
   {
    "duration": 142,
    "start_time": "2025-04-10T07:24:04.536Z"
   },
   {
    "duration": 4,
    "start_time": "2025-04-10T07:25:57.191Z"
   },
   {
    "duration": 203,
    "start_time": "2025-04-10T07:25:58.074Z"
   },
   {
    "duration": 183,
    "start_time": "2025-04-10T07:29:54.501Z"
   },
   {
    "duration": 181,
    "start_time": "2025-04-10T07:30:08.945Z"
   },
   {
    "duration": 258,
    "start_time": "2025-04-10T07:30:47.626Z"
   },
   {
    "duration": 195,
    "start_time": "2025-04-10T07:30:57.380Z"
   },
   {
    "duration": 207,
    "start_time": "2025-04-10T07:35:17.493Z"
   },
   {
    "duration": 4,
    "start_time": "2025-04-10T07:41:31.240Z"
   },
   {
    "duration": 173,
    "start_time": "2025-04-10T07:41:41.816Z"
   },
   {
    "duration": 179,
    "start_time": "2025-04-10T07:41:46.655Z"
   },
   {
    "duration": 4019,
    "start_time": "2025-04-10T07:47:01.242Z"
   },
   {
    "duration": 278,
    "start_time": "2025-04-10T07:51:23.300Z"
   },
   {
    "duration": 253,
    "start_time": "2025-04-10T07:52:12.821Z"
   },
   {
    "duration": 244,
    "start_time": "2025-04-10T07:53:21.406Z"
   },
   {
    "duration": 259,
    "start_time": "2025-04-10T07:54:43.983Z"
   },
   {
    "duration": 244,
    "start_time": "2025-04-10T07:55:08.319Z"
   },
   {
    "duration": 245,
    "start_time": "2025-04-10T07:55:26.611Z"
   },
   {
    "duration": 245,
    "start_time": "2025-04-10T07:55:59.550Z"
   },
   {
    "duration": 12,
    "start_time": "2025-04-10T07:59:03.000Z"
   },
   {
    "duration": 246,
    "start_time": "2025-04-10T07:59:16.745Z"
   },
   {
    "duration": 243,
    "start_time": "2025-04-10T07:59:25.791Z"
   },
   {
    "duration": 256,
    "start_time": "2025-04-10T07:59:36.145Z"
   },
   {
    "duration": 736,
    "start_time": "2025-04-10T07:59:51.775Z"
   },
   {
    "duration": 80,
    "start_time": "2025-04-10T08:10:13.297Z"
   },
   {
    "duration": 7,
    "start_time": "2025-04-10T08:11:04.481Z"
   },
   {
    "duration": 8,
    "start_time": "2025-04-10T08:11:39.248Z"
   },
   {
    "duration": 86,
    "start_time": "2025-04-10T08:14:37.672Z"
   },
   {
    "duration": 9,
    "start_time": "2025-04-10T08:37:55.318Z"
   },
   {
    "duration": 17,
    "start_time": "2025-04-10T08:38:01.174Z"
   },
   {
    "duration": 9,
    "start_time": "2025-04-10T08:38:49.095Z"
   },
   {
    "duration": 8,
    "start_time": "2025-04-10T08:39:06.654Z"
   },
   {
    "duration": 8,
    "start_time": "2025-04-10T08:41:52.903Z"
   },
   {
    "duration": 10,
    "start_time": "2025-04-10T08:43:00.338Z"
   },
   {
    "duration": 4,
    "start_time": "2025-04-10T08:43:53.489Z"
   },
   {
    "duration": 262,
    "start_time": "2025-04-10T08:43:53.496Z"
   },
   {
    "duration": 10,
    "start_time": "2025-04-10T08:43:53.760Z"
   },
   {
    "duration": 7,
    "start_time": "2025-04-10T08:43:53.772Z"
   },
   {
    "duration": 25,
    "start_time": "2025-04-10T08:43:53.781Z"
   },
   {
    "duration": 7,
    "start_time": "2025-04-10T08:43:53.809Z"
   },
   {
    "duration": 13,
    "start_time": "2025-04-10T08:43:53.818Z"
   },
   {
    "duration": 9,
    "start_time": "2025-04-10T08:43:53.833Z"
   },
   {
    "duration": 8,
    "start_time": "2025-04-10T08:43:53.844Z"
   },
   {
    "duration": 10,
    "start_time": "2025-04-10T08:43:53.854Z"
   },
   {
    "duration": 9,
    "start_time": "2025-04-10T08:43:53.866Z"
   },
   {
    "duration": 30,
    "start_time": "2025-04-10T08:43:53.876Z"
   },
   {
    "duration": 180,
    "start_time": "2025-04-10T08:43:53.908Z"
   },
   {
    "duration": 254,
    "start_time": "2025-04-10T08:43:54.092Z"
   },
   {
    "duration": 9,
    "start_time": "2025-04-10T08:43:54.348Z"
   },
   {
    "duration": 41,
    "start_time": "2025-04-10T08:43:54.358Z"
   },
   {
    "duration": 63,
    "start_time": "2025-04-10T08:43:54.401Z"
   },
   {
    "duration": 58,
    "start_time": "2025-04-10T08:43:54.466Z"
   },
   {
    "duration": 68,
    "start_time": "2025-04-10T08:43:54.526Z"
   },
   {
    "duration": 28,
    "start_time": "2025-04-10T08:43:54.596Z"
   },
   {
    "duration": 10,
    "start_time": "2025-04-10T08:55:05.452Z"
   },
   {
    "duration": 4,
    "start_time": "2025-04-10T08:55:07.204Z"
   },
   {
    "duration": 115,
    "start_time": "2025-04-10T09:10:11.545Z"
   },
   {
    "duration": 118,
    "start_time": "2025-04-10T09:10:52.364Z"
   },
   {
    "duration": 83,
    "start_time": "2025-04-10T09:12:31.476Z"
   },
   {
    "duration": 88,
    "start_time": "2025-04-10T09:14:40.402Z"
   },
   {
    "duration": 2161,
    "start_time": "2025-04-10T09:33:18.428Z"
   },
   {
    "duration": 8,
    "start_time": "2025-04-10T09:33:54.460Z"
   },
   {
    "duration": 9,
    "start_time": "2025-04-10T09:34:07.101Z"
   },
   {
    "duration": 10,
    "start_time": "2025-04-10T09:34:35.325Z"
   },
   {
    "duration": 10,
    "start_time": "2025-04-10T09:34:39.933Z"
   },
   {
    "duration": 9,
    "start_time": "2025-04-10T09:34:43.589Z"
   },
   {
    "duration": 4,
    "start_time": "2025-04-10T09:35:32.037Z"
   },
   {
    "duration": 5,
    "start_time": "2025-04-10T09:36:53.317Z"
   },
   {
    "duration": 7,
    "start_time": "2025-04-10T09:37:10.710Z"
   },
   {
    "duration": 8,
    "start_time": "2025-04-10T09:43:55.263Z"
   },
   {
    "duration": 7,
    "start_time": "2025-04-10T09:44:21.205Z"
   },
   {
    "duration": 85,
    "start_time": "2025-04-10T09:44:30.235Z"
   },
   {
    "duration": 7,
    "start_time": "2025-04-10T09:44:35.875Z"
   },
   {
    "duration": 8,
    "start_time": "2025-04-10T09:45:01.370Z"
   },
   {
    "duration": 85,
    "start_time": "2025-04-10T09:45:21.628Z"
   },
   {
    "duration": 82,
    "start_time": "2025-04-10T09:45:34.626Z"
   },
   {
    "duration": 8,
    "start_time": "2025-04-10T09:45:39.406Z"
   },
   {
    "duration": 11,
    "start_time": "2025-04-10T09:46:05.484Z"
   },
   {
    "duration": 107,
    "start_time": "2025-04-10T09:46:29.371Z"
   },
   {
    "duration": 1187,
    "start_time": "2025-04-10T09:48:34.404Z"
   },
   {
    "duration": 495,
    "start_time": "2025-04-10T09:48:45.916Z"
   },
   {
    "duration": 481,
    "start_time": "2025-04-10T09:52:28.295Z"
   },
   {
    "duration": 15,
    "start_time": "2025-04-10T09:52:57.815Z"
   },
   {
    "duration": 19,
    "start_time": "2025-04-10T09:53:49.998Z"
   },
   {
    "duration": 17,
    "start_time": "2025-04-10T09:54:04.640Z"
   },
   {
    "duration": 191,
    "start_time": "2025-04-10T09:54:05.839Z"
   },
   {
    "duration": 186,
    "start_time": "2025-04-10T10:15:59.156Z"
   },
   {
    "duration": 8,
    "start_time": "2025-04-10T10:16:35.050Z"
   },
   {
    "duration": 21,
    "start_time": "2025-04-10T10:16:35.586Z"
   },
   {
    "duration": 190,
    "start_time": "2025-04-10T10:16:37.579Z"
   },
   {
    "duration": 83,
    "start_time": "2025-04-10T10:22:40.701Z"
   },
   {
    "duration": 13,
    "start_time": "2025-04-10T10:22:50.607Z"
   },
   {
    "duration": 11,
    "start_time": "2025-04-10T10:23:57.286Z"
   },
   {
    "duration": 17,
    "start_time": "2025-04-10T10:24:42.574Z"
   },
   {
    "duration": 186,
    "start_time": "2025-04-10T10:24:43.889Z"
   },
   {
    "duration": 11,
    "start_time": "2025-04-10T10:26:03.638Z"
   },
   {
    "duration": 99,
    "start_time": "2025-04-10T10:37:08.858Z"
   },
   {
    "duration": 80,
    "start_time": "2025-04-10T10:37:47.829Z"
   },
   {
    "duration": 83,
    "start_time": "2025-04-10T10:43:33.495Z"
   },
   {
    "duration": 317,
    "start_time": "2025-04-10T10:43:35.728Z"
   },
   {
    "duration": 88,
    "start_time": "2025-04-10T10:44:38.344Z"
   },
   {
    "duration": 30,
    "start_time": "2025-04-10T10:47:21.585Z"
   },
   {
    "duration": 82,
    "start_time": "2025-04-10T10:48:33.319Z"
   },
   {
    "duration": 32,
    "start_time": "2025-04-10T10:49:11.904Z"
   },
   {
    "duration": 28,
    "start_time": "2025-04-10T10:49:18.034Z"
   },
   {
    "duration": 28,
    "start_time": "2025-04-10T10:49:28.608Z"
   },
   {
    "duration": 36,
    "start_time": "2025-04-10T10:49:40.433Z"
   },
   {
    "duration": 3,
    "start_time": "2025-04-10T10:50:55.154Z"
   },
   {
    "duration": 17,
    "start_time": "2025-04-10T10:51:42.059Z"
   },
   {
    "duration": 9,
    "start_time": "2025-04-10T10:56:47.427Z"
   },
   {
    "duration": 4,
    "start_time": "2025-04-10T10:56:55.365Z"
   },
   {
    "duration": 9,
    "start_time": "2025-04-10T10:58:01.084Z"
   },
   {
    "duration": 25,
    "start_time": "2025-04-10T10:58:07.741Z"
   },
   {
    "duration": 7,
    "start_time": "2025-04-10T10:58:08.293Z"
   },
   {
    "duration": 40,
    "start_time": "2025-04-10T10:58:23.246Z"
   },
   {
    "duration": 4,
    "start_time": "2025-04-10T10:58:26.885Z"
   },
   {
    "duration": 25,
    "start_time": "2025-04-10T11:06:50.967Z"
   },
   {
    "duration": 33,
    "start_time": "2025-04-10T11:06:51.943Z"
   },
   {
    "duration": 4,
    "start_time": "2025-04-10T11:06:56.414Z"
   },
   {
    "duration": 84,
    "start_time": "2025-04-10T11:13:39.111Z"
   },
   {
    "duration": 10,
    "start_time": "2025-04-10T11:29:51.654Z"
   },
   {
    "duration": 4,
    "start_time": "2025-04-10T11:29:53.391Z"
   },
   {
    "duration": 10,
    "start_time": "2025-04-10T11:32:11.909Z"
   },
   {
    "duration": 4,
    "start_time": "2025-04-10T11:32:24.176Z"
   },
   {
    "duration": 13,
    "start_time": "2025-04-10T11:32:24.735Z"
   },
   {
    "duration": 3,
    "start_time": "2025-04-10T11:33:18.530Z"
   },
   {
    "duration": 4,
    "start_time": "2025-04-10T11:33:21.689Z"
   },
   {
    "duration": 3,
    "start_time": "2025-04-10T11:48:04.520Z"
   },
   {
    "duration": 4,
    "start_time": "2025-04-10T12:14:23.009Z"
   },
   {
    "duration": 3,
    "start_time": "2025-04-10T12:14:23.563Z"
   },
   {
    "duration": 3,
    "start_time": "2025-04-10T12:14:24.682Z"
   },
   {
    "duration": 3,
    "start_time": "2025-04-10T12:15:43.755Z"
   },
   {
    "duration": 4,
    "start_time": "2025-04-10T12:15:44.098Z"
   },
   {
    "duration": 4,
    "start_time": "2025-04-10T12:15:44.953Z"
   },
   {
    "duration": 5,
    "start_time": "2025-04-10T12:21:30.900Z"
   },
   {
    "duration": 4,
    "start_time": "2025-04-10T12:21:38.844Z"
   },
   {
    "duration": 257,
    "start_time": "2025-04-10T12:21:38.850Z"
   },
   {
    "duration": 12,
    "start_time": "2025-04-10T12:21:39.109Z"
   },
   {
    "duration": 10,
    "start_time": "2025-04-10T12:21:39.123Z"
   },
   {
    "duration": 38,
    "start_time": "2025-04-10T12:21:39.136Z"
   },
   {
    "duration": 11,
    "start_time": "2025-04-10T12:21:39.175Z"
   },
   {
    "duration": 27,
    "start_time": "2025-04-10T12:21:39.188Z"
   },
   {
    "duration": 121,
    "start_time": "2025-04-10T12:21:39.216Z"
   },
   {
    "duration": 11,
    "start_time": "2025-04-10T12:21:39.339Z"
   },
   {
    "duration": 158,
    "start_time": "2025-04-10T12:21:39.352Z"
   },
   {
    "duration": 18,
    "start_time": "2025-04-10T12:21:39.513Z"
   },
   {
    "duration": 169,
    "start_time": "2025-04-10T12:21:39.532Z"
   },
   {
    "duration": 350,
    "start_time": "2025-04-10T12:21:39.702Z"
   },
   {
    "duration": 8,
    "start_time": "2025-04-10T12:21:40.054Z"
   },
   {
    "duration": 17,
    "start_time": "2025-04-10T12:21:40.063Z"
   },
   {
    "duration": 11,
    "start_time": "2025-04-10T12:21:40.081Z"
   },
   {
    "duration": 4,
    "start_time": "2025-04-10T12:21:40.104Z"
   },
   {
    "duration": 7,
    "start_time": "2025-04-10T12:21:40.110Z"
   },
   {
    "duration": 13,
    "start_time": "2025-04-10T12:21:40.118Z"
   },
   {
    "duration": 22,
    "start_time": "2025-04-10T12:21:40.132Z"
   },
   {
    "duration": 108,
    "start_time": "2025-04-10T12:21:40.155Z"
   },
   {
    "duration": 1612,
    "start_time": "2025-04-10T12:21:40.265Z"
   },
   {
    "duration": 9,
    "start_time": "2025-04-10T12:21:41.879Z"
   },
   {
    "duration": 30,
    "start_time": "2025-04-10T12:21:41.889Z"
   },
   {
    "duration": 17,
    "start_time": "2025-04-10T12:21:41.920Z"
   },
   {
    "duration": 6,
    "start_time": "2025-04-10T12:21:41.939Z"
   },
   {
    "duration": 17,
    "start_time": "2025-04-10T12:21:41.946Z"
   },
   {
    "duration": 165,
    "start_time": "2025-04-10T12:21:41.965Z"
   },
   {
    "duration": 546,
    "start_time": "2025-04-10T12:21:42.134Z"
   },
   {
    "duration": 25,
    "start_time": "2025-04-10T12:21:42.682Z"
   },
   {
    "duration": 8,
    "start_time": "2025-04-10T12:21:42.709Z"
   },
   {
    "duration": 36,
    "start_time": "2025-04-10T12:21:42.719Z"
   },
   {
    "duration": 196,
    "start_time": "2025-04-10T12:21:42.757Z"
   },
   {
    "duration": 14,
    "start_time": "2025-04-10T12:21:42.955Z"
   },
   {
    "duration": 17,
    "start_time": "2025-04-10T12:21:42.970Z"
   },
   {
    "duration": 95,
    "start_time": "2025-04-10T12:21:42.989Z"
   },
   {
    "duration": 45,
    "start_time": "2025-04-10T12:21:43.086Z"
   },
   {
    "duration": 31,
    "start_time": "2025-04-10T12:21:43.132Z"
   },
   {
    "duration": 164,
    "start_time": "2025-04-10T12:21:43.165Z"
   },
   {
    "duration": 15,
    "start_time": "2025-04-10T12:21:43.331Z"
   },
   {
    "duration": 35,
    "start_time": "2025-04-10T12:21:43.348Z"
   },
   {
    "duration": 147,
    "start_time": "2025-04-10T12:21:43.384Z"
   },
   {
    "duration": 6,
    "start_time": "2025-04-10T12:21:43.533Z"
   },
   {
    "duration": 29,
    "start_time": "2025-04-10T12:21:43.540Z"
   },
   {
    "duration": 6,
    "start_time": "2025-04-10T12:21:43.570Z"
   },
   {
    "duration": 7,
    "start_time": "2025-04-10T12:21:43.578Z"
   },
   {
    "duration": 87,
    "start_time": "2025-04-10T12:25:32.165Z"
   },
   {
    "duration": 4,
    "start_time": "2025-04-10T12:29:36.694Z"
   },
   {
    "duration": 52,
    "start_time": "2025-04-10T12:29:36.700Z"
   },
   {
    "duration": 8,
    "start_time": "2025-04-10T12:29:36.756Z"
   },
   {
    "duration": 27,
    "start_time": "2025-04-10T12:29:36.766Z"
   },
   {
    "duration": 32,
    "start_time": "2025-04-10T12:29:36.795Z"
   },
   {
    "duration": 6,
    "start_time": "2025-04-10T12:29:36.829Z"
   },
   {
    "duration": 5,
    "start_time": "2025-04-10T12:29:36.837Z"
   },
   {
    "duration": 21,
    "start_time": "2025-04-10T12:29:36.843Z"
   },
   {
    "duration": 10,
    "start_time": "2025-04-10T12:29:36.867Z"
   },
   {
    "duration": 14,
    "start_time": "2025-04-10T12:29:36.879Z"
   },
   {
    "duration": 13,
    "start_time": "2025-04-10T12:29:36.895Z"
   },
   {
    "duration": 175,
    "start_time": "2025-04-10T12:29:36.909Z"
   },
   {
    "duration": 252,
    "start_time": "2025-04-10T12:29:37.086Z"
   },
   {
    "duration": 7,
    "start_time": "2025-04-10T12:29:37.340Z"
   },
   {
    "duration": 34,
    "start_time": "2025-04-10T12:29:37.349Z"
   },
   {
    "duration": 152,
    "start_time": "2025-04-10T12:29:37.384Z"
   },
   {
    "duration": 92,
    "start_time": "2025-04-10T12:29:37.539Z"
   },
   {
    "duration": 30,
    "start_time": "2025-04-10T12:29:37.633Z"
   },
   {
    "duration": 11,
    "start_time": "2025-04-10T12:29:37.665Z"
   },
   {
    "duration": 10,
    "start_time": "2025-04-10T12:29:37.678Z"
   },
   {
    "duration": 4,
    "start_time": "2025-04-10T12:29:37.689Z"
   },
   {
    "duration": 1626,
    "start_time": "2025-04-10T12:29:37.695Z"
   },
   {
    "duration": 9,
    "start_time": "2025-04-10T12:29:39.323Z"
   },
   {
    "duration": 11,
    "start_time": "2025-04-10T12:29:39.335Z"
   },
   {
    "duration": 6,
    "start_time": "2025-04-10T12:29:39.348Z"
   },
   {
    "duration": 14,
    "start_time": "2025-04-10T12:29:39.355Z"
   },
   {
    "duration": 13,
    "start_time": "2025-04-10T12:29:39.370Z"
   },
   {
    "duration": 118,
    "start_time": "2025-04-10T12:29:39.403Z"
   },
   {
    "duration": 460,
    "start_time": "2025-04-10T12:29:39.523Z"
   },
   {
    "duration": 21,
    "start_time": "2025-04-10T12:29:39.984Z"
   },
   {
    "duration": 7,
    "start_time": "2025-04-10T12:29:40.007Z"
   },
   {
    "duration": 32,
    "start_time": "2025-04-10T12:29:40.016Z"
   },
   {
    "duration": 202,
    "start_time": "2025-04-10T12:29:40.050Z"
   },
   {
    "duration": 15,
    "start_time": "2025-04-10T12:29:40.254Z"
   },
   {
    "duration": 72,
    "start_time": "2025-04-10T12:29:40.271Z"
   },
   {
    "duration": 85,
    "start_time": "2025-04-10T12:29:40.345Z"
   },
   {
    "duration": 40,
    "start_time": "2025-04-10T12:29:40.432Z"
   },
   {
    "duration": 31,
    "start_time": "2025-04-10T12:29:40.475Z"
   },
   {
    "duration": 42,
    "start_time": "2025-04-10T12:29:40.508Z"
   },
   {
    "duration": 17,
    "start_time": "2025-04-10T12:29:40.552Z"
   },
   {
    "duration": 55,
    "start_time": "2025-04-10T12:29:40.571Z"
   },
   {
    "duration": 36,
    "start_time": "2025-04-10T12:29:40.627Z"
   },
   {
    "duration": 4,
    "start_time": "2025-04-10T12:29:40.665Z"
   },
   {
    "duration": 5,
    "start_time": "2025-04-10T12:29:40.672Z"
   },
   {
    "duration": 27,
    "start_time": "2025-04-10T12:29:40.679Z"
   },
   {
    "duration": 6,
    "start_time": "2025-04-10T12:29:40.708Z"
   },
   {
    "duration": 1328,
    "start_time": "2025-04-11T11:56:29.028Z"
   },
   {
    "duration": 66,
    "start_time": "2025-04-11T11:56:30.358Z"
   },
   {
    "duration": 9,
    "start_time": "2025-04-11T11:56:30.425Z"
   },
   {
    "duration": 20,
    "start_time": "2025-04-11T11:56:30.436Z"
   },
   {
    "duration": 61,
    "start_time": "2025-04-11T11:56:30.458Z"
   },
   {
    "duration": 21,
    "start_time": "2025-04-11T11:56:30.521Z"
   },
   {
    "duration": 82,
    "start_time": "2025-04-11T11:56:30.544Z"
   },
   {
    "duration": 9,
    "start_time": "2025-04-11T11:56:30.627Z"
   },
   {
    "duration": 22,
    "start_time": "2025-04-11T11:56:30.638Z"
   },
   {
    "duration": 24,
    "start_time": "2025-04-11T11:56:30.663Z"
   },
   {
    "duration": 53,
    "start_time": "2025-04-11T11:56:30.689Z"
   },
   {
    "duration": 199,
    "start_time": "2025-04-11T11:56:30.744Z"
   },
   {
    "duration": 254,
    "start_time": "2025-04-11T11:56:30.945Z"
   },
   {
    "duration": 7,
    "start_time": "2025-04-11T11:56:31.203Z"
   },
   {
    "duration": 14,
    "start_time": "2025-04-11T11:56:31.212Z"
   },
   {
    "duration": 6,
    "start_time": "2025-04-11T11:56:31.228Z"
   },
   {
    "duration": 17,
    "start_time": "2025-04-11T11:56:31.236Z"
   },
   {
    "duration": 24,
    "start_time": "2025-04-11T11:56:31.255Z"
   },
   {
    "duration": 32,
    "start_time": "2025-04-11T11:56:31.280Z"
   },
   {
    "duration": 100,
    "start_time": "2025-04-11T11:56:31.314Z"
   },
   {
    "duration": 23,
    "start_time": "2025-04-11T11:56:31.416Z"
   },
   {
    "duration": 1574,
    "start_time": "2025-04-11T11:56:31.440Z"
   },
   {
    "duration": 8,
    "start_time": "2025-04-11T11:56:33.015Z"
   },
   {
    "duration": 42,
    "start_time": "2025-04-11T11:56:33.025Z"
   },
   {
    "duration": 22,
    "start_time": "2025-04-11T11:56:33.069Z"
   },
   {
    "duration": 12,
    "start_time": "2025-04-11T11:56:33.093Z"
   },
   {
    "duration": 11,
    "start_time": "2025-04-11T11:56:33.107Z"
   },
   {
    "duration": 112,
    "start_time": "2025-04-11T11:56:33.122Z"
   },
   {
    "duration": 470,
    "start_time": "2025-04-11T11:56:33.236Z"
   },
   {
    "duration": 16,
    "start_time": "2025-04-11T11:56:33.708Z"
   },
   {
    "duration": 8,
    "start_time": "2025-04-11T11:56:33.725Z"
   },
   {
    "duration": 182,
    "start_time": "2025-04-11T11:56:33.734Z"
   },
   {
    "duration": 195,
    "start_time": "2025-04-11T11:56:33.918Z"
   },
   {
    "duration": 13,
    "start_time": "2025-04-11T11:56:34.115Z"
   },
   {
    "duration": 11,
    "start_time": "2025-04-11T11:56:34.129Z"
   },
   {
    "duration": 110,
    "start_time": "2025-04-11T11:56:34.141Z"
   },
   {
    "duration": 56,
    "start_time": "2025-04-11T11:56:34.252Z"
   },
   {
    "duration": 26,
    "start_time": "2025-04-11T11:56:34.310Z"
   },
   {
    "duration": 36,
    "start_time": "2025-04-11T11:56:34.338Z"
   },
   {
    "duration": 34,
    "start_time": "2025-04-11T11:56:34.376Z"
   },
   {
    "duration": 26,
    "start_time": "2025-04-11T11:56:34.412Z"
   },
   {
    "duration": 41,
    "start_time": "2025-04-11T11:56:34.439Z"
   },
   {
    "duration": 4,
    "start_time": "2025-04-11T11:56:34.481Z"
   },
   {
    "duration": 18,
    "start_time": "2025-04-11T11:56:34.487Z"
   },
   {
    "duration": 35,
    "start_time": "2025-04-11T11:56:34.507Z"
   },
   {
    "duration": 90,
    "start_time": "2025-04-11T11:56:34.544Z"
   },
   {
    "duration": 1302,
    "start_time": "2025-04-11T12:19:38.734Z"
   },
   {
    "duration": 65,
    "start_time": "2025-04-11T12:19:40.038Z"
   },
   {
    "duration": 8,
    "start_time": "2025-04-11T12:19:40.105Z"
   },
   {
    "duration": 7,
    "start_time": "2025-04-11T12:19:40.115Z"
   },
   {
    "duration": 25,
    "start_time": "2025-04-11T12:19:40.124Z"
   },
   {
    "duration": 6,
    "start_time": "2025-04-11T12:19:40.151Z"
   },
   {
    "duration": 12,
    "start_time": "2025-04-11T12:19:40.159Z"
   },
   {
    "duration": 7,
    "start_time": "2025-04-11T12:19:40.172Z"
   },
   {
    "duration": 28,
    "start_time": "2025-04-11T12:19:40.181Z"
   },
   {
    "duration": 5,
    "start_time": "2025-04-11T12:19:40.212Z"
   },
   {
    "duration": 7,
    "start_time": "2025-04-11T12:19:40.219Z"
   },
   {
    "duration": 186,
    "start_time": "2025-04-11T12:19:40.227Z"
   },
   {
    "duration": 246,
    "start_time": "2025-04-11T12:19:40.415Z"
   },
   {
    "duration": 7,
    "start_time": "2025-04-11T12:19:40.662Z"
   },
   {
    "duration": 40,
    "start_time": "2025-04-11T12:19:40.670Z"
   },
   {
    "duration": 7,
    "start_time": "2025-04-11T12:19:40.711Z"
   },
   {
    "duration": 8,
    "start_time": "2025-04-11T12:19:40.720Z"
   },
   {
    "duration": 13,
    "start_time": "2025-04-11T12:19:40.730Z"
   },
   {
    "duration": 6,
    "start_time": "2025-04-11T12:19:40.745Z"
   },
   {
    "duration": 10,
    "start_time": "2025-04-11T12:19:40.753Z"
   },
   {
    "duration": 4,
    "start_time": "2025-04-11T12:19:40.765Z"
   },
   {
    "duration": 1426,
    "start_time": "2025-04-11T12:19:40.770Z"
   },
   {
    "duration": 13,
    "start_time": "2025-04-11T12:19:42.197Z"
   },
   {
    "duration": 11,
    "start_time": "2025-04-11T12:19:42.211Z"
   },
   {
    "duration": 6,
    "start_time": "2025-04-11T12:19:42.223Z"
   },
   {
    "duration": 8,
    "start_time": "2025-04-11T12:19:42.231Z"
   },
   {
    "duration": 18,
    "start_time": "2025-04-11T12:19:42.240Z"
   },
   {
    "duration": 117,
    "start_time": "2025-04-11T12:19:42.262Z"
   },
   {
    "duration": 480,
    "start_time": "2025-04-11T12:19:42.381Z"
   },
   {
    "duration": 16,
    "start_time": "2025-04-11T12:19:42.862Z"
   },
   {
    "duration": 26,
    "start_time": "2025-04-11T12:19:42.880Z"
   },
   {
    "duration": 22,
    "start_time": "2025-04-11T12:19:42.907Z"
   },
   {
    "duration": 197,
    "start_time": "2025-04-11T12:19:42.931Z"
   },
   {
    "duration": 14,
    "start_time": "2025-04-11T12:19:43.131Z"
   },
   {
    "duration": 12,
    "start_time": "2025-04-11T12:19:43.147Z"
   },
   {
    "duration": 99,
    "start_time": "2025-04-11T12:19:43.161Z"
   },
   {
    "duration": 43,
    "start_time": "2025-04-11T12:19:43.262Z"
   },
   {
    "duration": 27,
    "start_time": "2025-04-11T12:19:43.307Z"
   },
   {
    "duration": 38,
    "start_time": "2025-04-11T12:19:43.336Z"
   },
   {
    "duration": 36,
    "start_time": "2025-04-11T12:19:43.376Z"
   },
   {
    "duration": 100,
    "start_time": "2025-04-11T12:19:43.414Z"
   },
   {
    "duration": 31,
    "start_time": "2025-04-11T12:19:43.516Z"
   },
   {
    "duration": 4,
    "start_time": "2025-04-11T12:19:43.548Z"
   },
   {
    "duration": 14,
    "start_time": "2025-04-11T12:19:43.554Z"
   },
   {
    "duration": 4,
    "start_time": "2025-04-11T12:19:43.570Z"
   },
   {
    "duration": 4,
    "start_time": "2025-04-11T12:19:43.576Z"
   },
   {
    "duration": 12,
    "start_time": "2025-04-11T12:23:39.623Z"
   },
   {
    "duration": 10,
    "start_time": "2025-04-11T12:24:23.487Z"
   },
   {
    "duration": 76,
    "start_time": "2025-04-11T12:26:02.897Z"
   },
   {
    "duration": 73,
    "start_time": "2025-04-11T12:47:37.586Z"
   },
   {
    "duration": 354,
    "start_time": "2025-04-11T12:59:42.664Z"
   },
   {
    "duration": 9,
    "start_time": "2025-04-11T12:59:55.273Z"
   },
   {
    "duration": 4,
    "start_time": "2025-04-11T12:59:57.512Z"
   },
   {
    "duration": 73,
    "start_time": "2025-04-11T13:09:08.381Z"
   },
   {
    "duration": 1341,
    "start_time": "2025-04-12T08:12:51.973Z"
   },
   {
    "duration": 55,
    "start_time": "2025-04-12T08:12:53.316Z"
   },
   {
    "duration": 9,
    "start_time": "2025-04-12T08:12:53.373Z"
   },
   {
    "duration": 11,
    "start_time": "2025-04-12T08:12:53.383Z"
   },
   {
    "duration": 4,
    "start_time": "2025-04-12T08:12:53.395Z"
   },
   {
    "duration": 25,
    "start_time": "2025-04-12T08:12:53.400Z"
   },
   {
    "duration": 9,
    "start_time": "2025-04-12T08:12:53.427Z"
   },
   {
    "duration": 6,
    "start_time": "2025-04-12T08:12:53.438Z"
   },
   {
    "duration": 37,
    "start_time": "2025-04-12T08:12:53.446Z"
   },
   {
    "duration": 8,
    "start_time": "2025-04-12T08:12:53.486Z"
   },
   {
    "duration": 105,
    "start_time": "2025-04-12T08:12:53.496Z"
   },
   {
    "duration": 13,
    "start_time": "2025-04-12T08:12:53.602Z"
   },
   {
    "duration": 176,
    "start_time": "2025-04-12T08:12:53.617Z"
   },
   {
    "duration": 245,
    "start_time": "2025-04-12T08:12:53.795Z"
   },
   {
    "duration": 7,
    "start_time": "2025-04-12T08:12:54.042Z"
   },
   {
    "duration": 9,
    "start_time": "2025-04-12T08:12:54.050Z"
   },
   {
    "duration": 20,
    "start_time": "2025-04-12T08:12:54.060Z"
   },
   {
    "duration": 3,
    "start_time": "2025-04-12T08:12:54.082Z"
   },
   {
    "duration": 22,
    "start_time": "2025-04-12T08:12:54.087Z"
   },
   {
    "duration": 7,
    "start_time": "2025-04-12T08:12:54.111Z"
   },
   {
    "duration": 78,
    "start_time": "2025-04-12T08:12:54.120Z"
   },
   {
    "duration": 0,
    "start_time": "2025-04-12T08:12:54.200Z"
   },
   {
    "duration": 0,
    "start_time": "2025-04-12T08:12:54.201Z"
   },
   {
    "duration": 0,
    "start_time": "2025-04-12T08:12:54.202Z"
   },
   {
    "duration": 0,
    "start_time": "2025-04-12T08:12:54.203Z"
   },
   {
    "duration": 0,
    "start_time": "2025-04-12T08:12:54.204Z"
   },
   {
    "duration": 0,
    "start_time": "2025-04-12T08:12:54.205Z"
   },
   {
    "duration": 0,
    "start_time": "2025-04-12T08:12:54.206Z"
   },
   {
    "duration": 0,
    "start_time": "2025-04-12T08:12:54.207Z"
   },
   {
    "duration": 0,
    "start_time": "2025-04-12T08:12:54.209Z"
   },
   {
    "duration": 0,
    "start_time": "2025-04-12T08:12:54.210Z"
   },
   {
    "duration": 4,
    "start_time": "2025-04-12T08:13:31.381Z"
   },
   {
    "duration": 61,
    "start_time": "2025-04-12T08:13:31.387Z"
   },
   {
    "duration": 9,
    "start_time": "2025-04-12T08:13:31.449Z"
   },
   {
    "duration": 44,
    "start_time": "2025-04-12T08:13:31.459Z"
   },
   {
    "duration": 72,
    "start_time": "2025-04-12T08:13:31.505Z"
   },
   {
    "duration": 35,
    "start_time": "2025-04-12T08:13:31.579Z"
   },
   {
    "duration": 6,
    "start_time": "2025-04-12T08:13:31.615Z"
   },
   {
    "duration": 21,
    "start_time": "2025-04-12T08:13:31.623Z"
   },
   {
    "duration": 30,
    "start_time": "2025-04-12T08:13:31.646Z"
   },
   {
    "duration": 8,
    "start_time": "2025-04-12T08:13:31.678Z"
   },
   {
    "duration": 16,
    "start_time": "2025-04-12T08:13:31.688Z"
   },
   {
    "duration": 20,
    "start_time": "2025-04-12T08:13:31.706Z"
   },
   {
    "duration": 179,
    "start_time": "2025-04-12T08:13:31.728Z"
   },
   {
    "duration": 278,
    "start_time": "2025-04-12T08:13:31.909Z"
   },
   {
    "duration": 7,
    "start_time": "2025-04-12T08:13:32.188Z"
   },
   {
    "duration": 21,
    "start_time": "2025-04-12T08:13:32.197Z"
   },
   {
    "duration": 6,
    "start_time": "2025-04-12T08:13:32.220Z"
   },
   {
    "duration": 13,
    "start_time": "2025-04-12T08:13:32.228Z"
   },
   {
    "duration": 14,
    "start_time": "2025-04-12T08:13:32.243Z"
   },
   {
    "duration": 14,
    "start_time": "2025-04-12T08:13:32.259Z"
   },
   {
    "duration": 9,
    "start_time": "2025-04-12T08:13:32.275Z"
   },
   {
    "duration": 14,
    "start_time": "2025-04-12T08:13:32.286Z"
   },
   {
    "duration": 1515,
    "start_time": "2025-04-12T08:13:32.301Z"
   },
   {
    "duration": 8,
    "start_time": "2025-04-12T08:13:33.818Z"
   },
   {
    "duration": 18,
    "start_time": "2025-04-12T08:13:33.828Z"
   },
   {
    "duration": 20,
    "start_time": "2025-04-12T08:13:33.848Z"
   },
   {
    "duration": 10,
    "start_time": "2025-04-12T08:13:33.870Z"
   },
   {
    "duration": 25,
    "start_time": "2025-04-12T08:13:33.882Z"
   },
   {
    "duration": 103,
    "start_time": "2025-04-12T08:13:33.910Z"
   },
   {
    "duration": 450,
    "start_time": "2025-04-12T08:13:34.015Z"
   },
   {
    "duration": 342,
    "start_time": "2025-04-12T08:13:38.933Z"
   },
   {
    "duration": 3,
    "start_time": "2025-04-12T08:14:43.542Z"
   },
   {
    "duration": 342,
    "start_time": "2025-04-12T08:15:08.374Z"
   },
   {
    "duration": 3,
    "start_time": "2025-04-12T08:15:09.788Z"
   },
   {
    "duration": 17,
    "start_time": "2025-04-12T08:15:17.372Z"
   },
   {
    "duration": 79,
    "start_time": "2025-04-12T08:15:58.102Z"
   },
   {
    "duration": 9,
    "start_time": "2025-04-12T08:16:06.844Z"
   },
   {
    "duration": 18,
    "start_time": "2025-04-12T08:16:07.622Z"
   },
   {
    "duration": 186,
    "start_time": "2025-04-12T08:16:14.317Z"
   },
   {
    "duration": 15,
    "start_time": "2025-04-12T08:16:18.581Z"
   },
   {
    "duration": 12,
    "start_time": "2025-04-12T08:16:19.118Z"
   },
   {
    "duration": 12,
    "start_time": "2025-04-12T08:19:15.192Z"
   },
   {
    "duration": 16,
    "start_time": "2025-04-12T08:19:15.879Z"
   },
   {
    "duration": 4,
    "start_time": "2025-04-12T08:19:40.871Z"
   },
   {
    "duration": 57,
    "start_time": "2025-04-12T08:19:40.878Z"
   },
   {
    "duration": 10,
    "start_time": "2025-04-12T08:19:40.937Z"
   },
   {
    "duration": 12,
    "start_time": "2025-04-12T08:19:40.950Z"
   },
   {
    "duration": 14,
    "start_time": "2025-04-12T08:19:40.964Z"
   },
   {
    "duration": 101,
    "start_time": "2025-04-12T08:19:40.980Z"
   },
   {
    "duration": 6,
    "start_time": "2025-04-12T08:19:41.083Z"
   },
   {
    "duration": 48,
    "start_time": "2025-04-12T08:19:41.090Z"
   },
   {
    "duration": 90,
    "start_time": "2025-04-12T08:19:41.141Z"
   },
   {
    "duration": 16,
    "start_time": "2025-04-12T08:19:41.233Z"
   },
   {
    "duration": 4,
    "start_time": "2025-04-12T08:19:41.251Z"
   },
   {
    "duration": 127,
    "start_time": "2025-04-12T08:19:41.257Z"
   },
   {
    "duration": 177,
    "start_time": "2025-04-12T08:19:41.386Z"
   },
   {
    "duration": 273,
    "start_time": "2025-04-12T08:19:41.566Z"
   },
   {
    "duration": 7,
    "start_time": "2025-04-12T08:19:41.841Z"
   },
   {
    "duration": 27,
    "start_time": "2025-04-12T08:19:41.850Z"
   },
   {
    "duration": 7,
    "start_time": "2025-04-12T08:19:41.879Z"
   },
   {
    "duration": 3,
    "start_time": "2025-04-12T08:19:41.888Z"
   },
   {
    "duration": 10,
    "start_time": "2025-04-12T08:19:41.893Z"
   },
   {
    "duration": 7,
    "start_time": "2025-04-12T08:19:41.906Z"
   },
   {
    "duration": 20,
    "start_time": "2025-04-12T08:19:41.914Z"
   },
   {
    "duration": 7,
    "start_time": "2025-04-12T08:19:41.936Z"
   },
   {
    "duration": 1549,
    "start_time": "2025-04-12T08:19:41.945Z"
   },
   {
    "duration": 8,
    "start_time": "2025-04-12T08:19:43.497Z"
   },
   {
    "duration": 12,
    "start_time": "2025-04-12T08:19:43.506Z"
   },
   {
    "duration": 12,
    "start_time": "2025-04-12T08:19:43.520Z"
   },
   {
    "duration": 129,
    "start_time": "2025-04-12T08:19:43.533Z"
   },
   {
    "duration": 17,
    "start_time": "2025-04-12T08:19:43.664Z"
   },
   {
    "duration": 123,
    "start_time": "2025-04-12T08:19:43.683Z"
   },
   {
    "duration": 446,
    "start_time": "2025-04-12T08:19:43.807Z"
   },
   {
    "duration": 314,
    "start_time": "2025-04-12T08:19:44.255Z"
   },
   {
    "duration": 18,
    "start_time": "2025-04-12T08:19:44.570Z"
   },
   {
    "duration": 7,
    "start_time": "2025-04-12T08:19:44.589Z"
   },
   {
    "duration": 16,
    "start_time": "2025-04-12T08:19:44.598Z"
   },
   {
    "duration": 213,
    "start_time": "2025-04-12T08:19:44.615Z"
   },
   {
    "duration": 13,
    "start_time": "2025-04-12T08:19:44.830Z"
   },
   {
    "duration": 22,
    "start_time": "2025-04-12T08:19:44.845Z"
   },
   {
    "duration": 11,
    "start_time": "2025-04-12T08:19:57.128Z"
   },
   {
    "duration": 5,
    "start_time": "2025-04-12T08:20:19.791Z"
   },
   {
    "duration": 3,
    "start_time": "2025-04-12T08:20:48.682Z"
   },
   {
    "duration": 3,
    "start_time": "2025-04-12T08:22:56.854Z"
   },
   {
    "duration": 55,
    "start_time": "2025-04-12T08:22:56.859Z"
   },
   {
    "duration": 8,
    "start_time": "2025-04-12T08:22:56.916Z"
   },
   {
    "duration": 12,
    "start_time": "2025-04-12T08:22:56.925Z"
   },
   {
    "duration": 4,
    "start_time": "2025-04-12T08:22:56.939Z"
   },
   {
    "duration": 18,
    "start_time": "2025-04-12T08:22:56.944Z"
   },
   {
    "duration": 17,
    "start_time": "2025-04-12T08:22:56.964Z"
   },
   {
    "duration": 6,
    "start_time": "2025-04-12T08:22:56.983Z"
   },
   {
    "duration": 25,
    "start_time": "2025-04-12T08:22:56.991Z"
   },
   {
    "duration": 7,
    "start_time": "2025-04-12T08:22:57.017Z"
   },
   {
    "duration": 122,
    "start_time": "2025-04-12T08:22:57.027Z"
   },
   {
    "duration": 4,
    "start_time": "2025-04-12T08:22:57.151Z"
   },
   {
    "duration": 181,
    "start_time": "2025-04-12T08:22:57.157Z"
   },
   {
    "duration": 258,
    "start_time": "2025-04-12T08:22:57.339Z"
   },
   {
    "duration": 9,
    "start_time": "2025-04-12T08:22:57.599Z"
   },
   {
    "duration": 60,
    "start_time": "2025-04-12T08:22:57.610Z"
   },
   {
    "duration": 7,
    "start_time": "2025-04-12T08:22:57.672Z"
   },
   {
    "duration": 4,
    "start_time": "2025-04-12T08:22:57.681Z"
   },
   {
    "duration": 7,
    "start_time": "2025-04-12T08:22:57.687Z"
   },
   {
    "duration": 7,
    "start_time": "2025-04-12T08:22:57.696Z"
   },
   {
    "duration": 18,
    "start_time": "2025-04-12T08:22:57.704Z"
   },
   {
    "duration": 4,
    "start_time": "2025-04-12T08:22:57.723Z"
   },
   {
    "duration": 1522,
    "start_time": "2025-04-12T08:22:57.729Z"
   },
   {
    "duration": 9,
    "start_time": "2025-04-12T08:22:59.253Z"
   },
   {
    "duration": 22,
    "start_time": "2025-04-12T08:22:59.264Z"
   },
   {
    "duration": 96,
    "start_time": "2025-04-12T08:22:59.288Z"
   },
   {
    "duration": 8,
    "start_time": "2025-04-12T08:22:59.386Z"
   },
   {
    "duration": 9,
    "start_time": "2025-04-12T08:22:59.395Z"
   },
   {
    "duration": 137,
    "start_time": "2025-04-12T08:22:59.408Z"
   },
   {
    "duration": 411,
    "start_time": "2025-04-12T08:22:59.546Z"
   },
   {
    "duration": 322,
    "start_time": "2025-04-12T08:22:59.958Z"
   },
   {
    "duration": 17,
    "start_time": "2025-04-12T08:23:00.282Z"
   },
   {
    "duration": 36,
    "start_time": "2025-04-12T08:23:00.301Z"
   },
   {
    "duration": 48,
    "start_time": "2025-04-12T08:23:00.339Z"
   },
   {
    "duration": 101,
    "start_time": "2025-04-12T08:23:00.389Z"
   },
   {
    "duration": 205,
    "start_time": "2025-04-12T08:23:00.492Z"
   },
   {
    "duration": 16,
    "start_time": "2025-04-12T08:23:00.699Z"
   },
   {
    "duration": 25,
    "start_time": "2025-04-12T08:23:00.717Z"
   },
   {
    "duration": 9,
    "start_time": "2025-04-12T08:23:00.744Z"
   },
   {
    "duration": 36,
    "start_time": "2025-04-12T08:23:00.754Z"
   },
   {
    "duration": 3,
    "start_time": "2025-04-12T08:23:25.735Z"
   },
   {
    "duration": 8,
    "start_time": "2025-04-12T08:23:42.983Z"
   },
   {
    "duration": 3,
    "start_time": "2025-04-12T08:23:43.528Z"
   },
   {
    "duration": 4,
    "start_time": "2025-04-12T08:23:51.032Z"
   },
   {
    "duration": 3,
    "start_time": "2025-04-12T08:23:51.552Z"
   },
   {
    "duration": 3,
    "start_time": "2025-04-12T08:24:10.785Z"
   },
   {
    "duration": 74,
    "start_time": "2025-04-12T08:24:10.790Z"
   },
   {
    "duration": 11,
    "start_time": "2025-04-12T08:24:10.865Z"
   },
   {
    "duration": 32,
    "start_time": "2025-04-12T08:24:10.877Z"
   },
   {
    "duration": 43,
    "start_time": "2025-04-12T08:24:10.911Z"
   },
   {
    "duration": 68,
    "start_time": "2025-04-12T08:24:10.955Z"
   },
   {
    "duration": 92,
    "start_time": "2025-04-12T08:24:11.025Z"
   },
   {
    "duration": 19,
    "start_time": "2025-04-12T08:24:11.119Z"
   },
   {
    "duration": 36,
    "start_time": "2025-04-12T08:24:11.140Z"
   },
   {
    "duration": 109,
    "start_time": "2025-04-12T08:24:11.178Z"
   },
   {
    "duration": 108,
    "start_time": "2025-04-12T08:24:11.288Z"
   },
   {
    "duration": 27,
    "start_time": "2025-04-12T08:24:11.397Z"
   },
   {
    "duration": 193,
    "start_time": "2025-04-12T08:24:11.426Z"
   },
   {
    "duration": 254,
    "start_time": "2025-04-12T08:24:11.622Z"
   },
   {
    "duration": 8,
    "start_time": "2025-04-12T08:24:11.878Z"
   },
   {
    "duration": 18,
    "start_time": "2025-04-12T08:24:11.888Z"
   },
   {
    "duration": 28,
    "start_time": "2025-04-12T08:24:11.908Z"
   },
   {
    "duration": 38,
    "start_time": "2025-04-12T08:24:11.938Z"
   },
   {
    "duration": 86,
    "start_time": "2025-04-12T08:24:11.978Z"
   },
   {
    "duration": 35,
    "start_time": "2025-04-12T08:24:12.066Z"
   },
   {
    "duration": 32,
    "start_time": "2025-04-12T08:24:12.104Z"
   },
   {
    "duration": 25,
    "start_time": "2025-04-12T08:24:12.138Z"
   },
   {
    "duration": 1471,
    "start_time": "2025-04-12T08:24:12.165Z"
   },
   {
    "duration": 8,
    "start_time": "2025-04-12T08:24:13.638Z"
   },
   {
    "duration": 37,
    "start_time": "2025-04-12T08:24:13.647Z"
   },
   {
    "duration": 6,
    "start_time": "2025-04-12T08:24:13.685Z"
   },
   {
    "duration": 17,
    "start_time": "2025-04-12T08:24:13.692Z"
   },
   {
    "duration": 11,
    "start_time": "2025-04-12T08:24:13.711Z"
   },
   {
    "duration": 122,
    "start_time": "2025-04-12T08:24:13.723Z"
   },
   {
    "duration": 398,
    "start_time": "2025-04-12T08:24:13.846Z"
   },
   {
    "duration": 293,
    "start_time": "2025-04-12T08:24:14.246Z"
   },
   {
    "duration": 16,
    "start_time": "2025-04-12T08:24:14.541Z"
   },
   {
    "duration": 27,
    "start_time": "2025-04-12T08:24:14.558Z"
   },
   {
    "duration": 7,
    "start_time": "2025-04-12T08:24:14.587Z"
   },
   {
    "duration": 19,
    "start_time": "2025-04-12T08:24:14.595Z"
   },
   {
    "duration": 198,
    "start_time": "2025-04-12T08:24:14.616Z"
   },
   {
    "duration": 13,
    "start_time": "2025-04-12T08:24:14.815Z"
   },
   {
    "duration": 10,
    "start_time": "2025-04-12T08:24:14.829Z"
   },
   {
    "duration": 4,
    "start_time": "2025-04-12T08:24:14.841Z"
   },
   {
    "duration": 4,
    "start_time": "2025-04-12T08:24:23.297Z"
   },
   {
    "duration": 3,
    "start_time": "2025-04-12T08:24:33.082Z"
   },
   {
    "duration": 90,
    "start_time": "2025-04-12T08:24:33.087Z"
   },
   {
    "duration": 11,
    "start_time": "2025-04-12T08:24:33.180Z"
   },
   {
    "duration": 242,
    "start_time": "2025-04-12T08:24:33.194Z"
   },
   {
    "duration": 34,
    "start_time": "2025-04-12T08:24:33.439Z"
   },
   {
    "duration": 25,
    "start_time": "2025-04-12T08:24:33.474Z"
   },
   {
    "duration": 27,
    "start_time": "2025-04-12T08:24:33.501Z"
   },
   {
    "duration": 34,
    "start_time": "2025-04-12T08:24:33.530Z"
   },
   {
    "duration": 8,
    "start_time": "2025-04-12T08:24:33.566Z"
   },
   {
    "duration": 106,
    "start_time": "2025-04-12T08:24:33.576Z"
   },
   {
    "duration": 4,
    "start_time": "2025-04-12T08:24:33.685Z"
   },
   {
    "duration": 34,
    "start_time": "2025-04-12T08:24:33.691Z"
   },
   {
    "duration": 186,
    "start_time": "2025-04-12T08:24:33.727Z"
   },
   {
    "duration": 254,
    "start_time": "2025-04-12T08:24:33.915Z"
   },
   {
    "duration": 10,
    "start_time": "2025-04-12T08:24:34.171Z"
   },
   {
    "duration": 6,
    "start_time": "2025-04-12T08:24:34.183Z"
   },
   {
    "duration": 15,
    "start_time": "2025-04-12T08:24:34.191Z"
   },
   {
    "duration": 25,
    "start_time": "2025-04-12T08:24:34.208Z"
   },
   {
    "duration": 12,
    "start_time": "2025-04-12T08:24:34.235Z"
   },
   {
    "duration": 21,
    "start_time": "2025-04-12T08:24:34.249Z"
   },
   {
    "duration": 16,
    "start_time": "2025-04-12T08:24:34.272Z"
   },
   {
    "duration": 21,
    "start_time": "2025-04-12T08:24:34.290Z"
   },
   {
    "duration": 1465,
    "start_time": "2025-04-12T08:24:34.313Z"
   },
   {
    "duration": 7,
    "start_time": "2025-04-12T08:24:35.780Z"
   },
   {
    "duration": 46,
    "start_time": "2025-04-12T08:24:35.789Z"
   },
   {
    "duration": 49,
    "start_time": "2025-04-12T08:24:35.837Z"
   },
   {
    "duration": 31,
    "start_time": "2025-04-12T08:24:35.889Z"
   },
   {
    "duration": 61,
    "start_time": "2025-04-12T08:24:35.922Z"
   },
   {
    "duration": 124,
    "start_time": "2025-04-12T08:24:35.986Z"
   },
   {
    "duration": 410,
    "start_time": "2025-04-12T08:24:36.112Z"
   },
   {
    "duration": 297,
    "start_time": "2025-04-12T08:24:36.524Z"
   },
   {
    "duration": 16,
    "start_time": "2025-04-12T08:24:36.822Z"
   },
   {
    "duration": 26,
    "start_time": "2025-04-12T08:24:36.839Z"
   },
   {
    "duration": 10,
    "start_time": "2025-04-12T08:24:36.866Z"
   },
   {
    "duration": 31,
    "start_time": "2025-04-12T08:24:36.878Z"
   },
   {
    "duration": 241,
    "start_time": "2025-04-12T08:24:36.911Z"
   },
   {
    "duration": 22,
    "start_time": "2025-04-12T08:24:37.154Z"
   },
   {
    "duration": 250,
    "start_time": "2025-04-12T08:24:37.178Z"
   },
   {
    "duration": 61,
    "start_time": "2025-04-12T08:24:37.431Z"
   },
   {
    "duration": 8,
    "start_time": "2025-04-12T08:24:37.494Z"
   },
   {
    "duration": 6,
    "start_time": "2025-04-12T08:26:44.673Z"
   },
   {
    "duration": 3,
    "start_time": "2025-04-12T08:26:45.329Z"
   },
   {
    "duration": 4,
    "start_time": "2025-04-12T08:27:07.338Z"
   },
   {
    "duration": 198,
    "start_time": "2025-04-12T08:27:07.344Z"
   },
   {
    "duration": 12,
    "start_time": "2025-04-12T08:27:07.545Z"
   },
   {
    "duration": 18,
    "start_time": "2025-04-12T08:27:07.559Z"
   },
   {
    "duration": 108,
    "start_time": "2025-04-12T08:27:07.580Z"
   },
   {
    "duration": 47,
    "start_time": "2025-04-12T08:27:07.690Z"
   },
   {
    "duration": 18,
    "start_time": "2025-04-12T08:27:07.739Z"
   },
   {
    "duration": 15,
    "start_time": "2025-04-12T08:27:07.759Z"
   },
   {
    "duration": 22,
    "start_time": "2025-04-12T08:27:07.776Z"
   },
   {
    "duration": 23,
    "start_time": "2025-04-12T08:27:07.800Z"
   },
   {
    "duration": 24,
    "start_time": "2025-04-12T08:27:07.827Z"
   },
   {
    "duration": 9,
    "start_time": "2025-04-12T08:27:07.853Z"
   },
   {
    "duration": 185,
    "start_time": "2025-04-12T08:27:07.864Z"
   },
   {
    "duration": 261,
    "start_time": "2025-04-12T08:27:08.051Z"
   },
   {
    "duration": 7,
    "start_time": "2025-04-12T08:27:08.314Z"
   },
   {
    "duration": 8,
    "start_time": "2025-04-12T08:27:08.323Z"
   },
   {
    "duration": 16,
    "start_time": "2025-04-12T08:27:08.333Z"
   },
   {
    "duration": 6,
    "start_time": "2025-04-12T08:27:08.351Z"
   },
   {
    "duration": 8,
    "start_time": "2025-04-12T08:27:08.376Z"
   },
   {
    "duration": 13,
    "start_time": "2025-04-12T08:27:08.386Z"
   },
   {
    "duration": 13,
    "start_time": "2025-04-12T08:27:08.401Z"
   },
   {
    "duration": 5,
    "start_time": "2025-04-12T08:27:08.416Z"
   },
   {
    "duration": 1427,
    "start_time": "2025-04-12T08:27:08.422Z"
   },
   {
    "duration": 9,
    "start_time": "2025-04-12T08:27:09.850Z"
   },
   {
    "duration": 17,
    "start_time": "2025-04-12T08:27:09.861Z"
   },
   {
    "duration": 6,
    "start_time": "2025-04-12T08:27:09.880Z"
   },
   {
    "duration": 5,
    "start_time": "2025-04-12T08:27:09.888Z"
   },
   {
    "duration": 8,
    "start_time": "2025-04-12T08:27:09.895Z"
   },
   {
    "duration": 140,
    "start_time": "2025-04-12T08:27:09.907Z"
   },
   {
    "duration": 416,
    "start_time": "2025-04-12T08:27:10.049Z"
   },
   {
    "duration": 299,
    "start_time": "2025-04-12T08:27:10.467Z"
   },
   {
    "duration": 22,
    "start_time": "2025-04-12T08:27:10.768Z"
   },
   {
    "duration": 8,
    "start_time": "2025-04-12T08:27:10.791Z"
   },
   {
    "duration": 3,
    "start_time": "2025-04-12T08:27:10.801Z"
   },
   {
    "duration": 4,
    "start_time": "2025-04-12T08:27:28.362Z"
   },
   {
    "duration": 17,
    "start_time": "2025-04-12T08:27:28.745Z"
   },
   {
    "duration": 286,
    "start_time": "2025-04-12T08:27:30.417Z"
   },
   {
    "duration": 14,
    "start_time": "2025-04-12T08:27:31.802Z"
   },
   {
    "duration": 11,
    "start_time": "2025-04-12T08:27:32.506Z"
   },
   {
    "duration": 5,
    "start_time": "2025-04-12T08:27:33.202Z"
   },
   {
    "duration": 3,
    "start_time": "2025-04-12T08:27:34.634Z"
   },
   {
    "duration": 76,
    "start_time": "2025-04-12T08:28:46.290Z"
   },
   {
    "duration": 27,
    "start_time": "2025-04-12T08:28:48.170Z"
   },
   {
    "duration": 27,
    "start_time": "2025-04-12T08:28:50.040Z"
   },
   {
    "duration": 37,
    "start_time": "2025-04-12T08:28:50.442Z"
   },
   {
    "duration": 14,
    "start_time": "2025-04-12T08:28:51.689Z"
   },
   {
    "duration": 25,
    "start_time": "2025-04-12T08:28:54.721Z"
   },
   {
    "duration": 30,
    "start_time": "2025-04-12T08:28:55.123Z"
   },
   {
    "duration": 4,
    "start_time": "2025-04-12T08:28:56.921Z"
   },
   {
    "duration": 4,
    "start_time": "2025-04-12T08:29:00.161Z"
   },
   {
    "duration": 3,
    "start_time": "2025-04-12T08:29:00.330Z"
   },
   {
    "duration": 4,
    "start_time": "2025-04-12T08:29:01.034Z"
   },
   {
    "duration": 80,
    "start_time": "2025-04-12T08:30:30.265Z"
   },
   {
    "duration": 3,
    "start_time": "2025-04-12T08:39:14.237Z"
   },
   {
    "duration": 3,
    "start_time": "2025-04-12T08:39:14.413Z"
   },
   {
    "duration": 4,
    "start_time": "2025-04-12T08:39:15.086Z"
   },
   {
    "duration": 3,
    "start_time": "2025-04-12T08:45:08.777Z"
   },
   {
    "duration": 38,
    "start_time": "2025-04-12T08:45:08.782Z"
   },
   {
    "duration": 8,
    "start_time": "2025-04-12T08:45:08.822Z"
   },
   {
    "duration": 46,
    "start_time": "2025-04-12T08:45:08.832Z"
   },
   {
    "duration": 4,
    "start_time": "2025-04-12T08:45:08.880Z"
   },
   {
    "duration": 17,
    "start_time": "2025-04-12T08:45:08.886Z"
   },
   {
    "duration": 6,
    "start_time": "2025-04-12T08:45:08.904Z"
   },
   {
    "duration": 19,
    "start_time": "2025-04-12T08:45:08.911Z"
   },
   {
    "duration": 7,
    "start_time": "2025-04-12T08:45:08.932Z"
   },
   {
    "duration": 37,
    "start_time": "2025-04-12T08:45:08.941Z"
   },
   {
    "duration": 4,
    "start_time": "2025-04-12T08:45:08.980Z"
   },
   {
    "duration": 7,
    "start_time": "2025-04-12T08:45:08.985Z"
   },
   {
    "duration": 179,
    "start_time": "2025-04-12T08:45:08.993Z"
   },
   {
    "duration": 244,
    "start_time": "2025-04-12T08:45:09.176Z"
   },
   {
    "duration": 7,
    "start_time": "2025-04-12T08:45:09.422Z"
   },
   {
    "duration": 85,
    "start_time": "2025-04-12T08:45:09.430Z"
   },
   {
    "duration": 52,
    "start_time": "2025-04-12T08:45:09.517Z"
   },
   {
    "duration": 5,
    "start_time": "2025-04-12T08:45:09.571Z"
   },
   {
    "duration": 28,
    "start_time": "2025-04-12T08:45:09.578Z"
   },
   {
    "duration": 14,
    "start_time": "2025-04-12T08:45:09.608Z"
   },
   {
    "duration": 12,
    "start_time": "2025-04-12T08:45:09.624Z"
   },
   {
    "duration": 4,
    "start_time": "2025-04-12T08:45:09.638Z"
   },
   {
    "duration": 1668,
    "start_time": "2025-04-12T08:45:09.644Z"
   },
   {
    "duration": 8,
    "start_time": "2025-04-12T08:45:11.314Z"
   },
   {
    "duration": 34,
    "start_time": "2025-04-12T08:45:11.324Z"
   },
   {
    "duration": 14,
    "start_time": "2025-04-12T08:45:11.359Z"
   },
   {
    "duration": 17,
    "start_time": "2025-04-12T08:45:11.374Z"
   },
   {
    "duration": 19,
    "start_time": "2025-04-12T08:45:11.392Z"
   },
   {
    "duration": 105,
    "start_time": "2025-04-12T08:45:11.415Z"
   },
   {
    "duration": 397,
    "start_time": "2025-04-12T08:45:11.521Z"
   },
   {
    "duration": 314,
    "start_time": "2025-04-12T08:45:11.919Z"
   },
   {
    "duration": 15,
    "start_time": "2025-04-12T08:45:12.235Z"
   },
   {
    "duration": 7,
    "start_time": "2025-04-12T08:45:12.252Z"
   },
   {
    "duration": 17,
    "start_time": "2025-04-12T08:45:12.261Z"
   },
   {
    "duration": 19,
    "start_time": "2025-04-12T08:45:12.279Z"
   },
   {
    "duration": 196,
    "start_time": "2025-04-12T08:45:12.299Z"
   },
   {
    "duration": 14,
    "start_time": "2025-04-12T08:45:12.497Z"
   },
   {
    "duration": 10,
    "start_time": "2025-04-12T08:45:12.512Z"
   },
   {
    "duration": 4,
    "start_time": "2025-04-12T08:45:12.524Z"
   },
   {
    "duration": 100,
    "start_time": "2025-04-12T08:45:12.530Z"
   },
   {
    "duration": 30,
    "start_time": "2025-04-12T08:45:12.633Z"
   },
   {
    "duration": 37,
    "start_time": "2025-04-12T08:45:12.665Z"
   },
   {
    "duration": 38,
    "start_time": "2025-04-12T08:45:12.704Z"
   },
   {
    "duration": 37,
    "start_time": "2025-04-12T08:45:12.744Z"
   },
   {
    "duration": 25,
    "start_time": "2025-04-12T08:45:12.783Z"
   },
   {
    "duration": 30,
    "start_time": "2025-04-12T08:45:12.810Z"
   },
   {
    "duration": 3,
    "start_time": "2025-04-12T08:45:12.842Z"
   },
   {
    "duration": 31,
    "start_time": "2025-04-12T08:45:12.847Z"
   },
   {
    "duration": 10,
    "start_time": "2025-04-12T08:45:12.879Z"
   },
   {
    "duration": 4,
    "start_time": "2025-04-12T08:45:12.891Z"
   }
  ],
  "colab": {
   "provenance": [],
   "toc_visible": true
  },
  "kernelspec": {
   "display_name": "Python 3 (ipykernel)",
   "language": "python",
   "name": "python3"
  },
  "language_info": {
   "codemirror_mode": {
    "name": "ipython",
    "version": 3
   },
   "file_extension": ".py",
   "mimetype": "text/x-python",
   "name": "python",
   "nbconvert_exporter": "python",
   "pygments_lexer": "ipython3",
   "version": "3.12.7"
  },
  "toc": {
   "base_numbering": 1,
   "nav_menu": {},
   "number_sections": true,
   "sideBar": true,
   "skip_h1_title": true,
   "title_cell": "Table of Contents",
   "title_sidebar": "Contents",
   "toc_cell": false,
   "toc_position": {},
   "toc_section_display": true,
   "toc_window_display": false
  }
 },
 "nbformat": 4,
 "nbformat_minor": 5
}
